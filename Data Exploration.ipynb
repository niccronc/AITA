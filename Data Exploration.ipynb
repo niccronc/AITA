{
 "cells": [
  {
   "cell_type": "code",
   "execution_count": 1,
   "metadata": {},
   "outputs": [],
   "source": [
    "import numpy as np\n",
    "import pandas as pd"
   ]
  },
  {
   "cell_type": "code",
   "execution_count": 2,
   "metadata": {},
   "outputs": [
    {
     "data": {
      "text/html": [
       "<div>\n",
       "<style scoped>\n",
       "    .dataframe tbody tr th:only-of-type {\n",
       "        vertical-align: middle;\n",
       "    }\n",
       "\n",
       "    .dataframe tbody tr th {\n",
       "        vertical-align: top;\n",
       "    }\n",
       "\n",
       "    .dataframe thead th {\n",
       "        text-align: right;\n",
       "    }\n",
       "</style>\n",
       "<table border=\"1\" class=\"dataframe\">\n",
       "  <thead>\n",
       "    <tr style=\"text-align: right;\">\n",
       "      <th></th>\n",
       "      <th>id</th>\n",
       "      <th>timestamp</th>\n",
       "      <th>title</th>\n",
       "      <th>body</th>\n",
       "      <th>edited</th>\n",
       "      <th>verdict</th>\n",
       "      <th>score</th>\n",
       "      <th>num_comments</th>\n",
       "      <th>is_asshole</th>\n",
       "    </tr>\n",
       "  </thead>\n",
       "  <tbody>\n",
       "    <tr>\n",
       "      <th>0</th>\n",
       "      <td>arfcfl</td>\n",
       "      <td>1550365421</td>\n",
       "      <td>AITA - Getting Hugged At The Bar</td>\n",
       "      <td>\\n\\nThis all happened less than an hour ago.\\...</td>\n",
       "      <td>False</td>\n",
       "      <td>not the asshole</td>\n",
       "      <td>3</td>\n",
       "      <td>14</td>\n",
       "      <td>0</td>\n",
       "    </tr>\n",
       "    <tr>\n",
       "      <th>1</th>\n",
       "      <td>cg8mxn</td>\n",
       "      <td>1563769917</td>\n",
       "      <td>AITA if i don't want to pay my friend 5 dollar...</td>\n",
       "      <td>So, my friend bought herself, our other friend...</td>\n",
       "      <td>False</td>\n",
       "      <td>asshole</td>\n",
       "      <td>11</td>\n",
       "      <td>42</td>\n",
       "      <td>1</td>\n",
       "    </tr>\n",
       "    <tr>\n",
       "      <th>2</th>\n",
       "      <td>bajsje</td>\n",
       "      <td>1554663842</td>\n",
       "      <td>AITA For going to 'expensive' restaurants in s...</td>\n",
       "      <td>It's in Seattle if that matters. It seems peop...</td>\n",
       "      <td>1554686830.0</td>\n",
       "      <td>asshole</td>\n",
       "      <td>657</td>\n",
       "      <td>397</td>\n",
       "      <td>1</td>\n",
       "    </tr>\n",
       "    <tr>\n",
       "      <th>3</th>\n",
       "      <td>cq6voc</td>\n",
       "      <td>1565771883</td>\n",
       "      <td>AITA for wanting \"free gas\", due to an attenda...</td>\n",
       "      <td>I was with my dad and driving the family car w...</td>\n",
       "      <td>1565773989.0</td>\n",
       "      <td>not the asshole</td>\n",
       "      <td>49</td>\n",
       "      <td>40</td>\n",
       "      <td>0</td>\n",
       "    </tr>\n",
       "    <tr>\n",
       "      <th>4</th>\n",
       "      <td>bz4m2k</td>\n",
       "      <td>1560207411</td>\n",
       "      <td>AITA I asked my dad to replace the fuel that h...</td>\n",
       "      <td>Am I the asshole for asking my dad to replace ...</td>\n",
       "      <td>False</td>\n",
       "      <td>not the asshole</td>\n",
       "      <td>4</td>\n",
       "      <td>10</td>\n",
       "      <td>0</td>\n",
       "    </tr>\n",
       "  </tbody>\n",
       "</table>\n",
       "</div>"
      ],
      "text/plain": [
       "       id   timestamp                                              title  \\\n",
       "0  arfcfl  1550365421                   AITA - Getting Hugged At The Bar   \n",
       "1  cg8mxn  1563769917  AITA if i don't want to pay my friend 5 dollar...   \n",
       "2  bajsje  1554663842  AITA For going to 'expensive' restaurants in s...   \n",
       "3  cq6voc  1565771883  AITA for wanting \"free gas\", due to an attenda...   \n",
       "4  bz4m2k  1560207411  AITA I asked my dad to replace the fuel that h...   \n",
       "\n",
       "                                                body        edited  \\\n",
       "0   \\n\\nThis all happened less than an hour ago.\\...         False   \n",
       "1  So, my friend bought herself, our other friend...         False   \n",
       "2  It's in Seattle if that matters. It seems peop...  1554686830.0   \n",
       "3  I was with my dad and driving the family car w...  1565773989.0   \n",
       "4  Am I the asshole for asking my dad to replace ...         False   \n",
       "\n",
       "           verdict  score  num_comments  is_asshole  \n",
       "0  not the asshole      3            14           0  \n",
       "1          asshole     11            42           1  \n",
       "2          asshole    657           397           1  \n",
       "3  not the asshole     49            40           0  \n",
       "4  not the asshole      4            10           0  "
      ]
     },
     "execution_count": 2,
     "metadata": {},
     "output_type": "execute_result"
    }
   ],
   "source": [
    "df = pd.read_csv('aita_clean.csv')\n",
    "df.head()"
   ]
  },
  {
   "cell_type": "code",
   "execution_count": 24,
   "metadata": {},
   "outputs": [
    {
     "data": {
      "text/html": [
       "<div>\n",
       "<style scoped>\n",
       "    .dataframe tbody tr th:only-of-type {\n",
       "        vertical-align: middle;\n",
       "    }\n",
       "\n",
       "    .dataframe tbody tr th {\n",
       "        vertical-align: top;\n",
       "    }\n",
       "\n",
       "    .dataframe thead th {\n",
       "        text-align: right;\n",
       "    }\n",
       "</style>\n",
       "<table border=\"1\" class=\"dataframe\">\n",
       "  <thead>\n",
       "    <tr style=\"text-align: right;\">\n",
       "      <th></th>\n",
       "      <th>timestamp</th>\n",
       "      <th>score</th>\n",
       "      <th>num_comments</th>\n",
       "      <th>is_asshole</th>\n",
       "    </tr>\n",
       "    <tr>\n",
       "      <th>verdict</th>\n",
       "      <th></th>\n",
       "      <th></th>\n",
       "      <th></th>\n",
       "      <th></th>\n",
       "    </tr>\n",
       "  </thead>\n",
       "  <tbody>\n",
       "    <tr>\n",
       "      <th>asshole</th>\n",
       "      <td>1.558606e+09</td>\n",
       "      <td>253.239940</td>\n",
       "      <td>123.235412</td>\n",
       "      <td>1.0</td>\n",
       "    </tr>\n",
       "    <tr>\n",
       "      <th>everyone sucks</th>\n",
       "      <td>1.557804e+09</td>\n",
       "      <td>322.034711</td>\n",
       "      <td>105.867769</td>\n",
       "      <td>1.0</td>\n",
       "    </tr>\n",
       "    <tr>\n",
       "      <th>no assholes here</th>\n",
       "      <td>1.560945e+09</td>\n",
       "      <td>221.206522</td>\n",
       "      <td>65.536491</td>\n",
       "      <td>0.0</td>\n",
       "    </tr>\n",
       "    <tr>\n",
       "      <th>not the asshole</th>\n",
       "      <td>1.557863e+09</td>\n",
       "      <td>320.346625</td>\n",
       "      <td>77.347606</td>\n",
       "      <td>0.0</td>\n",
       "    </tr>\n",
       "  </tbody>\n",
       "</table>\n",
       "</div>"
      ],
      "text/plain": [
       "                     timestamp       score  num_comments  is_asshole\n",
       "verdict                                                             \n",
       "asshole           1.558606e+09  253.239940    123.235412         1.0\n",
       "everyone sucks    1.557804e+09  322.034711    105.867769         1.0\n",
       "no assholes here  1.560945e+09  221.206522     65.536491         0.0\n",
       "not the asshole   1.557863e+09  320.346625     77.347606         0.0"
      ]
     },
     "execution_count": 24,
     "metadata": {},
     "output_type": "execute_result"
    }
   ],
   "source": [
    "df.groupby('verdict').mean()"
   ]
  },
  {
   "cell_type": "code",
   "execution_count": 10,
   "metadata": {},
   "outputs": [
    {
     "data": {
      "text/plain": [
       "'I was talking to my girlfriend (over text so emotions are hard to convey) last night and we got to talking about sex. I was a virgin before being with her and shes had 4 previous partners. We have talked about it in the past and it doesnt bother me but it can sometimes be a point of insecurity for me.\\n\\nAnyway last night she smoked some weed and when we were talking she said shes \"taken 9 inches before\". I told her that is ridiculous and nobody is 9 inches and she said \"okay he said he was 7 and 3/4\". Then she said she wouldnt tell me who had the giant dick. \\n\\nI told her I couldnt tell if she was joking or not anymore and I was uncomfortable with the joke, and I explained it was because of me being a virgin prior to her while shes had 4 partners so it was a soft spot for me. She told me I was getting pissy and it was obviously a joke, and she said I always get annoyed with her when she gets high and it ruins her fun. Then she went to bed so that was the end of the talk.\\n\\nI should add as a side note that Im pretty big down there (not 7 3/4 big) so I wasnt self conscious about myself - it was more just being uncomfortable about the subject as a whole.\\n\\nSo AITA for telling her I wasnt happy with the joke she made?\\n\\nEDIT we talked about it and cleared it up, she thought I would take it as a joke, and I was in a bad mood due to other stuff unrelated to her happening that night. Ill leave this up but I dont really need judgement. I was being a little bitch about it lol'"
      ]
     },
     "execution_count": 10,
     "metadata": {},
     "output_type": "execute_result"
    }
   ],
   "source": [
    "df.iloc[12].body"
   ]
  },
  {
   "cell_type": "code",
   "execution_count": 3,
   "metadata": {},
   "outputs": [],
   "source": [
    "import nltk\n",
    "from nltk import word_tokenize\n",
    "from nltk.corpus import stopwords\n",
    "from unidecode import unidecode\n",
    "import string"
   ]
  },
  {
   "cell_type": "code",
   "execution_count": 7,
   "metadata": {},
   "outputs": [
    {
     "data": {
      "text/plain": [
       "'sample non ascii cenia remove stopwords punctuation'"
      ]
     },
     "execution_count": 7,
     "metadata": {},
     "output_type": "execute_result"
    }
   ],
   "source": [
    "def pre_process(corpus):\n",
    "    # convert input corpus to lower case.\n",
    "    corpus = corpus.lower()\n",
    "    # collecting a list of stop words from nltk and punctuation form\n",
    "    # string class and create single array.\n",
    "    stopset = stopwords.words('english') + list(string.punctuation)\n",
    "    # remove stop words and punctuations from string.\n",
    "    # word_tokenize is used to tokenize the input corpus in word tokens.\n",
    "    corpus = \" \".join([lemmatizer.lemmatize(i) for i in word_tokenize(corpus) if i not in stopset])\n",
    "    # remove non-ascii characters\n",
    "    corpus = unidecode(corpus)\n",
    "    return corpus\n",
    "\n",
    "pre_process(\"Sample of non ASCII: Ceñía. How to remove stopwords and punctuations?\")"
   ]
  },
  {
   "cell_type": "code",
   "execution_count": 17,
   "metadata": {},
   "outputs": [
    {
     "data": {
      "text/plain": [
       "'sample non ascii cenia remove stopwords punctuations'"
      ]
     },
     "execution_count": 17,
     "metadata": {},
     "output_type": "execute_result"
    }
   ],
   "source": [
    "def pre_process2(corpus):\n",
    "    # convert input corpus to lower case.\n",
    "    corpus = corpus.lower()\n",
    "    # collecting a list of stop words from nltk and punctuation form\n",
    "    # string class and create single array.\n",
    "    stopset = stopwords.words('english') + list(string.punctuation)\n",
    "    # remove stop words and punctuations from string.\n",
    "    # word_tokenize is used to tokenize the input corpus in word tokens.\n",
    "    corpus = \" \".join([i for i in word_tokenize(corpus) if i not in stopset])\n",
    "    # remove non-ascii characters\n",
    "    corpus = unidecode(corpus)\n",
    "    return corpus\n",
    "\n",
    "pre_process2(\"Sample of non ASCII: Ceñía. How to remove stopwords and punctuations?\")"
   ]
  },
  {
   "cell_type": "code",
   "execution_count": 18,
   "metadata": {},
   "outputs": [
    {
     "data": {
      "text/plain": [
       "['sample', 'non', 'ascii', 'cenia', 'remove', 'stopwords', 'punctuations']"
      ]
     },
     "execution_count": 18,
     "metadata": {},
     "output_type": "execute_result"
    }
   ],
   "source": [
    "def pre_process3(corpus):\n",
    "    # convert input corpus to lower case.\n",
    "    corpus = corpus.lower()\n",
    "    # collecting a list of stop words from nltk and punctuation form\n",
    "    # string class and create single array.\n",
    "    stopset = stopwords.words('english') + list(string.punctuation)\n",
    "    # remove stop words and punctuations from string.\n",
    "    # word_tokenize is used to tokenize the input corpus in word tokens.\n",
    "    corpus = \" \".join([i for i in word_tokenize(corpus) if i not in stopset])\n",
    "    # remove non-ascii characters\n",
    "    corpus = unidecode(corpus)\n",
    "    return corpus.split(' ')\n",
    "\n",
    "pre_process3(\"Sample of non ASCII: Ceñía. How to remove stopwords and punctuations?\")"
   ]
  },
  {
   "cell_type": "code",
   "execution_count": null,
   "metadata": {},
   "outputs": [],
   "source": [
    "gensim.utils.simple_preprocess(df.body.iloc[0])"
   ]
  },
  {
   "cell_type": "code",
   "execution_count": null,
   "metadata": {},
   "outputs": [],
   "source": [
    "word_tokenize(df.body.iloc[0].lower())"
   ]
  },
  {
   "cell_type": "code",
   "execution_count": null,
   "metadata": {},
   "outputs": [],
   "source": [
    "stopset = stopwords.words('english') + list(string.punctuation)\n",
    "\" \".join([i for i in word_tokenize(df.body.iloc[0].lower()) if i not in stopset])\n"
   ]
  },
  {
   "cell_type": "code",
   "execution_count": null,
   "metadata": {},
   "outputs": [],
   "source": [
    "df.body.iloc[0]"
   ]
  },
  {
   "cell_type": "code",
   "execution_count": null,
   "metadata": {},
   "outputs": [],
   "source": [
    "pre_process(df.body.iloc[0])"
   ]
  },
  {
   "cell_type": "code",
   "execution_count": null,
   "metadata": {},
   "outputs": [],
   "source": [
    "pre_process3(df.body.iloc[0])"
   ]
  },
  {
   "cell_type": "code",
   "execution_count": 5,
   "metadata": {},
   "outputs": [],
   "source": [
    "from nltk.stem import WordNetLemmatizer\n",
    "from nltk.tokenize import word_tokenize"
   ]
  },
  {
   "cell_type": "code",
   "execution_count": 6,
   "metadata": {},
   "outputs": [],
   "source": [
    "lemmatizer = WordNetLemmatizer()\n",
    "sentence = \"The striped bats are hanging on their feet for best\"\n",
    "words = word_tokenize(sentence)"
   ]
  },
  {
   "cell_type": "code",
   "execution_count": 42,
   "metadata": {},
   "outputs": [
    {
     "data": {
      "text/plain": [
       "['The',\n",
       " 'striped',\n",
       " 'bats',\n",
       " 'are',\n",
       " 'hanging',\n",
       " 'on',\n",
       " 'their',\n",
       " 'feet',\n",
       " 'for',\n",
       " 'best']"
      ]
     },
     "execution_count": 42,
     "metadata": {},
     "output_type": "execute_result"
    }
   ],
   "source": [
    "word_tokenize"
   ]
  },
  {
   "cell_type": "code",
   "execution_count": 26,
   "metadata": {},
   "outputs": [
    {
     "name": "stdout",
     "output_type": "stream",
     "text": [
      "The  :  The\n",
      "striped  :  striped\n",
      "bats  :  bat\n",
      "are  :  are\n",
      "hanging  :  hanging\n",
      "on  :  on\n",
      "their  :  their\n",
      "feet  :  foot\n",
      "for  :  for\n",
      "best  :  best\n"
     ]
    }
   ],
   "source": [
    "for w in words:\n",
    "    print(w, \" : \", lemmatizer.lemmatize(w))"
   ]
  },
  {
   "cell_type": "code",
   "execution_count": 10,
   "metadata": {},
   "outputs": [
    {
     "name": "stdout",
     "output_type": "stream",
     "text": [
      "happened  :  happened\n",
      "less  :  le\n",
      "hour  :  hour\n",
      "ago  :  ago\n",
      "bar  :  bar\n",
      "frequent  :  frequent\n",
      "talking  :  talking\n",
      "people  :  people\n",
      "know  :  know\n",
      "suddenly  :  suddenly\n",
      "feel  :  feel\n",
      "someone  :  someone\n",
      "behind  :  behind\n",
      "hugging  :  hugging\n",
      "starting  :  starting\n",
      "grind  :  grind\n",
      "know  :  know\n",
      "lot  :  lot\n",
      "people  :  people\n",
      "bar  :  bar\n",
      "assume  :  assume\n",
      "'s  :  's\n",
      "friend  :  friend\n",
      "mine  :  mine\n",
      "look  :  look\n",
      "shoes  :  shoe\n",
      "recognize  :  recognize\n",
      "look  :  look\n",
      "back  :  back\n",
      "see  :  see\n",
      "dude  :  dude\n",
      "know  :  know\n",
      "ever  :  ever\n",
      "seen  :  seen\n",
      "looks  :  look\n",
      "back  :  back\n",
      "horror  :  horror\n",
      "eyes  :  eye\n",
      "'m  :  'm\n",
      "dude  :  dude\n",
      "...  :  ...\n",
      "feel  :  feel\n",
      "urge  :  urge\n",
      "rage  :  rage\n",
      "inside  :  inside\n",
      "shove  :  shove\n",
      "chest  :  chest\n",
      "elbow  :  elbow\n",
      "get  :  get\n",
      "away  :  away\n",
      "goes  :  go\n",
      "table  :  table\n",
      "go  :  go\n",
      "back  :  back\n",
      "mine  :  mine\n",
      "roommate  :  roommate\n",
      "girlfriend  :  girlfriend\n",
      "asked  :  asked\n",
      "happened  :  happened\n",
      "told  :  told\n",
      "see  :  see\n",
      "guy  :  guy\n",
      "hugged  :  hugged\n",
      "looking  :  looking\n",
      "around  :  around\n",
      "two  :  two\n",
      "friends  :  friend\n",
      "come  :  come\n",
      "us  :  u\n",
      "says  :  say\n",
      "``  :  ``\n",
      "wanted  :  wanted\n",
      "apologize  :  apologize\n",
      "thought  :  thought\n",
      "someone  :  someone\n",
      "else  :  else\n",
      "``  :  ``\n",
      "respond  :  respond\n",
      "``  :  ``\n",
      "understand  :  understand\n",
      "check  :  check\n",
      "hug  :  hug\n",
      "people  :  people\n",
      "please  :  please\n",
      "fuck  :  fuck\n",
      "``  :  ``\n",
      "repeats  :  repeat\n",
      "last  :  last\n",
      "statement  :  statement\n",
      "i.  :  i.\n",
      "happens  :  happens\n",
      "one  :  one\n",
      "time  :  time\n",
      "point  :  point\n",
      "friends  :  friend\n",
      "surrounded  :  surrounded\n",
      "roommate  :  roommate\n",
      "feet  :  foot\n",
      "left  :  left\n",
      "beer  :  beer\n",
      "table  :  table\n",
      "friend  :  friend\n",
      "goes  :  go\n",
      "face  :  face\n",
      "says  :  say\n",
      "``  :  ``\n",
      "wanted  :  wanted\n",
      "apologize  :  apologize\n",
      "really  :  really\n",
      "n't  :  n't\n",
      "yelling  :  yelling\n",
      "us  :  u\n",
      "``  :  ``\n",
      "starts  :  start\n",
      "waiving  :  waiving\n",
      "finger  :  finger\n",
      "rock  :  rock\n",
      "bar  :  bar\n",
      "'s  :  's\n",
      "loud  :  loud\n",
      "speaking  :  speaking\n",
      "louder  :  louder\n",
      "sure  :  sure\n",
      "heard  :  heard\n",
      "manager  :  manager\n",
      "knows  :  know\n",
      "comes  :  come\n",
      "asking  :  asking\n",
      "happened  :  happened\n",
      "explain  :  explain\n",
      "situation  :  situation\n",
      "speaks  :  speaks\n",
      "tells  :  tell\n",
      "``  :  ``\n",
      "want  :  want\n",
      "say  :  say\n",
      "sorry  :  sorry\n",
      "guys  :  guy\n",
      "shake  :  shake\n",
      "hand  :  hand\n",
      "``  :  ``\n",
      "``  :  ``\n",
      "yeah  :  yeah\n",
      "sure  :  sure\n",
      "want  :  want\n",
      "leave  :  leave\n",
      "alone  :  alone\n",
      "``  :  ``\n",
      "honestly  :  honestly\n",
      "n't  :  n't\n",
      "even  :  even\n",
      "want  :  want\n",
      "touch  :  touch\n",
      "guy  :  guy\n",
      "whatever  :  whatever\n",
      "shake  :  shake\n",
      "hands  :  hand\n",
      "go  :  go\n",
      "away  :  away\n",
      "roommate  :  roommate\n",
      "look  :  look\n",
      "table  :  table\n",
      "'s  :  's\n",
      "one  :  one\n",
      "looks  :  look\n",
      "anything  :  anything\n",
      "like  :  like\n",
      "reddit  :  reddit\n",
      "overreact  :  overreact\n",
      "asshole  :  asshole\n"
     ]
    }
   ],
   "source": [
    "for w in word_tokenize(pre_process(df.body.iloc[0])):\n",
    "    print(w, \" : \", lemmatizer.lemmatize(w))"
   ]
  },
  {
   "cell_type": "code",
   "execution_count": 6,
   "metadata": {},
   "outputs": [],
   "source": [
    "from sklearn.feature_extraction.text import TfidfVectorizer"
   ]
  },
  {
   "cell_type": "code",
   "execution_count": 16,
   "metadata": {},
   "outputs": [],
   "source": [
    "corpus = [\"A girl is styling her hair.\", \"A girl is brushing her hair.\"]"
   ]
  },
  {
   "cell_type": "code",
   "execution_count": null,
   "metadata": {},
   "outputs": [],
   "source": [
    "for c in range(len(corpus)):\n",
    "    corpus[c] = pre_process(corpus[c])\n",
    "# creating vocabulary using uni-gram and bi-gram"
   ]
  },
  {
   "cell_type": "code",
   "execution_count": 8,
   "metadata": {},
   "outputs": [],
   "source": [
    "tfidf_vectorizer = TfidfVectorizer(ngram_range=(1,2))"
   ]
  },
  {
   "cell_type": "code",
   "execution_count": 7,
   "metadata": {},
   "outputs": [
    {
     "ename": "NameError",
     "evalue": "name 'corpus' is not defined",
     "output_type": "error",
     "traceback": [
      "\u001b[0;31m---------------------------------------------------------------------------\u001b[0m",
      "\u001b[0;31mNameError\u001b[0m                                 Traceback (most recent call last)",
      "\u001b[0;32m<ipython-input-7-3657f6fb64cd>\u001b[0m in \u001b[0;36m<module>\u001b[0;34m\u001b[0m\n\u001b[1;32m      1\u001b[0m \u001b[0mtfidf_vectorizer\u001b[0m \u001b[0;34m=\u001b[0m \u001b[0mTfidfVectorizer\u001b[0m\u001b[0;34m(\u001b[0m\u001b[0mngram_range\u001b[0m\u001b[0;34m=\u001b[0m\u001b[0;34m(\u001b[0m\u001b[0;36m1\u001b[0m\u001b[0;34m,\u001b[0m\u001b[0;36m2\u001b[0m\u001b[0;34m)\u001b[0m\u001b[0;34m)\u001b[0m\u001b[0;34m\u001b[0m\u001b[0;34m\u001b[0m\u001b[0m\n\u001b[0;32m----> 2\u001b[0;31m \u001b[0mtfidf_vectorizer\u001b[0m\u001b[0;34m.\u001b[0m\u001b[0mfit\u001b[0m\u001b[0;34m(\u001b[0m\u001b[0mcorpus\u001b[0m\u001b[0;34m)\u001b[0m\u001b[0;34m\u001b[0m\u001b[0;34m\u001b[0m\u001b[0m\n\u001b[0m\u001b[1;32m      3\u001b[0m \u001b[0mfeature_vectors\u001b[0m \u001b[0;34m=\u001b[0m \u001b[0mtfidf_vectorizer\u001b[0m\u001b[0;34m.\u001b[0m\u001b[0mtransform\u001b[0m\u001b[0;34m(\u001b[0m\u001b[0mcorpus\u001b[0m\u001b[0;34m)\u001b[0m\u001b[0;34m\u001b[0m\u001b[0;34m\u001b[0m\u001b[0m\n",
      "\u001b[0;31mNameError\u001b[0m: name 'corpus' is not defined"
     ]
    }
   ],
   "source": [
    "tfidf_vectorizer.fit(corpus)\n",
    "feature_vectors = tfidf_vectorizer.transform(corpus)"
   ]
  },
  {
   "cell_type": "code",
   "execution_count": 20,
   "metadata": {},
   "outputs": [
    {
     "data": {
      "text/plain": [
       "('girl styling hair', 'girl brushing hair')"
      ]
     },
     "execution_count": 20,
     "metadata": {},
     "output_type": "execute_result"
    }
   ],
   "source": [
    "corpus[0], corpus[1]"
   ]
  },
  {
   "cell_type": "code",
   "execution_count": 9,
   "metadata": {},
   "outputs": [],
   "source": [
    "from gensim.models import Word2Vec"
   ]
  },
  {
   "cell_type": "code",
   "execution_count": 10,
   "metadata": {},
   "outputs": [],
   "source": [
    "from gensim.test.utils import common_texts, get_tmpfile"
   ]
  },
  {
   "cell_type": "code",
   "execution_count": 11,
   "metadata": {},
   "outputs": [],
   "source": [
    "path = get_tmpfile(\"word2vec.model\")"
   ]
  },
  {
   "cell_type": "code",
   "execution_count": 11,
   "metadata": {},
   "outputs": [],
   "source": [
    "model = Word2Vec(common_texts, size=100, window=5, min_count=1, workers=4)"
   ]
  },
  {
   "cell_type": "code",
   "execution_count": 9,
   "metadata": {},
   "outputs": [],
   "source": [
    "from collections import Counter\n",
    "import itertools"
   ]
  },
  {
   "cell_type": "code",
   "execution_count": 13,
   "metadata": {},
   "outputs": [],
   "source": [
    "def map_word_frequency(document):\n",
    "    return Counter(itertools.chain(*document))\n",
    "    \n",
    "def get_sif_feature_vectors(sentence1, sentence2, word_emb_model=model):\n",
    "    sentence1 = [token for token in sentence1.split() if token in word_emb_model.wv.vocab]\n",
    "    sentence2 = [token for token in sentence2.split() if token in word_emb_model.wv.vocab]\n",
    "    word_counts = map_word_frequency((sentence1 + sentence2))\n",
    "    embedding_size = 300 # size of vectore in word embeddings\n",
    "    a = 0.001\n",
    "    sentence_set=[]\n",
    "    for sentence in [sentence1, sentence2]:\n",
    "        vs = np.zeros(embedding_size)\n",
    "        sentence_length = len(sentence)\n",
    "        for word in sentence:\n",
    "            a_value = a / (a + word_counts[word]) # smooth inverse frequency, SIF\n",
    "            vs = np.add(vs, np.multiply(a_value, word_emb_model.wv[word])) # vs += sif * word_vector\n",
    "        vs = np.divide(vs, sentence_length) # weighted average\n",
    "        sentence_set.append(vs)\n",
    "    return sentence_set"
   ]
  },
  {
   "cell_type": "code",
   "execution_count": null,
   "metadata": {},
   "outputs": [],
   "source": [
    "get_sif_feature_vectors(corpus[0], corpus[1])"
   ]
  },
  {
   "cell_type": "code",
   "execution_count": 8,
   "metadata": {},
   "outputs": [],
   "source": [
    "import logging\n",
    "logging.basicConfig(format='%(asctime)s : %(levelname)s : %(message)s', level=logging.INFO)"
   ]
  },
  {
   "cell_type": "code",
   "execution_count": 9,
   "metadata": {},
   "outputs": [
    {
     "name": "stderr",
     "output_type": "stream",
     "text": [
      "2020-06-24 18:31:37,919 : INFO : 'pattern' package not found; tag filters are not available for English\n"
     ]
    }
   ],
   "source": [
    "import os\n",
    "import gensim\n",
    "# Set file names for train and test data"
   ]
  },
  {
   "cell_type": "code",
   "execution_count": 5,
   "metadata": {},
   "outputs": [],
   "source": [
    "test_data_dir = os.path.join(gensim.__path__[0], 'test', 'test_data')\n",
    "lee_train_file = os.path.join(test_data_dir, 'lee_background.cor')\n",
    "lee_test_file = os.path.join(test_data_dir, 'lee.cor')"
   ]
  },
  {
   "cell_type": "code",
   "execution_count": 5,
   "metadata": {},
   "outputs": [
    {
     "data": {
      "text/plain": [
       "'/anaconda3/lib/python3.6/site-packages/gensim/test/test_data/lee_background.cor'"
      ]
     },
     "execution_count": 5,
     "metadata": {},
     "output_type": "execute_result"
    }
   ],
   "source": [
    "lee_train_file"
   ]
  },
  {
   "cell_type": "code",
   "execution_count": 6,
   "metadata": {},
   "outputs": [],
   "source": [
    "import smart_open"
   ]
  },
  {
   "cell_type": "code",
   "execution_count": 7,
   "metadata": {},
   "outputs": [],
   "source": [
    "def read_corpus(fname, tokens_only=False):\n",
    "    with smart_open.open(fname, encoding=\"iso-8859-1\") as f:\n",
    "        for i, line in enumerate(f):\n",
    "            tokens = gensim.utils.simple_preprocess(line)\n",
    "            if tokens_only:\n",
    "                yield tokens\n",
    "            else:\n",
    "                # For training data, add tags\n",
    "                yield gensim.models.doc2vec.TaggedDocument(tokens, [i])"
   ]
  },
  {
   "cell_type": "code",
   "execution_count": 8,
   "metadata": {},
   "outputs": [],
   "source": [
    "train_corpus = list(read_corpus(lee_train_file))\n",
    "test_corpus = list(read_corpus(lee_test_file, tokens_only=True))"
   ]
  },
  {
   "cell_type": "code",
   "execution_count": 12,
   "metadata": {},
   "outputs": [
    {
     "name": "stdout",
     "output_type": "stream",
     "text": [
      "0 Hundreds of people have been forced to vacate their homes in the Southern Highlands of New South Wales as strong winds today pushed a huge bushfire towards the town of Hill Top. A new blaze near Goulburn, south-west of Sydney, has forced the closure of the Hume Highway. At about 4:00pm AEDT, a marked deterioration in the weather as a storm cell moved east across the Blue Mountains forced authorities to make a decision to evacuate people from homes in outlying streets at Hill Top in the New South Wales southern highlands. An estimated 500 residents have left their homes for nearby Mittagong. The New South Wales Rural Fire Service says the weather conditions which caused the fire to burn in a finger formation have now eased and about 60 fire units in and around Hill Top are optimistic of defending all properties. As more than 100 blazes burn on New Year's Eve in New South Wales, fire crews have been called to new fire at Gunning, south of Goulburn. While few details are available at this stage, fire authorities says it has closed the Hume Highway in both directions. Meanwhile, a new fire in Sydney's west is no longer threatening properties in the Cranebrook area. Rain has fallen in some parts of the Illawarra, Sydney, the Hunter Valley and the north coast. But the Bureau of Meteorology's Claire Richards says the rain has done little to ease any of the hundred fires still burning across the state. \"The falls have been quite isolated in those areas and generally the falls have been less than about five millimetres,\" she said. \"In some places really not significant at all, less than a millimetre, so there hasn't been much relief as far as rain is concerned. \"In fact, they've probably hampered the efforts of the firefighters more because of the wind gusts that are associated with those thunderstorms.\" \n",
      "\n",
      "1 Indian security forces have shot dead eight suspected militants in a night-long encounter in southern Kashmir. The shootout took place at Dora village some 50 kilometers south of the Kashmiri summer capital Srinagar. The deaths came as Pakistani police arrested more than two dozen militants from extremist groups accused of staging an attack on India's parliament. India has accused Pakistan-based Lashkar-e-Taiba and Jaish-e-Mohammad of carrying out the attack on December 13 at the behest of Pakistani military intelligence. Military tensions have soared since the raid, with both sides massing troops along their border and trading tit-for-tat diplomatic sanctions. Yesterday, Pakistan announced it had arrested Lashkar-e-Taiba chief Hafiz Mohammed Saeed. Police in Karachi say it is likely more raids will be launched against the two groups as well as other militant organisations accused of targetting India. Military tensions between India and Pakistan have escalated to a level not seen since their 1971 war. \n",
      "\n",
      "2 The national road toll for the Christmas-New Year holiday period stands at 45, eight fewer than for the same time last year. 20 people have died on New South Wales roads, with eight fatalities in both Queensland and Victoria. Western Australia, the Northern Territory and South Australia have each recorded three deaths, while the ACT and Tasmania remain fatality free. \n",
      "\n",
      "3 Argentina's political and economic crisis has deepened with the resignation of its interim President who took office just a week ago. Aldolfo Rodregiuez Saa told a stunned nation that he could not rescue Argentina because key fellow Peronists would not support his default on massive foreign debt repayment or his plan for a new currency. It was only a week ago that he was promising a million new jobs to end four years of recession, days after his predecessor resigned following a series of failed rescue packages. After announcing that the senate leader, Ramon Puerta, would assume the presidency until congress appoints a new caretaker president, the government said he too had quit and another senior lawmaker would act in the role. Fresh elections are not scheduled until March leaving whoever assumes the presidency with the daunting task of tackling Argentina's worst crisis in 12 years, but this time, isolated by international lending agencies. \n",
      "\n",
      "4 Six midwives have been suspended at Wollongong Hospital, south of Sydney, for inappropriate use of nitrous oxide during work hours, on some occasions while women were in labour. The Illawarra Area Health Service says that following an investigation of unprofessional conduct, a further four midwives have been relocated to other areas within the hospital. The service's chief executive officer, Tony Sherbon, says no one was put at risk, because other staff not involved in the use of nitrous oxide were able to take over caring for women in labour. \"Well we're very concerned and the body of midwives to the hospital - there are over 70 midwives that work in our service - are very annoyed and angry at the inappropriate behaviour of these very senior people who should know better,\" he said. \"And that's why we've take the action of suspending them and we'll consider further action next week.\" \n",
      "\n",
      "5 The Federal Government says it should be safe for Afghani asylum seekers in Australia to return home when the environment becomes secure. The Government has suspended their applications while the interim government is established in Kabul. The Foreign Affairs Minister Alexander Downer has refused to say for how long the claims process has been put on hold. But he says the major threat to most people seeking asylum is no longer there. \"Many Afghans who have tried to get into Australia or for that matter into Britain and other countries in north-west Europe have claimed that they are fleeing the Taliban,\" he said. \"Well, the Taliban is no longer in power in Afghanistan, the Taliban is finished.\" Meanwhile, there has been a mass airlift of detainees from Christmas Island to the Pacific Island of Nauru. In total, more than 300 people have been flown from the island in two operations using chartered aircraft. The second airlift today delivered 180 asylum seekers to Nauru where they will await processing of their claims for temporary visas. The Department of Immigration says there are now 211 detainees remaining on Christmas Island. A spokesman says a decision regarding their future is yet to be made. \n",
      "\n",
      "6 The United States team of Monica Seles and Jan-Michael Gambill scored a decisive victory over unseeded France in their first Hopman Cup match at Burswood Dome in Perth. The pair, runners-up in the $1 million dollar mixed teams event last year, both won their singles encounters to give the US an unbeatable 2-0 lead. The 28-year-old Seles, currently ranked eighth, recovered from a shaky start to overpower Virginie Razzano, 18, who is ranked 72nd. Seles had to fight hard to get home in straight sets, winning 6-3, 6-4 in 62 minutes. Then the 24-year-old Gambill (ranked 21st) wore down a determined Arnaud Clement, 24, (18th) to win 6-4, 6-4 in 91 minutes. The Americans are aiming to go one better than last year when they were beaten by Swiss pair Martina Hingis and Roger Federer in the final of the eight-nation contest. Gambill said the win was a great way to start the tennis year. \"I got a little tentative at the end, but it was a great start to my year,\" he said. \"Arnaud is a great scrapper and I am delighted to beat him, even though I am frankly a bit out of shape. \"That is one of the reasons I am here. I will be in shape by the end of the tournament. \"I just aim to keep improving in the new year, and if I do, I think I have a chance to beat anyone when I am playing well.\" Gambill was pressed hard by Clement before taking the first set in 47 minutes. But the American gained the ascendancy in the second set, breaking in the third and fifth games. Seles said she had expected her clash with Razzano to be tough. \"She was a top junior player in the world, so it was no surprise that she fought so well,\" she said. Seles said she still had the hunger to strive to regain her position at the top of her sport. \"This is why you play,\" she said. \"But I want to try not to peak too early this season. \"Seles, slow into her stride, slipped to 2-3 in her opening set against Razzano but recovered quickly, claiming the set after snatching four games in a row. In the second set, Seles broke her opponent in the opening game and completed victory with relative ease despite Razzano's tenacious efforts. \n",
      "\n",
      "7 Hundreds of canoeists are enjoying hard-earned New Years Eve celebrations following five days paddling in the Murray River Marathon. After more than 400 exhausting kilometres battling hot and dusty conditions, a Melbourne team took out the strongly contested K-one Cup this afternoon. Two hundred and thirty canoes left Yarrawonga last Thursday, with just over 200 paddling across the finishing line at Swan Hill. The others fell victim to the gruelling conditions. The event raised about $170,000 for the Red Cross. \n",
      "\n",
      "8 There has been welcome relief for firefighters in New South Wales overnight with milder weather allowing them to strengthen containment lines around the most severe fires. But fire authorities are not getting overly optimistic as dry and hot weather is forecast to continue. The weather bureau is forecasting temperatures in the high 30s and westerly winds until at least Friday, which means fire authorities are reluctant to get too excited about last night's favourable conditions. Marks Sullivan from the Rural Fire Service says fire fighters are remaining on guard. \"A lot of fires that have been burning in the areas around Sydney and the north coast and further south have been burning within areas that are known and are contained,\" he said. \"However, that's not to say that these fires won't pose a threat given the weather conditions that are coming up over the next few days.\" Despite the caution, the Rural Fire Service says most of the state's fires that threaten property are burning within containment lines. Greater Sydney is ringed by fires to the north, west and south. Two of those flared overnight. One at Appin in the southern highlands was quickly brought under control. Another flare-up at Spencer, north of the city, is not contained on its north-western flank, but is not threatening property. In the lower Blue Mountains west of Sydney, firefighters have spent the night setting up a 20 kilometre containment line to protect communities along the Great Western Highway from Glenbrook to Bulaburra. Two fires burning near Cessnock, west of Newcastle, are still within containment lines. In the state's north, aircraft will this morning check if lightning from a large electrical storm overnight has sparked any new fires above Grafton. Aircraft have also been used in the Shoalhaven area in the state's south to drop incendiary devices that start fire control lines in inaccessible areas. The Rural Fire Service Commissioner Phil Koperberg says if fire activity increases hundreds of New Year's Eve fireworks celebrations in New South Wales will be cancelled. \n",
      "\n",
      "9 Some roads are closed because of dangerous conditions caused by bushfire smoke. Motorists are being asked to avoid the Hume Highway between Picton Road and the Illawarra Highway, where police have reduced the speed limit from 110 kilometres an hour to 80. In southern Sydney, Picton Road is closed between Wilton and Bulli, Appin Road is closed from Appin to Bulli Tops, and all access roads to Royal National Park are closed. Motorists are also asked to avoid the Illawarra Highway between the Hume Highway and Robertson, and the Great Western Highway between Penrith and Springwood because of reduced visibility. In north-western Sydney only local residents are allowed to use Wisemans Ferry Road and Upper Color Road under police escort. \n",
      "\n"
     ]
    }
   ],
   "source": [
    "with smart_open.open(lee_train_file, encoding=\"iso-8859-1\") as f:\n",
    "    for i, line in enumerate(f):\n",
    "        if i<10:\n",
    "            print (i, line)"
   ]
  },
  {
   "cell_type": "code",
   "execution_count": null,
   "metadata": {},
   "outputs": [],
   "source": [
    "train_corpus[3]"
   ]
  },
  {
   "cell_type": "code",
   "execution_count": 25,
   "metadata": {},
   "outputs": [],
   "source": [
    "from gensim.models.doc2vec import TaggedDocument"
   ]
  },
  {
   "cell_type": "code",
   "execution_count": null,
   "metadata": {},
   "outputs": [],
   "source": [
    "TaggedDocument(pre_process3(df.body.iloc[0]),[0])"
   ]
  },
  {
   "cell_type": "code",
   "execution_count": null,
   "metadata": {},
   "outputs": [],
   "source": [
    "print(train_corpus[:2])"
   ]
  },
  {
   "cell_type": "code",
   "execution_count": null,
   "metadata": {},
   "outputs": [],
   "source": [
    "print(test_corpus[:2])"
   ]
  },
  {
   "cell_type": "markdown",
   "metadata": {},
   "source": [
    "Notice that the test_corpus is not tagged!"
   ]
  },
  {
   "cell_type": "code",
   "execution_count": 11,
   "metadata": {},
   "outputs": [
    {
     "name": "stderr",
     "output_type": "stream",
     "text": [
      "2020-06-20 17:05:14,101 : WARNING : consider setting layer size to a multiple of 4 for greater performance\n"
     ]
    }
   ],
   "source": [
    "model = gensim.models.doc2vec.Doc2Vec(vector_size=50, min_count=2, epochs=40)"
   ]
  },
  {
   "cell_type": "code",
   "execution_count": 12,
   "metadata": {},
   "outputs": [
    {
     "name": "stderr",
     "output_type": "stream",
     "text": [
      "2020-06-20 17:05:20,374 : INFO : collecting all words and their counts\n",
      "2020-06-20 17:05:20,375 : INFO : PROGRESS: at example #0, processed 0 words (0/s), 0 word types, 0 tags\n",
      "2020-06-20 17:05:20,399 : INFO : collected 6981 word types and 300 unique tags from a corpus of 300 examples and 58152 words\n",
      "2020-06-20 17:05:20,400 : INFO : Loading a fresh vocabulary\n",
      "2020-06-20 17:05:20,422 : INFO : effective_min_count=2 retains 3955 unique words (56% of original 6981, drops 3026)\n",
      "2020-06-20 17:05:20,423 : INFO : effective_min_count=2 leaves 55126 word corpus (94% of original 58152, drops 3026)\n",
      "2020-06-20 17:05:20,453 : INFO : deleting the raw counts dictionary of 6981 items\n",
      "2020-06-20 17:05:20,455 : INFO : sample=0.001 downsamples 46 most-common words\n",
      "2020-06-20 17:05:20,456 : INFO : downsampling leaves estimated 42390 word corpus (76.9% of prior 55126)\n",
      "2020-06-20 17:05:20,472 : INFO : estimated required memory for 3955 words and 50 dimensions: 3619500 bytes\n",
      "2020-06-20 17:05:20,473 : INFO : resetting layer weights\n"
     ]
    }
   ],
   "source": [
    "model.build_vocab(train_corpus)"
   ]
  },
  {
   "cell_type": "code",
   "execution_count": 13,
   "metadata": {},
   "outputs": [
    {
     "data": {
      "text/plain": [
       "4"
      ]
     },
     "execution_count": 13,
     "metadata": {},
     "output_type": "execute_result"
    }
   ],
   "source": [
    "model.wv.vocab['penalty'].count\n",
    "#this counts how many times the word 'penalty' showed up in the vocabulary we created with the last command"
   ]
  },
  {
   "cell_type": "code",
   "execution_count": 14,
   "metadata": {},
   "outputs": [
    {
     "name": "stderr",
     "output_type": "stream",
     "text": [
      "2020-06-20 17:06:10,751 : INFO : training model with 3 workers on 3955 vocabulary and 50 features, using sg=0 hs=0 sample=0.001 negative=5 window=5\n",
      "2020-06-20 17:06:10,856 : INFO : worker thread finished; awaiting finish of 2 more threads\n",
      "2020-06-20 17:06:10,858 : INFO : worker thread finished; awaiting finish of 1 more threads\n",
      "2020-06-20 17:06:10,859 : INFO : worker thread finished; awaiting finish of 0 more threads\n",
      "2020-06-20 17:06:10,860 : INFO : EPOCH - 1 : training on 58152 raw words (42707 effective words) took 0.1s, 409782 effective words/s\n",
      "2020-06-20 17:06:10,958 : INFO : worker thread finished; awaiting finish of 2 more threads\n",
      "2020-06-20 17:06:10,962 : INFO : worker thread finished; awaiting finish of 1 more threads\n",
      "2020-06-20 17:06:10,963 : INFO : worker thread finished; awaiting finish of 0 more threads\n",
      "2020-06-20 17:06:10,965 : INFO : EPOCH - 2 : training on 58152 raw words (42656 effective words) took 0.1s, 432951 effective words/s\n",
      "2020-06-20 17:06:11,079 : INFO : worker thread finished; awaiting finish of 2 more threads\n",
      "2020-06-20 17:06:11,087 : INFO : worker thread finished; awaiting finish of 1 more threads\n",
      "2020-06-20 17:06:11,091 : INFO : worker thread finished; awaiting finish of 0 more threads\n",
      "2020-06-20 17:06:11,092 : INFO : EPOCH - 3 : training on 58152 raw words (42880 effective words) took 0.1s, 351143 effective words/s\n",
      "2020-06-20 17:06:11,206 : INFO : worker thread finished; awaiting finish of 2 more threads\n",
      "2020-06-20 17:06:11,226 : INFO : worker thread finished; awaiting finish of 1 more threads\n",
      "2020-06-20 17:06:11,237 : INFO : worker thread finished; awaiting finish of 0 more threads\n",
      "2020-06-20 17:06:11,238 : INFO : EPOCH - 4 : training on 58152 raw words (42758 effective words) took 0.1s, 310171 effective words/s\n",
      "2020-06-20 17:06:11,349 : INFO : worker thread finished; awaiting finish of 2 more threads\n",
      "2020-06-20 17:06:11,351 : INFO : worker thread finished; awaiting finish of 1 more threads\n",
      "2020-06-20 17:06:11,356 : INFO : worker thread finished; awaiting finish of 0 more threads\n",
      "2020-06-20 17:06:11,357 : INFO : EPOCH - 5 : training on 58152 raw words (42644 effective words) took 0.1s, 368246 effective words/s\n",
      "2020-06-20 17:06:11,478 : INFO : worker thread finished; awaiting finish of 2 more threads\n",
      "2020-06-20 17:06:11,486 : INFO : worker thread finished; awaiting finish of 1 more threads\n",
      "2020-06-20 17:06:11,496 : INFO : worker thread finished; awaiting finish of 0 more threads\n",
      "2020-06-20 17:06:11,497 : INFO : EPOCH - 6 : training on 58152 raw words (42755 effective words) took 0.1s, 320990 effective words/s\n",
      "2020-06-20 17:06:11,604 : INFO : worker thread finished; awaiting finish of 2 more threads\n",
      "2020-06-20 17:06:11,608 : INFO : worker thread finished; awaiting finish of 1 more threads\n",
      "2020-06-20 17:06:11,613 : INFO : worker thread finished; awaiting finish of 0 more threads\n",
      "2020-06-20 17:06:11,614 : INFO : EPOCH - 7 : training on 58152 raw words (42644 effective words) took 0.1s, 385844 effective words/s\n",
      "2020-06-20 17:06:11,712 : INFO : worker thread finished; awaiting finish of 2 more threads\n",
      "2020-06-20 17:06:11,713 : INFO : worker thread finished; awaiting finish of 1 more threads\n",
      "2020-06-20 17:06:11,714 : INFO : worker thread finished; awaiting finish of 0 more threads\n",
      "2020-06-20 17:06:11,715 : INFO : EPOCH - 8 : training on 58152 raw words (42643 effective words) took 0.1s, 440867 effective words/s\n",
      "2020-06-20 17:06:11,820 : INFO : worker thread finished; awaiting finish of 2 more threads\n",
      "2020-06-20 17:06:11,829 : INFO : worker thread finished; awaiting finish of 1 more threads\n",
      "2020-06-20 17:06:11,831 : INFO : worker thread finished; awaiting finish of 0 more threads\n",
      "2020-06-20 17:06:11,833 : INFO : EPOCH - 9 : training on 58152 raw words (42830 effective words) took 0.1s, 379408 effective words/s\n",
      "2020-06-20 17:06:11,949 : INFO : worker thread finished; awaiting finish of 2 more threads\n",
      "2020-06-20 17:06:11,956 : INFO : worker thread finished; awaiting finish of 1 more threads\n",
      "2020-06-20 17:06:11,959 : INFO : worker thread finished; awaiting finish of 0 more threads\n",
      "2020-06-20 17:06:11,960 : INFO : EPOCH - 10 : training on 58152 raw words (42830 effective words) took 0.1s, 377796 effective words/s\n",
      "2020-06-20 17:06:12,062 : INFO : worker thread finished; awaiting finish of 2 more threads\n",
      "2020-06-20 17:06:12,067 : INFO : worker thread finished; awaiting finish of 1 more threads\n",
      "2020-06-20 17:06:12,068 : INFO : worker thread finished; awaiting finish of 0 more threads\n",
      "2020-06-20 17:06:12,069 : INFO : EPOCH - 11 : training on 58152 raw words (42633 effective words) took 0.1s, 407152 effective words/s\n",
      "2020-06-20 17:06:12,181 : INFO : worker thread finished; awaiting finish of 2 more threads\n",
      "2020-06-20 17:06:12,182 : INFO : worker thread finished; awaiting finish of 1 more threads\n",
      "2020-06-20 17:06:12,184 : INFO : worker thread finished; awaiting finish of 0 more threads\n",
      "2020-06-20 17:06:12,186 : INFO : EPOCH - 12 : training on 58152 raw words (42736 effective words) took 0.1s, 380607 effective words/s\n",
      "2020-06-20 17:06:12,294 : INFO : worker thread finished; awaiting finish of 2 more threads\n",
      "2020-06-20 17:06:12,296 : INFO : worker thread finished; awaiting finish of 1 more threads\n",
      "2020-06-20 17:06:12,300 : INFO : worker thread finished; awaiting finish of 0 more threads\n",
      "2020-06-20 17:06:12,300 : INFO : EPOCH - 13 : training on 58152 raw words (42729 effective words) took 0.1s, 390140 effective words/s\n",
      "2020-06-20 17:06:12,404 : INFO : worker thread finished; awaiting finish of 2 more threads\n",
      "2020-06-20 17:06:12,412 : INFO : worker thread finished; awaiting finish of 1 more threads\n",
      "2020-06-20 17:06:12,417 : INFO : worker thread finished; awaiting finish of 0 more threads\n",
      "2020-06-20 17:06:12,418 : INFO : EPOCH - 14 : training on 58152 raw words (42635 effective words) took 0.1s, 382497 effective words/s\n",
      "2020-06-20 17:06:12,515 : INFO : worker thread finished; awaiting finish of 2 more threads\n",
      "2020-06-20 17:06:12,517 : INFO : worker thread finished; awaiting finish of 1 more threads\n",
      "2020-06-20 17:06:12,520 : INFO : worker thread finished; awaiting finish of 0 more threads\n",
      "2020-06-20 17:06:12,521 : INFO : EPOCH - 15 : training on 58152 raw words (42635 effective words) took 0.1s, 426868 effective words/s\n",
      "2020-06-20 17:06:12,607 : INFO : worker thread finished; awaiting finish of 2 more threads\n",
      "2020-06-20 17:06:12,608 : INFO : worker thread finished; awaiting finish of 1 more threads\n",
      "2020-06-20 17:06:12,609 : INFO : worker thread finished; awaiting finish of 0 more threads\n",
      "2020-06-20 17:06:12,610 : INFO : EPOCH - 16 : training on 58152 raw words (42715 effective words) took 0.1s, 506129 effective words/s\n",
      "2020-06-20 17:06:12,728 : INFO : worker thread finished; awaiting finish of 2 more threads\n",
      "2020-06-20 17:06:12,733 : INFO : worker thread finished; awaiting finish of 1 more threads\n",
      "2020-06-20 17:06:12,736 : INFO : worker thread finished; awaiting finish of 0 more threads\n",
      "2020-06-20 17:06:12,736 : INFO : EPOCH - 17 : training on 58152 raw words (42606 effective words) took 0.1s, 349617 effective words/s\n",
      "2020-06-20 17:06:12,824 : INFO : worker thread finished; awaiting finish of 2 more threads\n",
      "2020-06-20 17:06:12,825 : INFO : worker thread finished; awaiting finish of 1 more threads\n",
      "2020-06-20 17:06:12,826 : INFO : worker thread finished; awaiting finish of 0 more threads\n",
      "2020-06-20 17:06:12,827 : INFO : EPOCH - 18 : training on 58152 raw words (42658 effective words) took 0.1s, 495393 effective words/s\n",
      "2020-06-20 17:06:12,928 : INFO : worker thread finished; awaiting finish of 2 more threads\n",
      "2020-06-20 17:06:12,931 : INFO : worker thread finished; awaiting finish of 1 more threads\n",
      "2020-06-20 17:06:12,939 : INFO : worker thread finished; awaiting finish of 0 more threads\n",
      "2020-06-20 17:06:12,940 : INFO : EPOCH - 19 : training on 58152 raw words (42734 effective words) took 0.1s, 393275 effective words/s\n",
      "2020-06-20 17:06:13,045 : INFO : worker thread finished; awaiting finish of 2 more threads\n",
      "2020-06-20 17:06:13,048 : INFO : worker thread finished; awaiting finish of 1 more threads\n",
      "2020-06-20 17:06:13,052 : INFO : worker thread finished; awaiting finish of 0 more threads\n",
      "2020-06-20 17:06:13,054 : INFO : EPOCH - 20 : training on 58152 raw words (42646 effective words) took 0.1s, 394765 effective words/s\n"
     ]
    },
    {
     "name": "stderr",
     "output_type": "stream",
     "text": [
      "2020-06-20 17:06:13,154 : INFO : worker thread finished; awaiting finish of 2 more threads\n",
      "2020-06-20 17:06:13,157 : INFO : worker thread finished; awaiting finish of 1 more threads\n",
      "2020-06-20 17:06:13,158 : INFO : worker thread finished; awaiting finish of 0 more threads\n",
      "2020-06-20 17:06:13,159 : INFO : EPOCH - 21 : training on 58152 raw words (42647 effective words) took 0.1s, 423356 effective words/s\n",
      "2020-06-20 17:06:13,251 : INFO : worker thread finished; awaiting finish of 2 more threads\n",
      "2020-06-20 17:06:13,253 : INFO : worker thread finished; awaiting finish of 1 more threads\n",
      "2020-06-20 17:06:13,259 : INFO : worker thread finished; awaiting finish of 0 more threads\n",
      "2020-06-20 17:06:13,260 : INFO : EPOCH - 22 : training on 58152 raw words (42650 effective words) took 0.1s, 447398 effective words/s\n",
      "2020-06-20 17:06:13,349 : INFO : worker thread finished; awaiting finish of 2 more threads\n",
      "2020-06-20 17:06:13,352 : INFO : worker thread finished; awaiting finish of 1 more threads\n",
      "2020-06-20 17:06:13,355 : INFO : worker thread finished; awaiting finish of 0 more threads\n",
      "2020-06-20 17:06:13,356 : INFO : EPOCH - 23 : training on 58152 raw words (42713 effective words) took 0.1s, 460671 effective words/s\n",
      "2020-06-20 17:06:13,445 : INFO : worker thread finished; awaiting finish of 2 more threads\n",
      "2020-06-20 17:06:13,450 : INFO : worker thread finished; awaiting finish of 1 more threads\n",
      "2020-06-20 17:06:13,452 : INFO : worker thread finished; awaiting finish of 0 more threads\n",
      "2020-06-20 17:06:13,453 : INFO : EPOCH - 24 : training on 58152 raw words (42655 effective words) took 0.1s, 463126 effective words/s\n",
      "2020-06-20 17:06:13,538 : INFO : worker thread finished; awaiting finish of 2 more threads\n",
      "2020-06-20 17:06:13,541 : INFO : worker thread finished; awaiting finish of 1 more threads\n",
      "2020-06-20 17:06:13,543 : INFO : worker thread finished; awaiting finish of 0 more threads\n",
      "2020-06-20 17:06:13,544 : INFO : EPOCH - 25 : training on 58152 raw words (42614 effective words) took 0.1s, 492545 effective words/s\n",
      "2020-06-20 17:06:13,637 : INFO : worker thread finished; awaiting finish of 2 more threads\n",
      "2020-06-20 17:06:13,643 : INFO : worker thread finished; awaiting finish of 1 more threads\n",
      "2020-06-20 17:06:13,644 : INFO : worker thread finished; awaiting finish of 0 more threads\n",
      "2020-06-20 17:06:13,645 : INFO : EPOCH - 26 : training on 58152 raw words (42574 effective words) took 0.1s, 436853 effective words/s\n",
      "2020-06-20 17:06:13,768 : INFO : worker thread finished; awaiting finish of 2 more threads\n",
      "2020-06-20 17:06:13,776 : INFO : worker thread finished; awaiting finish of 1 more threads\n",
      "2020-06-20 17:06:13,778 : INFO : worker thread finished; awaiting finish of 0 more threads\n",
      "2020-06-20 17:06:13,779 : INFO : EPOCH - 27 : training on 58152 raw words (42752 effective words) took 0.1s, 330814 effective words/s\n",
      "2020-06-20 17:06:13,873 : INFO : worker thread finished; awaiting finish of 2 more threads\n",
      "2020-06-20 17:06:13,876 : INFO : worker thread finished; awaiting finish of 1 more threads\n",
      "2020-06-20 17:06:13,877 : INFO : worker thread finished; awaiting finish of 0 more threads\n",
      "2020-06-20 17:06:13,878 : INFO : EPOCH - 28 : training on 58152 raw words (42708 effective words) took 0.1s, 448438 effective words/s\n",
      "2020-06-20 17:06:13,963 : INFO : worker thread finished; awaiting finish of 2 more threads\n",
      "2020-06-20 17:06:13,965 : INFO : worker thread finished; awaiting finish of 1 more threads\n",
      "2020-06-20 17:06:13,971 : INFO : worker thread finished; awaiting finish of 0 more threads\n",
      "2020-06-20 17:06:13,972 : INFO : EPOCH - 29 : training on 58152 raw words (42676 effective words) took 0.1s, 477912 effective words/s\n",
      "2020-06-20 17:06:14,053 : INFO : worker thread finished; awaiting finish of 2 more threads\n",
      "2020-06-20 17:06:14,055 : INFO : worker thread finished; awaiting finish of 1 more threads\n",
      "2020-06-20 17:06:14,056 : INFO : worker thread finished; awaiting finish of 0 more threads\n",
      "2020-06-20 17:06:14,057 : INFO : EPOCH - 30 : training on 58152 raw words (42565 effective words) took 0.1s, 522188 effective words/s\n",
      "2020-06-20 17:06:14,140 : INFO : worker thread finished; awaiting finish of 2 more threads\n",
      "2020-06-20 17:06:14,142 : INFO : worker thread finished; awaiting finish of 1 more threads\n",
      "2020-06-20 17:06:14,143 : INFO : worker thread finished; awaiting finish of 0 more threads\n",
      "2020-06-20 17:06:14,144 : INFO : EPOCH - 31 : training on 58152 raw words (42686 effective words) took 0.1s, 517603 effective words/s\n",
      "2020-06-20 17:06:14,225 : INFO : worker thread finished; awaiting finish of 2 more threads\n",
      "2020-06-20 17:06:14,226 : INFO : worker thread finished; awaiting finish of 1 more threads\n",
      "2020-06-20 17:06:14,230 : INFO : worker thread finished; awaiting finish of 0 more threads\n",
      "2020-06-20 17:06:14,231 : INFO : EPOCH - 32 : training on 58152 raw words (42721 effective words) took 0.1s, 517201 effective words/s\n",
      "2020-06-20 17:06:14,308 : INFO : worker thread finished; awaiting finish of 2 more threads\n",
      "2020-06-20 17:06:14,315 : INFO : worker thread finished; awaiting finish of 1 more threads\n",
      "2020-06-20 17:06:14,316 : INFO : worker thread finished; awaiting finish of 0 more threads\n",
      "2020-06-20 17:06:14,317 : INFO : EPOCH - 33 : training on 58152 raw words (42720 effective words) took 0.1s, 520505 effective words/s\n",
      "2020-06-20 17:06:14,404 : INFO : worker thread finished; awaiting finish of 2 more threads\n",
      "2020-06-20 17:06:14,408 : INFO : worker thread finished; awaiting finish of 1 more threads\n",
      "2020-06-20 17:06:14,410 : INFO : worker thread finished; awaiting finish of 0 more threads\n",
      "2020-06-20 17:06:14,411 : INFO : EPOCH - 34 : training on 58152 raw words (42617 effective words) took 0.1s, 477476 effective words/s\n",
      "2020-06-20 17:06:14,503 : INFO : worker thread finished; awaiting finish of 2 more threads\n",
      "2020-06-20 17:06:14,506 : INFO : worker thread finished; awaiting finish of 1 more threads\n",
      "2020-06-20 17:06:14,508 : INFO : worker thread finished; awaiting finish of 0 more threads\n",
      "2020-06-20 17:06:14,509 : INFO : EPOCH - 35 : training on 58152 raw words (42753 effective words) took 0.1s, 452952 effective words/s\n",
      "2020-06-20 17:06:14,599 : INFO : worker thread finished; awaiting finish of 2 more threads\n",
      "2020-06-20 17:06:14,605 : INFO : worker thread finished; awaiting finish of 1 more threads\n",
      "2020-06-20 17:06:14,609 : INFO : worker thread finished; awaiting finish of 0 more threads\n",
      "2020-06-20 17:06:14,610 : INFO : EPOCH - 36 : training on 58152 raw words (42708 effective words) took 0.1s, 441483 effective words/s\n",
      "2020-06-20 17:06:14,693 : INFO : worker thread finished; awaiting finish of 2 more threads\n",
      "2020-06-20 17:06:14,695 : INFO : worker thread finished; awaiting finish of 1 more threads\n",
      "2020-06-20 17:06:14,696 : INFO : worker thread finished; awaiting finish of 0 more threads\n",
      "2020-06-20 17:06:14,698 : INFO : EPOCH - 37 : training on 58152 raw words (42699 effective words) took 0.1s, 504488 effective words/s\n",
      "2020-06-20 17:06:14,780 : INFO : worker thread finished; awaiting finish of 2 more threads\n",
      "2020-06-20 17:06:14,782 : INFO : worker thread finished; awaiting finish of 1 more threads\n",
      "2020-06-20 17:06:14,783 : INFO : worker thread finished; awaiting finish of 0 more threads\n",
      "2020-06-20 17:06:14,784 : INFO : EPOCH - 38 : training on 58152 raw words (42726 effective words) took 0.1s, 519902 effective words/s\n",
      "2020-06-20 17:06:14,866 : INFO : worker thread finished; awaiting finish of 2 more threads\n",
      "2020-06-20 17:06:14,867 : INFO : worker thread finished; awaiting finish of 1 more threads\n",
      "2020-06-20 17:06:14,873 : INFO : worker thread finished; awaiting finish of 0 more threads\n",
      "2020-06-20 17:06:14,873 : INFO : EPOCH - 39 : training on 58152 raw words (42613 effective words) took 0.1s, 501028 effective words/s\n",
      "2020-06-20 17:06:14,954 : INFO : worker thread finished; awaiting finish of 2 more threads\n",
      "2020-06-20 17:06:14,958 : INFO : worker thread finished; awaiting finish of 1 more threads\n",
      "2020-06-20 17:06:14,959 : INFO : worker thread finished; awaiting finish of 0 more threads\n",
      "2020-06-20 17:06:14,960 : INFO : EPOCH - 40 : training on 58152 raw words (42588 effective words) took 0.1s, 516304 effective words/s\n",
      "2020-06-20 17:06:14,961 : INFO : training on a 2326080 raw words (1707459 effective words) took 4.2s, 405767 effective words/s\n"
     ]
    }
   ],
   "source": [
    "model.train(train_corpus, total_examples=model.corpus_count, epochs=model.epochs)"
   ]
  },
  {
   "cell_type": "code",
   "execution_count": 15,
   "metadata": {},
   "outputs": [
    {
     "name": "stdout",
     "output_type": "stream",
     "text": [
      "[ 0.33954978  0.04244035 -0.30921423  0.04329999 -0.0840277  -0.03804308\n",
      " -0.04278402  0.23141922 -0.14612015 -0.12044571 -0.02605527 -0.25242537\n",
      " -0.06443211  0.03825762  0.00154747 -0.01814181  0.02936267 -0.27728596\n",
      "  0.07903276 -0.18002619 -0.06568008 -0.05228603 -0.05322193 -0.15190074\n",
      " -0.01438893  0.07536315 -0.14434811  0.00091956  0.02324466  0.10087248\n",
      " -0.23382713  0.09321272 -0.1952511   0.05804209  0.03860511 -0.07329278\n",
      "  0.1710772   0.01061869 -0.02081902 -0.09212127 -0.01840398  0.02726634\n",
      "  0.32717833 -0.17409067  0.06257916  0.06532221  0.20677653  0.02145961\n",
      " -0.0140743   0.03187575]\n"
     ]
    }
   ],
   "source": [
    "vector = model.infer_vector(['only', 'you', 'can', 'prevent', 'forest', 'fires'])\n",
    "print(vector)"
   ]
  },
  {
   "cell_type": "code",
   "execution_count": 16,
   "metadata": {},
   "outputs": [
    {
     "name": "stderr",
     "output_type": "stream",
     "text": [
      "2020-06-20 17:07:31,811 : INFO : precomputing L2-norms of doc weight vectors\n"
     ]
    }
   ],
   "source": [
    "ranks = []\n",
    "second_ranks = []\n",
    "for doc_id in range(len(train_corpus)):\n",
    "    inferred_vector = model.infer_vector(train_corpus[doc_id].words)\n",
    "    sims = model.docvecs.most_similar([inferred_vector], topn=len(model.docvecs))\n",
    "    rank = [docid for docid, sim in sims].index(doc_id)\n",
    "    ranks.append(rank)\n",
    "\n",
    "    second_ranks.append(sims[1])"
   ]
  },
  {
   "cell_type": "code",
   "execution_count": 17,
   "metadata": {},
   "outputs": [
    {
     "name": "stdout",
     "output_type": "stream",
     "text": [
      "Counter({0: 292, 1: 8})\n"
     ]
    }
   ],
   "source": [
    "import collections\n",
    "\n",
    "counter = collections.Counter(ranks)\n",
    "print(counter)"
   ]
  },
  {
   "cell_type": "code",
   "execution_count": 18,
   "metadata": {},
   "outputs": [
    {
     "name": "stdout",
     "output_type": "stream",
     "text": [
      "Document (299): «australia will take on france in the doubles rubber of the davis cup tennis final today with the tie levelled at wayne arthurs and todd woodbridge are scheduled to lead australia in the doubles against cedric pioline and fabrice santoro however changes can be made to the line up up to an hour before the match and australian team captain john fitzgerald suggested he might do just that we ll make team appraisal of the whole situation go over the pros and cons and make decision french team captain guy forget says he will not make changes but does not know what to expect from australia todd is the best doubles player in the world right now so expect him to play he said would probably use wayne arthurs but don know what to expect really pat rafter salvaged australia davis cup campaign yesterday with win in the second singles match rafter overcame an arm injury to defeat french number one sebastien grosjean in three sets the australian says he is happy with his form it not very pretty tennis there isn too many consistent bounces you are playing like said bit of classic old grass court rafter said rafter levelled the score after lleyton hewitt shock five set loss to nicholas escude in the first singles rubber but rafter says he felt no added pressure after hewitt defeat knew had good team to back me up even if we were down he said knew could win on the last day know the boys can win doubles so even if we were down still feel we are good enough team to win and vice versa they are good enough team to beat us as well»\n",
      "\n",
      "SIMILAR/DISSIMILAR DOCS PER MODEL Doc2Vec(dm/m,d50,n5,w5,mc2,s0.001,t3):\n",
      "\n",
      "MOST (299, 0.9396265149116516): «australia will take on france in the doubles rubber of the davis cup tennis final today with the tie levelled at wayne arthurs and todd woodbridge are scheduled to lead australia in the doubles against cedric pioline and fabrice santoro however changes can be made to the line up up to an hour before the match and australian team captain john fitzgerald suggested he might do just that we ll make team appraisal of the whole situation go over the pros and cons and make decision french team captain guy forget says he will not make changes but does not know what to expect from australia todd is the best doubles player in the world right now so expect him to play he said would probably use wayne arthurs but don know what to expect really pat rafter salvaged australia davis cup campaign yesterday with win in the second singles match rafter overcame an arm injury to defeat french number one sebastien grosjean in three sets the australian says he is happy with his form it not very pretty tennis there isn too many consistent bounces you are playing like said bit of classic old grass court rafter said rafter levelled the score after lleyton hewitt shock five set loss to nicholas escude in the first singles rubber but rafter says he felt no added pressure after hewitt defeat knew had good team to back me up even if we were down he said knew could win on the last day know the boys can win doubles so even if we were down still feel we are good enough team to win and vice versa they are good enough team to beat us as well»\n",
      "\n",
      "SECOND-MOST (104, 0.8083493113517761): «australian cricket captain steve waugh has supported fast bowler brett lee after criticism of his intimidatory bowling to the south african tailenders in the first test in adelaide earlier this month lee was fined for giving new zealand tailender shane bond an unsportsmanlike send off during the third test in perth waugh says tailenders should not be protected from short pitched bowling these days you re earning big money you ve got responsibility to learn how to bat he said mean there no times like years ago when it was not professional and sort of bowlers code these days you re professional our batsmen work very hard at their batting and expect other tailenders to do likewise meanwhile waugh says his side will need to guard against complacency after convincingly winning the first test by runs waugh says despite the dominance of his side in the first test south africa can never be taken lightly it only one test match out of three or six whichever way you want to look at it so there lot of work to go he said but it nice to win the first battle definitely it gives us lot of confidence going into melbourne you know the big crowd there we love playing in front of the boxing day crowd so that will be to our advantage as well south africa begins four day match against new south wales in sydney on thursday in the lead up to the boxing day test veteran fast bowler allan donald will play in the warm up match and is likely to take his place in the team for the second test south african captain shaun pollock expects much better performance from his side in the melbourne test we still believe that we didn play to our full potential so if we can improve on our aspects the output we put out on the field will be lot better and we still believe we have side that is good enough to beat australia on our day he said»\n",
      "\n",
      "MEDIAN (151, 0.2767862379550934): «senior construction forestry mining and energy union cfmeu officials giving evidence at the royal commission into the building industry have been overwhelmed by support from union members about construction workers have walked off the job for the third day to demonstrate outside the commission venue mounted police escorted the protesters from melbourne city square to collins place morning traffic ground to halt at the intersection of russell and collins streets when the crowd stopped to chant union slogans cfmeu victorian secretary martin kingham says he has been astounded by the strong support shown by union members on each day of the hearings he maintains the union has been treated unfairly as it faces allegations of intimidation and using standover tactics on work sites mr kingham is currently giving evidence before the commission it is the last day of hearings before the christmas break the labor leader simon crean says senior labor figures bob hawke and neville wran will be used to help modernise the party labor national executive is meeting in canberra mr crean will put his views on the changes labor needs to make the executive is expected to ask mr hawke and mr wran to oversee the process mr crean says they know what needs to be done bob hawke and neville wran understood the importance of modernising the party and that why they were successful leaders of the country sure we don need to teach them to suck eggs what want them to do is to give us guidance as to how we can bring the new approach to labor in to enable us to properly present and gain the confidence of the majority of the australian people the opposition leader said»\n",
      "\n",
      "LEAST (243, -0.09050381183624268): «four afghan factions have reached agreement on an interim cabinet during talks in germany the united nations says the administration which will take over from december will be headed by the royalist anti taliban commander hamed karzai it concludes more than week of negotiations outside bonn and is aimed at restoring peace and stability to the war ravaged country the year old former deputy foreign minister who is currently battling the taliban around the southern city of kandahar is an ally of the exiled afghan king mohammed zahir shah he will serve as chairman of an interim authority that will govern afghanistan for six month period before loya jirga or grand traditional assembly of elders in turn appoints an month transitional government meanwhile united states marines are now reported to have been deployed in eastern afghanistan where opposition forces are closing in on al qaeda soldiers reports from the area say there has been gun battle between the opposition and al qaeda close to the tora bora cave complex where osama bin laden is thought to be hiding in the south of the country american marines are taking part in patrols around the air base they have secured near kandahar but are unlikely to take part in any assault on the city however the chairman of the joint chiefs of staff general richard myers says they are prepared for anything they are prepared for engagements they re robust fighting force and they re absolutely ready to engage if that required he said»\n",
      "\n"
     ]
    }
   ],
   "source": [
    "print('Document ({}): «{}»\\n'.format(doc_id, ' '.join(train_corpus[doc_id].words)))\n",
    "print(u'SIMILAR/DISSIMILAR DOCS PER MODEL %s:\\n' % model)\n",
    "for label, index in [('MOST', 0), ('SECOND-MOST', 1), ('MEDIAN', len(sims)//2), ('LEAST', len(sims) - 1)]:\n",
    "    print(u'%s %s: «%s»\\n' % (label, sims[index], ' '.join(train_corpus[sims[index][0]].words)))"
   ]
  },
  {
   "cell_type": "code",
   "execution_count": 19,
   "metadata": {},
   "outputs": [
    {
     "name": "stdout",
     "output_type": "stream",
     "text": [
      "Train Document (215): «jason stoltenberg will become the new coach of world tennis number one lleyton hewitt after coach darren cahill decided to end his contract with the talented year old darren cahill started officially coaching lleyton hewitt in since then the young south australian has risen to be the world top male player us open and davis cup champion the breakup of the relationship was confirmed in statement released by hewitt managers late this morning in it cahill says it has been rewarding three years and he is confident that hewitt will not skip beat hewitt says he is grateful for the guidance he has been given by cahill and that stoltenberg will provide him with invaluable experience and dedication which he is quite enthusiastic about stoltenberg says he looks forward to helping hewitt evolve his game further the former wimbledon semi finalist will travel full time with hewitt on the tennis tour they will begin working together after christmas with their first tournament together coming in january the hopman cup in perth»\n",
      "\n",
      "Similar Document (17, 0.8459407091140747): «spain has begun its hopman cup campaign in perth with victory over argentina arantxa sanchez vicario and tommy robredoboth won their singles matches and then teamed to win the mixed doubles sanchez vicario says she is hoping to win her second hopman cup title after winning the tournament with her brother emilio in it would be very nice to start the year off and as say it always tough but it very good start for me and looking forward with tommy to see if we can be the champions again she said today the united states will play france meanwhile world number one lleyton hewitt says he will not be putting pressure on himself to win next month australian tennis open in melbourne hewitt yesterday teamed with fellow australian alicia molik to beat switzerland in their opening tie at the hopman cup in perth hewitt says his first objective will be to reach the second week of the grand slam event think if play my best tennis and give per cent no matter who play think in with good chance of getting through to the second week and if that happens then most times in grand slam it sort of anyone tournament from there he said»\n",
      "\n"
     ]
    }
   ],
   "source": [
    "# Pick a random document from the corpus and infer a vector from the model\n",
    "import random\n",
    "doc_id = random.randint(0, len(train_corpus) - 1)\n",
    "\n",
    "# Compare and print the second-most-similar document\n",
    "print('Train Document ({}): «{}»\\n'.format(doc_id, ' '.join(train_corpus[doc_id].words)))\n",
    "sim_id = second_ranks[doc_id]\n",
    "print('Similar Document {}: «{}»\\n'.format(sim_id, ' '.join(train_corpus[sim_id[0]].words)))"
   ]
  },
  {
   "cell_type": "code",
   "execution_count": 21,
   "metadata": {},
   "outputs": [
    {
     "name": "stdout",
     "output_type": "stream",
     "text": [
      "Test Document (30): «police are combing through videotapes trying to spot the gunman dressed in black who shot year old man to death at downtown massage parlour the victim was hit in the stomach and upper body and died about hours later in hospital the woman was not hurt police urged business owners to turn over any security camera videotapes they might have that recorded people on the street at the time several such videos are now being reviewed»\n",
      "\n",
      "SIMILAR/DISSIMILAR DOCS PER MODEL Doc2Vec(dm/m,d50,n5,w5,mc2,s0.001,t3):\n",
      "\n",
      "MOST (62, 0.8035371899604797): «japanese officials say their coast guard has sunk an unidentified boat after an exchange of fire in the east china sea the bbc reports the unidentified boat which resembled fishing trawler was spotted cruising off south western japan by naval reconnaissance plane more than japanese coastguard vessels were mobilised to give chase japanese officials said warning shots were fired on several occasions but the boat ignored orders to stop and continued heading west towards china the officials said crew members appeared on deck brandishing metal pipes and several hours after the chase began there was an exchange of gunfire in which two japanese sailors were injured the patrol boats then sank the vessel and its man crew was thrown into the sea some reports said it resembled north korean spy boat but there was also speculation it could have held chinese smugglers meanwhile the coast guard is continuing efforts to recover crew members six of the on board have so far been recovered from the ocean although rough weather is said to be hampering rescue efforts»\n",
      "\n",
      "MEDIAN (207, 0.39604994654655457): «geoff huegill has continued his record breaking ways at the world cup short course swimming in melbourne bettering the australian record in the metres butterfly huegill beat fellow australian michael klim backing up after last night setting world record in the metres butterfly»\n",
      "\n",
      "LEAST (245, 0.04826202243566513): «federal treasurer peter costello has warned continued economic growth in australia is dependent on an uncertain world outlook the latest figures show the economy grew by per cent in the september quarter mr costello is stressing the seriousness of the current global economic downturn as serious as anything we ve seen in the last two decades he said both he and the reserve bank governor ian macfarlane believe the timing of any pickup is unclear mr costello is hopeful about the united states prospects next year and says pickup sooner rather than later in the year could keep australia in strong position think with every confidence the december quarter is going to be strong if the us comes back we might defy again what has happened in the world he said shadow treasurer bob mcmullan says the treasurer is left relying on things out of his control all the treasurer has got in plan for is the hope the american economy will pick up in time he said he says the government has limited its own ability to respond to the international shocks by spending too much this year»\n",
      "\n"
     ]
    }
   ],
   "source": [
    "# Pick a random document from the test corpus and infer a vector from the model\n",
    "doc_id = random.randint(0, len(test_corpus) - 1)\n",
    "inferred_vector = model.infer_vector(test_corpus[doc_id])\n",
    "sims = model.docvecs.most_similar([inferred_vector], topn=len(model.docvecs))\n",
    "\n",
    "# Compare and print the most/median/least similar documents from the train corpus\n",
    "print('Test Document ({}): «{}»\\n'.format(doc_id, ' '.join(test_corpus[doc_id])))\n",
    "print(u'SIMILAR/DISSIMILAR DOCS PER MODEL %s:\\n' % model)\n",
    "for label, index in [('MOST', 0), ('MEDIAN', len(sims)//2), ('LEAST', len(sims) - 1)]:\n",
    "    print(u'%s %s: «%s»\\n' % (label, sims[index], ' '.join(train_corpus[sims[index][0]].words)))"
   ]
  },
  {
   "cell_type": "code",
   "execution_count": 10,
   "metadata": {},
   "outputs": [],
   "source": [
    "body_corpus = [str(doc) for doc in df.body.values]"
   ]
  },
  {
   "cell_type": "code",
   "execution_count": 52,
   "metadata": {},
   "outputs": [
    {
     "data": {
      "text/plain": [
       "' \\n\\nThis all happened less than an hour ago.\\n\\nI was at a bar I frequent and talking to some people I know, suddenly I feel someone from behind me hugging and starting to grind against me. I know a lot of people at the bar, and assume it\\'s a friend of mine, but when I look down at the shoes I do not recognize them. I look back and I see a dude I do not know, nor have I ever seen. He looks back at me, with horror in his eyes, because I\\'m a dude too... I feel an urge of rage inside me and shove him in the chest with my elbow so I can get away.\\n\\nHe goes to his table and I go back to mine. I was with my roommate and his girlfriend. They asked what happened and I told them, then I see the guy who hugged me looking around for me. Him and two of his friends come up to us and he says:  \\n\"I just wanted to apologize, I thought you were someone else.\"\\n\\nI respond, \"I understand, just check before you hug people. Now, please fuck off\"\\n\\nHe repeats his last statement, so do I. This happens one more time and at this point his friends have surrounded me, my roommate is on his feet and I have left my beer at the table. His friend goes in my face and says.  \\n\"He just wanted to apologize, you really shouldn\\'t be yelling at us\" and starts waiving his finger at me.\\n\\nWe are at a rock bar, it\\'s loud, I was speaking louder just to be sure I am heard.\\n\\nThe manager knows me so he comes asking me what happened. I explain the situation and he speaks with them then he tells me.  \\n\"They want to say sorry, can you guys shake hand?\"\\n\\n\"Yeah sure, I just want them to leave me alone.\"  \\nHonestly I didn\\'t even want to touch the guy, but whatever. We shake hands and they go away.\\n\\nMe and my roommate look at their table and there\\'s no one that looks anything like me. So, reddit, did I overreact? Am I The Asshole here?'"
      ]
     },
     "execution_count": 52,
     "metadata": {},
     "output_type": "execute_result"
    }
   ],
   "source": [
    "body_corpus[0]"
   ]
  },
  {
   "cell_type": "code",
   "execution_count": 53,
   "metadata": {},
   "outputs": [],
   "source": [
    "processed_corpus = [pre_process(doc) for doc in body_corpus]"
   ]
  },
  {
   "cell_type": "code",
   "execution_count": 54,
   "metadata": {},
   "outputs": [
    {
     "data": {
      "text/plain": [
       "\"dad driving family car went gas station asked 20 91. attendant even repeated request said `` yes 20 91 '' paid cash attendant went station deal transaction came noticed putting 89 gas nozzle car instead immediately tried tell paid 91 n't paying attention yelled bit louder another employee look like manager pulled nozzle time 5 give take 89 pumped car manager went station deal error started pumping 91. finished surprised got \\\\~ 15 91. told manager `` wanted 20 91 '' said `` paid 20 gas got 20 gas '' said `` n't ask 89. employee one gave something n't want pay someone else 's mistake '' kept arguing back forth minute dad said let 's go since clear getting nowhere aita wanting 5 91 even though fact get 20 worth gas edited formatting edit 2 guess 've noted one apologized putting wrong gas manager dismissive might seem like big deal dad one like 91 dislike mixing different octane grade gas tank yes employee human make mistake 's done done would 've taken either apology 5 91. edit 3 say argue 's like yelled guy talking back forth sternly\""
      ]
     },
     "execution_count": 54,
     "metadata": {},
     "output_type": "execute_result"
    }
   ],
   "source": [
    "processed_corpus[3]"
   ]
  },
  {
   "cell_type": "code",
   "execution_count": 51,
   "metadata": {},
   "outputs": [],
   "source": [
    "body_corpus = [pre_process3(str(doc)) for doc in df.body.values]"
   ]
  },
  {
   "cell_type": "code",
   "execution_count": 52,
   "metadata": {},
   "outputs": [
    {
     "data": {
      "text/plain": [
       "10000"
      ]
     },
     "execution_count": 52,
     "metadata": {},
     "output_type": "execute_result"
    }
   ],
   "source": [
    "len(body_corpus)"
   ]
  },
  {
   "cell_type": "code",
   "execution_count": 63,
   "metadata": {},
   "outputs": [
    {
     "data": {
      "text/plain": [
       "[\"'s\",\n",
       " 'seattle',\n",
       " 'matters',\n",
       " 'seems',\n",
       " 'people',\n",
       " 'lot',\n",
       " 'casual',\n",
       " 'eating',\n",
       " 'steakhouse',\n",
       " 'like',\n",
       " 'family',\n",
       " 'like',\n",
       " 'anniversary',\n",
       " 'wedding',\n",
       " 'something',\n",
       " 'bunch',\n",
       " 'people',\n",
       " 'dressed',\n",
       " 'obviously',\n",
       " 'big',\n",
       " 'get',\n",
       " \"n't\",\n",
       " 'think',\n",
       " 'much',\n",
       " 'time',\n",
       " 'talking',\n",
       " 'people',\n",
       " 'online',\n",
       " 'said',\n",
       " 'like',\n",
       " 'basic',\n",
       " 'responsibility',\n",
       " 'dress',\n",
       " 'least',\n",
       " 'little',\n",
       " 'places',\n",
       " 'atmosphere',\n",
       " 'big',\n",
       " 'part',\n",
       " 'experience',\n",
       " \"'m\",\n",
       " 'kind',\n",
       " 'ruining',\n",
       " 'also',\n",
       " 'shows',\n",
       " 'lack',\n",
       " \"'respect\",\n",
       " 'people',\n",
       " 'around',\n",
       " 'aita',\n",
       " 'totally',\n",
       " \"n't\",\n",
       " 'get',\n",
       " 'people',\n",
       " 'care',\n",
       " 'atmosphere',\n",
       " \"'m\",\n",
       " 'food',\n",
       " 'care',\n",
       " \"'m\",\n",
       " 'respecting',\n",
       " '...',\n",
       " \"'m\",\n",
       " 'asshole',\n",
       " \"'ll\",\n",
       " 'ordering',\n",
       " 'food',\n",
       " 'ahead',\n",
       " 'time',\n",
       " 'leaving']"
      ]
     },
     "execution_count": 63,
     "metadata": {},
     "output_type": "execute_result"
    }
   ],
   "source": [
    "body_corpus[2]"
   ]
  },
  {
   "cell_type": "code",
   "execution_count": 32,
   "metadata": {},
   "outputs": [
    {
     "data": {
      "text/plain": [
       "10000"
      ]
     },
     "execution_count": 32,
     "metadata": {},
     "output_type": "execute_result"
    }
   ],
   "source": [
    "len(tagged_body_corpus)"
   ]
  },
  {
   "cell_type": "code",
   "execution_count": 11,
   "metadata": {},
   "outputs": [],
   "source": [
    "def adapt_corpus(corpus):\n",
    "    for i in range(len(corpus)):\n",
    "        tokens = gensim.utils.simple_preprocess(corpus[i])\n",
    "        yield gensim.models.doc2vec.TaggedDocument(tokens, [i])"
   ]
  },
  {
   "cell_type": "code",
   "execution_count": 12,
   "metadata": {},
   "outputs": [],
   "source": [
    "tagged_body_corpus = list(adapt_corpus(body_corpus))"
   ]
  },
  {
   "cell_type": "code",
   "execution_count": 13,
   "metadata": {},
   "outputs": [
    {
     "data": {
      "text/plain": [
       "TaggedDocument(words=['aita', 'for', 'not', 'wanting', 'to', 'help', 'the', 'bf', 'paint', 'boyfriend', 'just', 'bought', 'new', 'house', 'that', 'we', 'live', 'in', 'together', 'it', 'was', 'perfectly', 'move', 'in', 'ready', 'but', 'he', 'wanted', 'to', 'do', 'several', 'construction', 'projects', 'that', 'were', 'invasive', 'and', 'messy', 'as', 'result', 'the', 'space', 'is', 'quite', 'wreck', 'and', 'has', 'been', 'for', 'month', 'just', 'wrapped', 'week', 'long', 'contract', 'job', 'that', 'was', 'very', 'emotionally', 'and', 'physically', 'draining', 'during', 'the', 'time', 'that', 'was', 'on', 'this', 'contract', 'job', 'was', 'away', 'from', 'the', 'house', 'from', 'early', 'in', 'the', 'morning', 'until', 'very', 'late', 'into', 'the', 'evenings', 'and', 'even', 'spent', 'the', 'night', 'on', 'location', 'time', 'or', 'two', 'have', 'been', 'quite', 'exhausted', 'guess', 'boyfriend', 'has', 'used', 'this', 'time', 'to', 'clean', 'up', 'the', 'mess', 'and', 'get', 'things', 'done', 'connected', 'the', 'washer', 'and', 'dryer', 'started', 'painting', 'ceilings', 'boyfriend', 'and', 'carved', 'out', 'little', 'bit', 'of', 'time', 'to', 'have', 'tea', 'and', 'spend', 'time', 'together', 'during', 'this', 'job', 'it', 'was', 'then', 'that', 'he', 'expressed', 'that', 'he', 'feels', 'that', 'am', 'running', 'myself', 'ragged', 'and', 'then', 'running', 'out', 'of', 'energy', 'for', 'our', 'relationship', 'expressed', 'that', 'am', 'very', 'tired', 'but', 'can', 'see', 'the', 'light', 'at', 'the', 'end', 'of', 'the', 'tunnel', 'expressed', 'that', 'needed', 'to', 'complete', 'some', 'things', 'get', 'my', 'bearings', 'and', 'then', 'have', 'more', 'time', 'to', 'focus', 'on', 'house', 'things', 'the', 'contract', 'job', 'ended', 'today', 'and', 'will', 'be', 'getting', 'an', 'extended', 'break', 'from', 'my', 'actual', 'job', 'in', 'about', 'weeks', 'thought', 'that', 'boyfriend', 'understood', 'my', 'level', 'of', 'exhaustion', 'until', 'he', 'asked', 'me', 'to', 'please', 'come', 'home', 'from', 'the', 'end', 'of', 'this', 'contract', 'job', 'today', 'and', 'tape', 'off', 'the', 'ceilings', 'so', 'that', 'he', 'we', 'could', 'paint', 'tonight', 'initially', 'expressed', 'that', 'knew', 'would', 'be', 'tired', 'and', 'he', 'said', 'that', 'didn', 'need', 'to', 'tape', 'off', 'the', 'ceilings', 'felt', 'guilty', 'and', 'unsupportive', 'so', 'begrudgingly', 'said', 'do', 'it', 'he', 'texted', 'me', 'today', 'as', 'am', 'running', 'around', 'for', 'this', 'job', 'and', 'suggested', 'that', 'tonight', 'we', 'make', 'dinner', 'together', 'our', 'stove', 'is', 'not', 'even', 'plugged', 'in', 'our', 'dishes', 'are', 'not', 'unpacked', 'the', 'cabinet', 'doors', 'aren', 'even', 'on', 'drink', 'wine', 'and', 'paint', 'the', 'ceilings', 'was', 'initially', 'pretty', 'pissed', 'because', 'we', 'had', 'just', 'discussed', 'how', 'taxing', 'things', 'had', 'been', 'and', 'that', 'was', 'just', 'few', 'weeks', 'away', 'from', 'having', 'more', 'time', 'and', 'was', 'annoyed', 'that', 'he', 'couldn', 'wait', 'single', 'day', 'to', 'start', 'working', 'on', 'projects', 'and', 'annoyed', 'that', 'this', 'seemed', 'more', 'important', 'than', 'spending', 'quality', 'time', 'together', 'though', 'we', 'would', 'be', 'spending', 'time', 'together', 'while', 'painting', 'ceilings', 'didn', 'say', 'anything', 'about', 'it', 'because', 'thought', 'that', 'was', 'maybe', 'being', 'overly', 'emotional', 'or', 'difficult', 'but', 'when', 'he', 'got', 'home', 'was', 'pretty', 'upset', 'and', 'let', 'him', 'know', 'that', 'thought', 'he', 'was', 'being', 'pretty', 'unempathetic', 'by', 'piling', 'work', 'onto', 'my', 'plate', 'the', 'very', 'evening', 'had', 'wrapped', 'this', 'job', 'this', 'devolved', 'into', 'an', 'argument', 'when', 'all', 'wanted', 'was', 'an', 'evening', 'off', 'and', 'for', 'him', 'to', 'acknowledge', 'that', 'he', 'had', 'been', 'kind', 'of', 'insensitive', 'am', 'the', 'asshole', 'here'], tags=[78])"
      ]
     },
     "execution_count": 13,
     "metadata": {},
     "output_type": "execute_result"
    }
   ],
   "source": [
    "tagged_body_corpus[78]"
   ]
  },
  {
   "cell_type": "code",
   "execution_count": 55,
   "metadata": {},
   "outputs": [],
   "source": [
    "tagged_processed_corpus = list(adapt_corpus(processed_corpus))"
   ]
  },
  {
   "cell_type": "code",
   "execution_count": 56,
   "metadata": {},
   "outputs": [
    {
     "data": {
      "text/plain": [
       "TaggedDocument(words=['seattle', 'matter', 'seems', 'people', 'lot', 'casual', 'eating', 'steakhouse', 'like', 'family', 'like', 'anniversary', 'wedding', 'something', 'bunch', 'people', 'dressed', 'obviously', 'big', 'get', 'think', 'much', 'time', 'talking', 'people', 'online', 'said', 'like', 'basic', 'responsibility', 'dress', 'least', 'little', 'place', 'atmosphere', 'big', 'part', 'experience', 'kind', 'ruining', 'also', 'show', 'lack', 'respect', 'people', 'around', 'aita', 'totally', 'get', 'people', 'care', 'atmosphere', 'food', 'care', 'respecting', 'asshole', 'll', 'ordering', 'food', 'ahead', 'time', 'leaving'], tags=[2])"
      ]
     },
     "execution_count": 56,
     "metadata": {},
     "output_type": "execute_result"
    }
   ],
   "source": [
    "tagged_processed_corpus[2]"
   ]
  },
  {
   "cell_type": "code",
   "execution_count": null,
   "metadata": {},
   "outputs": [],
   "source": []
  },
  {
   "cell_type": "code",
   "execution_count": 14,
   "metadata": {},
   "outputs": [
    {
     "name": "stderr",
     "output_type": "stream",
     "text": [
      "2020-06-24 18:34:25,471 : WARNING : consider setting layer size to a multiple of 4 for greater performance\n"
     ]
    }
   ],
   "source": [
    "model = gensim.models.doc2vec.Doc2Vec(vector_size=50, min_count=2, epochs=20)"
   ]
  },
  {
   "cell_type": "code",
   "execution_count": 15,
   "metadata": {},
   "outputs": [
    {
     "name": "stderr",
     "output_type": "stream",
     "text": [
      "2020-06-24 18:34:27,256 : INFO : collecting all words and their counts\n",
      "2020-06-24 18:34:27,258 : INFO : PROGRESS: at example #0, processed 0 words (0/s), 0 word types, 0 tags\n",
      "2020-06-24 18:34:28,024 : INFO : collected 30512 word types and 10000 unique tags from a corpus of 10000 examples and 3060122 words\n",
      "2020-06-24 18:34:28,025 : INFO : Loading a fresh vocabulary\n",
      "2020-06-24 18:34:28,101 : INFO : effective_min_count=2 retains 19712 unique words (64% of original 30512, drops 10800)\n",
      "2020-06-24 18:34:28,102 : INFO : effective_min_count=2 leaves 3049322 word corpus (99% of original 3060122, drops 10800)\n",
      "2020-06-24 18:34:28,260 : INFO : deleting the raw counts dictionary of 30512 items\n",
      "2020-06-24 18:34:28,263 : INFO : sample=0.001 downsamples 61 most-common words\n",
      "2020-06-24 18:34:28,264 : INFO : downsampling leaves estimated 2253238 word corpus (73.9% of prior 3049322)\n",
      "2020-06-24 18:34:28,357 : INFO : estimated required memory for 19712 words and 50 dimensions: 19740800 bytes\n",
      "2020-06-24 18:34:28,358 : INFO : resetting layer weights\n"
     ]
    }
   ],
   "source": [
    "model.build_vocab(tagged_body_corpus)"
   ]
  },
  {
   "cell_type": "code",
   "execution_count": 16,
   "metadata": {},
   "outputs": [
    {
     "data": {
      "text/plain": [
       "269"
      ]
     },
     "execution_count": 16,
     "metadata": {},
     "output_type": "execute_result"
    }
   ],
   "source": [
    "model.wv.vocab['bitch'].count\n",
    "#this counts how many times the word 'penalty' showed up in the vocabulary we created with the last command"
   ]
  },
  {
   "cell_type": "code",
   "execution_count": 17,
   "metadata": {},
   "outputs": [
    {
     "name": "stderr",
     "output_type": "stream",
     "text": [
      "2020-06-24 18:35:31,296 : INFO : training model with 3 workers on 19712 vocabulary and 50 features, using sg=0 hs=0 sample=0.001 negative=5 window=5\n",
      "2020-06-24 18:35:32,350 : INFO : EPOCH 1 - PROGRESS: at 16.07% examples, 355373 words/s, in_qsize 6, out_qsize 0\n",
      "2020-06-24 18:35:33,355 : INFO : EPOCH 1 - PROGRESS: at 34.72% examples, 386769 words/s, in_qsize 4, out_qsize 1\n",
      "2020-06-24 18:35:34,371 : INFO : EPOCH 1 - PROGRESS: at 53.47% examples, 398190 words/s, in_qsize 5, out_qsize 0\n",
      "2020-06-24 18:35:35,373 : INFO : EPOCH 1 - PROGRESS: at 74.33% examples, 415845 words/s, in_qsize 5, out_qsize 0\n",
      "2020-06-24 18:35:36,397 : INFO : EPOCH 1 - PROGRESS: at 92.34% examples, 412063 words/s, in_qsize 5, out_qsize 0\n",
      "2020-06-24 18:35:36,728 : INFO : worker thread finished; awaiting finish of 2 more threads\n",
      "2020-06-24 18:35:36,737 : INFO : worker thread finished; awaiting finish of 1 more threads\n",
      "2020-06-24 18:35:36,755 : INFO : worker thread finished; awaiting finish of 0 more threads\n",
      "2020-06-24 18:35:36,757 : INFO : EPOCH - 1 : training on 3060122 raw words (2262640 effective words) took 5.4s, 416806 effective words/s\n",
      "2020-06-24 18:35:37,761 : INFO : EPOCH 2 - PROGRESS: at 21.46% examples, 486496 words/s, in_qsize 5, out_qsize 0\n",
      "2020-06-24 18:35:38,788 : INFO : EPOCH 2 - PROGRESS: at 44.51% examples, 497876 words/s, in_qsize 5, out_qsize 0\n",
      "2020-06-24 18:35:39,795 : INFO : EPOCH 2 - PROGRESS: at 67.04% examples, 499813 words/s, in_qsize 5, out_qsize 0\n",
      "2020-06-24 18:35:40,797 : INFO : EPOCH 2 - PROGRESS: at 90.75% examples, 508432 words/s, in_qsize 5, out_qsize 0\n",
      "2020-06-24 18:35:41,174 : INFO : worker thread finished; awaiting finish of 2 more threads\n",
      "2020-06-24 18:35:41,195 : INFO : worker thread finished; awaiting finish of 1 more threads\n",
      "2020-06-24 18:35:41,200 : INFO : worker thread finished; awaiting finish of 0 more threads\n",
      "2020-06-24 18:35:41,201 : INFO : EPOCH - 2 : training on 3060122 raw words (2262956 effective words) took 4.4s, 509639 effective words/s\n",
      "2020-06-24 18:35:42,216 : INFO : EPOCH 3 - PROGRESS: at 23.13% examples, 517705 words/s, in_qsize 5, out_qsize 0\n",
      "2020-06-24 18:35:43,223 : INFO : EPOCH 3 - PROGRESS: at 45.43% examples, 510926 words/s, in_qsize 5, out_qsize 0\n",
      "2020-06-24 18:35:44,227 : INFO : EPOCH 3 - PROGRESS: at 67.73% examples, 506660 words/s, in_qsize 5, out_qsize 0\n",
      "2020-06-24 18:35:45,238 : INFO : EPOCH 3 - PROGRESS: at 90.75% examples, 509011 words/s, in_qsize 5, out_qsize 0\n",
      "2020-06-24 18:35:45,606 : INFO : worker thread finished; awaiting finish of 2 more threads\n",
      "2020-06-24 18:35:45,611 : INFO : worker thread finished; awaiting finish of 1 more threads\n",
      "2020-06-24 18:35:45,628 : INFO : worker thread finished; awaiting finish of 0 more threads\n",
      "2020-06-24 18:35:45,629 : INFO : EPOCH - 3 : training on 3060122 raw words (2263768 effective words) took 4.4s, 511634 effective words/s\n",
      "2020-06-24 18:35:46,657 : INFO : EPOCH 4 - PROGRESS: at 18.83% examples, 418167 words/s, in_qsize 5, out_qsize 0\n",
      "2020-06-24 18:35:47,674 : INFO : EPOCH 4 - PROGRESS: at 40.67% examples, 451671 words/s, in_qsize 5, out_qsize 0\n",
      "2020-06-24 18:35:48,680 : INFO : EPOCH 4 - PROGRESS: at 62.44% examples, 464339 words/s, in_qsize 5, out_qsize 0\n",
      "2020-06-24 18:35:49,685 : INFO : EPOCH 4 - PROGRESS: at 85.65% examples, 478051 words/s, in_qsize 5, out_qsize 0\n",
      "2020-06-24 18:35:50,278 : INFO : worker thread finished; awaiting finish of 2 more threads\n",
      "2020-06-24 18:35:50,286 : INFO : worker thread finished; awaiting finish of 1 more threads\n",
      "2020-06-24 18:35:50,298 : INFO : worker thread finished; awaiting finish of 0 more threads\n",
      "2020-06-24 18:35:50,299 : INFO : EPOCH - 4 : training on 3060122 raw words (2263435 effective words) took 4.7s, 485048 effective words/s\n",
      "2020-06-24 18:35:51,312 : INFO : EPOCH 5 - PROGRESS: at 23.14% examples, 518300 words/s, in_qsize 5, out_qsize 0\n",
      "2020-06-24 18:35:52,343 : INFO : EPOCH 5 - PROGRESS: at 47.02% examples, 522430 words/s, in_qsize 5, out_qsize 0\n",
      "2020-06-24 18:35:53,346 : INFO : EPOCH 5 - PROGRESS: at 70.33% examples, 521836 words/s, in_qsize 5, out_qsize 0\n",
      "2020-06-24 18:35:54,349 : INFO : EPOCH 5 - PROGRESS: at 93.33% examples, 521383 words/s, in_qsize 5, out_qsize 0\n",
      "2020-06-24 18:35:54,599 : INFO : worker thread finished; awaiting finish of 2 more threads\n",
      "2020-06-24 18:35:54,611 : INFO : worker thread finished; awaiting finish of 1 more threads\n",
      "2020-06-24 18:35:54,625 : INFO : worker thread finished; awaiting finish of 0 more threads\n",
      "2020-06-24 18:35:54,626 : INFO : EPOCH - 5 : training on 3060122 raw words (2262371 effective words) took 4.3s, 523163 effective words/s\n",
      "2020-06-24 18:35:55,637 : INFO : EPOCH 6 - PROGRESS: at 23.14% examples, 519436 words/s, in_qsize 5, out_qsize 0\n",
      "2020-06-24 18:35:56,638 : INFO : EPOCH 6 - PROGRESS: at 45.50% examples, 512974 words/s, in_qsize 5, out_qsize 0\n",
      "2020-06-24 18:35:57,640 : INFO : EPOCH 6 - PROGRESS: at 68.03% examples, 510602 words/s, in_qsize 5, out_qsize 0\n",
      "2020-06-24 18:35:58,640 : INFO : EPOCH 6 - PROGRESS: at 91.08% examples, 513362 words/s, in_qsize 5, out_qsize 0\n",
      "2020-06-24 18:35:59,009 : INFO : worker thread finished; awaiting finish of 2 more threads\n",
      "2020-06-24 18:35:59,022 : INFO : worker thread finished; awaiting finish of 1 more threads\n",
      "2020-06-24 18:35:59,030 : INFO : worker thread finished; awaiting finish of 0 more threads\n",
      "2020-06-24 18:35:59,031 : INFO : EPOCH - 6 : training on 3060122 raw words (2262499 effective words) took 4.4s, 513943 effective words/s\n",
      "2020-06-24 18:36:00,038 : INFO : EPOCH 7 - PROGRESS: at 22.79% examples, 514359 words/s, in_qsize 5, out_qsize 0\n",
      "2020-06-24 18:36:01,040 : INFO : EPOCH 7 - PROGRESS: at 46.10% examples, 520744 words/s, in_qsize 5, out_qsize 0\n",
      "2020-06-24 18:36:02,075 : INFO : EPOCH 7 - PROGRESS: at 69.66% examples, 517535 words/s, in_qsize 5, out_qsize 0\n",
      "2020-06-24 18:36:03,076 : INFO : EPOCH 7 - PROGRESS: at 92.67% examples, 518417 words/s, in_qsize 5, out_qsize 0\n",
      "2020-06-24 18:36:03,384 : INFO : worker thread finished; awaiting finish of 2 more threads\n",
      "2020-06-24 18:36:03,389 : INFO : worker thread finished; awaiting finish of 1 more threads\n",
      "2020-06-24 18:36:03,402 : INFO : worker thread finished; awaiting finish of 0 more threads\n",
      "2020-06-24 18:36:03,403 : INFO : EPOCH - 7 : training on 3060122 raw words (2262254 effective words) took 4.4s, 517829 effective words/s\n",
      "2020-06-24 18:36:04,417 : INFO : EPOCH 8 - PROGRESS: at 22.79% examples, 511222 words/s, in_qsize 5, out_qsize 0\n",
      "2020-06-24 18:36:05,435 : INFO : EPOCH 8 - PROGRESS: at 46.13% examples, 515168 words/s, in_qsize 5, out_qsize 0\n",
      "2020-06-24 18:36:06,438 : INFO : EPOCH 8 - PROGRESS: at 63.43% examples, 473734 words/s, in_qsize 6, out_qsize 0\n",
      "2020-06-24 18:36:07,471 : INFO : EPOCH 8 - PROGRESS: at 80.45% examples, 447834 words/s, in_qsize 5, out_qsize 0\n",
      "2020-06-24 18:36:08,482 : INFO : EPOCH 8 - PROGRESS: at 98.36% examples, 438746 words/s, in_qsize 5, out_qsize 0\n",
      "2020-06-24 18:36:08,567 : INFO : worker thread finished; awaiting finish of 2 more threads\n",
      "2020-06-24 18:36:08,594 : INFO : worker thread finished; awaiting finish of 1 more threads\n",
      "2020-06-24 18:36:08,607 : INFO : worker thread finished; awaiting finish of 0 more threads\n",
      "2020-06-24 18:36:08,608 : INFO : EPOCH - 8 : training on 3060122 raw words (2262791 effective words) took 5.2s, 435067 effective words/s\n",
      "2020-06-24 18:36:09,639 : INFO : EPOCH 9 - PROGRESS: at 15.40% examples, 339266 words/s, in_qsize 5, out_qsize 0\n",
      "2020-06-24 18:36:10,645 : INFO : EPOCH 9 - PROGRESS: at 37.57% examples, 417452 words/s, in_qsize 5, out_qsize 0\n",
      "2020-06-24 18:36:11,660 : INFO : EPOCH 9 - PROGRESS: at 58.49% examples, 435245 words/s, in_qsize 5, out_qsize 0\n",
      "2020-06-24 18:36:12,661 : INFO : EPOCH 9 - PROGRESS: at 81.43% examples, 454870 words/s, in_qsize 5, out_qsize 0\n",
      "2020-06-24 18:36:13,467 : INFO : worker thread finished; awaiting finish of 2 more threads\n",
      "2020-06-24 18:36:13,482 : INFO : worker thread finished; awaiting finish of 1 more threads\n",
      "2020-06-24 18:36:13,494 : INFO : worker thread finished; awaiting finish of 0 more threads\n",
      "2020-06-24 18:36:13,495 : INFO : EPOCH - 9 : training on 3060122 raw words (2262903 effective words) took 4.9s, 463312 effective words/s\n",
      "2020-06-24 18:36:14,504 : INFO : EPOCH 10 - PROGRESS: at 23.48% examples, 527398 words/s, in_qsize 5, out_qsize 0\n"
     ]
    },
    {
     "name": "stderr",
     "output_type": "stream",
     "text": [
      "2020-06-24 18:36:15,523 : INFO : EPOCH 10 - PROGRESS: at 46.44% examples, 519593 words/s, in_qsize 6, out_qsize 0\n",
      "2020-06-24 18:36:16,528 : INFO : EPOCH 10 - PROGRESS: at 67.41% examples, 502876 words/s, in_qsize 5, out_qsize 0\n",
      "2020-06-24 18:36:17,582 : INFO : EPOCH 10 - PROGRESS: at 84.68% examples, 468958 words/s, in_qsize 5, out_qsize 0\n",
      "2020-06-24 18:36:18,500 : INFO : worker thread finished; awaiting finish of 2 more threads\n",
      "2020-06-24 18:36:18,519 : INFO : worker thread finished; awaiting finish of 1 more threads\n",
      "2020-06-24 18:36:18,524 : INFO : worker thread finished; awaiting finish of 0 more threads\n",
      "2020-06-24 18:36:18,525 : INFO : EPOCH - 10 : training on 3060122 raw words (2263506 effective words) took 5.0s, 450194 effective words/s\n",
      "2020-06-24 18:36:19,538 : INFO : EPOCH 11 - PROGRESS: at 19.50% examples, 439301 words/s, in_qsize 5, out_qsize 0\n",
      "2020-06-24 18:36:20,560 : INFO : EPOCH 11 - PROGRESS: at 43.31% examples, 483090 words/s, in_qsize 5, out_qsize 0\n",
      "2020-06-24 18:36:21,570 : INFO : EPOCH 11 - PROGRESS: at 66.05% examples, 491813 words/s, in_qsize 5, out_qsize 0\n",
      "2020-06-24 18:36:22,584 : INFO : EPOCH 11 - PROGRESS: at 87.31% examples, 486672 words/s, in_qsize 4, out_qsize 1\n",
      "2020-06-24 18:36:23,297 : INFO : worker thread finished; awaiting finish of 2 more threads\n",
      "2020-06-24 18:36:23,317 : INFO : worker thread finished; awaiting finish of 1 more threads\n",
      "2020-06-24 18:36:23,335 : INFO : worker thread finished; awaiting finish of 0 more threads\n",
      "2020-06-24 18:36:23,336 : INFO : EPOCH - 11 : training on 3060122 raw words (2263218 effective words) took 4.8s, 470915 effective words/s\n",
      "2020-06-24 18:36:24,343 : INFO : EPOCH 12 - PROGRESS: at 19.50% examples, 442163 words/s, in_qsize 5, out_qsize 0\n",
      "2020-06-24 18:36:25,345 : INFO : EPOCH 12 - PROGRESS: at 42.62% examples, 481775 words/s, in_qsize 5, out_qsize 0\n",
      "2020-06-24 18:36:26,359 : INFO : EPOCH 12 - PROGRESS: at 65.35% examples, 490237 words/s, in_qsize 5, out_qsize 0\n",
      "2020-06-24 18:36:27,378 : INFO : EPOCH 12 - PROGRESS: at 80.78% examples, 452699 words/s, in_qsize 5, out_qsize 0\n",
      "2020-06-24 18:36:28,387 : INFO : EPOCH 12 - PROGRESS: at 97.40% examples, 436989 words/s, in_qsize 6, out_qsize 0\n",
      "2020-06-24 18:36:28,578 : INFO : worker thread finished; awaiting finish of 2 more threads\n",
      "2020-06-24 18:36:28,591 : INFO : worker thread finished; awaiting finish of 1 more threads\n",
      "2020-06-24 18:36:28,607 : INFO : worker thread finished; awaiting finish of 0 more threads\n",
      "2020-06-24 18:36:28,608 : INFO : EPOCH - 12 : training on 3060122 raw words (2263339 effective words) took 5.3s, 429693 effective words/s\n",
      "2020-06-24 18:36:29,611 : INFO : EPOCH 13 - PROGRESS: at 12.90% examples, 290228 words/s, in_qsize 5, out_qsize 0\n",
      "2020-06-24 18:36:30,617 : INFO : EPOCH 13 - PROGRESS: at 32.81% examples, 369330 words/s, in_qsize 5, out_qsize 0\n",
      "2020-06-24 18:36:31,633 : INFO : EPOCH 13 - PROGRESS: at 50.92% examples, 381884 words/s, in_qsize 5, out_qsize 0\n",
      "2020-06-24 18:36:32,636 : INFO : EPOCH 13 - PROGRESS: at 68.66% examples, 385901 words/s, in_qsize 5, out_qsize 0\n",
      "2020-06-24 18:36:33,638 : INFO : EPOCH 13 - PROGRESS: at 89.64% examples, 402771 words/s, in_qsize 5, out_qsize 0\n",
      "2020-06-24 18:36:34,094 : INFO : worker thread finished; awaiting finish of 2 more threads\n",
      "2020-06-24 18:36:34,110 : INFO : worker thread finished; awaiting finish of 1 more threads\n",
      "2020-06-24 18:36:34,118 : INFO : worker thread finished; awaiting finish of 0 more threads\n",
      "2020-06-24 18:36:34,118 : INFO : EPOCH - 13 : training on 3060122 raw words (2264209 effective words) took 5.5s, 411091 effective words/s\n",
      "2020-06-24 18:36:35,137 : INFO : EPOCH 14 - PROGRESS: at 24.78% examples, 551477 words/s, in_qsize 5, out_qsize 0\n",
      "2020-06-24 18:36:36,161 : INFO : EPOCH 14 - PROGRESS: at 44.21% examples, 491531 words/s, in_qsize 5, out_qsize 0\n",
      "2020-06-24 18:36:37,165 : INFO : EPOCH 14 - PROGRESS: at 65.38% examples, 486377 words/s, in_qsize 5, out_qsize 0\n",
      "2020-06-24 18:36:38,171 : INFO : EPOCH 14 - PROGRESS: at 81.43% examples, 455054 words/s, in_qsize 5, out_qsize 0\n",
      "2020-06-24 18:36:39,193 : INFO : EPOCH 14 - PROGRESS: at 99.29% examples, 443425 words/s, in_qsize 2, out_qsize 1\n",
      "2020-06-24 18:36:39,194 : INFO : worker thread finished; awaiting finish of 2 more threads\n",
      "2020-06-24 18:36:39,244 : INFO : worker thread finished; awaiting finish of 1 more threads\n",
      "2020-06-24 18:36:39,279 : INFO : worker thread finished; awaiting finish of 0 more threads\n",
      "2020-06-24 18:36:39,280 : INFO : EPOCH - 14 : training on 3060122 raw words (2262670 effective words) took 5.2s, 438636 effective words/s\n",
      "2020-06-24 18:36:40,290 : INFO : EPOCH 15 - PROGRESS: at 16.67% examples, 375887 words/s, in_qsize 5, out_qsize 0\n",
      "2020-06-24 18:36:41,300 : INFO : EPOCH 15 - PROGRESS: at 37.57% examples, 421336 words/s, in_qsize 4, out_qsize 1\n",
      "2020-06-24 18:36:42,322 : INFO : EPOCH 15 - PROGRESS: at 49.62% examples, 370321 words/s, in_qsize 6, out_qsize 0\n",
      "2020-06-24 18:36:43,350 : INFO : EPOCH 15 - PROGRESS: at 60.14% examples, 335448 words/s, in_qsize 5, out_qsize 0\n",
      "2020-06-24 18:36:44,354 : INFO : EPOCH 15 - PROGRESS: at 73.73% examples, 329053 words/s, in_qsize 5, out_qsize 0\n",
      "2020-06-24 18:36:45,400 : INFO : EPOCH 15 - PROGRESS: at 93.02% examples, 343995 words/s, in_qsize 6, out_qsize 0\n",
      "2020-06-24 18:36:45,925 : INFO : worker thread finished; awaiting finish of 2 more threads\n",
      "2020-06-24 18:36:45,932 : INFO : worker thread finished; awaiting finish of 1 more threads\n",
      "2020-06-24 18:36:45,945 : INFO : worker thread finished; awaiting finish of 0 more threads\n",
      "2020-06-24 18:36:45,946 : INFO : EPOCH - 15 : training on 3060122 raw words (2263235 effective words) took 6.7s, 339742 effective words/s\n",
      "2020-06-24 18:36:46,960 : INFO : EPOCH 16 - PROGRESS: at 25.62% examples, 574560 words/s, in_qsize 5, out_qsize 0\n",
      "2020-06-24 18:36:47,978 : INFO : EPOCH 16 - PROGRESS: at 42.61% examples, 475840 words/s, in_qsize 5, out_qsize 0\n",
      "2020-06-24 18:36:48,984 : INFO : EPOCH 16 - PROGRESS: at 61.76% examples, 461372 words/s, in_qsize 5, out_qsize 0\n",
      "2020-06-24 18:36:50,003 : INFO : EPOCH 16 - PROGRESS: at 79.83% examples, 445538 words/s, in_qsize 5, out_qsize 0\n",
      "2020-06-24 18:36:51,030 : INFO : EPOCH 16 - PROGRESS: at 95.62% examples, 425547 words/s, in_qsize 5, out_qsize 0\n",
      "2020-06-24 18:36:51,230 : INFO : worker thread finished; awaiting finish of 2 more threads\n",
      "2020-06-24 18:36:51,244 : INFO : worker thread finished; awaiting finish of 1 more threads\n",
      "2020-06-24 18:36:51,246 : INFO : worker thread finished; awaiting finish of 0 more threads\n",
      "2020-06-24 18:36:51,249 : INFO : EPOCH - 16 : training on 3060122 raw words (2263888 effective words) took 5.3s, 427169 effective words/s\n",
      "2020-06-24 18:36:52,266 : INFO : EPOCH 17 - PROGRESS: at 17.59% examples, 393927 words/s, in_qsize 6, out_qsize 0\n",
      "2020-06-24 18:36:53,270 : INFO : EPOCH 17 - PROGRESS: at 31.52% examples, 352777 words/s, in_qsize 5, out_qsize 0\n",
      "2020-06-24 18:36:54,279 : INFO : EPOCH 17 - PROGRESS: at 49.02% examples, 366898 words/s, in_qsize 5, out_qsize 0\n",
      "2020-06-24 18:36:55,297 : INFO : EPOCH 17 - PROGRESS: at 67.04% examples, 374928 words/s, in_qsize 5, out_qsize 0\n",
      "2020-06-24 18:36:56,307 : INFO : EPOCH 17 - PROGRESS: at 84.01% examples, 376024 words/s, in_qsize 5, out_qsize 0\n",
      "2020-06-24 18:36:57,200 : INFO : worker thread finished; awaiting finish of 2 more threads\n",
      "2020-06-24 18:36:57,260 : INFO : worker thread finished; awaiting finish of 1 more threads\n",
      "2020-06-24 18:36:57,271 : INFO : worker thread finished; awaiting finish of 0 more threads\n",
      "2020-06-24 18:36:57,272 : INFO : EPOCH - 17 : training on 3060122 raw words (2263370 effective words) took 6.0s, 375964 effective words/s\n",
      "2020-06-24 18:36:58,342 : INFO : EPOCH 18 - PROGRESS: at 13.15% examples, 280000 words/s, in_qsize 6, out_qsize 0\n",
      "2020-06-24 18:36:59,348 : INFO : EPOCH 18 - PROGRESS: at 31.21% examples, 340637 words/s, in_qsize 5, out_qsize 0\n",
      "2020-06-24 18:37:00,358 : INFO : EPOCH 18 - PROGRESS: at 48.02% examples, 353558 words/s, in_qsize 5, out_qsize 0\n",
      "2020-06-24 18:37:01,382 : INFO : EPOCH 18 - PROGRESS: at 65.35% examples, 360781 words/s, in_qsize 5, out_qsize 0\n",
      "2020-06-24 18:37:02,394 : INFO : EPOCH 18 - PROGRESS: at 80.15% examples, 354526 words/s, in_qsize 5, out_qsize 0\n",
      "2020-06-24 18:37:03,428 : INFO : EPOCH 18 - PROGRESS: at 97.67% examples, 359843 words/s, in_qsize 6, out_qsize 0\n"
     ]
    },
    {
     "name": "stderr",
     "output_type": "stream",
     "text": [
      "2020-06-24 18:37:03,587 : INFO : worker thread finished; awaiting finish of 2 more threads\n",
      "2020-06-24 18:37:03,606 : INFO : worker thread finished; awaiting finish of 1 more threads\n",
      "2020-06-24 18:37:03,615 : INFO : worker thread finished; awaiting finish of 0 more threads\n",
      "2020-06-24 18:37:03,616 : INFO : EPOCH - 18 : training on 3060122 raw words (2263299 effective words) took 6.3s, 357090 effective words/s\n",
      "2020-06-24 18:37:04,635 : INFO : EPOCH 19 - PROGRESS: at 16.94% examples, 380581 words/s, in_qsize 5, out_qsize 0\n",
      "2020-06-24 18:37:05,658 : INFO : EPOCH 19 - PROGRESS: at 38.82% examples, 431719 words/s, in_qsize 5, out_qsize 0\n",
      "2020-06-24 18:37:06,666 : INFO : EPOCH 19 - PROGRESS: at 57.84% examples, 431597 words/s, in_qsize 5, out_qsize 0\n",
      "2020-06-24 18:37:07,686 : INFO : EPOCH 19 - PROGRESS: at 82.75% examples, 460737 words/s, in_qsize 5, out_qsize 0\n",
      "2020-06-24 18:37:08,369 : INFO : worker thread finished; awaiting finish of 2 more threads\n",
      "2020-06-24 18:37:08,382 : INFO : worker thread finished; awaiting finish of 1 more threads\n",
      "2020-06-24 18:37:08,390 : INFO : worker thread finished; awaiting finish of 0 more threads\n",
      "2020-06-24 18:37:08,391 : INFO : EPOCH - 19 : training on 3060122 raw words (2263382 effective words) took 4.8s, 474775 effective words/s\n",
      "2020-06-24 18:37:09,397 : INFO : EPOCH 20 - PROGRESS: at 24.45% examples, 550638 words/s, in_qsize 5, out_qsize 0\n",
      "2020-06-24 18:37:10,398 : INFO : EPOCH 20 - PROGRESS: at 48.30% examples, 547070 words/s, in_qsize 5, out_qsize 0\n",
      "2020-06-24 18:37:11,414 : INFO : EPOCH 20 - PROGRESS: at 70.33% examples, 526295 words/s, in_qsize 5, out_qsize 0\n",
      "2020-06-24 18:37:12,427 : INFO : EPOCH 20 - PROGRESS: at 95.28% examples, 534290 words/s, in_qsize 5, out_qsize 0\n",
      "2020-06-24 18:37:12,585 : INFO : worker thread finished; awaiting finish of 2 more threads\n",
      "2020-06-24 18:37:12,587 : INFO : worker thread finished; awaiting finish of 1 more threads\n",
      "2020-06-24 18:37:12,604 : INFO : worker thread finished; awaiting finish of 0 more threads\n",
      "2020-06-24 18:37:12,605 : INFO : EPOCH - 20 : training on 3060122 raw words (2263638 effective words) took 4.2s, 537512 effective words/s\n",
      "2020-06-24 18:37:12,606 : INFO : training on a 61202440 raw words (45263371 effective words) took 101.3s, 446794 effective words/s\n"
     ]
    }
   ],
   "source": [
    "model.train(tagged_body_corpus, total_examples=model.corpus_count, epochs=model.epochs)"
   ]
  },
  {
   "cell_type": "code",
   "execution_count": 18,
   "metadata": {},
   "outputs": [
    {
     "name": "stdout",
     "output_type": "stream",
     "text": [
      "[-0.01776191 -0.01776087 -0.09543728  0.17865434  0.22541131  0.09261519\n",
      " -0.06148163 -0.20102635  0.25376844 -0.36666048  0.06867067  0.03390274\n",
      " -0.01007832  0.1190208   0.21135248 -0.16080013 -0.07866572  0.13498357\n",
      "  0.22242291 -0.25898042 -0.02452844  0.2251866  -0.0852789   0.35040563\n",
      " -0.10208774 -0.14090426  0.38630408 -0.09791723 -0.16733122  0.09947395\n",
      "  0.14997734  0.6576428   0.09117698 -0.43495652  0.11953415  0.16085233\n",
      " -0.43968916 -0.07128077 -0.48730904 -0.35799688  0.19835418  0.17816103\n",
      " -0.31404218  0.10518741 -0.3110634   0.01468254  0.04528066  0.14335136\n",
      " -0.16610046  0.4645136 ]\n"
     ]
    }
   ],
   "source": [
    "vector = model.infer_vector(['only', 'you', 'can', 'prevent', 'forest', 'fires'])\n",
    "print(vector)"
   ]
  },
  {
   "cell_type": "code",
   "execution_count": 31,
   "metadata": {},
   "outputs": [],
   "source": [
    "inferred_vector = model.infer_vector(tagged_body_corpus[9].words)"
   ]
  },
  {
   "cell_type": "code",
   "execution_count": 33,
   "metadata": {},
   "outputs": [
    {
     "data": {
      "text/plain": [
       "[(9, 0.9663527011871338),\n",
       " (2576, 0.6524274349212646),\n",
       " (6972, 0.6521689891815186),\n",
       " (8110, 0.641465425491333),\n",
       " (6718, 0.6354624032974243),\n",
       " (2994, 0.6304577589035034),\n",
       " (6192, 0.6301997900009155),\n",
       " (5824, 0.6299917101860046),\n",
       " (9279, 0.629318356513977),\n",
       " (2779, 0.6207137107849121)]"
      ]
     },
     "execution_count": 33,
     "metadata": {},
     "output_type": "execute_result"
    }
   ],
   "source": [
    "model.docvecs.most_similar([inferred_vector], topn=10)"
   ]
  },
  {
   "cell_type": "code",
   "execution_count": 25,
   "metadata": {},
   "outputs": [
    {
     "data": {
      "text/plain": [
       "10000"
      ]
     },
     "execution_count": 25,
     "metadata": {},
     "output_type": "execute_result"
    }
   ],
   "source": [
    "len(model.docvecs)"
   ]
  },
  {
   "cell_type": "code",
   "execution_count": 29,
   "metadata": {},
   "outputs": [
    {
     "data": {
      "text/plain": [
       "0"
      ]
     },
     "execution_count": 29,
     "metadata": {},
     "output_type": "execute_result"
    }
   ],
   "source": [
    "ranks[9]"
   ]
  },
  {
   "cell_type": "code",
   "execution_count": 19,
   "metadata": {},
   "outputs": [
    {
     "name": "stderr",
     "output_type": "stream",
     "text": [
      "2020-06-24 18:38:35,449 : INFO : precomputing L2-norms of doc weight vectors\n"
     ]
    }
   ],
   "source": [
    "#ranks = []\n",
    "second_ranks = []\n",
    "for doc_id in range(len(tagged_body_corpus)):\n",
    "    inferred_vector = model.infer_vector(tagged_body_corpus[doc_id].words)\n",
    "    sims = model.docvecs.most_similar([inferred_vector], topn=6)\n",
    "    #rank = [docid for docid, sim in sims].index(doc_id)\n",
    "    #ranks.append(rank)\n",
    "\n",
    "    second_ranks.append(sims[1:6])"
   ]
  },
  {
   "cell_type": "code",
   "execution_count": 20,
   "metadata": {},
   "outputs": [],
   "source": [
    "df['closest']=second_ranks"
   ]
  },
  {
   "cell_type": "code",
   "execution_count": 21,
   "metadata": {},
   "outputs": [
    {
     "data": {
      "text/html": [
       "<div>\n",
       "<style scoped>\n",
       "    .dataframe tbody tr th:only-of-type {\n",
       "        vertical-align: middle;\n",
       "    }\n",
       "\n",
       "    .dataframe tbody tr th {\n",
       "        vertical-align: top;\n",
       "    }\n",
       "\n",
       "    .dataframe thead th {\n",
       "        text-align: right;\n",
       "    }\n",
       "</style>\n",
       "<table border=\"1\" class=\"dataframe\">\n",
       "  <thead>\n",
       "    <tr style=\"text-align: right;\">\n",
       "      <th></th>\n",
       "      <th>id</th>\n",
       "      <th>timestamp</th>\n",
       "      <th>title</th>\n",
       "      <th>body</th>\n",
       "      <th>edited</th>\n",
       "      <th>verdict</th>\n",
       "      <th>score</th>\n",
       "      <th>num_comments</th>\n",
       "      <th>is_asshole</th>\n",
       "      <th>closest</th>\n",
       "    </tr>\n",
       "  </thead>\n",
       "  <tbody>\n",
       "    <tr>\n",
       "      <th>0</th>\n",
       "      <td>arfcfl</td>\n",
       "      <td>1550365421</td>\n",
       "      <td>AITA - Getting Hugged At The Bar</td>\n",
       "      <td>\\n\\nThis all happened less than an hour ago.\\...</td>\n",
       "      <td>False</td>\n",
       "      <td>not the asshole</td>\n",
       "      <td>3</td>\n",
       "      <td>14</td>\n",
       "      <td>0</td>\n",
       "      <td>[(9183, 0.6428960561752319), (2899, 0.62857031...</td>\n",
       "    </tr>\n",
       "    <tr>\n",
       "      <th>1</th>\n",
       "      <td>cg8mxn</td>\n",
       "      <td>1563769917</td>\n",
       "      <td>AITA if i don't want to pay my friend 5 dollar...</td>\n",
       "      <td>So, my friend bought herself, our other friend...</td>\n",
       "      <td>False</td>\n",
       "      <td>asshole</td>\n",
       "      <td>11</td>\n",
       "      <td>42</td>\n",
       "      <td>1</td>\n",
       "      <td>[(274, 0.7211413383483887), (2055, 0.671388149...</td>\n",
       "    </tr>\n",
       "    <tr>\n",
       "      <th>2</th>\n",
       "      <td>bajsje</td>\n",
       "      <td>1554663842</td>\n",
       "      <td>AITA For going to 'expensive' restaurants in s...</td>\n",
       "      <td>It's in Seattle if that matters. It seems peop...</td>\n",
       "      <td>1554686830.0</td>\n",
       "      <td>asshole</td>\n",
       "      <td>657</td>\n",
       "      <td>397</td>\n",
       "      <td>1</td>\n",
       "      <td>[(1787, 0.6626666188240051), (5066, 0.61901187...</td>\n",
       "    </tr>\n",
       "    <tr>\n",
       "      <th>3</th>\n",
       "      <td>cq6voc</td>\n",
       "      <td>1565771883</td>\n",
       "      <td>AITA for wanting \"free gas\", due to an attenda...</td>\n",
       "      <td>I was with my dad and driving the family car w...</td>\n",
       "      <td>1565773989.0</td>\n",
       "      <td>not the asshole</td>\n",
       "      <td>49</td>\n",
       "      <td>40</td>\n",
       "      <td>0</td>\n",
       "      <td>[(841, 0.7011508941650391), (2784, 0.677301526...</td>\n",
       "    </tr>\n",
       "    <tr>\n",
       "      <th>4</th>\n",
       "      <td>bz4m2k</td>\n",
       "      <td>1560207411</td>\n",
       "      <td>AITA I asked my dad to replace the fuel that h...</td>\n",
       "      <td>Am I the asshole for asking my dad to replace ...</td>\n",
       "      <td>False</td>\n",
       "      <td>not the asshole</td>\n",
       "      <td>4</td>\n",
       "      <td>10</td>\n",
       "      <td>0</td>\n",
       "      <td>[(531, 0.7264883518218994), (5513, 0.706307172...</td>\n",
       "    </tr>\n",
       "  </tbody>\n",
       "</table>\n",
       "</div>"
      ],
      "text/plain": [
       "       id   timestamp                                              title  \\\n",
       "0  arfcfl  1550365421                   AITA - Getting Hugged At The Bar   \n",
       "1  cg8mxn  1563769917  AITA if i don't want to pay my friend 5 dollar...   \n",
       "2  bajsje  1554663842  AITA For going to 'expensive' restaurants in s...   \n",
       "3  cq6voc  1565771883  AITA for wanting \"free gas\", due to an attenda...   \n",
       "4  bz4m2k  1560207411  AITA I asked my dad to replace the fuel that h...   \n",
       "\n",
       "                                                body        edited  \\\n",
       "0   \\n\\nThis all happened less than an hour ago.\\...         False   \n",
       "1  So, my friend bought herself, our other friend...         False   \n",
       "2  It's in Seattle if that matters. It seems peop...  1554686830.0   \n",
       "3  I was with my dad and driving the family car w...  1565773989.0   \n",
       "4  Am I the asshole for asking my dad to replace ...         False   \n",
       "\n",
       "           verdict  score  num_comments  is_asshole  \\\n",
       "0  not the asshole      3            14           0   \n",
       "1          asshole     11            42           1   \n",
       "2          asshole    657           397           1   \n",
       "3  not the asshole     49            40           0   \n",
       "4  not the asshole      4            10           0   \n",
       "\n",
       "                                             closest  \n",
       "0  [(9183, 0.6428960561752319), (2899, 0.62857031...  \n",
       "1  [(274, 0.7211413383483887), (2055, 0.671388149...  \n",
       "2  [(1787, 0.6626666188240051), (5066, 0.61901187...  \n",
       "3  [(841, 0.7011508941650391), (2784, 0.677301526...  \n",
       "4  [(531, 0.7264883518218994), (5513, 0.706307172...  "
      ]
     },
     "execution_count": 21,
     "metadata": {},
     "output_type": "execute_result"
    }
   ],
   "source": [
    "df.head()"
   ]
  },
  {
   "cell_type": "code",
   "execution_count": 26,
   "metadata": {},
   "outputs": [
    {
     "data": {
      "text/plain": [
       "1"
      ]
     },
     "execution_count": 26,
     "metadata": {},
     "output_type": "execute_result"
    }
   ],
   "source": [
    "round(3/5)"
   ]
  },
  {
   "cell_type": "code",
   "execution_count": 30,
   "metadata": {},
   "outputs": [],
   "source": [
    "def closest_asshole(row,n=1):\n",
    "    \n",
    "    closest_is_asshole=0\n",
    "    for i in range(n):\n",
    "        closest=row.closest[i][0]\n",
    "        closest_is_asshole += df.iloc[closest]['is_asshole']\n",
    "    row['closest_is_asshole'] = round(closest_is_asshole/n)\n",
    "    \n",
    "    return row"
   ]
  },
  {
   "cell_type": "code",
   "execution_count": 31,
   "metadata": {},
   "outputs": [],
   "source": [
    "df_with_closest = df.apply(closest_asshole, axis =1)"
   ]
  },
  {
   "cell_type": "code",
   "execution_count": 32,
   "metadata": {},
   "outputs": [
    {
     "name": "stderr",
     "output_type": "stream",
     "text": [
      "2020-06-24 19:00:28,393 : INFO : NumExpr defaulting to 4 threads.\n"
     ]
    }
   ],
   "source": [
    "df_with_closest['difference'] = abs(df_with_closest.is_asshole - df_with_closest.closest_is_asshole)"
   ]
  },
  {
   "cell_type": "code",
   "execution_count": 33,
   "metadata": {},
   "outputs": [
    {
     "data": {
      "text/plain": [
       "3707.0"
      ]
     },
     "execution_count": 33,
     "metadata": {},
     "output_type": "execute_result"
    }
   ],
   "source": [
    "df_with_closest.difference.sum() #number of wrong predictions using only the closest vector"
   ]
  },
  {
   "cell_type": "code",
   "execution_count": 34,
   "metadata": {},
   "outputs": [
    {
     "data": {
      "text/plain": [
       "2593"
      ]
     },
     "execution_count": 34,
     "metadata": {},
     "output_type": "execute_result"
    }
   ],
   "source": [
    "df_with_closest.is_asshole.sum()"
   ]
  },
  {
   "cell_type": "code",
   "execution_count": 35,
   "metadata": {},
   "outputs": [],
   "source": [
    "assholes = df_with_closest.is_asshole.sum()\n",
    "not_assholes = 10000 - assholes"
   ]
  },
  {
   "cell_type": "code",
   "execution_count": 36,
   "metadata": {},
   "outputs": [
    {
     "data": {
      "text/plain": [
       "3841.2702"
      ]
     },
     "execution_count": 36,
     "metadata": {},
     "output_type": "execute_result"
    }
   ],
   "source": [
    "2 * assholes * not_assholes / 10000"
   ]
  },
  {
   "cell_type": "code",
   "execution_count": null,
   "metadata": {},
   "outputs": [],
   "source": []
  },
  {
   "cell_type": "code",
   "execution_count": 37,
   "metadata": {},
   "outputs": [],
   "source": [
    "def closest_asshole(row,n=3):\n",
    "    \n",
    "    closest_is_asshole=0\n",
    "    for i in range(n):\n",
    "        closest=row.closest[i][0]\n",
    "        closest_is_asshole += df.iloc[closest]['is_asshole']\n",
    "    row['closest_is_asshole'] = round(closest_is_asshole/n)\n",
    "    \n",
    "    return row"
   ]
  },
  {
   "cell_type": "code",
   "execution_count": 38,
   "metadata": {},
   "outputs": [],
   "source": [
    "df_with_closest_three = df.apply(closest_asshole, axis =1)"
   ]
  },
  {
   "cell_type": "code",
   "execution_count": 39,
   "metadata": {},
   "outputs": [],
   "source": [
    "df_with_closest_three['difference'] = abs(df_with_closest_three.is_asshole - df_with_closest_three.closest_is_asshole)"
   ]
  },
  {
   "cell_type": "code",
   "execution_count": 40,
   "metadata": {},
   "outputs": [
    {
     "data": {
      "text/plain": [
       "3269.0"
      ]
     },
     "execution_count": 40,
     "metadata": {},
     "output_type": "execute_result"
    }
   ],
   "source": [
    "df_with_closest_three.difference.sum() #number of wrong predictions using the 3 closest vectors"
   ]
  },
  {
   "cell_type": "code",
   "execution_count": null,
   "metadata": {},
   "outputs": [],
   "source": []
  },
  {
   "cell_type": "code",
   "execution_count": 41,
   "metadata": {},
   "outputs": [],
   "source": [
    "def closest_asshole(row,n=5):\n",
    "    \n",
    "    closest_is_asshole=0\n",
    "    for i in range(n):\n",
    "        closest=row.closest[i][0]\n",
    "        closest_is_asshole += df.iloc[closest]['is_asshole']\n",
    "    row['closest_is_asshole'] = round(closest_is_asshole/n)\n",
    "    \n",
    "    return row"
   ]
  },
  {
   "cell_type": "code",
   "execution_count": 42,
   "metadata": {},
   "outputs": [],
   "source": [
    "df_with_closest_five = df.apply(closest_asshole, axis =1)"
   ]
  },
  {
   "cell_type": "code",
   "execution_count": 43,
   "metadata": {},
   "outputs": [],
   "source": [
    "df_with_closest_five['difference'] = abs(df_with_closest_five.is_asshole - df_with_closest_five.closest_is_asshole)"
   ]
  },
  {
   "cell_type": "code",
   "execution_count": 44,
   "metadata": {},
   "outputs": [
    {
     "data": {
      "text/plain": [
       "3008.0"
      ]
     },
     "execution_count": 44,
     "metadata": {},
     "output_type": "execute_result"
    }
   ],
   "source": [
    "df_with_closest_five.difference.sum() #number of wrong predictions using the 5 closest vectors"
   ]
  },
  {
   "cell_type": "code",
   "execution_count": null,
   "metadata": {},
   "outputs": [],
   "source": []
  },
  {
   "cell_type": "code",
   "execution_count": null,
   "metadata": {},
   "outputs": [],
   "source": []
  },
  {
   "cell_type": "code",
   "execution_count": 45,
   "metadata": {},
   "outputs": [],
   "source": [
    "model2 = gensim.models.doc2vec.Doc2Vec(vector_size=40, min_count=2, epochs=20)"
   ]
  },
  {
   "cell_type": "code",
   "execution_count": 46,
   "metadata": {},
   "outputs": [
    {
     "name": "stderr",
     "output_type": "stream",
     "text": [
      "2020-06-24 19:11:42,763 : INFO : collecting all words and their counts\n",
      "2020-06-24 19:11:42,765 : INFO : PROGRESS: at example #0, processed 0 words (0/s), 0 word types, 0 tags\n",
      "2020-06-24 19:11:43,358 : INFO : collected 30512 word types and 10000 unique tags from a corpus of 10000 examples and 3060122 words\n",
      "2020-06-24 19:11:43,359 : INFO : Loading a fresh vocabulary\n",
      "2020-06-24 19:11:43,422 : INFO : effective_min_count=2 retains 19712 unique words (64% of original 30512, drops 10800)\n",
      "2020-06-24 19:11:43,423 : INFO : effective_min_count=2 leaves 3049322 word corpus (99% of original 3060122, drops 10800)\n",
      "2020-06-24 19:11:43,544 : INFO : deleting the raw counts dictionary of 30512 items\n",
      "2020-06-24 19:11:43,547 : INFO : sample=0.001 downsamples 61 most-common words\n",
      "2020-06-24 19:11:43,548 : INFO : downsampling leaves estimated 2253238 word corpus (73.9% of prior 3049322)\n",
      "2020-06-24 19:11:43,631 : INFO : estimated required memory for 19712 words and 40 dimensions: 17763840 bytes\n",
      "2020-06-24 19:11:43,632 : INFO : resetting layer weights\n"
     ]
    }
   ],
   "source": [
    "model2.build_vocab(tagged_body_corpus)"
   ]
  },
  {
   "cell_type": "code",
   "execution_count": 47,
   "metadata": {},
   "outputs": [
    {
     "data": {
      "text/plain": [
       "269"
      ]
     },
     "execution_count": 47,
     "metadata": {},
     "output_type": "execute_result"
    }
   ],
   "source": [
    "model2.wv.vocab['bitch'].count\n",
    "#this counts how many times the word 'penalty' showed up in the vocabulary we created with the last command"
   ]
  },
  {
   "cell_type": "code",
   "execution_count": 48,
   "metadata": {},
   "outputs": [
    {
     "name": "stderr",
     "output_type": "stream",
     "text": [
      "2020-06-24 19:11:56,234 : INFO : training model with 3 workers on 19712 vocabulary and 40 features, using sg=0 hs=0 sample=0.001 negative=5 window=5\n",
      "2020-06-24 19:11:57,249 : INFO : EPOCH 1 - PROGRESS: at 22.79% examples, 512002 words/s, in_qsize 5, out_qsize 0\n",
      "2020-06-24 19:11:58,255 : INFO : EPOCH 1 - PROGRESS: at 45.79% examples, 515232 words/s, in_qsize 5, out_qsize 0\n",
      "2020-06-24 19:11:59,262 : INFO : EPOCH 1 - PROGRESS: at 64.69% examples, 484993 words/s, in_qsize 5, out_qsize 0\n",
      "2020-06-24 19:12:00,269 : INFO : EPOCH 1 - PROGRESS: at 83.39% examples, 468160 words/s, in_qsize 5, out_qsize 0\n",
      "2020-06-24 19:12:01,013 : INFO : worker thread finished; awaiting finish of 2 more threads\n",
      "2020-06-24 19:12:01,044 : INFO : worker thread finished; awaiting finish of 1 more threads\n",
      "2020-06-24 19:12:01,046 : INFO : worker thread finished; awaiting finish of 0 more threads\n",
      "2020-06-24 19:12:01,047 : INFO : EPOCH - 1 : training on 3060122 raw words (2263298 effective words) took 4.8s, 470849 effective words/s\n",
      "2020-06-24 19:12:02,053 : INFO : EPOCH 2 - PROGRESS: at 19.84% examples, 449757 words/s, in_qsize 5, out_qsize 0\n",
      "2020-06-24 19:12:03,054 : INFO : EPOCH 2 - PROGRESS: at 41.67% examples, 471117 words/s, in_qsize 6, out_qsize 0\n",
      "2020-06-24 19:12:04,056 : INFO : EPOCH 2 - PROGRESS: at 63.11% examples, 475748 words/s, in_qsize 5, out_qsize 0\n",
      "2020-06-24 19:12:05,085 : INFO : EPOCH 2 - PROGRESS: at 87.63% examples, 490943 words/s, in_qsize 5, out_qsize 0\n",
      "2020-06-24 19:12:05,565 : INFO : worker thread finished; awaiting finish of 2 more threads\n",
      "2020-06-24 19:12:05,583 : INFO : worker thread finished; awaiting finish of 1 more threads\n",
      "2020-06-24 19:12:05,589 : INFO : worker thread finished; awaiting finish of 0 more threads\n",
      "2020-06-24 19:12:05,590 : INFO : EPOCH - 2 : training on 3060122 raw words (2263482 effective words) took 4.5s, 498630 effective words/s\n",
      "2020-06-24 19:12:06,602 : INFO : EPOCH 3 - PROGRESS: at 24.10% examples, 540572 words/s, in_qsize 5, out_qsize 0\n",
      "2020-06-24 19:12:07,616 : INFO : EPOCH 3 - PROGRESS: at 45.14% examples, 506227 words/s, in_qsize 5, out_qsize 0\n",
      "2020-06-24 19:12:08,619 : INFO : EPOCH 3 - PROGRESS: at 69.33% examples, 518090 words/s, in_qsize 5, out_qsize 0\n",
      "2020-06-24 19:12:09,637 : INFO : EPOCH 3 - PROGRESS: at 93.40% examples, 522073 words/s, in_qsize 5, out_qsize 0\n",
      "2020-06-24 19:12:09,880 : INFO : worker thread finished; awaiting finish of 2 more threads\n",
      "2020-06-24 19:12:09,890 : INFO : worker thread finished; awaiting finish of 1 more threads\n",
      "2020-06-24 19:12:09,899 : INFO : worker thread finished; awaiting finish of 0 more threads\n",
      "2020-06-24 19:12:09,901 : INFO : EPOCH - 3 : training on 3060122 raw words (2263125 effective words) took 4.3s, 525460 effective words/s\n",
      "2020-06-24 19:12:10,930 : INFO : EPOCH 4 - PROGRESS: at 23.13% examples, 510606 words/s, in_qsize 5, out_qsize 0\n",
      "2020-06-24 19:12:11,947 : INFO : EPOCH 4 - PROGRESS: at 43.31% examples, 480051 words/s, in_qsize 5, out_qsize 0\n",
      "2020-06-24 19:12:12,950 : INFO : EPOCH 4 - PROGRESS: at 64.69% examples, 481287 words/s, in_qsize 5, out_qsize 0\n",
      "2020-06-24 19:12:13,955 : INFO : EPOCH 4 - PROGRESS: at 88.67% examples, 494251 words/s, in_qsize 6, out_qsize 0\n",
      "2020-06-24 19:12:14,384 : INFO : worker thread finished; awaiting finish of 2 more threads\n",
      "2020-06-24 19:12:14,398 : INFO : worker thread finished; awaiting finish of 1 more threads\n",
      "2020-06-24 19:12:14,405 : INFO : worker thread finished; awaiting finish of 0 more threads\n",
      "2020-06-24 19:12:14,406 : INFO : EPOCH - 4 : training on 3060122 raw words (2263461 effective words) took 4.5s, 502897 effective words/s\n",
      "2020-06-24 19:12:15,409 : INFO : EPOCH 5 - PROGRESS: at 23.14% examples, 524030 words/s, in_qsize 5, out_qsize 0\n",
      "2020-06-24 19:12:16,412 : INFO : EPOCH 5 - PROGRESS: at 43.59% examples, 493373 words/s, in_qsize 5, out_qsize 0\n",
      "2020-06-24 19:12:17,426 : INFO : EPOCH 5 - PROGRESS: at 62.48% examples, 469272 words/s, in_qsize 5, out_qsize 0\n",
      "2020-06-24 19:12:18,426 : INFO : EPOCH 5 - PROGRESS: at 84.68% examples, 476999 words/s, in_qsize 5, out_qsize 0\n",
      "2020-06-24 19:12:19,115 : INFO : worker thread finished; awaiting finish of 2 more threads\n",
      "2020-06-24 19:12:19,125 : INFO : worker thread finished; awaiting finish of 1 more threads\n",
      "2020-06-24 19:12:19,136 : INFO : worker thread finished; awaiting finish of 0 more threads\n",
      "2020-06-24 19:12:19,137 : INFO : EPOCH - 5 : training on 3060122 raw words (2264058 effective words) took 4.7s, 478879 effective words/s\n",
      "2020-06-24 19:12:20,142 : INFO : EPOCH 6 - PROGRESS: at 23.14% examples, 522284 words/s, in_qsize 6, out_qsize 0\n",
      "2020-06-24 19:12:21,154 : INFO : EPOCH 6 - PROGRESS: at 45.12% examples, 508218 words/s, in_qsize 5, out_qsize 0\n",
      "2020-06-24 19:12:22,167 : INFO : EPOCH 6 - PROGRESS: at 69.33% examples, 517982 words/s, in_qsize 5, out_qsize 0\n",
      "2020-06-24 19:12:23,193 : INFO : EPOCH 6 - PROGRESS: at 92.38% examples, 515639 words/s, in_qsize 5, out_qsize 0\n",
      "2020-06-24 19:12:23,507 : INFO : worker thread finished; awaiting finish of 2 more threads\n",
      "2020-06-24 19:12:23,509 : INFO : worker thread finished; awaiting finish of 1 more threads\n",
      "2020-06-24 19:12:23,533 : INFO : worker thread finished; awaiting finish of 0 more threads\n",
      "2020-06-24 19:12:23,534 : INFO : EPOCH - 6 : training on 3060122 raw words (2263819 effective words) took 4.4s, 515184 effective words/s\n",
      "2020-06-24 19:12:24,554 : INFO : EPOCH 7 - PROGRESS: at 24.15% examples, 536309 words/s, in_qsize 5, out_qsize 0\n",
      "2020-06-24 19:12:25,573 : INFO : EPOCH 7 - PROGRESS: at 49.02% examples, 545521 words/s, in_qsize 5, out_qsize 0\n",
      "2020-06-24 19:12:26,591 : INFO : EPOCH 7 - PROGRESS: at 74.01% examples, 548598 words/s, in_qsize 5, out_qsize 0\n",
      "2020-06-24 19:12:27,593 : INFO : EPOCH 7 - PROGRESS: at 98.32% examples, 549298 words/s, in_qsize 5, out_qsize 0\n",
      "2020-06-24 19:12:27,635 : INFO : worker thread finished; awaiting finish of 2 more threads\n",
      "2020-06-24 19:12:27,637 : INFO : worker thread finished; awaiting finish of 1 more threads\n",
      "2020-06-24 19:12:27,657 : INFO : worker thread finished; awaiting finish of 0 more threads\n",
      "2020-06-24 19:12:27,658 : INFO : EPOCH - 7 : training on 3060122 raw words (2263152 effective words) took 4.1s, 549252 effective words/s\n",
      "2020-06-24 19:12:28,667 : INFO : EPOCH 8 - PROGRESS: at 24.10% examples, 543798 words/s, in_qsize 5, out_qsize 0\n",
      "2020-06-24 19:12:29,684 : INFO : EPOCH 8 - PROGRESS: at 47.35% examples, 531812 words/s, in_qsize 6, out_qsize 0\n",
      "2020-06-24 19:12:30,696 : INFO : EPOCH 8 - PROGRESS: at 68.33% examples, 509735 words/s, in_qsize 5, out_qsize 0\n",
      "2020-06-24 19:12:31,713 : INFO : EPOCH 8 - PROGRESS: at 92.38% examples, 516036 words/s, in_qsize 5, out_qsize 0\n",
      "2020-06-24 19:12:32,039 : INFO : worker thread finished; awaiting finish of 2 more threads\n",
      "2020-06-24 19:12:32,044 : INFO : worker thread finished; awaiting finish of 1 more threads\n",
      "2020-06-24 19:12:32,047 : INFO : worker thread finished; awaiting finish of 0 more threads\n",
      "2020-06-24 19:12:32,048 : INFO : EPOCH - 8 : training on 3060122 raw words (2262663 effective words) took 4.4s, 516280 effective words/s\n",
      "2020-06-24 19:12:33,065 : INFO : EPOCH 9 - PROGRESS: at 21.17% examples, 473901 words/s, in_qsize 4, out_qsize 1\n",
      "2020-06-24 19:12:34,075 : INFO : EPOCH 9 - PROGRESS: at 39.79% examples, 445171 words/s, in_qsize 5, out_qsize 0\n",
      "2020-06-24 19:12:35,085 : INFO : EPOCH 9 - PROGRESS: at 62.79% examples, 469182 words/s, in_qsize 5, out_qsize 0\n",
      "2020-06-24 19:12:36,100 : INFO : EPOCH 9 - PROGRESS: at 87.63% examples, 489238 words/s, in_qsize 5, out_qsize 0\n",
      "2020-06-24 19:12:36,606 : INFO : worker thread finished; awaiting finish of 2 more threads\n",
      "2020-06-24 19:12:36,614 : INFO : worker thread finished; awaiting finish of 1 more threads\n",
      "2020-06-24 19:12:36,634 : INFO : worker thread finished; awaiting finish of 0 more threads\n",
      "2020-06-24 19:12:36,635 : INFO : EPOCH - 9 : training on 3060122 raw words (2263242 effective words) took 4.6s, 494045 effective words/s\n",
      "2020-06-24 19:12:37,644 : INFO : EPOCH 10 - PROGRESS: at 24.10% examples, 542178 words/s, in_qsize 5, out_qsize 0\n",
      "2020-06-24 19:12:38,657 : INFO : EPOCH 10 - PROGRESS: at 48.30% examples, 543228 words/s, in_qsize 5, out_qsize 0\n",
      "2020-06-24 19:12:39,661 : INFO : EPOCH 10 - PROGRESS: at 73.16% examples, 547225 words/s, in_qsize 5, out_qsize 0\n"
     ]
    },
    {
     "name": "stderr",
     "output_type": "stream",
     "text": [
      "2020-06-24 19:12:40,663 : INFO : EPOCH 10 - PROGRESS: at 97.13% examples, 546160 words/s, in_qsize 5, out_qsize 0\n",
      "2020-06-24 19:12:40,768 : INFO : worker thread finished; awaiting finish of 2 more threads\n",
      "2020-06-24 19:12:40,771 : INFO : worker thread finished; awaiting finish of 1 more threads\n",
      "2020-06-24 19:12:40,791 : INFO : worker thread finished; awaiting finish of 0 more threads\n",
      "2020-06-24 19:12:40,793 : INFO : EPOCH - 10 : training on 3060122 raw words (2263511 effective words) took 4.2s, 544838 effective words/s\n",
      "2020-06-24 19:12:41,799 : INFO : EPOCH 11 - PROGRESS: at 24.45% examples, 550514 words/s, in_qsize 6, out_qsize 0\n",
      "2020-06-24 19:12:42,802 : INFO : EPOCH 11 - PROGRESS: at 48.02% examples, 542995 words/s, in_qsize 5, out_qsize 0\n",
      "2020-06-24 19:12:43,806 : INFO : EPOCH 11 - PROGRESS: at 72.21% examples, 542375 words/s, in_qsize 5, out_qsize 0\n",
      "2020-06-24 19:12:44,812 : INFO : EPOCH 11 - PROGRESS: at 93.71% examples, 527475 words/s, in_qsize 5, out_qsize 0\n",
      "2020-06-24 19:12:45,053 : INFO : worker thread finished; awaiting finish of 2 more threads\n",
      "2020-06-24 19:12:45,068 : INFO : worker thread finished; awaiting finish of 1 more threads\n",
      "2020-06-24 19:12:45,073 : INFO : worker thread finished; awaiting finish of 0 more threads\n",
      "2020-06-24 19:12:45,074 : INFO : EPOCH - 11 : training on 3060122 raw words (2263641 effective words) took 4.3s, 529091 effective words/s\n",
      "2020-06-24 19:12:46,083 : INFO : EPOCH 12 - PROGRESS: at 23.48% examples, 527489 words/s, in_qsize 5, out_qsize 0\n",
      "2020-06-24 19:12:47,092 : INFO : EPOCH 12 - PROGRESS: at 47.71% examples, 536603 words/s, in_qsize 5, out_qsize 0\n",
      "2020-06-24 19:12:48,120 : INFO : EPOCH 12 - PROGRESS: at 71.27% examples, 529291 words/s, in_qsize 5, out_qsize 0\n",
      "2020-06-24 19:12:49,134 : INFO : EPOCH 12 - PROGRESS: at 92.98% examples, 518572 words/s, in_qsize 5, out_qsize 0\n",
      "2020-06-24 19:12:49,543 : INFO : worker thread finished; awaiting finish of 2 more threads\n",
      "2020-06-24 19:12:49,565 : INFO : worker thread finished; awaiting finish of 1 more threads\n",
      "2020-06-24 19:12:49,569 : INFO : worker thread finished; awaiting finish of 0 more threads\n",
      "2020-06-24 19:12:49,570 : INFO : EPOCH - 12 : training on 3060122 raw words (2263324 effective words) took 4.5s, 503785 effective words/s\n",
      "2020-06-24 19:12:50,582 : INFO : EPOCH 13 - PROGRESS: at 22.49% examples, 505837 words/s, in_qsize 5, out_qsize 0\n",
      "2020-06-24 19:12:51,585 : INFO : EPOCH 13 - PROGRESS: at 46.73% examples, 527298 words/s, in_qsize 5, out_qsize 0\n",
      "2020-06-24 19:12:52,600 : INFO : EPOCH 13 - PROGRESS: at 75.95% examples, 568208 words/s, in_qsize 5, out_qsize 0\n",
      "2020-06-24 19:12:53,402 : INFO : worker thread finished; awaiting finish of 2 more threads\n",
      "2020-06-24 19:12:53,415 : INFO : worker thread finished; awaiting finish of 1 more threads\n",
      "2020-06-24 19:12:53,423 : INFO : worker thread finished; awaiting finish of 0 more threads\n",
      "2020-06-24 19:12:53,424 : INFO : EPOCH - 13 : training on 3060122 raw words (2263042 effective words) took 3.8s, 587997 effective words/s\n",
      "2020-06-24 19:12:54,439 : INFO : EPOCH 14 - PROGRESS: at 28.57% examples, 639125 words/s, in_qsize 5, out_qsize 0\n",
      "2020-06-24 19:12:55,441 : INFO : EPOCH 14 - PROGRESS: at 57.84% examples, 652314 words/s, in_qsize 5, out_qsize 0\n",
      "2020-06-24 19:12:56,445 : INFO : EPOCH 14 - PROGRESS: at 86.94% examples, 651382 words/s, in_qsize 5, out_qsize 0\n",
      "2020-06-24 19:12:56,865 : INFO : worker thread finished; awaiting finish of 2 more threads\n",
      "2020-06-24 19:12:56,880 : INFO : worker thread finished; awaiting finish of 1 more threads\n",
      "2020-06-24 19:12:56,887 : INFO : worker thread finished; awaiting finish of 0 more threads\n",
      "2020-06-24 19:12:56,888 : INFO : EPOCH - 14 : training on 3060122 raw words (2263176 effective words) took 3.5s, 653840 effective words/s\n",
      "2020-06-24 19:12:57,897 : INFO : EPOCH 15 - PROGRESS: at 29.25% examples, 658207 words/s, in_qsize 5, out_qsize 0\n",
      "2020-06-24 19:12:58,899 : INFO : EPOCH 15 - PROGRESS: at 58.16% examples, 658333 words/s, in_qsize 5, out_qsize 0\n",
      "2020-06-24 19:12:59,910 : INFO : EPOCH 15 - PROGRESS: at 81.75% examples, 613070 words/s, in_qsize 5, out_qsize 0\n",
      "2020-06-24 19:13:00,612 : INFO : worker thread finished; awaiting finish of 2 more threads\n",
      "2020-06-24 19:13:00,614 : INFO : worker thread finished; awaiting finish of 1 more threads\n",
      "2020-06-24 19:13:00,618 : INFO : worker thread finished; awaiting finish of 0 more threads\n",
      "2020-06-24 19:13:00,619 : INFO : EPOCH - 15 : training on 3060122 raw words (2263592 effective words) took 3.7s, 607385 effective words/s\n",
      "2020-06-24 19:13:01,642 : INFO : EPOCH 16 - PROGRESS: at 24.45% examples, 541673 words/s, in_qsize 6, out_qsize 0\n",
      "2020-06-24 19:13:02,647 : INFO : EPOCH 16 - PROGRESS: at 51.61% examples, 577738 words/s, in_qsize 6, out_qsize 0\n",
      "2020-06-24 19:13:03,652 : INFO : EPOCH 16 - PROGRESS: at 79.50% examples, 593916 words/s, in_qsize 5, out_qsize 0\n",
      "2020-06-24 19:13:04,321 : INFO : worker thread finished; awaiting finish of 2 more threads\n",
      "2020-06-24 19:13:04,339 : INFO : worker thread finished; awaiting finish of 1 more threads\n",
      "2020-06-24 19:13:04,346 : INFO : worker thread finished; awaiting finish of 0 more threads\n",
      "2020-06-24 19:13:04,347 : INFO : EPOCH - 16 : training on 3060122 raw words (2263455 effective words) took 3.7s, 607775 effective words/s\n",
      "2020-06-24 19:13:05,352 : INFO : EPOCH 17 - PROGRESS: at 26.92% examples, 608393 words/s, in_qsize 5, out_qsize 0\n",
      "2020-06-24 19:13:06,355 : INFO : EPOCH 17 - PROGRESS: at 52.31% examples, 590043 words/s, in_qsize 5, out_qsize 0\n",
      "2020-06-24 19:13:07,359 : INFO : EPOCH 17 - PROGRESS: at 79.16% examples, 595304 words/s, in_qsize 6, out_qsize 0\n",
      "2020-06-24 19:13:08,058 : INFO : worker thread finished; awaiting finish of 2 more threads\n",
      "2020-06-24 19:13:08,064 : INFO : worker thread finished; awaiting finish of 1 more threads\n",
      "2020-06-24 19:13:08,077 : INFO : worker thread finished; awaiting finish of 0 more threads\n",
      "2020-06-24 19:13:08,079 : INFO : EPOCH - 17 : training on 3060122 raw words (2263234 effective words) took 3.7s, 606949 effective words/s\n",
      "2020-06-24 19:13:09,098 : INFO : EPOCH 18 - PROGRESS: at 28.57% examples, 636365 words/s, in_qsize 6, out_qsize 0\n",
      "2020-06-24 19:13:10,110 : INFO : EPOCH 18 - PROGRESS: at 56.94% examples, 636835 words/s, in_qsize 6, out_qsize 0\n",
      "2020-06-24 19:13:11,135 : INFO : EPOCH 18 - PROGRESS: at 81.75% examples, 606013 words/s, in_qsize 5, out_qsize 0\n",
      "2020-06-24 19:13:12,149 : INFO : EPOCH 18 - PROGRESS: at 99.31% examples, 553094 words/s, in_qsize 2, out_qsize 1\n",
      "2020-06-24 19:13:12,151 : INFO : worker thread finished; awaiting finish of 2 more threads\n",
      "2020-06-24 19:13:12,161 : INFO : worker thread finished; awaiting finish of 1 more threads\n",
      "2020-06-24 19:13:12,167 : INFO : worker thread finished; awaiting finish of 0 more threads\n",
      "2020-06-24 19:13:12,168 : INFO : EPOCH - 18 : training on 3060122 raw words (2263926 effective words) took 4.1s, 554046 effective words/s\n",
      "2020-06-24 19:13:13,187 : INFO : EPOCH 19 - PROGRESS: at 23.48% examples, 522978 words/s, in_qsize 5, out_qsize 0\n",
      "2020-06-24 19:13:14,188 : INFO : EPOCH 19 - PROGRESS: at 52.31% examples, 587050 words/s, in_qsize 5, out_qsize 0\n",
      "2020-06-24 19:13:15,194 : INFO : EPOCH 19 - PROGRESS: at 81.81% examples, 612006 words/s, in_qsize 5, out_qsize 0\n",
      "2020-06-24 19:13:15,846 : INFO : worker thread finished; awaiting finish of 2 more threads\n",
      "2020-06-24 19:13:15,859 : INFO : worker thread finished; awaiting finish of 1 more threads\n",
      "2020-06-24 19:13:15,871 : INFO : worker thread finished; awaiting finish of 0 more threads\n",
      "2020-06-24 19:13:15,872 : INFO : EPOCH - 19 : training on 3060122 raw words (2263190 effective words) took 3.7s, 611631 effective words/s\n",
      "2020-06-24 19:13:16,899 : INFO : EPOCH 20 - PROGRESS: at 25.34% examples, 560074 words/s, in_qsize 5, out_qsize 0\n",
      "2020-06-24 19:13:17,902 : INFO : EPOCH 20 - PROGRESS: at 50.93% examples, 569349 words/s, in_qsize 5, out_qsize 0\n",
      "2020-06-24 19:13:18,902 : INFO : EPOCH 20 - PROGRESS: at 70.65% examples, 527384 words/s, in_qsize 4, out_qsize 1\n",
      "2020-06-24 19:13:19,904 : INFO : EPOCH 20 - PROGRESS: at 93.02% examples, 522162 words/s, in_qsize 5, out_qsize 0\n",
      "2020-06-24 19:13:20,183 : INFO : worker thread finished; awaiting finish of 2 more threads\n",
      "2020-06-24 19:13:20,188 : INFO : worker thread finished; awaiting finish of 1 more threads\n"
     ]
    },
    {
     "name": "stderr",
     "output_type": "stream",
     "text": [
      "2020-06-24 19:13:20,207 : INFO : worker thread finished; awaiting finish of 0 more threads\n",
      "2020-06-24 19:13:20,209 : INFO : EPOCH - 20 : training on 3060122 raw words (2263232 effective words) took 4.3s, 522204 effective words/s\n",
      "2020-06-24 19:13:20,211 : INFO : training on a 61202440 raw words (45267623 effective words) took 84.0s, 539077 effective words/s\n"
     ]
    }
   ],
   "source": [
    "model2.train(tagged_body_corpus, total_examples=model2.corpus_count, epochs=model2.epochs)"
   ]
  },
  {
   "cell_type": "code",
   "execution_count": 49,
   "metadata": {},
   "outputs": [
    {
     "name": "stderr",
     "output_type": "stream",
     "text": [
      "2020-06-24 19:18:23,313 : INFO : precomputing L2-norms of doc weight vectors\n"
     ]
    }
   ],
   "source": [
    "#ranks = []\n",
    "second_ranks = []\n",
    "for doc_id in range(len(tagged_body_corpus)):\n",
    "    inferred_vector = model2.infer_vector(tagged_body_corpus[doc_id].words)\n",
    "    sims = model2.docvecs.most_similar([inferred_vector], topn=6)\n",
    "    #rank = [docid for docid, sim in sims].index(doc_id)\n",
    "    #ranks.append(rank)\n",
    "\n",
    "    second_ranks.append(sims[1:6])"
   ]
  },
  {
   "cell_type": "code",
   "execution_count": 50,
   "metadata": {},
   "outputs": [],
   "source": [
    "df['closest_2']=second_ranks"
   ]
  },
  {
   "cell_type": "code",
   "execution_count": 51,
   "metadata": {},
   "outputs": [
    {
     "data": {
      "text/html": [
       "<div>\n",
       "<style scoped>\n",
       "    .dataframe tbody tr th:only-of-type {\n",
       "        vertical-align: middle;\n",
       "    }\n",
       "\n",
       "    .dataframe tbody tr th {\n",
       "        vertical-align: top;\n",
       "    }\n",
       "\n",
       "    .dataframe thead th {\n",
       "        text-align: right;\n",
       "    }\n",
       "</style>\n",
       "<table border=\"1\" class=\"dataframe\">\n",
       "  <thead>\n",
       "    <tr style=\"text-align: right;\">\n",
       "      <th></th>\n",
       "      <th>id</th>\n",
       "      <th>timestamp</th>\n",
       "      <th>title</th>\n",
       "      <th>body</th>\n",
       "      <th>edited</th>\n",
       "      <th>verdict</th>\n",
       "      <th>score</th>\n",
       "      <th>num_comments</th>\n",
       "      <th>is_asshole</th>\n",
       "      <th>closest</th>\n",
       "      <th>closest_2</th>\n",
       "    </tr>\n",
       "  </thead>\n",
       "  <tbody>\n",
       "    <tr>\n",
       "      <th>0</th>\n",
       "      <td>arfcfl</td>\n",
       "      <td>1550365421</td>\n",
       "      <td>AITA - Getting Hugged At The Bar</td>\n",
       "      <td>\\n\\nThis all happened less than an hour ago.\\...</td>\n",
       "      <td>False</td>\n",
       "      <td>not the asshole</td>\n",
       "      <td>3</td>\n",
       "      <td>14</td>\n",
       "      <td>0</td>\n",
       "      <td>[(9183, 0.6428960561752319), (2899, 0.62857031...</td>\n",
       "      <td>[(698, 0.7019332647323608), (1216, 0.686856865...</td>\n",
       "    </tr>\n",
       "    <tr>\n",
       "      <th>1</th>\n",
       "      <td>cg8mxn</td>\n",
       "      <td>1563769917</td>\n",
       "      <td>AITA if i don't want to pay my friend 5 dollar...</td>\n",
       "      <td>So, my friend bought herself, our other friend...</td>\n",
       "      <td>False</td>\n",
       "      <td>asshole</td>\n",
       "      <td>11</td>\n",
       "      <td>42</td>\n",
       "      <td>1</td>\n",
       "      <td>[(274, 0.7211413383483887), (2055, 0.671388149...</td>\n",
       "      <td>[(6717, 0.7433499097824097), (5154, 0.74145698...</td>\n",
       "    </tr>\n",
       "    <tr>\n",
       "      <th>2</th>\n",
       "      <td>bajsje</td>\n",
       "      <td>1554663842</td>\n",
       "      <td>AITA For going to 'expensive' restaurants in s...</td>\n",
       "      <td>It's in Seattle if that matters. It seems peop...</td>\n",
       "      <td>1554686830.0</td>\n",
       "      <td>asshole</td>\n",
       "      <td>657</td>\n",
       "      <td>397</td>\n",
       "      <td>1</td>\n",
       "      <td>[(1787, 0.6626666188240051), (5066, 0.61901187...</td>\n",
       "      <td>[(2867, 0.6955191493034363), (6424, 0.68660163...</td>\n",
       "    </tr>\n",
       "    <tr>\n",
       "      <th>3</th>\n",
       "      <td>cq6voc</td>\n",
       "      <td>1565771883</td>\n",
       "      <td>AITA for wanting \"free gas\", due to an attenda...</td>\n",
       "      <td>I was with my dad and driving the family car w...</td>\n",
       "      <td>1565773989.0</td>\n",
       "      <td>not the asshole</td>\n",
       "      <td>49</td>\n",
       "      <td>40</td>\n",
       "      <td>0</td>\n",
       "      <td>[(841, 0.7011508941650391), (2784, 0.677301526...</td>\n",
       "      <td>[(5534, 0.7588502168655396), (9406, 0.75868499...</td>\n",
       "    </tr>\n",
       "    <tr>\n",
       "      <th>4</th>\n",
       "      <td>bz4m2k</td>\n",
       "      <td>1560207411</td>\n",
       "      <td>AITA I asked my dad to replace the fuel that h...</td>\n",
       "      <td>Am I the asshole for asking my dad to replace ...</td>\n",
       "      <td>False</td>\n",
       "      <td>not the asshole</td>\n",
       "      <td>4</td>\n",
       "      <td>10</td>\n",
       "      <td>0</td>\n",
       "      <td>[(531, 0.7264883518218994), (5513, 0.706307172...</td>\n",
       "      <td>[(531, 0.8083807229995728), (2102, 0.744412183...</td>\n",
       "    </tr>\n",
       "  </tbody>\n",
       "</table>\n",
       "</div>"
      ],
      "text/plain": [
       "       id   timestamp                                              title  \\\n",
       "0  arfcfl  1550365421                   AITA - Getting Hugged At The Bar   \n",
       "1  cg8mxn  1563769917  AITA if i don't want to pay my friend 5 dollar...   \n",
       "2  bajsje  1554663842  AITA For going to 'expensive' restaurants in s...   \n",
       "3  cq6voc  1565771883  AITA for wanting \"free gas\", due to an attenda...   \n",
       "4  bz4m2k  1560207411  AITA I asked my dad to replace the fuel that h...   \n",
       "\n",
       "                                                body        edited  \\\n",
       "0   \\n\\nThis all happened less than an hour ago.\\...         False   \n",
       "1  So, my friend bought herself, our other friend...         False   \n",
       "2  It's in Seattle if that matters. It seems peop...  1554686830.0   \n",
       "3  I was with my dad and driving the family car w...  1565773989.0   \n",
       "4  Am I the asshole for asking my dad to replace ...         False   \n",
       "\n",
       "           verdict  score  num_comments  is_asshole  \\\n",
       "0  not the asshole      3            14           0   \n",
       "1          asshole     11            42           1   \n",
       "2          asshole    657           397           1   \n",
       "3  not the asshole     49            40           0   \n",
       "4  not the asshole      4            10           0   \n",
       "\n",
       "                                             closest  \\\n",
       "0  [(9183, 0.6428960561752319), (2899, 0.62857031...   \n",
       "1  [(274, 0.7211413383483887), (2055, 0.671388149...   \n",
       "2  [(1787, 0.6626666188240051), (5066, 0.61901187...   \n",
       "3  [(841, 0.7011508941650391), (2784, 0.677301526...   \n",
       "4  [(531, 0.7264883518218994), (5513, 0.706307172...   \n",
       "\n",
       "                                           closest_2  \n",
       "0  [(698, 0.7019332647323608), (1216, 0.686856865...  \n",
       "1  [(6717, 0.7433499097824097), (5154, 0.74145698...  \n",
       "2  [(2867, 0.6955191493034363), (6424, 0.68660163...  \n",
       "3  [(5534, 0.7588502168655396), (9406, 0.75868499...  \n",
       "4  [(531, 0.8083807229995728), (2102, 0.744412183...  "
      ]
     },
     "execution_count": 51,
     "metadata": {},
     "output_type": "execute_result"
    }
   ],
   "source": [
    "df.head()"
   ]
  },
  {
   "cell_type": "code",
   "execution_count": 54,
   "metadata": {},
   "outputs": [],
   "source": [
    "def closest_asshole(row,n=1):\n",
    "    \n",
    "    closest_is_asshole=0\n",
    "    for i in range(n):\n",
    "        closest=row.closest_2[i][0]\n",
    "        closest_is_asshole += df.iloc[closest]['is_asshole']\n",
    "    row['closest_is_asshole_2'] = round(closest_is_asshole/n)\n",
    "    \n",
    "    return row"
   ]
  },
  {
   "cell_type": "code",
   "execution_count": 55,
   "metadata": {},
   "outputs": [],
   "source": [
    "df_with_closest_2 = df.apply(closest_asshole, axis =1)"
   ]
  },
  {
   "cell_type": "code",
   "execution_count": 56,
   "metadata": {},
   "outputs": [],
   "source": [
    "df_with_closest_2['difference'] = abs(df_with_closest_2.is_asshole - df_with_closest_2.closest_is_asshole_2)"
   ]
  },
  {
   "cell_type": "code",
   "execution_count": 57,
   "metadata": {},
   "outputs": [
    {
     "data": {
      "text/plain": [
       "3722.0"
      ]
     },
     "execution_count": 57,
     "metadata": {},
     "output_type": "execute_result"
    }
   ],
   "source": [
    "df_with_closest_2.difference.sum() #number of wrong predictions using only the closest vector"
   ]
  },
  {
   "cell_type": "code",
   "execution_count": null,
   "metadata": {},
   "outputs": [],
   "source": []
  },
  {
   "cell_type": "code",
   "execution_count": 58,
   "metadata": {},
   "outputs": [],
   "source": [
    "def closest_asshole(row,n=3):\n",
    "    \n",
    "    closest_is_asshole=0\n",
    "    for i in range(n):\n",
    "        closest=row.closest_2[i][0]\n",
    "        closest_is_asshole += df.iloc[closest]['is_asshole']\n",
    "    row['closest_is_asshole_2'] = round(closest_is_asshole/n)\n",
    "    \n",
    "    return row"
   ]
  },
  {
   "cell_type": "code",
   "execution_count": 59,
   "metadata": {},
   "outputs": [],
   "source": [
    "df_with_closest_three_2 = df.apply(closest_asshole, axis =1)"
   ]
  },
  {
   "cell_type": "code",
   "execution_count": 60,
   "metadata": {},
   "outputs": [],
   "source": [
    "df_with_closest_three_2['difference'] = abs(df_with_closest_three_2.is_asshole - df_with_closest_three_2.closest_is_asshole_2)"
   ]
  },
  {
   "cell_type": "code",
   "execution_count": 61,
   "metadata": {},
   "outputs": [
    {
     "data": {
      "text/plain": [
       "3264.0"
      ]
     },
     "execution_count": 61,
     "metadata": {},
     "output_type": "execute_result"
    }
   ],
   "source": [
    "df_with_closest_three_2.difference.sum() #number of wrong predictions using only the closest vector"
   ]
  },
  {
   "cell_type": "code",
   "execution_count": null,
   "metadata": {},
   "outputs": [],
   "source": []
  },
  {
   "cell_type": "code",
   "execution_count": 62,
   "metadata": {},
   "outputs": [],
   "source": [
    "def closest_asshole(row,n=5):\n",
    "    \n",
    "    closest_is_asshole=0\n",
    "    for i in range(n):\n",
    "        closest=row.closest_2[i][0]\n",
    "        closest_is_asshole += df.iloc[closest]['is_asshole']\n",
    "    row['closest_is_asshole_2'] = round(closest_is_asshole/n)\n",
    "    \n",
    "    return row"
   ]
  },
  {
   "cell_type": "code",
   "execution_count": 63,
   "metadata": {},
   "outputs": [],
   "source": [
    "df_with_closest_five_2 = df.apply(closest_asshole, axis =1)"
   ]
  },
  {
   "cell_type": "code",
   "execution_count": 64,
   "metadata": {},
   "outputs": [],
   "source": [
    "df_with_closest_five_2['difference'] = abs(df_with_closest_five_2.is_asshole - df_with_closest_five_2.closest_is_asshole_2)"
   ]
  },
  {
   "cell_type": "code",
   "execution_count": 65,
   "metadata": {},
   "outputs": [
    {
     "data": {
      "text/plain": [
       "3005.0"
      ]
     },
     "execution_count": 65,
     "metadata": {},
     "output_type": "execute_result"
    }
   ],
   "source": [
    "df_with_closest_five_2.difference.sum() #number of wrong predictions using only the closest vector"
   ]
  },
  {
   "cell_type": "code",
   "execution_count": null,
   "metadata": {},
   "outputs": [],
   "source": []
  },
  {
   "cell_type": "code",
   "execution_count": 66,
   "metadata": {},
   "outputs": [
    {
     "name": "stderr",
     "output_type": "stream",
     "text": [
      "2020-06-24 19:39:57,523 : WARNING : consider setting layer size to a multiple of 4 for greater performance\n"
     ]
    }
   ],
   "source": [
    "model3 = gensim.models.doc2vec.Doc2Vec(vector_size=50, min_count=10, epochs=20)"
   ]
  },
  {
   "cell_type": "code",
   "execution_count": 67,
   "metadata": {},
   "outputs": [
    {
     "name": "stderr",
     "output_type": "stream",
     "text": [
      "2020-06-24 19:40:03,201 : INFO : collecting all words and their counts\n",
      "2020-06-24 19:40:03,203 : INFO : PROGRESS: at example #0, processed 0 words (0/s), 0 word types, 0 tags\n",
      "2020-06-24 19:40:03,953 : INFO : collected 30512 word types and 10000 unique tags from a corpus of 10000 examples and 3060122 words\n",
      "2020-06-24 19:40:03,954 : INFO : Loading a fresh vocabulary\n",
      "2020-06-24 19:40:03,996 : INFO : effective_min_count=10 retains 8234 unique words (26% of original 30512, drops 22278)\n",
      "2020-06-24 19:40:03,997 : INFO : effective_min_count=10 leaves 3003228 word corpus (98% of original 3060122, drops 56894)\n",
      "2020-06-24 19:40:04,074 : INFO : deleting the raw counts dictionary of 30512 items\n",
      "2020-06-24 19:40:04,078 : INFO : sample=0.001 downsamples 62 most-common words\n",
      "2020-06-24 19:40:04,079 : INFO : downsampling leaves estimated 2200601 word corpus (73.3% of prior 3003228)\n",
      "2020-06-24 19:40:04,122 : INFO : estimated required memory for 8234 words and 50 dimensions: 9410600 bytes\n",
      "2020-06-24 19:40:04,123 : INFO : resetting layer weights\n"
     ]
    }
   ],
   "source": [
    "model3.build_vocab(tagged_body_corpus)"
   ]
  },
  {
   "cell_type": "code",
   "execution_count": 68,
   "metadata": {},
   "outputs": [
    {
     "data": {
      "text/plain": [
       "269"
      ]
     },
     "execution_count": 68,
     "metadata": {},
     "output_type": "execute_result"
    }
   ],
   "source": [
    "model3.wv.vocab['bitch'].count\n",
    "#this counts how many times the word 'penalty' showed up in the vocabulary we created with the last command"
   ]
  },
  {
   "cell_type": "code",
   "execution_count": 69,
   "metadata": {},
   "outputs": [
    {
     "name": "stderr",
     "output_type": "stream",
     "text": [
      "2020-06-24 19:40:18,100 : INFO : training model with 3 workers on 8234 vocabulary and 50 features, using sg=0 hs=0 sample=0.001 negative=5 window=5\n",
      "2020-06-24 19:40:19,107 : INFO : EPOCH 1 - PROGRESS: at 22.79% examples, 503168 words/s, in_qsize 5, out_qsize 0\n",
      "2020-06-24 19:40:20,120 : INFO : EPOCH 1 - PROGRESS: at 41.67% examples, 457266 words/s, in_qsize 5, out_qsize 0\n",
      "2020-06-24 19:40:21,128 : INFO : EPOCH 1 - PROGRESS: at 59.09% examples, 433690 words/s, in_qsize 5, out_qsize 0\n",
      "2020-06-24 19:40:22,149 : INFO : EPOCH 1 - PROGRESS: at 84.68% examples, 462602 words/s, in_qsize 5, out_qsize 0\n",
      "2020-06-24 19:40:22,827 : INFO : worker thread finished; awaiting finish of 2 more threads\n",
      "2020-06-24 19:40:22,836 : INFO : worker thread finished; awaiting finish of 1 more threads\n",
      "2020-06-24 19:40:22,862 : INFO : worker thread finished; awaiting finish of 0 more threads\n",
      "2020-06-24 19:40:22,863 : INFO : EPOCH - 1 : training on 3060122 raw words (2211100 effective words) took 4.8s, 464674 effective words/s\n",
      "2020-06-24 19:40:23,895 : INFO : EPOCH 2 - PROGRESS: at 19.50% examples, 421534 words/s, in_qsize 5, out_qsize 0\n",
      "2020-06-24 19:40:24,910 : INFO : EPOCH 2 - PROGRESS: at 37.88% examples, 410185 words/s, in_qsize 4, out_qsize 1\n",
      "2020-06-24 19:40:25,912 : INFO : EPOCH 2 - PROGRESS: at 60.48% examples, 440454 words/s, in_qsize 6, out_qsize 0\n",
      "2020-06-24 19:40:26,920 : INFO : EPOCH 2 - PROGRESS: at 82.75% examples, 451469 words/s, in_qsize 5, out_qsize 0\n",
      "2020-06-24 19:40:27,847 : INFO : worker thread finished; awaiting finish of 2 more threads\n",
      "2020-06-24 19:40:27,866 : INFO : worker thread finished; awaiting finish of 1 more threads\n",
      "2020-06-24 19:40:27,877 : INFO : worker thread finished; awaiting finish of 0 more threads\n",
      "2020-06-24 19:40:27,878 : INFO : EPOCH - 2 : training on 3060122 raw words (2211559 effective words) took 5.0s, 441483 effective words/s\n",
      "2020-06-24 19:40:28,899 : INFO : EPOCH 3 - PROGRESS: at 21.83% examples, 474890 words/s, in_qsize 5, out_qsize 0\n",
      "2020-06-24 19:40:29,919 : INFO : EPOCH 3 - PROGRESS: at 44.51% examples, 483882 words/s, in_qsize 5, out_qsize 0\n",
      "2020-06-24 19:40:30,934 : INFO : EPOCH 3 - PROGRESS: at 66.71% examples, 483181 words/s, in_qsize 6, out_qsize 0\n",
      "2020-06-24 19:40:31,959 : INFO : EPOCH 3 - PROGRESS: at 89.03% examples, 481530 words/s, in_qsize 5, out_qsize 0\n",
      "2020-06-24 19:40:32,420 : INFO : worker thread finished; awaiting finish of 2 more threads\n",
      "2020-06-24 19:40:32,439 : INFO : worker thread finished; awaiting finish of 1 more threads\n",
      "2020-06-24 19:40:32,444 : INFO : worker thread finished; awaiting finish of 0 more threads\n",
      "2020-06-24 19:40:32,445 : INFO : EPOCH - 3 : training on 3060122 raw words (2210890 effective words) took 4.6s, 484560 effective words/s\n",
      "2020-06-24 19:40:33,489 : INFO : EPOCH 4 - PROGRESS: at 16.98% examples, 361658 words/s, in_qsize 5, out_qsize 0\n",
      "2020-06-24 19:40:34,503 : INFO : EPOCH 4 - PROGRESS: at 33.46% examples, 358974 words/s, in_qsize 5, out_qsize 0\n",
      "2020-06-24 19:40:35,504 : INFO : EPOCH 4 - PROGRESS: at 54.78% examples, 396486 words/s, in_qsize 5, out_qsize 0\n",
      "2020-06-24 19:40:36,509 : INFO : EPOCH 4 - PROGRESS: at 77.87% examples, 423918 words/s, in_qsize 6, out_qsize 0\n",
      "2020-06-24 19:40:37,505 : INFO : worker thread finished; awaiting finish of 2 more threads\n",
      "2020-06-24 19:40:37,510 : INFO : EPOCH 4 - PROGRESS: at 99.64% examples, 435370 words/s, in_qsize 1, out_qsize 1\n",
      "2020-06-24 19:40:37,512 : INFO : worker thread finished; awaiting finish of 1 more threads\n",
      "2020-06-24 19:40:37,514 : INFO : worker thread finished; awaiting finish of 0 more threads\n",
      "2020-06-24 19:40:37,515 : INFO : EPOCH - 4 : training on 3060122 raw words (2211026 effective words) took 5.1s, 436337 effective words/s\n",
      "2020-06-24 19:40:38,519 : INFO : EPOCH 5 - PROGRESS: at 22.49% examples, 496802 words/s, in_qsize 6, out_qsize 0\n",
      "2020-06-24 19:40:39,519 : INFO : EPOCH 5 - PROGRESS: at 44.83% examples, 495970 words/s, in_qsize 5, out_qsize 0\n",
      "2020-06-24 19:40:40,535 : INFO : EPOCH 5 - PROGRESS: at 67.04% examples, 490968 words/s, in_qsize 5, out_qsize 0\n",
      "2020-06-24 19:40:41,542 : INFO : EPOCH 5 - PROGRESS: at 89.64% examples, 491226 words/s, in_qsize 5, out_qsize 0\n",
      "2020-06-24 19:40:41,977 : INFO : worker thread finished; awaiting finish of 2 more threads\n",
      "2020-06-24 19:40:41,992 : INFO : worker thread finished; awaiting finish of 1 more threads\n",
      "2020-06-24 19:40:42,005 : INFO : worker thread finished; awaiting finish of 0 more threads\n",
      "2020-06-24 19:40:42,007 : INFO : EPOCH - 5 : training on 3060122 raw words (2209829 effective words) took 4.5s, 492387 effective words/s\n",
      "2020-06-24 19:40:43,029 : INFO : EPOCH 6 - PROGRESS: at 19.12% examples, 419513 words/s, in_qsize 6, out_qsize 0\n",
      "2020-06-24 19:40:44,036 : INFO : EPOCH 6 - PROGRESS: at 42.62% examples, 466378 words/s, in_qsize 5, out_qsize 0\n",
      "2020-06-24 19:40:45,042 : INFO : EPOCH 6 - PROGRESS: at 65.01% examples, 475006 words/s, in_qsize 5, out_qsize 0\n",
      "2020-06-24 19:40:46,057 : INFO : EPOCH 6 - PROGRESS: at 87.63% examples, 478468 words/s, in_qsize 5, out_qsize 0\n",
      "2020-06-24 19:40:46,564 : INFO : worker thread finished; awaiting finish of 2 more threads\n",
      "2020-06-24 19:40:46,578 : INFO : worker thread finished; awaiting finish of 1 more threads\n",
      "2020-06-24 19:40:46,587 : INFO : worker thread finished; awaiting finish of 0 more threads\n",
      "2020-06-24 19:40:46,587 : INFO : EPOCH - 6 : training on 3060122 raw words (2210665 effective words) took 4.6s, 483449 effective words/s\n",
      "2020-06-24 19:40:47,601 : INFO : EPOCH 7 - PROGRESS: at 22.49% examples, 492249 words/s, in_qsize 5, out_qsize 0\n",
      "2020-06-24 19:40:48,608 : INFO : EPOCH 7 - PROGRESS: at 44.51% examples, 488615 words/s, in_qsize 5, out_qsize 0\n",
      "2020-06-24 19:40:49,633 : INFO : EPOCH 7 - PROGRESS: at 60.14% examples, 438051 words/s, in_qsize 5, out_qsize 0\n",
      "2020-06-24 19:40:50,634 : INFO : EPOCH 7 - PROGRESS: at 81.75% examples, 446844 words/s, in_qsize 5, out_qsize 0\n",
      "2020-06-24 19:40:51,516 : INFO : worker thread finished; awaiting finish of 2 more threads\n",
      "2020-06-24 19:40:51,526 : INFO : worker thread finished; awaiting finish of 1 more threads\n",
      "2020-06-24 19:40:51,537 : INFO : worker thread finished; awaiting finish of 0 more threads\n",
      "2020-06-24 19:40:51,539 : INFO : EPOCH - 7 : training on 3060122 raw words (2210873 effective words) took 4.9s, 446816 effective words/s\n",
      "2020-06-24 19:40:52,549 : INFO : EPOCH 8 - PROGRESS: at 22.43% examples, 494294 words/s, in_qsize 5, out_qsize 0\n",
      "2020-06-24 19:40:53,564 : INFO : EPOCH 8 - PROGRESS: at 45.14% examples, 494711 words/s, in_qsize 5, out_qsize 0\n",
      "2020-06-24 19:40:54,574 : INFO : EPOCH 8 - PROGRESS: at 67.41% examples, 491207 words/s, in_qsize 5, out_qsize 0\n",
      "2020-06-24 19:40:55,595 : INFO : EPOCH 8 - PROGRESS: at 91.08% examples, 496542 words/s, in_qsize 5, out_qsize 0\n",
      "2020-06-24 19:40:55,972 : INFO : worker thread finished; awaiting finish of 2 more threads\n",
      "2020-06-24 19:40:55,982 : INFO : worker thread finished; awaiting finish of 1 more threads\n",
      "2020-06-24 19:40:55,988 : INFO : worker thread finished; awaiting finish of 0 more threads\n",
      "2020-06-24 19:40:55,989 : INFO : EPOCH - 8 : training on 3060122 raw words (2210549 effective words) took 4.4s, 497212 effective words/s\n",
      "2020-06-24 19:40:56,997 : INFO : EPOCH 9 - PROGRESS: at 22.79% examples, 501810 words/s, in_qsize 5, out_qsize 0\n",
      "2020-06-24 19:40:58,002 : INFO : EPOCH 9 - PROGRESS: at 45.50% examples, 500657 words/s, in_qsize 5, out_qsize 0\n",
      "2020-06-24 19:40:59,009 : INFO : EPOCH 9 - PROGRESS: at 65.01% examples, 476637 words/s, in_qsize 5, out_qsize 0\n",
      "2020-06-24 19:41:00,012 : INFO : EPOCH 9 - PROGRESS: at 87.99% examples, 482817 words/s, in_qsize 5, out_qsize 0\n",
      "2020-06-24 19:41:00,523 : INFO : worker thread finished; awaiting finish of 2 more threads\n",
      "2020-06-24 19:41:00,534 : INFO : worker thread finished; awaiting finish of 1 more threads\n",
      "2020-06-24 19:41:00,554 : INFO : worker thread finished; awaiting finish of 0 more threads\n",
      "2020-06-24 19:41:00,555 : INFO : EPOCH - 9 : training on 3060122 raw words (2210276 effective words) took 4.6s, 484344 effective words/s\n",
      "2020-06-24 19:41:01,573 : INFO : EPOCH 10 - PROGRESS: at 22.79% examples, 498213 words/s, in_qsize 5, out_qsize 0\n",
      "2020-06-24 19:41:02,587 : INFO : EPOCH 10 - PROGRESS: at 46.10% examples, 503654 words/s, in_qsize 5, out_qsize 0\n"
     ]
    },
    {
     "name": "stderr",
     "output_type": "stream",
     "text": [
      "2020-06-24 19:41:03,596 : INFO : EPOCH 10 - PROGRESS: at 68.33% examples, 497427 words/s, in_qsize 5, out_qsize 0\n",
      "2020-06-24 19:41:04,604 : INFO : EPOCH 10 - PROGRESS: at 90.75% examples, 495949 words/s, in_qsize 6, out_qsize 0\n",
      "2020-06-24 19:41:05,103 : INFO : worker thread finished; awaiting finish of 2 more threads\n",
      "2020-06-24 19:41:05,108 : INFO : worker thread finished; awaiting finish of 1 more threads\n",
      "2020-06-24 19:41:05,125 : INFO : worker thread finished; awaiting finish of 0 more threads\n",
      "2020-06-24 19:41:05,126 : INFO : EPOCH - 10 : training on 3060122 raw words (2210730 effective words) took 4.6s, 484273 effective words/s\n",
      "2020-06-24 19:41:06,149 : INFO : EPOCH 11 - PROGRESS: at 19.50% examples, 425205 words/s, in_qsize 5, out_qsize 0\n",
      "2020-06-24 19:41:07,161 : INFO : EPOCH 11 - PROGRESS: at 41.35% examples, 450508 words/s, in_qsize 6, out_qsize 0\n",
      "2020-06-24 19:41:08,170 : INFO : EPOCH 11 - PROGRESS: at 64.02% examples, 466596 words/s, in_qsize 5, out_qsize 0\n",
      "2020-06-24 19:41:09,179 : INFO : EPOCH 11 - PROGRESS: at 87.63% examples, 477860 words/s, in_qsize 5, out_qsize 0\n",
      "2020-06-24 19:41:09,684 : INFO : worker thread finished; awaiting finish of 2 more threads\n",
      "2020-06-24 19:41:09,699 : INFO : worker thread finished; awaiting finish of 1 more threads\n",
      "2020-06-24 19:41:09,711 : INFO : worker thread finished; awaiting finish of 0 more threads\n",
      "2020-06-24 19:41:09,712 : INFO : EPOCH - 11 : training on 3060122 raw words (2210027 effective words) took 4.6s, 482557 effective words/s\n",
      "2020-06-24 19:41:10,732 : INFO : EPOCH 12 - PROGRESS: at 22.79% examples, 496981 words/s, in_qsize 5, out_qsize 0\n",
      "2020-06-24 19:41:11,741 : INFO : EPOCH 12 - PROGRESS: at 45.43% examples, 497092 words/s, in_qsize 4, out_qsize 1\n",
      "2020-06-24 19:41:12,746 : INFO : EPOCH 12 - PROGRESS: at 68.98% examples, 502907 words/s, in_qsize 5, out_qsize 0\n",
      "2020-06-24 19:41:13,760 : INFO : EPOCH 12 - PROGRESS: at 89.95% examples, 490566 words/s, in_qsize 5, out_qsize 0\n",
      "2020-06-24 19:41:14,209 : INFO : worker thread finished; awaiting finish of 2 more threads\n",
      "2020-06-24 19:41:14,214 : INFO : worker thread finished; awaiting finish of 1 more threads\n",
      "2020-06-24 19:41:14,220 : INFO : worker thread finished; awaiting finish of 0 more threads\n",
      "2020-06-24 19:41:14,222 : INFO : EPOCH - 12 : training on 3060122 raw words (2210319 effective words) took 4.5s, 490619 effective words/s\n",
      "2020-06-24 19:41:15,236 : INFO : EPOCH 13 - PROGRESS: at 22.79% examples, 499667 words/s, in_qsize 5, out_qsize 0\n",
      "2020-06-24 19:41:16,240 : INFO : EPOCH 13 - PROGRESS: at 46.10% examples, 507064 words/s, in_qsize 6, out_qsize 0\n",
      "2020-06-24 19:41:17,265 : INFO : EPOCH 13 - PROGRESS: at 68.98% examples, 501502 words/s, in_qsize 5, out_qsize 0\n",
      "2020-06-24 19:41:18,270 : INFO : EPOCH 13 - PROGRESS: at 92.38% examples, 504695 words/s, in_qsize 5, out_qsize 0\n",
      "2020-06-24 19:41:18,575 : INFO : worker thread finished; awaiting finish of 2 more threads\n",
      "2020-06-24 19:41:18,591 : INFO : worker thread finished; awaiting finish of 1 more threads\n",
      "2020-06-24 19:41:18,597 : INFO : worker thread finished; awaiting finish of 0 more threads\n",
      "2020-06-24 19:41:18,598 : INFO : EPOCH - 13 : training on 3060122 raw words (2211101 effective words) took 4.4s, 505705 effective words/s\n",
      "2020-06-24 19:41:19,603 : INFO : EPOCH 14 - PROGRESS: at 22.79% examples, 503570 words/s, in_qsize 5, out_qsize 0\n",
      "2020-06-24 19:41:20,628 : INFO : EPOCH 14 - PROGRESS: at 45.43% examples, 496560 words/s, in_qsize 5, out_qsize 0\n",
      "2020-06-24 19:41:21,631 : INFO : EPOCH 14 - PROGRESS: at 68.66% examples, 500531 words/s, in_qsize 5, out_qsize 0\n",
      "2020-06-24 19:41:22,669 : INFO : EPOCH 14 - PROGRESS: at 92.38% examples, 501435 words/s, in_qsize 5, out_qsize 0\n",
      "2020-06-24 19:41:22,964 : INFO : worker thread finished; awaiting finish of 2 more threads\n",
      "2020-06-24 19:41:22,970 : INFO : worker thread finished; awaiting finish of 1 more threads\n",
      "2020-06-24 19:41:22,988 : INFO : worker thread finished; awaiting finish of 0 more threads\n",
      "2020-06-24 19:41:22,989 : INFO : EPOCH - 14 : training on 3060122 raw words (2209752 effective words) took 4.4s, 503606 effective words/s\n",
      "2020-06-24 19:41:24,002 : INFO : EPOCH 15 - PROGRESS: at 22.49% examples, 492172 words/s, in_qsize 5, out_qsize 0\n",
      "2020-06-24 19:41:25,004 : INFO : EPOCH 15 - PROGRESS: at 45.79% examples, 503856 words/s, in_qsize 5, out_qsize 0\n",
      "2020-06-24 19:41:26,021 : INFO : EPOCH 15 - PROGRESS: at 68.98% examples, 503149 words/s, in_qsize 6, out_qsize 0\n",
      "2020-06-24 19:41:27,027 : INFO : EPOCH 15 - PROGRESS: at 90.21% examples, 493524 words/s, in_qsize 5, out_qsize 0\n",
      "2020-06-24 19:41:27,728 : INFO : worker thread finished; awaiting finish of 2 more threads\n",
      "2020-06-24 19:41:27,740 : INFO : worker thread finished; awaiting finish of 1 more threads\n",
      "2020-06-24 19:41:27,761 : INFO : worker thread finished; awaiting finish of 0 more threads\n",
      "2020-06-24 19:41:27,761 : INFO : EPOCH - 15 : training on 3060122 raw words (2210592 effective words) took 4.8s, 463468 effective words/s\n",
      "2020-06-24 19:41:28,788 : INFO : EPOCH 16 - PROGRESS: at 22.79% examples, 493095 words/s, in_qsize 5, out_qsize 0\n",
      "2020-06-24 19:41:29,792 : INFO : EPOCH 16 - PROGRESS: at 41.35% examples, 451022 words/s, in_qsize 5, out_qsize 0\n",
      "2020-06-24 19:41:30,803 : INFO : EPOCH 16 - PROGRESS: at 64.02% examples, 466475 words/s, in_qsize 5, out_qsize 0\n",
      "2020-06-24 19:41:31,827 : INFO : EPOCH 16 - PROGRESS: at 87.26% examples, 474286 words/s, in_qsize 5, out_qsize 0\n",
      "2020-06-24 19:41:32,344 : INFO : worker thread finished; awaiting finish of 2 more threads\n",
      "2020-06-24 19:41:32,366 : INFO : worker thread finished; awaiting finish of 1 more threads\n",
      "2020-06-24 19:41:32,371 : INFO : worker thread finished; awaiting finish of 0 more threads\n",
      "2020-06-24 19:41:32,371 : INFO : EPOCH - 16 : training on 3060122 raw words (2209976 effective words) took 4.6s, 479811 effective words/s\n",
      "2020-06-24 19:41:33,389 : INFO : EPOCH 17 - PROGRESS: at 21.76% examples, 476336 words/s, in_qsize 5, out_qsize 0\n",
      "2020-06-24 19:41:34,399 : INFO : EPOCH 17 - PROGRESS: at 44.19% examples, 483781 words/s, in_qsize 6, out_qsize 0\n",
      "2020-06-24 19:41:35,400 : INFO : EPOCH 17 - PROGRESS: at 67.73% examples, 494541 words/s, in_qsize 5, out_qsize 0\n",
      "2020-06-24 19:41:36,406 : INFO : EPOCH 17 - PROGRESS: at 90.44% examples, 495687 words/s, in_qsize 5, out_qsize 0\n",
      "2020-06-24 19:41:36,782 : INFO : worker thread finished; awaiting finish of 2 more threads\n",
      "2020-06-24 19:41:36,788 : INFO : worker thread finished; awaiting finish of 1 more threads\n",
      "2020-06-24 19:41:36,809 : INFO : worker thread finished; awaiting finish of 0 more threads\n",
      "2020-06-24 19:41:36,810 : INFO : EPOCH - 17 : training on 3060122 raw words (2210564 effective words) took 4.4s, 498414 effective words/s\n",
      "2020-06-24 19:41:37,823 : INFO : EPOCH 18 - PROGRESS: at 22.49% examples, 492078 words/s, in_qsize 5, out_qsize 0\n",
      "2020-06-24 19:41:38,833 : INFO : EPOCH 18 - PROGRESS: at 44.83% examples, 491465 words/s, in_qsize 6, out_qsize 0\n",
      "2020-06-24 19:41:39,860 : INFO : EPOCH 18 - PROGRESS: at 68.33% examples, 495508 words/s, in_qsize 6, out_qsize 0\n",
      "2020-06-24 19:41:40,878 : INFO : EPOCH 18 - PROGRESS: at 92.38% examples, 502086 words/s, in_qsize 5, out_qsize 0\n",
      "2020-06-24 19:41:41,166 : INFO : worker thread finished; awaiting finish of 2 more threads\n",
      "2020-06-24 19:41:41,181 : INFO : worker thread finished; awaiting finish of 1 more threads\n",
      "2020-06-24 19:41:41,193 : INFO : worker thread finished; awaiting finish of 0 more threads\n",
      "2020-06-24 19:41:41,194 : INFO : EPOCH - 18 : training on 3060122 raw words (2210321 effective words) took 4.4s, 504585 effective words/s\n",
      "2020-06-24 19:41:42,201 : INFO : EPOCH 19 - PROGRESS: at 23.14% examples, 509871 words/s, in_qsize 5, out_qsize 0\n",
      "2020-06-24 19:41:43,203 : INFO : EPOCH 19 - PROGRESS: at 45.50% examples, 502147 words/s, in_qsize 5, out_qsize 0\n",
      "2020-06-24 19:41:44,208 : INFO : EPOCH 19 - PROGRESS: at 68.98% examples, 506237 words/s, in_qsize 5, out_qsize 0\n",
      "2020-06-24 19:41:45,220 : INFO : EPOCH 19 - PROGRESS: at 90.21% examples, 494995 words/s, in_qsize 5, out_qsize 0\n",
      "2020-06-24 19:41:45,668 : INFO : worker thread finished; awaiting finish of 2 more threads\n",
      "2020-06-24 19:41:45,680 : INFO : worker thread finished; awaiting finish of 1 more threads\n"
     ]
    },
    {
     "name": "stderr",
     "output_type": "stream",
     "text": [
      "2020-06-24 19:41:45,690 : INFO : worker thread finished; awaiting finish of 0 more threads\n",
      "2020-06-24 19:41:45,691 : INFO : EPOCH - 19 : training on 3060122 raw words (2210500 effective words) took 4.5s, 491969 effective words/s\n",
      "2020-06-24 19:41:46,699 : INFO : EPOCH 20 - PROGRESS: at 22.13% examples, 488742 words/s, in_qsize 6, out_qsize 0\n",
      "2020-06-24 19:41:47,712 : INFO : EPOCH 20 - PROGRESS: at 45.43% examples, 499453 words/s, in_qsize 5, out_qsize 0\n",
      "2020-06-24 19:41:48,717 : INFO : EPOCH 20 - PROGRESS: at 68.66% examples, 502092 words/s, in_qsize 6, out_qsize 0\n",
      "2020-06-24 19:41:49,725 : INFO : EPOCH 20 - PROGRESS: at 90.21% examples, 494209 words/s, in_qsize 5, out_qsize 0\n",
      "2020-06-24 19:41:50,249 : INFO : worker thread finished; awaiting finish of 2 more threads\n",
      "2020-06-24 19:41:50,284 : INFO : worker thread finished; awaiting finish of 1 more threads\n",
      "2020-06-24 19:41:50,286 : INFO : worker thread finished; awaiting finish of 0 more threads\n",
      "2020-06-24 19:41:50,287 : INFO : EPOCH - 20 : training on 3060122 raw words (2210253 effective words) took 4.6s, 481563 effective words/s\n",
      "2020-06-24 19:41:50,289 : INFO : training on a 61202440 raw words (44210902 effective words) took 92.2s, 479591 effective words/s\n"
     ]
    }
   ],
   "source": [
    "model3.train(tagged_body_corpus, total_examples=model3.corpus_count, epochs=model3.epochs)"
   ]
  },
  {
   "cell_type": "code",
   "execution_count": 70,
   "metadata": {},
   "outputs": [
    {
     "name": "stderr",
     "output_type": "stream",
     "text": [
      "2020-06-24 19:46:29,409 : INFO : precomputing L2-norms of doc weight vectors\n"
     ]
    }
   ],
   "source": [
    "#ranks = []\n",
    "second_ranks = []\n",
    "for doc_id in range(len(tagged_body_corpus)):\n",
    "    inferred_vector = model3.infer_vector(tagged_body_corpus[doc_id].words)\n",
    "    sims = model3.docvecs.most_similar([inferred_vector], topn=6)\n",
    "    #rank = [docid for docid, sim in sims].index(doc_id)\n",
    "    #ranks.append(rank)\n",
    "\n",
    "    second_ranks.append(sims[1:6])"
   ]
  },
  {
   "cell_type": "code",
   "execution_count": 71,
   "metadata": {},
   "outputs": [],
   "source": [
    "df['closest_3']=second_ranks"
   ]
  },
  {
   "cell_type": "code",
   "execution_count": 72,
   "metadata": {},
   "outputs": [
    {
     "data": {
      "text/html": [
       "<div>\n",
       "<style scoped>\n",
       "    .dataframe tbody tr th:only-of-type {\n",
       "        vertical-align: middle;\n",
       "    }\n",
       "\n",
       "    .dataframe tbody tr th {\n",
       "        vertical-align: top;\n",
       "    }\n",
       "\n",
       "    .dataframe thead th {\n",
       "        text-align: right;\n",
       "    }\n",
       "</style>\n",
       "<table border=\"1\" class=\"dataframe\">\n",
       "  <thead>\n",
       "    <tr style=\"text-align: right;\">\n",
       "      <th></th>\n",
       "      <th>id</th>\n",
       "      <th>timestamp</th>\n",
       "      <th>title</th>\n",
       "      <th>body</th>\n",
       "      <th>edited</th>\n",
       "      <th>verdict</th>\n",
       "      <th>score</th>\n",
       "      <th>num_comments</th>\n",
       "      <th>is_asshole</th>\n",
       "      <th>closest</th>\n",
       "      <th>closest_2</th>\n",
       "      <th>closest_3</th>\n",
       "    </tr>\n",
       "  </thead>\n",
       "  <tbody>\n",
       "    <tr>\n",
       "      <th>0</th>\n",
       "      <td>arfcfl</td>\n",
       "      <td>1550365421</td>\n",
       "      <td>AITA - Getting Hugged At The Bar</td>\n",
       "      <td>\\n\\nThis all happened less than an hour ago.\\...</td>\n",
       "      <td>False</td>\n",
       "      <td>not the asshole</td>\n",
       "      <td>3</td>\n",
       "      <td>14</td>\n",
       "      <td>0</td>\n",
       "      <td>[(9183, 0.6428960561752319), (2899, 0.62857031...</td>\n",
       "      <td>[(698, 0.7019332647323608), (1216, 0.686856865...</td>\n",
       "      <td>[(783, 0.6587029695510864), (698, 0.6161628961...</td>\n",
       "    </tr>\n",
       "    <tr>\n",
       "      <th>1</th>\n",
       "      <td>cg8mxn</td>\n",
       "      <td>1563769917</td>\n",
       "      <td>AITA if i don't want to pay my friend 5 dollar...</td>\n",
       "      <td>So, my friend bought herself, our other friend...</td>\n",
       "      <td>False</td>\n",
       "      <td>asshole</td>\n",
       "      <td>11</td>\n",
       "      <td>42</td>\n",
       "      <td>1</td>\n",
       "      <td>[(274, 0.7211413383483887), (2055, 0.671388149...</td>\n",
       "      <td>[(6717, 0.7433499097824097), (5154, 0.74145698...</td>\n",
       "      <td>[(9998, 0.7197834253311157), (274, 0.715747237...</td>\n",
       "    </tr>\n",
       "    <tr>\n",
       "      <th>2</th>\n",
       "      <td>bajsje</td>\n",
       "      <td>1554663842</td>\n",
       "      <td>AITA For going to 'expensive' restaurants in s...</td>\n",
       "      <td>It's in Seattle if that matters. It seems peop...</td>\n",
       "      <td>1554686830.0</td>\n",
       "      <td>asshole</td>\n",
       "      <td>657</td>\n",
       "      <td>397</td>\n",
       "      <td>1</td>\n",
       "      <td>[(1787, 0.6626666188240051), (5066, 0.61901187...</td>\n",
       "      <td>[(2867, 0.6955191493034363), (6424, 0.68660163...</td>\n",
       "      <td>[(3129, 0.6332093477249146), (2867, 0.62682551...</td>\n",
       "    </tr>\n",
       "    <tr>\n",
       "      <th>3</th>\n",
       "      <td>cq6voc</td>\n",
       "      <td>1565771883</td>\n",
       "      <td>AITA for wanting \"free gas\", due to an attenda...</td>\n",
       "      <td>I was with my dad and driving the family car w...</td>\n",
       "      <td>1565773989.0</td>\n",
       "      <td>not the asshole</td>\n",
       "      <td>49</td>\n",
       "      <td>40</td>\n",
       "      <td>0</td>\n",
       "      <td>[(841, 0.7011508941650391), (2784, 0.677301526...</td>\n",
       "      <td>[(5534, 0.7588502168655396), (9406, 0.75868499...</td>\n",
       "      <td>[(841, 0.7259893417358398), (1171, 0.708146810...</td>\n",
       "    </tr>\n",
       "    <tr>\n",
       "      <th>4</th>\n",
       "      <td>bz4m2k</td>\n",
       "      <td>1560207411</td>\n",
       "      <td>AITA I asked my dad to replace the fuel that h...</td>\n",
       "      <td>Am I the asshole for asking my dad to replace ...</td>\n",
       "      <td>False</td>\n",
       "      <td>not the asshole</td>\n",
       "      <td>4</td>\n",
       "      <td>10</td>\n",
       "      <td>0</td>\n",
       "      <td>[(531, 0.7264883518218994), (5513, 0.706307172...</td>\n",
       "      <td>[(531, 0.8083807229995728), (2102, 0.744412183...</td>\n",
       "      <td>[(531, 0.7147799730300903), (6573, 0.672926843...</td>\n",
       "    </tr>\n",
       "  </tbody>\n",
       "</table>\n",
       "</div>"
      ],
      "text/plain": [
       "       id   timestamp                                              title  \\\n",
       "0  arfcfl  1550365421                   AITA - Getting Hugged At The Bar   \n",
       "1  cg8mxn  1563769917  AITA if i don't want to pay my friend 5 dollar...   \n",
       "2  bajsje  1554663842  AITA For going to 'expensive' restaurants in s...   \n",
       "3  cq6voc  1565771883  AITA for wanting \"free gas\", due to an attenda...   \n",
       "4  bz4m2k  1560207411  AITA I asked my dad to replace the fuel that h...   \n",
       "\n",
       "                                                body        edited  \\\n",
       "0   \\n\\nThis all happened less than an hour ago.\\...         False   \n",
       "1  So, my friend bought herself, our other friend...         False   \n",
       "2  It's in Seattle if that matters. It seems peop...  1554686830.0   \n",
       "3  I was with my dad and driving the family car w...  1565773989.0   \n",
       "4  Am I the asshole for asking my dad to replace ...         False   \n",
       "\n",
       "           verdict  score  num_comments  is_asshole  \\\n",
       "0  not the asshole      3            14           0   \n",
       "1          asshole     11            42           1   \n",
       "2          asshole    657           397           1   \n",
       "3  not the asshole     49            40           0   \n",
       "4  not the asshole      4            10           0   \n",
       "\n",
       "                                             closest  \\\n",
       "0  [(9183, 0.6428960561752319), (2899, 0.62857031...   \n",
       "1  [(274, 0.7211413383483887), (2055, 0.671388149...   \n",
       "2  [(1787, 0.6626666188240051), (5066, 0.61901187...   \n",
       "3  [(841, 0.7011508941650391), (2784, 0.677301526...   \n",
       "4  [(531, 0.7264883518218994), (5513, 0.706307172...   \n",
       "\n",
       "                                           closest_2  \\\n",
       "0  [(698, 0.7019332647323608), (1216, 0.686856865...   \n",
       "1  [(6717, 0.7433499097824097), (5154, 0.74145698...   \n",
       "2  [(2867, 0.6955191493034363), (6424, 0.68660163...   \n",
       "3  [(5534, 0.7588502168655396), (9406, 0.75868499...   \n",
       "4  [(531, 0.8083807229995728), (2102, 0.744412183...   \n",
       "\n",
       "                                           closest_3  \n",
       "0  [(783, 0.6587029695510864), (698, 0.6161628961...  \n",
       "1  [(9998, 0.7197834253311157), (274, 0.715747237...  \n",
       "2  [(3129, 0.6332093477249146), (2867, 0.62682551...  \n",
       "3  [(841, 0.7259893417358398), (1171, 0.708146810...  \n",
       "4  [(531, 0.7147799730300903), (6573, 0.672926843...  "
      ]
     },
     "execution_count": 72,
     "metadata": {},
     "output_type": "execute_result"
    }
   ],
   "source": [
    "df.head()"
   ]
  },
  {
   "cell_type": "code",
   "execution_count": 73,
   "metadata": {},
   "outputs": [],
   "source": [
    "def closest_asshole(row,n=1):\n",
    "    \n",
    "    closest_is_asshole=0\n",
    "    for i in range(n):\n",
    "        closest=row.closest_3[i][0]\n",
    "        closest_is_asshole += df.iloc[closest]['is_asshole']\n",
    "    row['closest_is_asshole_3'] = round(closest_is_asshole/n)\n",
    "    \n",
    "    return row"
   ]
  },
  {
   "cell_type": "code",
   "execution_count": 74,
   "metadata": {},
   "outputs": [],
   "source": [
    "df_with_closest_3 = df.apply(closest_asshole, axis =1)"
   ]
  },
  {
   "cell_type": "code",
   "execution_count": 75,
   "metadata": {},
   "outputs": [],
   "source": [
    "df_with_closest_3['difference'] = abs(df_with_closest_3.is_asshole - df_with_closest_3.closest_is_asshole_3)"
   ]
  },
  {
   "cell_type": "code",
   "execution_count": 76,
   "metadata": {},
   "outputs": [
    {
     "data": {
      "text/plain": [
       "3643.0"
      ]
     },
     "execution_count": 76,
     "metadata": {},
     "output_type": "execute_result"
    }
   ],
   "source": [
    "df_with_closest_3.difference.sum() #number of wrong predictions using only the closest vector"
   ]
  },
  {
   "cell_type": "code",
   "execution_count": null,
   "metadata": {},
   "outputs": [],
   "source": []
  },
  {
   "cell_type": "code",
   "execution_count": 77,
   "metadata": {},
   "outputs": [],
   "source": [
    "def closest_asshole(row,n=3):\n",
    "    \n",
    "    closest_is_asshole=0\n",
    "    for i in range(n):\n",
    "        closest=row.closest_3[i][0]\n",
    "        closest_is_asshole += df.iloc[closest]['is_asshole']\n",
    "    row['closest_is_asshole_2'] = round(closest_is_asshole/n)\n",
    "    \n",
    "    return row"
   ]
  },
  {
   "cell_type": "code",
   "execution_count": 78,
   "metadata": {},
   "outputs": [],
   "source": [
    "df_with_closest_three_3 = df.apply(closest_asshole, axis =1)"
   ]
  },
  {
   "cell_type": "code",
   "execution_count": 80,
   "metadata": {},
   "outputs": [],
   "source": [
    "df_with_closest_three_3['difference'] = abs(df_with_closest_three_3.is_asshole - df_with_closest_three_3.closest_is_asshole_2)"
   ]
  },
  {
   "cell_type": "code",
   "execution_count": 81,
   "metadata": {},
   "outputs": [
    {
     "data": {
      "text/plain": [
       "3243.0"
      ]
     },
     "execution_count": 81,
     "metadata": {},
     "output_type": "execute_result"
    }
   ],
   "source": [
    "df_with_closest_three_3.difference.sum() #number of wrong predictions using only the closest vector"
   ]
  },
  {
   "cell_type": "code",
   "execution_count": null,
   "metadata": {},
   "outputs": [],
   "source": []
  },
  {
   "cell_type": "code",
   "execution_count": 82,
   "metadata": {},
   "outputs": [],
   "source": [
    "def closest_asshole(row,n=5):\n",
    "    \n",
    "    closest_is_asshole=0\n",
    "    for i in range(n):\n",
    "        closest=row.closest_3[i][0]\n",
    "        closest_is_asshole += df.iloc[closest]['is_asshole']\n",
    "    row['closest_is_asshole_3'] = round(closest_is_asshole/n)\n",
    "    \n",
    "    return row"
   ]
  },
  {
   "cell_type": "code",
   "execution_count": 83,
   "metadata": {},
   "outputs": [],
   "source": [
    "df_with_closest_five_3 = df.apply(closest_asshole, axis =1)"
   ]
  },
  {
   "cell_type": "code",
   "execution_count": 84,
   "metadata": {},
   "outputs": [],
   "source": [
    "df_with_closest_five_3['difference'] = abs(df_with_closest_five_3.is_asshole - df_with_closest_five_3.closest_is_asshole_3)"
   ]
  },
  {
   "cell_type": "code",
   "execution_count": 85,
   "metadata": {},
   "outputs": [
    {
     "data": {
      "text/plain": [
       "3044.0"
      ]
     },
     "execution_count": 85,
     "metadata": {},
     "output_type": "execute_result"
    }
   ],
   "source": [
    "df_with_closest_five_3.difference.sum() #number of wrong predictions using only the closest vector"
   ]
  },
  {
   "cell_type": "code",
   "execution_count": 90,
   "metadata": {},
   "outputs": [
    {
     "data": {
      "text/html": [
       "<div>\n",
       "<style scoped>\n",
       "    .dataframe tbody tr th:only-of-type {\n",
       "        vertical-align: middle;\n",
       "    }\n",
       "\n",
       "    .dataframe tbody tr th {\n",
       "        vertical-align: top;\n",
       "    }\n",
       "\n",
       "    .dataframe thead th {\n",
       "        text-align: right;\n",
       "    }\n",
       "</style>\n",
       "<table border=\"1\" class=\"dataframe\">\n",
       "  <thead>\n",
       "    <tr style=\"text-align: right;\">\n",
       "      <th></th>\n",
       "      <th></th>\n",
       "      <th>id</th>\n",
       "      <th>timestamp</th>\n",
       "      <th>title</th>\n",
       "      <th>body</th>\n",
       "      <th>edited</th>\n",
       "      <th>verdict</th>\n",
       "      <th>score</th>\n",
       "      <th>num_comments</th>\n",
       "      <th>closest</th>\n",
       "      <th>closest_2</th>\n",
       "      <th>closest_3</th>\n",
       "      <th>difference</th>\n",
       "    </tr>\n",
       "    <tr>\n",
       "      <th>is_asshole</th>\n",
       "      <th>closest_is_asshole_3</th>\n",
       "      <th></th>\n",
       "      <th></th>\n",
       "      <th></th>\n",
       "      <th></th>\n",
       "      <th></th>\n",
       "      <th></th>\n",
       "      <th></th>\n",
       "      <th></th>\n",
       "      <th></th>\n",
       "      <th></th>\n",
       "      <th></th>\n",
       "      <th></th>\n",
       "    </tr>\n",
       "  </thead>\n",
       "  <tbody>\n",
       "    <tr>\n",
       "      <th rowspan=\"2\" valign=\"top\">0</th>\n",
       "      <th>0.0</th>\n",
       "      <td>5620</td>\n",
       "      <td>5620</td>\n",
       "      <td>5620</td>\n",
       "      <td>5620</td>\n",
       "      <td>5620</td>\n",
       "      <td>5620</td>\n",
       "      <td>5620</td>\n",
       "      <td>5620</td>\n",
       "      <td>5620</td>\n",
       "      <td>5620</td>\n",
       "      <td>5620</td>\n",
       "      <td>5620</td>\n",
       "    </tr>\n",
       "    <tr>\n",
       "      <th>1.0</th>\n",
       "      <td>1787</td>\n",
       "      <td>1787</td>\n",
       "      <td>1787</td>\n",
       "      <td>1785</td>\n",
       "      <td>1787</td>\n",
       "      <td>1787</td>\n",
       "      <td>1787</td>\n",
       "      <td>1787</td>\n",
       "      <td>1787</td>\n",
       "      <td>1787</td>\n",
       "      <td>1787</td>\n",
       "      <td>1787</td>\n",
       "    </tr>\n",
       "    <tr>\n",
       "      <th rowspan=\"2\" valign=\"top\">1</th>\n",
       "      <th>0.0</th>\n",
       "      <td>1856</td>\n",
       "      <td>1856</td>\n",
       "      <td>1856</td>\n",
       "      <td>1854</td>\n",
       "      <td>1856</td>\n",
       "      <td>1856</td>\n",
       "      <td>1856</td>\n",
       "      <td>1856</td>\n",
       "      <td>1856</td>\n",
       "      <td>1856</td>\n",
       "      <td>1856</td>\n",
       "      <td>1856</td>\n",
       "    </tr>\n",
       "    <tr>\n",
       "      <th>1.0</th>\n",
       "      <td>737</td>\n",
       "      <td>737</td>\n",
       "      <td>737</td>\n",
       "      <td>734</td>\n",
       "      <td>737</td>\n",
       "      <td>737</td>\n",
       "      <td>737</td>\n",
       "      <td>737</td>\n",
       "      <td>737</td>\n",
       "      <td>737</td>\n",
       "      <td>737</td>\n",
       "      <td>737</td>\n",
       "    </tr>\n",
       "  </tbody>\n",
       "</table>\n",
       "</div>"
      ],
      "text/plain": [
       "                                   id  timestamp  title  body  edited  \\\n",
       "is_asshole closest_is_asshole_3                                         \n",
       "0          0.0                   5620       5620   5620  5620    5620   \n",
       "           1.0                   1787       1787   1787  1785    1787   \n",
       "1          0.0                   1856       1856   1856  1854    1856   \n",
       "           1.0                    737        737    737   734     737   \n",
       "\n",
       "                                 verdict  score  num_comments  closest  \\\n",
       "is_asshole closest_is_asshole_3                                          \n",
       "0          0.0                      5620   5620          5620     5620   \n",
       "           1.0                      1787   1787          1787     1787   \n",
       "1          0.0                      1856   1856          1856     1856   \n",
       "           1.0                       737    737           737      737   \n",
       "\n",
       "                                 closest_2  closest_3  difference  \n",
       "is_asshole closest_is_asshole_3                                    \n",
       "0          0.0                        5620       5620        5620  \n",
       "           1.0                        1787       1787        1787  \n",
       "1          0.0                        1856       1856        1856  \n",
       "           1.0                         737        737         737  "
      ]
     },
     "execution_count": 90,
     "metadata": {},
     "output_type": "execute_result"
    }
   ],
   "source": [
    "df_with_closest_3.groupby(['is_asshole','closest_is_asshole_3']).count()"
   ]
  },
  {
   "cell_type": "code",
   "execution_count": 92,
   "metadata": {},
   "outputs": [
    {
     "data": {
      "text/html": [
       "<div>\n",
       "<style scoped>\n",
       "    .dataframe tbody tr th:only-of-type {\n",
       "        vertical-align: middle;\n",
       "    }\n",
       "\n",
       "    .dataframe tbody tr th {\n",
       "        vertical-align: top;\n",
       "    }\n",
       "\n",
       "    .dataframe thead th {\n",
       "        text-align: right;\n",
       "    }\n",
       "</style>\n",
       "<table border=\"1\" class=\"dataframe\">\n",
       "  <thead>\n",
       "    <tr style=\"text-align: right;\">\n",
       "      <th></th>\n",
       "      <th></th>\n",
       "      <th>id</th>\n",
       "      <th>timestamp</th>\n",
       "      <th>title</th>\n",
       "      <th>body</th>\n",
       "      <th>edited</th>\n",
       "      <th>verdict</th>\n",
       "      <th>score</th>\n",
       "      <th>num_comments</th>\n",
       "      <th>closest</th>\n",
       "      <th>difference</th>\n",
       "    </tr>\n",
       "    <tr>\n",
       "      <th>is_asshole</th>\n",
       "      <th>closest_is_asshole</th>\n",
       "      <th></th>\n",
       "      <th></th>\n",
       "      <th></th>\n",
       "      <th></th>\n",
       "      <th></th>\n",
       "      <th></th>\n",
       "      <th></th>\n",
       "      <th></th>\n",
       "      <th></th>\n",
       "      <th></th>\n",
       "    </tr>\n",
       "  </thead>\n",
       "  <tbody>\n",
       "    <tr>\n",
       "      <th rowspan=\"2\" valign=\"top\">0</th>\n",
       "      <th>0.0</th>\n",
       "      <td>5534</td>\n",
       "      <td>5534</td>\n",
       "      <td>5534</td>\n",
       "      <td>5533</td>\n",
       "      <td>5534</td>\n",
       "      <td>5534</td>\n",
       "      <td>5534</td>\n",
       "      <td>5534</td>\n",
       "      <td>5534</td>\n",
       "      <td>5534</td>\n",
       "    </tr>\n",
       "    <tr>\n",
       "      <th>1.0</th>\n",
       "      <td>1873</td>\n",
       "      <td>1873</td>\n",
       "      <td>1873</td>\n",
       "      <td>1872</td>\n",
       "      <td>1873</td>\n",
       "      <td>1873</td>\n",
       "      <td>1873</td>\n",
       "      <td>1873</td>\n",
       "      <td>1873</td>\n",
       "      <td>1873</td>\n",
       "    </tr>\n",
       "    <tr>\n",
       "      <th rowspan=\"2\" valign=\"top\">1</th>\n",
       "      <th>0.0</th>\n",
       "      <td>1834</td>\n",
       "      <td>1834</td>\n",
       "      <td>1834</td>\n",
       "      <td>1832</td>\n",
       "      <td>1834</td>\n",
       "      <td>1834</td>\n",
       "      <td>1834</td>\n",
       "      <td>1834</td>\n",
       "      <td>1834</td>\n",
       "      <td>1834</td>\n",
       "    </tr>\n",
       "    <tr>\n",
       "      <th>1.0</th>\n",
       "      <td>759</td>\n",
       "      <td>759</td>\n",
       "      <td>759</td>\n",
       "      <td>756</td>\n",
       "      <td>759</td>\n",
       "      <td>759</td>\n",
       "      <td>759</td>\n",
       "      <td>759</td>\n",
       "      <td>759</td>\n",
       "      <td>759</td>\n",
       "    </tr>\n",
       "  </tbody>\n",
       "</table>\n",
       "</div>"
      ],
      "text/plain": [
       "                                 id  timestamp  title  body  edited  verdict  \\\n",
       "is_asshole closest_is_asshole                                                  \n",
       "0          0.0                 5534       5534   5534  5533    5534     5534   \n",
       "           1.0                 1873       1873   1873  1872    1873     1873   \n",
       "1          0.0                 1834       1834   1834  1832    1834     1834   \n",
       "           1.0                  759        759    759   756     759      759   \n",
       "\n",
       "                               score  num_comments  closest  difference  \n",
       "is_asshole closest_is_asshole                                            \n",
       "0          0.0                  5534          5534     5534        5534  \n",
       "           1.0                  1873          1873     1873        1873  \n",
       "1          0.0                  1834          1834     1834        1834  \n",
       "           1.0                   759           759      759         759  "
      ]
     },
     "execution_count": 92,
     "metadata": {},
     "output_type": "execute_result"
    }
   ],
   "source": [
    "df_with_closest.groupby(['is_asshole','closest_is_asshole']).count()"
   ]
  },
  {
   "cell_type": "code",
   "execution_count": null,
   "metadata": {},
   "outputs": [],
   "source": []
  },
  {
   "cell_type": "code",
   "execution_count": null,
   "metadata": {},
   "outputs": [],
   "source": []
  },
  {
   "cell_type": "code",
   "execution_count": 47,
   "metadata": {},
   "outputs": [],
   "source": [
    "def model_results(dimensions, min_count, epochs=20):\n",
    "    model = gensim.models.doc2vec.Doc2Vec(vector_size=dimensions, min_count=min_count, epochs=epochs)\n",
    "    model.build_vocab(tagged_body_corpus)\n",
    "    model.train(tagged_body_corpus, total_examples=model.corpus_count, epochs=model.epochs)\n",
    "    \n",
    "    #ranks = []\n",
    "    second_ranks = []\n",
    "    for doc_id in range(len(tagged_body_corpus)):\n",
    "        inferred_vector = model.infer_vector(tagged_body_corpus[doc_id].words)\n",
    "        sims = model.docvecs.most_similar([inferred_vector], topn=2)\n",
    "        \n",
    "        second_ranks.append(sims[1])\n",
    "    \n",
    "    return np.array([x[1] for x in second_ranks]).mean() #mean of the second closest vector"
   ]
  },
  {
   "cell_type": "code",
   "execution_count": 48,
   "metadata": {},
   "outputs": [
    {
     "name": "stderr",
     "output_type": "stream",
     "text": [
      "2020-06-23 18:33:52,398 : INFO : collecting all words and their counts\n",
      "2020-06-23 18:33:52,400 : INFO : PROGRESS: at example #0, processed 0 words (0/s), 0 word types, 0 tags\n",
      "2020-06-23 18:33:53,064 : INFO : collected 30512 word types and 10000 unique tags from a corpus of 10000 examples and 3060122 words\n",
      "2020-06-23 18:33:53,065 : INFO : Loading a fresh vocabulary\n",
      "2020-06-23 18:33:53,101 : INFO : effective_min_count=15 retains 6569 unique words (21% of original 30512, drops 23943)\n",
      "2020-06-23 18:33:53,103 : INFO : effective_min_count=15 leaves 2983673 word corpus (97% of original 3060122, drops 76449)\n",
      "2020-06-23 18:33:53,148 : INFO : deleting the raw counts dictionary of 30512 items\n",
      "2020-06-23 18:33:53,149 : INFO : sample=0.001 downsamples 62 most-common words\n",
      "2020-06-23 18:33:53,151 : INFO : downsampling leaves estimated 2178253 word corpus (73.0% of prior 2983673)\n",
      "2020-06-23 18:33:53,184 : INFO : estimated required memory for 6569 words and 40 dimensions: 6986580 bytes\n",
      "2020-06-23 18:33:53,185 : INFO : resetting layer weights\n",
      "2020-06-23 18:33:58,204 : INFO : training model with 3 workers on 6569 vocabulary and 40 features, using sg=0 hs=0 sample=0.001 negative=5 window=5\n",
      "2020-06-23 18:33:59,228 : INFO : EPOCH 1 - PROGRESS: at 24.74% examples, 529932 words/s, in_qsize 5, out_qsize 0\n",
      "2020-06-23 18:34:00,239 : INFO : EPOCH 1 - PROGRESS: at 53.47% examples, 577227 words/s, in_qsize 5, out_qsize 0\n",
      "2020-06-23 18:34:01,244 : INFO : EPOCH 1 - PROGRESS: at 83.39% examples, 600646 words/s, in_qsize 5, out_qsize 0\n",
      "2020-06-23 18:34:01,789 : INFO : worker thread finished; awaiting finish of 2 more threads\n",
      "2020-06-23 18:34:01,802 : INFO : worker thread finished; awaiting finish of 1 more threads\n",
      "2020-06-23 18:34:01,809 : INFO : worker thread finished; awaiting finish of 0 more threads\n",
      "2020-06-23 18:34:01,810 : INFO : EPOCH - 1 : training on 3060122 raw words (2189297 effective words) took 3.6s, 607580 effective words/s\n",
      "2020-06-23 18:34:02,816 : INFO : EPOCH 2 - PROGRESS: at 29.25% examples, 638322 words/s, in_qsize 5, out_qsize 0\n",
      "2020-06-23 18:34:03,816 : INFO : EPOCH 2 - PROGRESS: at 59.09% examples, 648231 words/s, in_qsize 5, out_qsize 0\n",
      "2020-06-23 18:34:04,822 : INFO : EPOCH 2 - PROGRESS: at 88.67% examples, 643427 words/s, in_qsize 5, out_qsize 0\n",
      "2020-06-23 18:34:05,181 : INFO : worker thread finished; awaiting finish of 2 more threads\n",
      "2020-06-23 18:34:05,196 : INFO : worker thread finished; awaiting finish of 1 more threads\n",
      "2020-06-23 18:34:05,204 : INFO : worker thread finished; awaiting finish of 0 more threads\n",
      "2020-06-23 18:34:05,205 : INFO : EPOCH - 2 : training on 3060122 raw words (2188099 effective words) took 3.4s, 645187 effective words/s\n",
      "2020-06-23 18:34:06,218 : INFO : EPOCH 3 - PROGRESS: at 29.60% examples, 640367 words/s, in_qsize 5, out_qsize 0\n",
      "2020-06-23 18:34:07,223 : INFO : EPOCH 3 - PROGRESS: at 55.37% examples, 602469 words/s, in_qsize 5, out_qsize 0\n",
      "2020-06-23 18:34:08,257 : INFO : EPOCH 3 - PROGRESS: at 75.60% examples, 542826 words/s, in_qsize 5, out_qsize 0\n",
      "2020-06-23 18:34:09,262 : INFO : EPOCH 3 - PROGRESS: at 89.03% examples, 479314 words/s, in_qsize 5, out_qsize 0\n",
      "2020-06-23 18:34:09,949 : INFO : worker thread finished; awaiting finish of 2 more threads\n",
      "2020-06-23 18:34:09,955 : INFO : worker thread finished; awaiting finish of 1 more threads\n",
      "2020-06-23 18:34:09,962 : INFO : worker thread finished; awaiting finish of 0 more threads\n",
      "2020-06-23 18:34:09,963 : INFO : EPOCH - 3 : training on 3060122 raw words (2188112 effective words) took 4.8s, 460277 effective words/s\n",
      "2020-06-23 18:34:10,987 : INFO : EPOCH 4 - PROGRESS: at 19.50% examples, 420344 words/s, in_qsize 5, out_qsize 0\n",
      "2020-06-23 18:34:12,006 : INFO : EPOCH 4 - PROGRESS: at 39.79% examples, 426946 words/s, in_qsize 5, out_qsize 0\n",
      "2020-06-23 18:34:13,010 : INFO : EPOCH 4 - PROGRESS: at 65.01% examples, 467994 words/s, in_qsize 5, out_qsize 0\n",
      "2020-06-23 18:34:14,021 : INFO : EPOCH 4 - PROGRESS: at 90.44% examples, 487807 words/s, in_qsize 5, out_qsize 0\n",
      "2020-06-23 18:34:14,361 : INFO : worker thread finished; awaiting finish of 2 more threads\n",
      "2020-06-23 18:34:14,372 : INFO : worker thread finished; awaiting finish of 1 more threads\n",
      "2020-06-23 18:34:14,378 : INFO : worker thread finished; awaiting finish of 0 more threads\n",
      "2020-06-23 18:34:14,380 : INFO : EPOCH - 4 : training on 3060122 raw words (2188388 effective words) took 4.4s, 495910 effective words/s\n",
      "2020-06-23 18:34:15,387 : INFO : EPOCH 5 - PROGRESS: at 25.99% examples, 567206 words/s, in_qsize 5, out_qsize 0\n",
      "2020-06-23 18:34:16,395 : INFO : EPOCH 5 - PROGRESS: at 49.62% examples, 540902 words/s, in_qsize 5, out_qsize 0\n",
      "2020-06-23 18:34:17,422 : INFO : EPOCH 5 - PROGRESS: at 76.92% examples, 554030 words/s, in_qsize 4, out_qsize 1\n",
      "2020-06-23 18:34:18,398 : INFO : worker thread finished; awaiting finish of 2 more threads\n",
      "2020-06-23 18:34:18,404 : INFO : worker thread finished; awaiting finish of 1 more threads\n",
      "2020-06-23 18:34:18,423 : INFO : EPOCH 5 - PROGRESS: at 100.00% examples, 542034 words/s, in_qsize 0, out_qsize 1\n",
      "2020-06-23 18:34:18,423 : INFO : worker thread finished; awaiting finish of 0 more threads\n",
      "2020-06-23 18:34:18,424 : INFO : EPOCH - 5 : training on 3060122 raw words (2189274 effective words) took 4.0s, 541787 effective words/s\n",
      "2020-06-23 18:34:19,447 : INFO : EPOCH 6 - PROGRESS: at 20.84% examples, 448521 words/s, in_qsize 5, out_qsize 0\n",
      "2020-06-23 18:34:20,450 : INFO : EPOCH 6 - PROGRESS: at 36.65% examples, 395996 words/s, in_qsize 5, out_qsize 0\n",
      "2020-06-23 18:34:21,454 : INFO : EPOCH 6 - PROGRESS: at 57.53% examples, 417494 words/s, in_qsize 5, out_qsize 0\n",
      "2020-06-23 18:34:22,469 : INFO : EPOCH 6 - PROGRESS: at 79.18% examples, 428616 words/s, in_qsize 6, out_qsize 0\n",
      "2020-06-23 18:34:23,475 : INFO : EPOCH 6 - PROGRESS: at 95.62% examples, 414139 words/s, in_qsize 6, out_qsize 0\n",
      "2020-06-23 18:34:23,729 : INFO : worker thread finished; awaiting finish of 2 more threads\n",
      "2020-06-23 18:34:23,743 : INFO : worker thread finished; awaiting finish of 1 more threads\n",
      "2020-06-23 18:34:23,770 : INFO : worker thread finished; awaiting finish of 0 more threads\n",
      "2020-06-23 18:34:23,771 : INFO : EPOCH - 6 : training on 3060122 raw words (2188231 effective words) took 5.3s, 409560 effective words/s\n",
      "2020-06-23 18:34:24,797 : INFO : EPOCH 7 - PROGRESS: at 14.73% examples, 319559 words/s, in_qsize 5, out_qsize 0\n",
      "2020-06-23 18:34:25,804 : INFO : EPOCH 7 - PROGRESS: at 29.60% examples, 320669 words/s, in_qsize 5, out_qsize 0\n",
      "2020-06-23 18:34:26,820 : INFO : EPOCH 7 - PROGRESS: at 41.94% examples, 303207 words/s, in_qsize 5, out_qsize 0\n",
      "2020-06-23 18:34:27,844 : INFO : EPOCH 7 - PROGRESS: at 52.91% examples, 285658 words/s, in_qsize 5, out_qsize 0\n",
      "2020-06-23 18:34:28,865 : INFO : EPOCH 7 - PROGRESS: at 64.68% examples, 279102 words/s, in_qsize 5, out_qsize 0\n",
      "2020-06-23 18:34:29,897 : INFO : EPOCH 7 - PROGRESS: at 76.92% examples, 275523 words/s, in_qsize 5, out_qsize 0\n",
      "2020-06-23 18:34:30,915 : INFO : EPOCH 7 - PROGRESS: at 92.05% examples, 282506 words/s, in_qsize 5, out_qsize 0\n",
      "2020-06-23 18:34:31,590 : INFO : worker thread finished; awaiting finish of 2 more threads\n",
      "2020-06-23 18:34:31,592 : INFO : worker thread finished; awaiting finish of 1 more threads\n",
      "2020-06-23 18:34:31,607 : INFO : worker thread finished; awaiting finish of 0 more threads\n",
      "2020-06-23 18:34:31,608 : INFO : EPOCH - 7 : training on 3060122 raw words (2189239 effective words) took 7.8s, 279892 effective words/s\n",
      "2020-06-23 18:34:32,627 : INFO : EPOCH 8 - PROGRESS: at 22.49% examples, 485474 words/s, in_qsize 5, out_qsize 0\n",
      "2020-06-23 18:34:33,644 : INFO : EPOCH 8 - PROGRESS: at 45.79% examples, 494303 words/s, in_qsize 5, out_qsize 0\n",
      "2020-06-23 18:34:34,653 : INFO : EPOCH 8 - PROGRESS: at 63.43% examples, 456874 words/s, in_qsize 6, out_qsize 0\n",
      "2020-06-23 18:34:35,679 : INFO : EPOCH 8 - PROGRESS: at 86.32% examples, 464029 words/s, in_qsize 5, out_qsize 0\n",
      "2020-06-23 18:34:36,384 : INFO : worker thread finished; awaiting finish of 2 more threads\n",
      "2020-06-23 18:34:36,400 : INFO : worker thread finished; awaiting finish of 1 more threads\n",
      "2020-06-23 18:34:36,420 : INFO : worker thread finished; awaiting finish of 0 more threads\n",
      "2020-06-23 18:34:36,421 : INFO : EPOCH - 8 : training on 3060122 raw words (2188364 effective words) took 4.8s, 455077 effective words/s\n"
     ]
    },
    {
     "name": "stderr",
     "output_type": "stream",
     "text": [
      "2020-06-23 18:34:37,434 : INFO : EPOCH 9 - PROGRESS: at 24.45% examples, 533575 words/s, in_qsize 5, out_qsize 0\n",
      "2020-06-23 18:34:38,465 : INFO : EPOCH 9 - PROGRESS: at 47.02% examples, 507501 words/s, in_qsize 5, out_qsize 0\n",
      "2020-06-23 18:34:39,485 : INFO : EPOCH 9 - PROGRESS: at 66.37% examples, 475957 words/s, in_qsize 5, out_qsize 1\n",
      "2020-06-23 18:34:40,510 : INFO : EPOCH 9 - PROGRESS: at 82.13% examples, 440430 words/s, in_qsize 5, out_qsize 0\n",
      "2020-06-23 18:34:41,590 : INFO : EPOCH 9 - PROGRESS: at 98.36% examples, 417626 words/s, in_qsize 5, out_qsize 0\n",
      "2020-06-23 18:34:41,688 : INFO : worker thread finished; awaiting finish of 2 more threads\n",
      "2020-06-23 18:34:41,700 : INFO : worker thread finished; awaiting finish of 1 more threads\n",
      "2020-06-23 18:34:41,754 : INFO : worker thread finished; awaiting finish of 0 more threads\n",
      "2020-06-23 18:34:41,755 : INFO : EPOCH - 9 : training on 3060122 raw words (2189019 effective words) took 5.3s, 411252 effective words/s\n",
      "2020-06-23 18:34:42,786 : INFO : EPOCH 10 - PROGRESS: at 11.66% examples, 249466 words/s, in_qsize 5, out_qsize 0\n",
      "2020-06-23 18:34:43,802 : INFO : EPOCH 10 - PROGRESS: at 22.49% examples, 242384 words/s, in_qsize 5, out_qsize 0\n",
      "2020-06-23 18:34:44,806 : INFO : EPOCH 10 - PROGRESS: at 37.27% examples, 268394 words/s, in_qsize 5, out_qsize 0\n",
      "2020-06-23 18:34:45,808 : INFO : EPOCH 10 - PROGRESS: at 67.04% examples, 363384 words/s, in_qsize 5, out_qsize 0\n",
      "2020-06-23 18:34:46,824 : INFO : EPOCH 10 - PROGRESS: at 83.70% examples, 362405 words/s, in_qsize 5, out_qsize 0\n",
      "2020-06-23 18:34:47,737 : INFO : worker thread finished; awaiting finish of 2 more threads\n",
      "2020-06-23 18:34:47,782 : INFO : worker thread finished; awaiting finish of 1 more threads\n",
      "2020-06-23 18:34:47,783 : INFO : worker thread finished; awaiting finish of 0 more threads\n",
      "2020-06-23 18:34:47,784 : INFO : EPOCH - 10 : training on 3060122 raw words (2188366 effective words) took 6.0s, 363964 effective words/s\n",
      "2020-06-23 18:34:48,803 : INFO : EPOCH 11 - PROGRESS: at 25.34% examples, 548034 words/s, in_qsize 5, out_qsize 0\n",
      "2020-06-23 18:34:49,817 : INFO : EPOCH 11 - PROGRESS: at 53.80% examples, 582011 words/s, in_qsize 5, out_qsize 0\n",
      "2020-06-23 18:34:50,824 : INFO : EPOCH 11 - PROGRESS: at 77.87% examples, 561783 words/s, in_qsize 5, out_qsize 0\n",
      "2020-06-23 18:34:51,563 : INFO : worker thread finished; awaiting finish of 2 more threads\n",
      "2020-06-23 18:34:51,565 : INFO : worker thread finished; awaiting finish of 1 more threads\n",
      "2020-06-23 18:34:51,579 : INFO : worker thread finished; awaiting finish of 0 more threads\n",
      "2020-06-23 18:34:51,580 : INFO : EPOCH - 11 : training on 3060122 raw words (2187612 effective words) took 3.8s, 577490 effective words/s\n",
      "2020-06-23 18:34:52,595 : INFO : EPOCH 12 - PROGRESS: at 27.57% examples, 596800 words/s, in_qsize 5, out_qsize 0\n",
      "2020-06-23 18:34:53,607 : INFO : EPOCH 12 - PROGRESS: at 55.66% examples, 603364 words/s, in_qsize 5, out_qsize 0\n",
      "2020-06-23 18:34:54,611 : INFO : EPOCH 12 - PROGRESS: at 86.00% examples, 620889 words/s, in_qsize 6, out_qsize 0\n",
      "2020-06-23 18:34:55,053 : INFO : worker thread finished; awaiting finish of 2 more threads\n",
      "2020-06-23 18:34:55,058 : INFO : worker thread finished; awaiting finish of 1 more threads\n",
      "2020-06-23 18:34:55,071 : INFO : worker thread finished; awaiting finish of 0 more threads\n",
      "2020-06-23 18:34:55,072 : INFO : EPOCH - 12 : training on 3060122 raw words (2189116 effective words) took 3.5s, 627415 effective words/s\n",
      "2020-06-23 18:34:56,093 : INFO : EPOCH 13 - PROGRESS: at 26.31% examples, 565925 words/s, in_qsize 5, out_qsize 1\n",
      "2020-06-23 18:34:57,115 : INFO : EPOCH 13 - PROGRESS: at 54.78% examples, 588206 words/s, in_qsize 5, out_qsize 0\n",
      "2020-06-23 18:34:58,119 : INFO : EPOCH 13 - PROGRESS: at 84.68% examples, 608380 words/s, in_qsize 5, out_qsize 0\n",
      "2020-06-23 18:34:58,595 : INFO : worker thread finished; awaiting finish of 2 more threads\n",
      "2020-06-23 18:34:58,598 : INFO : worker thread finished; awaiting finish of 1 more threads\n",
      "2020-06-23 18:34:58,613 : INFO : worker thread finished; awaiting finish of 0 more threads\n",
      "2020-06-23 18:34:58,614 : INFO : EPOCH - 13 : training on 3060122 raw words (2187712 effective words) took 3.5s, 618216 effective words/s\n",
      "2020-06-23 18:34:59,640 : INFO : EPOCH 14 - PROGRESS: at 25.62% examples, 549278 words/s, in_qsize 5, out_qsize 0\n",
      "2020-06-23 18:35:00,641 : INFO : EPOCH 14 - PROGRESS: at 51.27% examples, 554920 words/s, in_qsize 6, out_qsize 0\n",
      "2020-06-23 18:35:01,642 : INFO : EPOCH 14 - PROGRESS: at 81.75% examples, 591365 words/s, in_qsize 5, out_qsize 0\n",
      "2020-06-23 18:35:02,208 : INFO : worker thread finished; awaiting finish of 2 more threads\n",
      "2020-06-23 18:35:02,221 : INFO : worker thread finished; awaiting finish of 1 more threads\n",
      "2020-06-23 18:35:02,226 : INFO : worker thread finished; awaiting finish of 0 more threads\n",
      "2020-06-23 18:35:02,227 : INFO : EPOCH - 14 : training on 3060122 raw words (2187892 effective words) took 3.6s, 606206 effective words/s\n",
      "2020-06-23 18:35:03,231 : INFO : EPOCH 15 - PROGRESS: at 30.57% examples, 666806 words/s, in_qsize 5, out_qsize 0\n",
      "2020-06-23 18:35:04,247 : INFO : EPOCH 15 - PROGRESS: at 61.43% examples, 667583 words/s, in_qsize 5, out_qsize 0\n",
      "2020-06-23 18:35:05,250 : INFO : EPOCH 15 - PROGRESS: at 92.34% examples, 668688 words/s, in_qsize 6, out_qsize 0\n",
      "2020-06-23 18:35:05,474 : INFO : worker thread finished; awaiting finish of 2 more threads\n",
      "2020-06-23 18:35:05,478 : INFO : worker thread finished; awaiting finish of 1 more threads\n",
      "2020-06-23 18:35:05,492 : INFO : worker thread finished; awaiting finish of 0 more threads\n",
      "2020-06-23 18:35:05,493 : INFO : EPOCH - 15 : training on 3060122 raw words (2187884 effective words) took 3.3s, 670439 effective words/s\n",
      "2020-06-23 18:35:06,506 : INFO : EPOCH 16 - PROGRESS: at 30.57% examples, 660869 words/s, in_qsize 5, out_qsize 0\n",
      "2020-06-23 18:35:07,520 : INFO : EPOCH 16 - PROGRESS: at 61.43% examples, 665384 words/s, in_qsize 5, out_qsize 0\n",
      "2020-06-23 18:35:08,526 : INFO : EPOCH 16 - PROGRESS: at 92.34% examples, 666637 words/s, in_qsize 5, out_qsize 0\n",
      "2020-06-23 18:35:08,748 : INFO : worker thread finished; awaiting finish of 2 more threads\n",
      "2020-06-23 18:35:08,755 : INFO : worker thread finished; awaiting finish of 1 more threads\n",
      "2020-06-23 18:35:08,767 : INFO : worker thread finished; awaiting finish of 0 more threads\n",
      "2020-06-23 18:35:08,768 : INFO : EPOCH - 16 : training on 3060122 raw words (2187985 effective words) took 3.3s, 668845 effective words/s\n",
      "2020-06-23 18:35:09,795 : INFO : EPOCH 17 - PROGRESS: at 25.34% examples, 541550 words/s, in_qsize 5, out_qsize 0\n",
      "2020-06-23 18:35:10,808 : INFO : EPOCH 17 - PROGRESS: at 50.92% examples, 547758 words/s, in_qsize 5, out_qsize 0\n",
      "2020-06-23 18:35:11,814 : INFO : EPOCH 17 - PROGRESS: at 81.81% examples, 587701 words/s, in_qsize 5, out_qsize 0\n",
      "2020-06-23 18:35:12,380 : INFO : worker thread finished; awaiting finish of 2 more threads\n",
      "2020-06-23 18:35:12,381 : INFO : worker thread finished; awaiting finish of 1 more threads\n",
      "2020-06-23 18:35:12,397 : INFO : worker thread finished; awaiting finish of 0 more threads\n",
      "2020-06-23 18:35:12,399 : INFO : EPOCH - 17 : training on 3060122 raw words (2187834 effective words) took 3.6s, 603148 effective words/s\n",
      "2020-06-23 18:35:13,404 : INFO : EPOCH 18 - PROGRESS: at 30.57% examples, 665322 words/s, in_qsize 5, out_qsize 0\n",
      "2020-06-23 18:35:14,407 : INFO : EPOCH 18 - PROGRESS: at 61.43% examples, 671640 words/s, in_qsize 5, out_qsize 0\n",
      "2020-06-23 18:35:15,407 : INFO : EPOCH 18 - PROGRESS: at 92.38% examples, 672025 words/s, in_qsize 5, out_qsize 0\n",
      "2020-06-23 18:35:15,636 : INFO : worker thread finished; awaiting finish of 2 more threads\n",
      "2020-06-23 18:35:15,648 : INFO : worker thread finished; awaiting finish of 1 more threads\n",
      "2020-06-23 18:35:15,652 : INFO : worker thread finished; awaiting finish of 0 more threads\n",
      "2020-06-23 18:35:15,653 : INFO : EPOCH - 18 : training on 3060122 raw words (2188067 effective words) took 3.3s, 673010 effective words/s\n",
      "2020-06-23 18:35:16,663 : INFO : EPOCH 19 - PROGRESS: at 30.55% examples, 662650 words/s, in_qsize 5, out_qsize 0\n",
      "2020-06-23 18:35:17,667 : INFO : EPOCH 19 - PROGRESS: at 59.82% examples, 652683 words/s, in_qsize 6, out_qsize 0\n"
     ]
    },
    {
     "name": "stderr",
     "output_type": "stream",
     "text": [
      "2020-06-23 18:35:18,674 : INFO : EPOCH 19 - PROGRESS: at 89.64% examples, 648615 words/s, in_qsize 5, out_qsize 0\n",
      "2020-06-23 18:35:18,999 : INFO : worker thread finished; awaiting finish of 2 more threads\n",
      "2020-06-23 18:35:19,004 : INFO : worker thread finished; awaiting finish of 1 more threads\n",
      "2020-06-23 18:35:19,014 : INFO : worker thread finished; awaiting finish of 0 more threads\n",
      "2020-06-23 18:35:19,015 : INFO : EPOCH - 19 : training on 3060122 raw words (2188145 effective words) took 3.4s, 651420 effective words/s\n",
      "2020-06-23 18:35:20,023 : INFO : EPOCH 20 - PROGRESS: at 29.92% examples, 650748 words/s, in_qsize 5, out_qsize 0\n",
      "2020-06-23 18:35:21,029 : INFO : EPOCH 20 - PROGRESS: at 60.80% examples, 663300 words/s, in_qsize 5, out_qsize 0\n",
      "2020-06-23 18:35:22,031 : INFO : EPOCH 20 - PROGRESS: at 92.05% examples, 668464 words/s, in_qsize 5, out_qsize 0\n",
      "2020-06-23 18:35:22,280 : INFO : worker thread finished; awaiting finish of 2 more threads\n",
      "2020-06-23 18:35:22,286 : INFO : worker thread finished; awaiting finish of 1 more threads\n",
      "2020-06-23 18:35:22,296 : INFO : worker thread finished; awaiting finish of 0 more threads\n",
      "2020-06-23 18:35:22,297 : INFO : EPOCH - 20 : training on 3060122 raw words (2189151 effective words) took 3.3s, 667685 effective words/s\n",
      "2020-06-23 18:35:22,298 : INFO : training on a 61202440 raw words (43767787 effective words) took 84.1s, 520471 effective words/s\n",
      "2020-06-23 18:35:22,312 : INFO : precomputing L2-norms of doc weight vectors\n"
     ]
    },
    {
     "data": {
      "text/plain": [
       "0.7084057569921016"
      ]
     },
     "execution_count": 48,
     "metadata": {},
     "output_type": "execute_result"
    }
   ],
   "source": [
    "model_results(40,15)"
   ]
  },
  {
   "cell_type": "code",
   "execution_count": 49,
   "metadata": {},
   "outputs": [
    {
     "name": "stderr",
     "output_type": "stream",
     "text": [
      "2020-06-23 18:38:04,155 : INFO : collecting all words and their counts\n",
      "2020-06-23 18:38:04,158 : INFO : PROGRESS: at example #0, processed 0 words (0/s), 0 word types, 0 tags\n",
      "2020-06-23 18:38:04,843 : INFO : collected 30512 word types and 10000 unique tags from a corpus of 10000 examples and 3060122 words\n",
      "2020-06-23 18:38:04,844 : INFO : Loading a fresh vocabulary\n",
      "2020-06-23 18:38:04,881 : INFO : effective_min_count=20 retains 5580 unique words (18% of original 30512, drops 24932)\n",
      "2020-06-23 18:38:04,882 : INFO : effective_min_count=20 leaves 2966973 word corpus (96% of original 3060122, drops 93149)\n",
      "2020-06-23 18:38:04,930 : INFO : deleting the raw counts dictionary of 30512 items\n",
      "2020-06-23 18:38:04,932 : INFO : sample=0.001 downsamples 64 most-common words\n",
      "2020-06-23 18:38:04,934 : INFO : downsampling leaves estimated 2159156 word corpus (72.8% of prior 2966973)\n",
      "2020-06-23 18:38:04,965 : INFO : estimated required memory for 5580 words and 40 dimensions: 6175600 bytes\n",
      "2020-06-23 18:38:04,966 : INFO : resetting layer weights\n",
      "2020-06-23 18:38:09,945 : INFO : training model with 3 workers on 5580 vocabulary and 40 features, using sg=0 hs=0 sample=0.001 negative=5 window=5\n",
      "2020-06-23 18:38:10,966 : INFO : EPOCH 1 - PROGRESS: at 28.57% examples, 608698 words/s, in_qsize 5, out_qsize 0\n",
      "2020-06-23 18:38:11,970 : INFO : EPOCH 1 - PROGRESS: at 56.26% examples, 605442 words/s, in_qsize 6, out_qsize 0\n",
      "2020-06-23 18:38:12,973 : INFO : EPOCH 1 - PROGRESS: at 81.43% examples, 583693 words/s, in_qsize 5, out_qsize 0\n",
      "2020-06-23 18:38:13,774 : INFO : worker thread finished; awaiting finish of 2 more threads\n",
      "2020-06-23 18:38:13,776 : INFO : worker thread finished; awaiting finish of 1 more threads\n",
      "2020-06-23 18:38:13,790 : INFO : worker thread finished; awaiting finish of 0 more threads\n",
      "2020-06-23 18:38:13,791 : INFO : EPOCH - 1 : training on 3060122 raw words (2168824 effective words) took 3.8s, 564363 effective words/s\n",
      "2020-06-23 18:38:14,804 : INFO : EPOCH 2 - PROGRESS: at 24.74% examples, 531539 words/s, in_qsize 5, out_qsize 0\n",
      "2020-06-23 18:38:15,828 : INFO : EPOCH 2 - PROGRESS: at 50.25% examples, 537579 words/s, in_qsize 5, out_qsize 0\n",
      "2020-06-23 18:38:16,846 : INFO : EPOCH 2 - PROGRESS: at 75.92% examples, 540131 words/s, in_qsize 5, out_qsize 0\n",
      "2020-06-23 18:38:17,848 : INFO : EPOCH 2 - PROGRESS: at 92.67% examples, 495818 words/s, in_qsize 5, out_qsize 0\n",
      "2020-06-23 18:38:18,214 : INFO : worker thread finished; awaiting finish of 2 more threads\n",
      "2020-06-23 18:38:18,217 : INFO : worker thread finished; awaiting finish of 1 more threads\n",
      "2020-06-23 18:38:18,229 : INFO : worker thread finished; awaiting finish of 0 more threads\n",
      "2020-06-23 18:38:18,230 : INFO : EPOCH - 2 : training on 3060122 raw words (2169362 effective words) took 4.4s, 489159 effective words/s\n",
      "2020-06-23 18:38:19,252 : INFO : EPOCH 3 - PROGRESS: at 19.21% examples, 409503 words/s, in_qsize 5, out_qsize 0\n",
      "2020-06-23 18:38:20,253 : INFO : EPOCH 3 - PROGRESS: at 43.89% examples, 472014 words/s, in_qsize 5, out_qsize 0\n",
      "2020-06-23 18:38:21,283 : INFO : EPOCH 3 - PROGRESS: at 67.41% examples, 478656 words/s, in_qsize 5, out_qsize 0\n",
      "2020-06-23 18:38:22,309 : INFO : EPOCH 3 - PROGRESS: at 92.38% examples, 491030 words/s, in_qsize 5, out_qsize 0\n",
      "2020-06-23 18:38:22,545 : INFO : worker thread finished; awaiting finish of 2 more threads\n",
      "2020-06-23 18:38:22,548 : INFO : worker thread finished; awaiting finish of 1 more threads\n",
      "2020-06-23 18:38:22,563 : INFO : worker thread finished; awaiting finish of 0 more threads\n",
      "2020-06-23 18:38:22,564 : INFO : EPOCH - 3 : training on 3060122 raw words (2168553 effective words) took 4.3s, 500694 effective words/s\n",
      "2020-06-23 18:38:23,569 : INFO : EPOCH 4 - PROGRESS: at 22.79% examples, 494123 words/s, in_qsize 6, out_qsize 0\n",
      "2020-06-23 18:38:24,575 : INFO : EPOCH 4 - PROGRESS: at 48.02% examples, 519902 words/s, in_qsize 6, out_qsize 0\n",
      "2020-06-23 18:38:25,576 : INFO : EPOCH 4 - PROGRESS: at 77.87% examples, 561462 words/s, in_qsize 5, out_qsize 0\n",
      "2020-06-23 18:38:26,369 : INFO : worker thread finished; awaiting finish of 2 more threads\n",
      "2020-06-23 18:38:26,371 : INFO : worker thread finished; awaiting finish of 1 more threads\n",
      "2020-06-23 18:38:26,385 : INFO : worker thread finished; awaiting finish of 0 more threads\n",
      "2020-06-23 18:38:26,386 : INFO : EPOCH - 4 : training on 3060122 raw words (2169549 effective words) took 3.8s, 568075 effective words/s\n",
      "2020-06-23 18:38:27,395 : INFO : EPOCH 5 - PROGRESS: at 27.57% examples, 595939 words/s, in_qsize 5, out_qsize 0\n",
      "2020-06-23 18:38:28,410 : INFO : EPOCH 5 - PROGRESS: at 54.46% examples, 585546 words/s, in_qsize 5, out_qsize 0\n",
      "2020-06-23 18:38:29,417 : INFO : EPOCH 5 - PROGRESS: at 77.27% examples, 553372 words/s, in_qsize 5, out_qsize 0\n",
      "2020-06-23 18:38:30,417 : INFO : EPOCH 5 - PROGRESS: at 90.13% examples, 485121 words/s, in_qsize 5, out_qsize 0\n",
      "2020-06-23 18:38:31,005 : INFO : worker thread finished; awaiting finish of 2 more threads\n",
      "2020-06-23 18:38:31,010 : INFO : worker thread finished; awaiting finish of 1 more threads\n",
      "2020-06-23 18:38:31,044 : INFO : worker thread finished; awaiting finish of 0 more threads\n",
      "2020-06-23 18:38:31,047 : INFO : EPOCH - 5 : training on 3060122 raw words (2169325 effective words) took 4.7s, 465798 effective words/s\n",
      "2020-06-23 18:38:32,070 : INFO : EPOCH 6 - PROGRESS: at 14.04% examples, 301957 words/s, in_qsize 5, out_qsize 0\n",
      "2020-06-23 18:38:33,102 : INFO : EPOCH 6 - PROGRESS: at 28.93% examples, 306111 words/s, in_qsize 5, out_qsize 0\n",
      "2020-06-23 18:38:34,107 : INFO : EPOCH 6 - PROGRESS: at 42.94% examples, 305638 words/s, in_qsize 5, out_qsize 0\n",
      "2020-06-23 18:38:35,120 : INFO : EPOCH 6 - PROGRESS: at 58.45% examples, 313250 words/s, in_qsize 5, out_qsize 0\n",
      "2020-06-23 18:38:36,120 : INFO : EPOCH 6 - PROGRESS: at 78.52% examples, 336248 words/s, in_qsize 4, out_qsize 1\n",
      "2020-06-23 18:38:37,080 : INFO : worker thread finished; awaiting finish of 2 more threads\n",
      "2020-06-23 18:38:37,096 : INFO : worker thread finished; awaiting finish of 1 more threads\n",
      "2020-06-23 18:38:37,102 : INFO : worker thread finished; awaiting finish of 0 more threads\n",
      "2020-06-23 18:38:37,102 : INFO : EPOCH - 6 : training on 3060122 raw words (2168732 effective words) took 6.0s, 358678 effective words/s\n",
      "2020-06-23 18:38:38,107 : INFO : EPOCH 7 - PROGRESS: at 24.10% examples, 522025 words/s, in_qsize 5, out_qsize 0\n",
      "2020-06-23 18:38:39,113 : INFO : EPOCH 7 - PROGRESS: at 49.62% examples, 537335 words/s, in_qsize 5, out_qsize 0\n",
      "2020-06-23 18:38:40,119 : INFO : EPOCH 7 - PROGRESS: at 75.92% examples, 546931 words/s, in_qsize 5, out_qsize 0\n",
      "2020-06-23 18:38:41,062 : INFO : worker thread finished; awaiting finish of 2 more threads\n",
      "2020-06-23 18:38:41,075 : INFO : worker thread finished; awaiting finish of 1 more threads\n",
      "2020-06-23 18:38:41,082 : INFO : worker thread finished; awaiting finish of 0 more threads\n",
      "2020-06-23 18:38:41,083 : INFO : EPOCH - 7 : training on 3060122 raw words (2169168 effective words) took 4.0s, 545331 effective words/s\n",
      "2020-06-23 18:38:42,091 : INFO : EPOCH 8 - PROGRESS: at 25.99% examples, 563117 words/s, in_qsize 5, out_qsize 0\n",
      "2020-06-23 18:38:43,103 : INFO : EPOCH 8 - PROGRESS: at 52.87% examples, 570391 words/s, in_qsize 5, out_qsize 0\n",
      "2020-06-23 18:38:44,103 : INFO : EPOCH 8 - PROGRESS: at 79.16% examples, 569518 words/s, in_qsize 5, out_qsize 0\n",
      "2020-06-23 18:38:44,952 : INFO : worker thread finished; awaiting finish of 2 more threads\n",
      "2020-06-23 18:38:44,964 : INFO : worker thread finished; awaiting finish of 1 more threads\n",
      "2020-06-23 18:38:44,974 : INFO : worker thread finished; awaiting finish of 0 more threads\n",
      "2020-06-23 18:38:44,975 : INFO : EPOCH - 8 : training on 3060122 raw words (2168916 effective words) took 3.9s, 558180 effective words/s\n",
      "2020-06-23 18:38:45,986 : INFO : EPOCH 9 - PROGRESS: at 25.34% examples, 548523 words/s, in_qsize 5, out_qsize 0\n",
      "2020-06-23 18:38:46,989 : INFO : EPOCH 9 - PROGRESS: at 50.92% examples, 551620 words/s, in_qsize 5, out_qsize 0\n",
      "2020-06-23 18:38:48,002 : INFO : EPOCH 9 - PROGRESS: at 76.97% examples, 552481 words/s, in_qsize 5, out_qsize 0\n",
      "2020-06-23 18:38:48,961 : INFO : worker thread finished; awaiting finish of 2 more threads\n",
      "2020-06-23 18:38:48,962 : INFO : worker thread finished; awaiting finish of 1 more threads\n"
     ]
    },
    {
     "name": "stderr",
     "output_type": "stream",
     "text": [
      "2020-06-23 18:38:48,972 : INFO : worker thread finished; awaiting finish of 0 more threads\n",
      "2020-06-23 18:38:48,973 : INFO : EPOCH - 9 : training on 3060122 raw words (2168733 effective words) took 4.0s, 543524 effective words/s\n",
      "2020-06-23 18:38:49,979 : INFO : EPOCH 10 - PROGRESS: at 26.93% examples, 584555 words/s, in_qsize 5, out_qsize 0\n",
      "2020-06-23 18:38:50,980 : INFO : EPOCH 10 - PROGRESS: at 52.62% examples, 570244 words/s, in_qsize 6, out_qsize 0\n",
      "2020-06-23 18:38:51,996 : INFO : EPOCH 10 - PROGRESS: at 82.45% examples, 592364 words/s, in_qsize 5, out_qsize 0\n",
      "2020-06-23 18:38:52,643 : INFO : worker thread finished; awaiting finish of 2 more threads\n",
      "2020-06-23 18:38:52,658 : INFO : worker thread finished; awaiting finish of 1 more threads\n",
      "2020-06-23 18:38:52,659 : INFO : worker thread finished; awaiting finish of 0 more threads\n",
      "2020-06-23 18:38:52,660 : INFO : EPOCH - 10 : training on 3060122 raw words (2169927 effective words) took 3.7s, 589422 effective words/s\n",
      "2020-06-23 18:38:53,680 : INFO : EPOCH 11 - PROGRESS: at 22.19% examples, 473104 words/s, in_qsize 5, out_qsize 0\n",
      "2020-06-23 18:38:54,686 : INFO : EPOCH 11 - PROGRESS: at 45.50% examples, 488599 words/s, in_qsize 5, out_qsize 0\n",
      "2020-06-23 18:38:55,706 : INFO : EPOCH 11 - PROGRESS: at 63.11% examples, 450303 words/s, in_qsize 6, out_qsize 0\n",
      "2020-06-23 18:38:56,757 : INFO : EPOCH 11 - PROGRESS: at 77.57% examples, 410884 words/s, in_qsize 6, out_qsize 1\n",
      "2020-06-23 18:38:57,760 : INFO : EPOCH 11 - PROGRESS: at 94.06% examples, 399717 words/s, in_qsize 5, out_qsize 0\n",
      "2020-06-23 18:38:57,990 : INFO : worker thread finished; awaiting finish of 2 more threads\n",
      "2020-06-23 18:38:57,993 : INFO : worker thread finished; awaiting finish of 1 more threads\n",
      "2020-06-23 18:38:57,996 : INFO : worker thread finished; awaiting finish of 0 more threads\n",
      "2020-06-23 18:38:57,998 : INFO : EPOCH - 11 : training on 3060122 raw words (2169007 effective words) took 5.3s, 406635 effective words/s\n",
      "2020-06-23 18:38:59,017 : INFO : EPOCH 12 - PROGRESS: at 25.62% examples, 548489 words/s, in_qsize 5, out_qsize 0\n",
      "2020-06-23 18:39:00,031 : INFO : EPOCH 12 - PROGRESS: at 51.61% examples, 552404 words/s, in_qsize 5, out_qsize 0\n",
      "2020-06-23 18:39:01,039 : INFO : EPOCH 12 - PROGRESS: at 80.45% examples, 574530 words/s, in_qsize 5, out_qsize 0\n",
      "2020-06-23 18:39:01,833 : INFO : worker thread finished; awaiting finish of 2 more threads\n",
      "2020-06-23 18:39:01,852 : INFO : worker thread finished; awaiting finish of 1 more threads\n",
      "2020-06-23 18:39:01,854 : INFO : worker thread finished; awaiting finish of 0 more threads\n",
      "2020-06-23 18:39:01,855 : INFO : EPOCH - 12 : training on 3060122 raw words (2169192 effective words) took 3.9s, 562873 effective words/s\n",
      "2020-06-23 18:39:02,879 : INFO : EPOCH 13 - PROGRESS: at 18.76% examples, 403731 words/s, in_qsize 5, out_qsize 0\n",
      "2020-06-23 18:39:03,886 : INFO : EPOCH 13 - PROGRESS: at 36.98% examples, 395503 words/s, in_qsize 5, out_qsize 0\n",
      "2020-06-23 18:39:04,887 : INFO : EPOCH 13 - PROGRESS: at 64.36% examples, 462158 words/s, in_qsize 5, out_qsize 0\n",
      "2020-06-23 18:39:05,906 : INFO : EPOCH 13 - PROGRESS: at 92.38% examples, 495127 words/s, in_qsize 5, out_qsize 0\n",
      "2020-06-23 18:39:06,185 : INFO : worker thread finished; awaiting finish of 2 more threads\n",
      "2020-06-23 18:39:06,189 : INFO : worker thread finished; awaiting finish of 1 more threads\n",
      "2020-06-23 18:39:06,205 : INFO : worker thread finished; awaiting finish of 0 more threads\n",
      "2020-06-23 18:39:06,206 : INFO : EPOCH - 13 : training on 3060122 raw words (2169818 effective words) took 4.3s, 499382 effective words/s\n",
      "2020-06-23 18:39:07,221 : INFO : EPOCH 14 - PROGRESS: at 26.61% examples, 571459 words/s, in_qsize 6, out_qsize 0\n",
      "2020-06-23 18:39:08,242 : INFO : EPOCH 14 - PROGRESS: at 52.56% examples, 561953 words/s, in_qsize 5, out_qsize 0\n",
      "2020-06-23 18:39:09,248 : INFO : EPOCH 14 - PROGRESS: at 81.13% examples, 578965 words/s, in_qsize 5, out_qsize 0\n",
      "2020-06-23 18:39:09,868 : INFO : worker thread finished; awaiting finish of 2 more threads\n",
      "2020-06-23 18:39:09,870 : INFO : worker thread finished; awaiting finish of 1 more threads\n",
      "2020-06-23 18:39:09,883 : INFO : worker thread finished; awaiting finish of 0 more threads\n",
      "2020-06-23 18:39:09,884 : INFO : EPOCH - 14 : training on 3060122 raw words (2169337 effective words) took 3.7s, 590346 effective words/s\n",
      "2020-06-23 18:39:10,905 : INFO : EPOCH 15 - PROGRESS: at 25.62% examples, 547100 words/s, in_qsize 5, out_qsize 0\n",
      "2020-06-23 18:39:11,909 : INFO : EPOCH 15 - PROGRESS: at 50.93% examples, 547423 words/s, in_qsize 5, out_qsize 0\n",
      "2020-06-23 18:39:12,916 : INFO : EPOCH 15 - PROGRESS: at 77.87% examples, 557798 words/s, in_qsize 5, out_qsize 0\n",
      "2020-06-23 18:39:13,649 : INFO : worker thread finished; awaiting finish of 2 more threads\n",
      "2020-06-23 18:39:13,653 : INFO : worker thread finished; awaiting finish of 1 more threads\n",
      "2020-06-23 18:39:13,667 : INFO : worker thread finished; awaiting finish of 0 more threads\n",
      "2020-06-23 18:39:13,668 : INFO : EPOCH - 15 : training on 3060122 raw words (2169434 effective words) took 3.8s, 573902 effective words/s\n",
      "2020-06-23 18:39:14,677 : INFO : EPOCH 16 - PROGRESS: at 28.93% examples, 622381 words/s, in_qsize 5, out_qsize 0\n",
      "2020-06-23 18:39:15,710 : INFO : EPOCH 16 - PROGRESS: at 49.91% examples, 532507 words/s, in_qsize 5, out_qsize 0\n",
      "2020-06-23 18:39:16,723 : INFO : EPOCH 16 - PROGRESS: at 71.93% examples, 510366 words/s, in_qsize 5, out_qsize 0\n",
      "2020-06-23 18:39:17,735 : INFO : EPOCH 16 - PROGRESS: at 95.93% examples, 511421 words/s, in_qsize 5, out_qsize 0\n",
      "2020-06-23 18:39:17,844 : INFO : worker thread finished; awaiting finish of 2 more threads\n",
      "2020-06-23 18:39:17,858 : INFO : worker thread finished; awaiting finish of 1 more threads\n",
      "2020-06-23 18:39:17,864 : INFO : worker thread finished; awaiting finish of 0 more threads\n",
      "2020-06-23 18:39:17,865 : INFO : EPOCH - 16 : training on 3060122 raw words (2168830 effective words) took 4.2s, 517021 effective words/s\n",
      "2020-06-23 18:39:18,881 : INFO : EPOCH 17 - PROGRESS: at 28.23% examples, 604878 words/s, in_qsize 5, out_qsize 0\n",
      "2020-06-23 18:39:19,892 : INFO : EPOCH 17 - PROGRESS: at 54.12% examples, 580670 words/s, in_qsize 5, out_qsize 0\n",
      "2020-06-23 18:39:20,892 : INFO : EPOCH 17 - PROGRESS: at 82.76% examples, 592842 words/s, in_qsize 5, out_qsize 0\n",
      "2020-06-23 18:39:21,479 : INFO : worker thread finished; awaiting finish of 2 more threads\n",
      "2020-06-23 18:39:21,498 : INFO : worker thread finished; awaiting finish of 1 more threads\n",
      "2020-06-23 18:39:21,502 : INFO : worker thread finished; awaiting finish of 0 more threads\n",
      "2020-06-23 18:39:21,503 : INFO : EPOCH - 17 : training on 3060122 raw words (2168478 effective words) took 3.6s, 596613 effective words/s\n",
      "2020-06-23 18:39:22,512 : INFO : EPOCH 18 - PROGRESS: at 24.74% examples, 533009 words/s, in_qsize 5, out_qsize 0\n",
      "2020-06-23 18:39:23,529 : INFO : EPOCH 18 - PROGRESS: at 51.61% examples, 553882 words/s, in_qsize 5, out_qsize 0\n",
      "2020-06-23 18:39:24,535 : INFO : EPOCH 18 - PROGRESS: at 78.20% examples, 559910 words/s, in_qsize 5, out_qsize 0\n",
      "2020-06-23 18:39:25,253 : INFO : worker thread finished; awaiting finish of 2 more threads\n",
      "2020-06-23 18:39:25,260 : INFO : worker thread finished; awaiting finish of 1 more threads\n",
      "2020-06-23 18:39:25,266 : INFO : worker thread finished; awaiting finish of 0 more threads\n",
      "2020-06-23 18:39:25,267 : INFO : EPOCH - 18 : training on 3060122 raw words (2168905 effective words) took 3.8s, 576701 effective words/s\n",
      "2020-06-23 18:39:26,304 : INFO : EPOCH 19 - PROGRESS: at 20.84% examples, 437759 words/s, in_qsize 5, out_qsize 0\n",
      "2020-06-23 18:39:27,317 : INFO : EPOCH 19 - PROGRESS: at 41.33% examples, 438668 words/s, in_qsize 5, out_qsize 0\n",
      "2020-06-23 18:39:28,321 : INFO : EPOCH 19 - PROGRESS: at 54.69% examples, 389929 words/s, in_qsize 5, out_qsize 0\n",
      "2020-06-23 18:39:29,346 : INFO : EPOCH 19 - PROGRESS: at 76.27% examples, 406076 words/s, in_qsize 5, out_qsize 0\n",
      "2020-06-23 18:39:30,315 : INFO : worker thread finished; awaiting finish of 2 more threads\n",
      "2020-06-23 18:39:30,330 : INFO : worker thread finished; awaiting finish of 1 more threads\n",
      "2020-06-23 18:39:30,337 : INFO : worker thread finished; awaiting finish of 0 more threads\n",
      "2020-06-23 18:39:30,339 : INFO : EPOCH - 19 : training on 3060122 raw words (2168938 effective words) took 5.1s, 427961 effective words/s\n"
     ]
    },
    {
     "name": "stderr",
     "output_type": "stream",
     "text": [
      "2020-06-23 18:39:31,356 : INFO : EPOCH 20 - PROGRESS: at 19.84% examples, 426560 words/s, in_qsize 5, out_qsize 0\n",
      "2020-06-23 18:39:32,400 : INFO : EPOCH 20 - PROGRESS: at 36.32% examples, 382548 words/s, in_qsize 5, out_qsize 0\n",
      "2020-06-23 18:39:33,438 : INFO : EPOCH 20 - PROGRESS: at 49.96% examples, 350790 words/s, in_qsize 5, out_qsize 0\n",
      "2020-06-23 18:39:34,441 : INFO : EPOCH 20 - PROGRESS: at 61.80% examples, 327647 words/s, in_qsize 6, out_qsize 0\n",
      "2020-06-23 18:39:35,519 : INFO : EPOCH 20 - PROGRESS: at 74.05% examples, 310261 words/s, in_qsize 5, out_qsize 0\n",
      "2020-06-23 18:39:36,523 : INFO : EPOCH 20 - PROGRESS: at 92.34% examples, 324158 words/s, in_qsize 5, out_qsize 0\n",
      "2020-06-23 18:39:37,062 : INFO : worker thread finished; awaiting finish of 2 more threads\n",
      "2020-06-23 18:39:37,088 : INFO : worker thread finished; awaiting finish of 1 more threads\n",
      "2020-06-23 18:39:37,095 : INFO : worker thread finished; awaiting finish of 0 more threads\n",
      "2020-06-23 18:39:37,096 : INFO : EPOCH - 20 : training on 3060122 raw words (2169913 effective words) took 6.8s, 321304 effective words/s\n",
      "2020-06-23 18:39:37,097 : INFO : training on a 61202440 raw words (43382941 effective words) took 87.2s, 497796 effective words/s\n",
      "2020-06-23 18:39:37,115 : INFO : precomputing L2-norms of doc weight vectors\n"
     ]
    },
    {
     "data": {
      "text/plain": [
       "0.7052663603454828"
      ]
     },
     "execution_count": 49,
     "metadata": {},
     "output_type": "execute_result"
    }
   ],
   "source": [
    "model_results(40,20)"
   ]
  },
  {
   "cell_type": "code",
   "execution_count": 50,
   "metadata": {},
   "outputs": [
    {
     "name": "stderr",
     "output_type": "stream",
     "text": [
      "2020-06-23 18:42:34,828 : WARNING : consider setting layer size to a multiple of 4 for greater performance\n",
      "2020-06-23 18:42:34,833 : INFO : collecting all words and their counts\n",
      "2020-06-23 18:42:34,835 : INFO : PROGRESS: at example #0, processed 0 words (0/s), 0 word types, 0 tags\n",
      "2020-06-23 18:42:35,553 : INFO : collected 30512 word types and 10000 unique tags from a corpus of 10000 examples and 3060122 words\n",
      "2020-06-23 18:42:35,554 : INFO : Loading a fresh vocabulary\n",
      "2020-06-23 18:42:35,593 : INFO : effective_min_count=15 retains 6569 unique words (21% of original 30512, drops 23943)\n",
      "2020-06-23 18:42:35,594 : INFO : effective_min_count=15 leaves 2983673 word corpus (97% of original 3060122, drops 76449)\n",
      "2020-06-23 18:42:35,647 : INFO : deleting the raw counts dictionary of 30512 items\n",
      "2020-06-23 18:42:35,649 : INFO : sample=0.001 downsamples 62 most-common words\n",
      "2020-06-23 18:42:35,650 : INFO : downsampling leaves estimated 2178253 word corpus (73.0% of prior 2983673)\n",
      "2020-06-23 18:42:35,679 : INFO : estimated required memory for 6569 words and 45 dimensions: 7449340 bytes\n",
      "2020-06-23 18:42:35,682 : INFO : resetting layer weights\n",
      "2020-06-23 18:42:40,857 : INFO : training model with 3 workers on 6569 vocabulary and 45 features, using sg=0 hs=0 sample=0.001 negative=5 window=5\n",
      "2020-06-23 18:42:41,863 : INFO : EPOCH 1 - PROGRESS: at 25.07% examples, 547266 words/s, in_qsize 5, out_qsize 0\n",
      "2020-06-23 18:42:42,867 : INFO : EPOCH 1 - PROGRESS: at 48.02% examples, 525058 words/s, in_qsize 5, out_qsize 0\n",
      "2020-06-23 18:42:43,878 : INFO : EPOCH 1 - PROGRESS: at 69.95% examples, 507219 words/s, in_qsize 6, out_qsize 0\n",
      "2020-06-23 18:42:44,881 : INFO : EPOCH 1 - PROGRESS: at 92.67% examples, 504429 words/s, in_qsize 5, out_qsize 0\n",
      "2020-06-23 18:42:45,222 : INFO : worker thread finished; awaiting finish of 2 more threads\n",
      "2020-06-23 18:42:45,226 : INFO : worker thread finished; awaiting finish of 1 more threads\n",
      "2020-06-23 18:42:45,243 : INFO : worker thread finished; awaiting finish of 0 more threads\n",
      "2020-06-23 18:42:45,244 : INFO : EPOCH - 1 : training on 3060122 raw words (2188536 effective words) took 4.4s, 499451 effective words/s\n",
      "2020-06-23 18:42:46,254 : INFO : EPOCH 2 - PROGRESS: at 24.74% examples, 538889 words/s, in_qsize 5, out_qsize 0\n",
      "2020-06-23 18:42:47,280 : INFO : EPOCH 2 - PROGRESS: at 48.30% examples, 522247 words/s, in_qsize 5, out_qsize 0\n",
      "2020-06-23 18:42:48,300 : INFO : EPOCH 2 - PROGRESS: at 71.26% examples, 510876 words/s, in_qsize 5, out_qsize 0\n",
      "2020-06-23 18:42:49,309 : INFO : EPOCH 2 - PROGRESS: at 88.32% examples, 475372 words/s, in_qsize 5, out_qsize 0\n",
      "2020-06-23 18:42:50,154 : INFO : worker thread finished; awaiting finish of 2 more threads\n",
      "2020-06-23 18:42:50,158 : INFO : worker thread finished; awaiting finish of 1 more threads\n",
      "2020-06-23 18:42:50,180 : INFO : worker thread finished; awaiting finish of 0 more threads\n",
      "2020-06-23 18:42:50,181 : INFO : EPOCH - 2 : training on 3060122 raw words (2189476 effective words) took 4.9s, 443955 effective words/s\n",
      "2020-06-23 18:42:51,197 : INFO : EPOCH 3 - PROGRESS: at 19.84% examples, 430452 words/s, in_qsize 6, out_qsize 0\n",
      "2020-06-23 18:42:52,201 : INFO : EPOCH 3 - PROGRESS: at 44.51% examples, 484136 words/s, in_qsize 5, out_qsize 0\n",
      "2020-06-23 18:42:53,209 : INFO : EPOCH 3 - PROGRESS: at 67.04% examples, 484968 words/s, in_qsize 5, out_qsize 0\n",
      "2020-06-23 18:42:54,228 : INFO : EPOCH 3 - PROGRESS: at 91.08% examples, 492647 words/s, in_qsize 5, out_qsize 0\n",
      "2020-06-23 18:42:54,632 : INFO : worker thread finished; awaiting finish of 2 more threads\n",
      "2020-06-23 18:42:54,643 : INFO : worker thread finished; awaiting finish of 1 more threads\n",
      "2020-06-23 18:42:54,658 : INFO : worker thread finished; awaiting finish of 0 more threads\n",
      "2020-06-23 18:42:54,659 : INFO : EPOCH - 3 : training on 3060122 raw words (2188166 effective words) took 4.5s, 489093 effective words/s\n",
      "2020-06-23 18:42:55,668 : INFO : EPOCH 4 - PROGRESS: at 23.48% examples, 510639 words/s, in_qsize 5, out_qsize 0\n",
      "2020-06-23 18:42:56,678 : INFO : EPOCH 4 - PROGRESS: at 46.44% examples, 505004 words/s, in_qsize 5, out_qsize 0\n",
      "2020-06-23 18:42:57,698 : INFO : EPOCH 4 - PROGRESS: at 69.95% examples, 504088 words/s, in_qsize 5, out_qsize 0\n",
      "2020-06-23 18:42:58,715 : INFO : EPOCH 4 - PROGRESS: at 84.68% examples, 457078 words/s, in_qsize 5, out_qsize 0\n",
      "2020-06-23 18:42:59,653 : INFO : worker thread finished; awaiting finish of 2 more threads\n",
      "2020-06-23 18:42:59,671 : INFO : worker thread finished; awaiting finish of 1 more threads\n",
      "2020-06-23 18:42:59,677 : INFO : worker thread finished; awaiting finish of 0 more threads\n",
      "2020-06-23 18:42:59,678 : INFO : EPOCH - 4 : training on 3060122 raw words (2189013 effective words) took 5.0s, 436432 effective words/s\n",
      "2020-06-23 18:43:00,701 : INFO : EPOCH 5 - PROGRESS: at 18.85% examples, 406414 words/s, in_qsize 5, out_qsize 0\n",
      "2020-06-23 18:43:01,735 : INFO : EPOCH 5 - PROGRESS: at 33.46% examples, 355642 words/s, in_qsize 5, out_qsize 0\n",
      "2020-06-23 18:43:02,743 : INFO : EPOCH 5 - PROGRESS: at 54.78% examples, 391927 words/s, in_qsize 5, out_qsize 0\n",
      "2020-06-23 18:43:03,750 : INFO : EPOCH 5 - PROGRESS: at 79.83% examples, 429432 words/s, in_qsize 5, out_qsize 0\n",
      "2020-06-23 18:43:04,605 : INFO : worker thread finished; awaiting finish of 2 more threads\n",
      "2020-06-23 18:43:04,617 : INFO : worker thread finished; awaiting finish of 1 more threads\n",
      "2020-06-23 18:43:04,628 : INFO : worker thread finished; awaiting finish of 0 more threads\n",
      "2020-06-23 18:43:04,629 : INFO : EPOCH - 5 : training on 3060122 raw words (2188602 effective words) took 4.9s, 442414 effective words/s\n",
      "2020-06-23 18:43:05,633 : INFO : EPOCH 6 - PROGRESS: at 22.79% examples, 499048 words/s, in_qsize 5, out_qsize 0\n",
      "2020-06-23 18:43:06,667 : INFO : EPOCH 6 - PROGRESS: at 44.19% examples, 476190 words/s, in_qsize 6, out_qsize 0\n",
      "2020-06-23 18:43:07,670 : INFO : EPOCH 6 - PROGRESS: at 68.65% examples, 494202 words/s, in_qsize 5, out_qsize 1\n",
      "2020-06-23 18:43:08,670 : INFO : EPOCH 6 - PROGRESS: at 94.70% examples, 512366 words/s, in_qsize 5, out_qsize 0\n",
      "2020-06-23 18:43:08,849 : INFO : worker thread finished; awaiting finish of 2 more threads\n",
      "2020-06-23 18:43:08,851 : INFO : worker thread finished; awaiting finish of 1 more threads\n",
      "2020-06-23 18:43:08,867 : INFO : worker thread finished; awaiting finish of 0 more threads\n",
      "2020-06-23 18:43:08,868 : INFO : EPOCH - 6 : training on 3060122 raw words (2187326 effective words) took 4.2s, 516498 effective words/s\n",
      "2020-06-23 18:43:09,873 : INFO : EPOCH 7 - PROGRESS: at 24.78% examples, 539389 words/s, in_qsize 5, out_qsize 0\n",
      "2020-06-23 18:43:10,881 : INFO : EPOCH 7 - PROGRESS: at 43.89% examples, 478367 words/s, in_qsize 5, out_qsize 0\n",
      "2020-06-23 18:43:11,884 : INFO : EPOCH 7 - PROGRESS: at 60.48% examples, 440076 words/s, in_qsize 6, out_qsize 0\n",
      "2020-06-23 18:43:12,907 : INFO : EPOCH 7 - PROGRESS: at 82.13% examples, 444915 words/s, in_qsize 5, out_qsize 0\n",
      "2020-06-23 18:43:13,636 : INFO : worker thread finished; awaiting finish of 2 more threads\n",
      "2020-06-23 18:43:13,651 : INFO : worker thread finished; awaiting finish of 1 more threads\n",
      "2020-06-23 18:43:13,658 : INFO : worker thread finished; awaiting finish of 0 more threads\n",
      "2020-06-23 18:43:13,659 : INFO : EPOCH - 7 : training on 3060122 raw words (2188196 effective words) took 4.8s, 457068 effective words/s\n",
      "2020-06-23 18:43:14,676 : INFO : EPOCH 8 - PROGRESS: at 18.83% examples, 408777 words/s, in_qsize 5, out_qsize 0\n",
      "2020-06-23 18:43:15,699 : INFO : EPOCH 8 - PROGRESS: at 32.81% examples, 351719 words/s, in_qsize 6, out_qsize 0\n",
      "2020-06-23 18:43:16,715 : INFO : EPOCH 8 - PROGRESS: at 56.94% examples, 409150 words/s, in_qsize 5, out_qsize 0\n",
      "2020-06-23 18:43:17,726 : INFO : EPOCH 8 - PROGRESS: at 80.78% examples, 434803 words/s, in_qsize 4, out_qsize 1\n",
      "2020-06-23 18:43:18,547 : INFO : worker thread finished; awaiting finish of 2 more threads\n",
      "2020-06-23 18:43:18,554 : INFO : worker thread finished; awaiting finish of 1 more threads\n",
      "2020-06-23 18:43:18,567 : INFO : worker thread finished; awaiting finish of 0 more threads\n",
      "2020-06-23 18:43:18,568 : INFO : EPOCH - 8 : training on 3060122 raw words (2187486 effective words) took 4.9s, 445982 effective words/s\n"
     ]
    },
    {
     "name": "stderr",
     "output_type": "stream",
     "text": [
      "2020-06-23 18:43:19,572 : INFO : EPOCH 9 - PROGRESS: at 25.07% examples, 547743 words/s, in_qsize 5, out_qsize 0\n",
      "2020-06-23 18:43:20,572 : INFO : EPOCH 9 - PROGRESS: at 47.02% examples, 516002 words/s, in_qsize 5, out_qsize 0\n",
      "2020-06-23 18:43:21,586 : INFO : EPOCH 9 - PROGRESS: at 72.21% examples, 523556 words/s, in_qsize 6, out_qsize 0\n",
      "2020-06-23 18:43:22,587 : INFO : EPOCH 9 - PROGRESS: at 95.93% examples, 522253 words/s, in_qsize 6, out_qsize 0\n",
      "2020-06-23 18:43:22,768 : INFO : worker thread finished; awaiting finish of 2 more threads\n",
      "2020-06-23 18:43:22,786 : INFO : worker thread finished; awaiting finish of 1 more threads\n",
      "2020-06-23 18:43:22,798 : INFO : worker thread finished; awaiting finish of 0 more threads\n",
      "2020-06-23 18:43:22,799 : INFO : EPOCH - 9 : training on 3060122 raw words (2188564 effective words) took 4.2s, 517698 effective words/s\n",
      "2020-06-23 18:43:23,813 : INFO : EPOCH 10 - PROGRESS: at 22.79% examples, 494410 words/s, in_qsize 5, out_qsize 0\n",
      "2020-06-23 18:43:24,813 : INFO : EPOCH 10 - PROGRESS: at 44.51% examples, 485096 words/s, in_qsize 5, out_qsize 0\n",
      "2020-06-23 18:43:25,819 : INFO : EPOCH 10 - PROGRESS: at 69.33% examples, 502365 words/s, in_qsize 5, out_qsize 0\n",
      "2020-06-23 18:43:26,823 : INFO : EPOCH 10 - PROGRESS: at 91.76% examples, 498783 words/s, in_qsize 5, out_qsize 0\n",
      "2020-06-23 18:43:27,105 : INFO : worker thread finished; awaiting finish of 2 more threads\n",
      "2020-06-23 18:43:27,109 : INFO : worker thread finished; awaiting finish of 1 more threads\n",
      "2020-06-23 18:43:27,120 : INFO : worker thread finished; awaiting finish of 0 more threads\n",
      "2020-06-23 18:43:27,122 : INFO : EPOCH - 10 : training on 3060122 raw words (2187787 effective words) took 4.3s, 506535 effective words/s\n",
      "2020-06-23 18:43:28,139 : INFO : EPOCH 11 - PROGRESS: at 26.61% examples, 574346 words/s, in_qsize 6, out_qsize 0\n",
      "2020-06-23 18:43:29,155 : INFO : EPOCH 11 - PROGRESS: at 48.63% examples, 525122 words/s, in_qsize 5, out_qsize 0\n",
      "2020-06-23 18:43:30,172 : INFO : EPOCH 11 - PROGRESS: at 70.33% examples, 504161 words/s, in_qsize 5, out_qsize 0\n",
      "2020-06-23 18:43:31,190 : INFO : EPOCH 11 - PROGRESS: at 92.03% examples, 495216 words/s, in_qsize 5, out_qsize 0\n",
      "2020-06-23 18:43:31,636 : INFO : worker thread finished; awaiting finish of 2 more threads\n",
      "2020-06-23 18:43:31,644 : INFO : worker thread finished; awaiting finish of 1 more threads\n",
      "2020-06-23 18:43:31,653 : INFO : worker thread finished; awaiting finish of 0 more threads\n",
      "2020-06-23 18:43:31,654 : INFO : EPOCH - 11 : training on 3060122 raw words (2188468 effective words) took 4.5s, 483155 effective words/s\n",
      "2020-06-23 18:43:32,663 : INFO : EPOCH 12 - PROGRESS: at 16.38% examples, 356292 words/s, in_qsize 5, out_qsize 0\n",
      "2020-06-23 18:43:33,680 : INFO : EPOCH 12 - PROGRESS: at 35.04% examples, 378364 words/s, in_qsize 5, out_qsize 0\n",
      "2020-06-23 18:43:34,701 : INFO : EPOCH 12 - PROGRESS: at 47.02% examples, 339112 words/s, in_qsize 5, out_qsize 0\n",
      "2020-06-23 18:43:35,733 : INFO : EPOCH 12 - PROGRESS: at 57.53% examples, 309999 words/s, in_qsize 6, out_qsize 0\n",
      "2020-06-23 18:43:36,770 : INFO : EPOCH 12 - PROGRESS: at 70.27% examples, 300667 words/s, in_qsize 5, out_qsize 0\n",
      "2020-06-23 18:43:37,798 : INFO : EPOCH 12 - PROGRESS: at 83.70% examples, 298130 words/s, in_qsize 5, out_qsize 0\n",
      "2020-06-23 18:43:38,816 : INFO : EPOCH 12 - PROGRESS: at 98.96% examples, 302826 words/s, in_qsize 3, out_qsize 0\n",
      "2020-06-23 18:43:38,844 : INFO : worker thread finished; awaiting finish of 2 more threads\n",
      "2020-06-23 18:43:38,864 : INFO : worker thread finished; awaiting finish of 1 more threads\n",
      "2020-06-23 18:43:38,879 : INFO : worker thread finished; awaiting finish of 0 more threads\n",
      "2020-06-23 18:43:38,880 : INFO : EPOCH - 12 : training on 3060122 raw words (2188472 effective words) took 7.2s, 303054 effective words/s\n",
      "2020-06-23 18:43:39,892 : INFO : EPOCH 13 - PROGRESS: at 14.40% examples, 313896 words/s, in_qsize 5, out_qsize 0\n",
      "2020-06-23 18:43:40,899 : INFO : EPOCH 13 - PROGRESS: at 25.99% examples, 282559 words/s, in_qsize 5, out_qsize 0\n",
      "2020-06-23 18:43:41,918 : INFO : EPOCH 13 - PROGRESS: at 37.57% examples, 270751 words/s, in_qsize 5, out_qsize 0\n",
      "2020-06-23 18:43:42,966 : INFO : EPOCH 13 - PROGRESS: at 49.96% examples, 268312 words/s, in_qsize 5, out_qsize 0\n",
      "2020-06-23 18:43:43,967 : INFO : EPOCH 13 - PROGRESS: at 67.73% examples, 291267 words/s, in_qsize 5, out_qsize 0\n",
      "2020-06-23 18:43:44,977 : INFO : EPOCH 13 - PROGRESS: at 83.37% examples, 299369 words/s, in_qsize 5, out_qsize 0\n",
      "2020-06-23 18:43:45,730 : INFO : worker thread finished; awaiting finish of 2 more threads\n",
      "2020-06-23 18:43:45,732 : INFO : worker thread finished; awaiting finish of 1 more threads\n",
      "2020-06-23 18:43:45,750 : INFO : worker thread finished; awaiting finish of 0 more threads\n",
      "2020-06-23 18:43:45,751 : INFO : EPOCH - 13 : training on 3060122 raw words (2188459 effective words) took 6.9s, 318742 effective words/s\n",
      "2020-06-23 18:43:46,758 : INFO : EPOCH 14 - PROGRESS: at 24.78% examples, 538806 words/s, in_qsize 5, out_qsize 0\n",
      "2020-06-23 18:43:47,775 : INFO : EPOCH 14 - PROGRESS: at 46.44% examples, 503468 words/s, in_qsize 6, out_qsize 0\n",
      "2020-06-23 18:43:48,798 : INFO : EPOCH 14 - PROGRESS: at 70.27% examples, 504879 words/s, in_qsize 5, out_qsize 0\n",
      "2020-06-23 18:43:49,806 : INFO : EPOCH 14 - PROGRESS: at 85.32% examples, 460528 words/s, in_qsize 5, out_qsize 0\n",
      "2020-06-23 18:43:50,747 : INFO : worker thread finished; awaiting finish of 2 more threads\n",
      "2020-06-23 18:43:50,752 : INFO : worker thread finished; awaiting finish of 1 more threads\n",
      "2020-06-23 18:43:50,763 : INFO : worker thread finished; awaiting finish of 0 more threads\n",
      "2020-06-23 18:43:50,764 : INFO : EPOCH - 14 : training on 3060122 raw words (2187997 effective words) took 5.0s, 436739 effective words/s\n",
      "2020-06-23 18:43:51,778 : INFO : EPOCH 15 - PROGRESS: at 22.79% examples, 494277 words/s, in_qsize 6, out_qsize 0\n",
      "2020-06-23 18:43:52,801 : INFO : EPOCH 15 - PROGRESS: at 42.62% examples, 459051 words/s, in_qsize 5, out_qsize 0\n",
      "2020-06-23 18:43:53,844 : INFO : EPOCH 15 - PROGRESS: at 65.35% examples, 465220 words/s, in_qsize 5, out_qsize 0\n",
      "2020-06-23 18:43:54,852 : INFO : EPOCH 15 - PROGRESS: at 88.32% examples, 472118 words/s, in_qsize 5, out_qsize 0\n",
      "2020-06-23 18:43:55,345 : INFO : worker thread finished; awaiting finish of 2 more threads\n",
      "2020-06-23 18:43:55,366 : INFO : worker thread finished; awaiting finish of 1 more threads\n",
      "2020-06-23 18:43:55,376 : INFO : worker thread finished; awaiting finish of 0 more threads\n",
      "2020-06-23 18:43:55,377 : INFO : EPOCH - 15 : training on 3060122 raw words (2188013 effective words) took 4.6s, 474664 effective words/s\n",
      "2020-06-23 18:43:56,394 : INFO : EPOCH 16 - PROGRESS: at 20.49% examples, 443668 words/s, in_qsize 5, out_qsize 0\n",
      "2020-06-23 18:43:57,402 : INFO : EPOCH 16 - PROGRESS: at 41.01% examples, 444455 words/s, in_qsize 5, out_qsize 0\n",
      "2020-06-23 18:43:58,407 : INFO : EPOCH 16 - PROGRESS: at 64.69% examples, 468290 words/s, in_qsize 5, out_qsize 0\n",
      "2020-06-23 18:43:59,435 : INFO : EPOCH 16 - PROGRESS: at 88.67% examples, 477594 words/s, in_qsize 5, out_qsize 0\n",
      "2020-06-23 18:44:00,002 : INFO : worker thread finished; awaiting finish of 2 more threads\n",
      "2020-06-23 18:44:00,014 : INFO : worker thread finished; awaiting finish of 1 more threads\n",
      "2020-06-23 18:44:00,032 : INFO : worker thread finished; awaiting finish of 0 more threads\n",
      "2020-06-23 18:44:00,033 : INFO : EPOCH - 16 : training on 3060122 raw words (2188883 effective words) took 4.7s, 470493 effective words/s\n",
      "2020-06-23 18:44:01,044 : INFO : EPOCH 17 - PROGRESS: at 21.83% examples, 474323 words/s, in_qsize 5, out_qsize 0\n",
      "2020-06-23 18:44:02,059 : INFO : EPOCH 17 - PROGRESS: at 44.19% examples, 479130 words/s, in_qsize 5, out_qsize 0\n",
      "2020-06-23 18:44:03,084 : INFO : EPOCH 17 - PROGRESS: at 59.11% examples, 426036 words/s, in_qsize 5, out_qsize 0\n",
      "2020-06-23 18:44:04,097 : INFO : EPOCH 17 - PROGRESS: at 76.62% examples, 412824 words/s, in_qsize 5, out_qsize 0\n",
      "2020-06-23 18:44:05,101 : INFO : EPOCH 17 - PROGRESS: at 95.03% examples, 410063 words/s, in_qsize 6, out_qsize 0\n",
      "2020-06-23 18:44:05,284 : INFO : worker thread finished; awaiting finish of 2 more threads\n",
      "2020-06-23 18:44:05,312 : INFO : worker thread finished; awaiting finish of 1 more threads\n"
     ]
    },
    {
     "name": "stderr",
     "output_type": "stream",
     "text": [
      "2020-06-23 18:44:05,320 : INFO : worker thread finished; awaiting finish of 0 more threads\n",
      "2020-06-23 18:44:05,321 : INFO : EPOCH - 17 : training on 3060122 raw words (2188986 effective words) took 5.3s, 414178 effective words/s\n",
      "2020-06-23 18:44:06,335 : INFO : EPOCH 18 - PROGRESS: at 24.45% examples, 530197 words/s, in_qsize 5, out_qsize 0\n",
      "2020-06-23 18:44:07,335 : INFO : EPOCH 18 - PROGRESS: at 49.96% examples, 545646 words/s, in_qsize 5, out_qsize 0\n",
      "2020-06-23 18:44:08,339 : INFO : EPOCH 18 - PROGRESS: at 74.63% examples, 542497 words/s, in_qsize 5, out_qsize 0\n",
      "2020-06-23 18:44:09,227 : INFO : worker thread finished; awaiting finish of 2 more threads\n",
      "2020-06-23 18:44:09,241 : INFO : worker thread finished; awaiting finish of 1 more threads\n",
      "2020-06-23 18:44:09,250 : INFO : worker thread finished; awaiting finish of 0 more threads\n",
      "2020-06-23 18:44:09,251 : INFO : EPOCH - 18 : training on 3060122 raw words (2187893 effective words) took 3.9s, 557629 effective words/s\n",
      "2020-06-23 18:44:10,274 : INFO : EPOCH 19 - PROGRESS: at 23.42% examples, 503061 words/s, in_qsize 6, out_qsize 0\n",
      "2020-06-23 18:44:11,280 : INFO : EPOCH 19 - PROGRESS: at 44.19% examples, 478201 words/s, in_qsize 5, out_qsize 0\n",
      "2020-06-23 18:44:12,295 : INFO : EPOCH 19 - PROGRESS: at 66.70% examples, 480102 words/s, in_qsize 5, out_qsize 0\n",
      "2020-06-23 18:44:13,300 : INFO : EPOCH 19 - PROGRESS: at 93.71% examples, 506225 words/s, in_qsize 5, out_qsize 0\n",
      "2020-06-23 18:44:13,513 : INFO : worker thread finished; awaiting finish of 2 more threads\n",
      "2020-06-23 18:44:13,520 : INFO : worker thread finished; awaiting finish of 1 more threads\n",
      "2020-06-23 18:44:13,537 : INFO : worker thread finished; awaiting finish of 0 more threads\n",
      "2020-06-23 18:44:13,538 : INFO : EPOCH - 19 : training on 3060122 raw words (2188175 effective words) took 4.3s, 510795 effective words/s\n",
      "2020-06-23 18:44:14,549 : INFO : EPOCH 20 - PROGRESS: at 21.76% examples, 475216 words/s, in_qsize 6, out_qsize 0\n",
      "2020-06-23 18:44:15,550 : INFO : EPOCH 20 - PROGRESS: at 44.51% examples, 486184 words/s, in_qsize 5, out_qsize 0\n",
      "2020-06-23 18:44:16,566 : INFO : EPOCH 20 - PROGRESS: at 67.41% examples, 487299 words/s, in_qsize 5, out_qsize 0\n",
      "2020-06-23 18:44:17,567 : INFO : EPOCH 20 - PROGRESS: at 90.75% examples, 493225 words/s, in_qsize 5, out_qsize 0\n",
      "2020-06-23 18:44:17,886 : INFO : worker thread finished; awaiting finish of 2 more threads\n",
      "2020-06-23 18:44:17,904 : INFO : worker thread finished; awaiting finish of 1 more threads\n",
      "2020-06-23 18:44:17,911 : INFO : worker thread finished; awaiting finish of 0 more threads\n",
      "2020-06-23 18:44:17,912 : INFO : EPOCH - 20 : training on 3060122 raw words (2188783 effective words) took 4.4s, 500764 effective words/s\n",
      "2020-06-23 18:44:17,914 : INFO : training on a 61202440 raw words (43767281 effective words) took 97.1s, 450957 effective words/s\n",
      "2020-06-23 18:44:17,930 : INFO : precomputing L2-norms of doc weight vectors\n"
     ]
    },
    {
     "data": {
      "text/plain": [
       "0.6874342819213867"
      ]
     },
     "execution_count": 50,
     "metadata": {},
     "output_type": "execute_result"
    }
   ],
   "source": [
    "model_results(45,15)"
   ]
  },
  {
   "cell_type": "code",
   "execution_count": 51,
   "metadata": {},
   "outputs": [
    {
     "name": "stderr",
     "output_type": "stream",
     "text": [
      "2020-06-23 18:47:55,532 : WARNING : consider setting layer size to a multiple of 4 for greater performance\n",
      "2020-06-23 18:47:55,534 : INFO : collecting all words and their counts\n",
      "2020-06-23 18:47:55,536 : INFO : PROGRESS: at example #0, processed 0 words (0/s), 0 word types, 0 tags\n",
      "2020-06-23 18:47:56,208 : INFO : collected 30512 word types and 10000 unique tags from a corpus of 10000 examples and 3060122 words\n",
      "2020-06-23 18:47:56,210 : INFO : Loading a fresh vocabulary\n",
      "2020-06-23 18:47:56,248 : INFO : effective_min_count=20 retains 5580 unique words (18% of original 30512, drops 24932)\n",
      "2020-06-23 18:47:56,249 : INFO : effective_min_count=20 leaves 2966973 word corpus (96% of original 3060122, drops 93149)\n",
      "2020-06-23 18:47:56,289 : INFO : deleting the raw counts dictionary of 30512 items\n",
      "2020-06-23 18:47:56,291 : INFO : sample=0.001 downsamples 64 most-common words\n",
      "2020-06-23 18:47:56,293 : INFO : downsampling leaves estimated 2159156 word corpus (72.8% of prior 2966973)\n",
      "2020-06-23 18:47:56,320 : INFO : estimated required memory for 5580 words and 45 dimensions: 6598800 bytes\n",
      "2020-06-23 18:47:56,322 : INFO : resetting layer weights\n",
      "2020-06-23 18:48:01,282 : INFO : training model with 3 workers on 5580 vocabulary and 45 features, using sg=0 hs=0 sample=0.001 negative=5 window=5\n",
      "2020-06-23 18:48:02,287 : INFO : EPOCH 1 - PROGRESS: at 24.45% examples, 528635 words/s, in_qsize 6, out_qsize 0\n",
      "2020-06-23 18:48:03,288 : INFO : EPOCH 1 - PROGRESS: at 50.93% examples, 552389 words/s, in_qsize 6, out_qsize 0\n",
      "2020-06-23 18:48:04,297 : INFO : EPOCH 1 - PROGRESS: at 76.62% examples, 551697 words/s, in_qsize 5, out_qsize 0\n",
      "2020-06-23 18:48:05,208 : INFO : worker thread finished; awaiting finish of 2 more threads\n",
      "2020-06-23 18:48:05,210 : INFO : worker thread finished; awaiting finish of 1 more threads\n",
      "2020-06-23 18:48:05,227 : INFO : worker thread finished; awaiting finish of 0 more threads\n",
      "2020-06-23 18:48:05,229 : INFO : EPOCH - 1 : training on 3060122 raw words (2169173 effective words) took 3.9s, 550104 effective words/s\n",
      "2020-06-23 18:48:06,247 : INFO : EPOCH 2 - PROGRESS: at 22.49% examples, 480938 words/s, in_qsize 5, out_qsize 0\n",
      "2020-06-23 18:48:07,290 : INFO : EPOCH 2 - PROGRESS: at 42.62% examples, 449604 words/s, in_qsize 5, out_qsize 0\n",
      "2020-06-23 18:48:08,294 : INFO : EPOCH 2 - PROGRESS: at 55.99% examples, 397590 words/s, in_qsize 5, out_qsize 0\n",
      "2020-06-23 18:48:09,306 : INFO : EPOCH 2 - PROGRESS: at 69.66% examples, 370558 words/s, in_qsize 5, out_qsize 0\n",
      "2020-06-23 18:48:10,316 : INFO : EPOCH 2 - PROGRESS: at 80.78% examples, 344658 words/s, in_qsize 5, out_qsize 0\n",
      "2020-06-23 18:48:11,343 : INFO : EPOCH 2 - PROGRESS: at 95.58% examples, 339096 words/s, in_qsize 5, out_qsize 0\n",
      "2020-06-23 18:48:11,504 : INFO : worker thread finished; awaiting finish of 2 more threads\n",
      "2020-06-23 18:48:11,510 : INFO : worker thread finished; awaiting finish of 1 more threads\n",
      "2020-06-23 18:48:11,512 : INFO : worker thread finished; awaiting finish of 0 more threads\n",
      "2020-06-23 18:48:11,512 : INFO : EPOCH - 2 : training on 3060122 raw words (2169634 effective words) took 6.3s, 345438 effective words/s\n",
      "2020-06-23 18:48:12,530 : INFO : EPOCH 3 - PROGRESS: at 26.60% examples, 571658 words/s, in_qsize 6, out_qsize 0\n",
      "2020-06-23 18:48:13,554 : INFO : EPOCH 3 - PROGRESS: at 52.91% examples, 564575 words/s, in_qsize 4, out_qsize 1\n",
      "2020-06-23 18:48:14,563 : INFO : EPOCH 3 - PROGRESS: at 77.87% examples, 554961 words/s, in_qsize 5, out_qsize 0\n",
      "2020-06-23 18:48:15,453 : INFO : worker thread finished; awaiting finish of 2 more threads\n",
      "2020-06-23 18:48:15,456 : INFO : worker thread finished; awaiting finish of 1 more threads\n",
      "2020-06-23 18:48:15,471 : INFO : worker thread finished; awaiting finish of 0 more threads\n",
      "2020-06-23 18:48:15,472 : INFO : EPOCH - 3 : training on 3060122 raw words (2169431 effective words) took 4.0s, 548891 effective words/s\n",
      "2020-06-23 18:48:16,488 : INFO : EPOCH 4 - PROGRESS: at 22.79% examples, 491059 words/s, in_qsize 5, out_qsize 0\n",
      "2020-06-23 18:48:17,490 : INFO : EPOCH 4 - PROGRESS: at 46.10% examples, 498419 words/s, in_qsize 5, out_qsize 0\n",
      "2020-06-23 18:48:18,502 : INFO : EPOCH 4 - PROGRESS: at 68.98% examples, 494805 words/s, in_qsize 5, out_qsize 0\n",
      "2020-06-23 18:48:19,506 : INFO : EPOCH 4 - PROGRESS: at 90.44% examples, 486950 words/s, in_qsize 6, out_qsize 0\n",
      "2020-06-23 18:48:19,883 : INFO : worker thread finished; awaiting finish of 2 more threads\n",
      "2020-06-23 18:48:19,886 : INFO : worker thread finished; awaiting finish of 1 more threads\n",
      "2020-06-23 18:48:19,906 : INFO : worker thread finished; awaiting finish of 0 more threads\n",
      "2020-06-23 18:48:19,907 : INFO : EPOCH - 4 : training on 3060122 raw words (2169832 effective words) took 4.4s, 489993 effective words/s\n",
      "2020-06-23 18:48:20,919 : INFO : EPOCH 5 - PROGRESS: at 23.14% examples, 497824 words/s, in_qsize 5, out_qsize 0\n",
      "2020-06-23 18:48:21,925 : INFO : EPOCH 5 - PROGRESS: at 49.62% examples, 534983 words/s, in_qsize 6, out_qsize 0\n",
      "2020-06-23 18:48:22,928 : INFO : EPOCH 5 - PROGRESS: at 74.01% examples, 531990 words/s, in_qsize 5, out_qsize 0\n",
      "2020-06-23 18:48:23,945 : INFO : EPOCH 5 - PROGRESS: at 97.09% examples, 522184 words/s, in_qsize 6, out_qsize 0\n",
      "2020-06-23 18:48:24,117 : INFO : worker thread finished; awaiting finish of 2 more threads\n",
      "2020-06-23 18:48:24,124 : INFO : worker thread finished; awaiting finish of 1 more threads\n",
      "2020-06-23 18:48:24,130 : INFO : worker thread finished; awaiting finish of 0 more threads\n",
      "2020-06-23 18:48:24,131 : INFO : EPOCH - 5 : training on 3060122 raw words (2169079 effective words) took 4.2s, 513994 effective words/s\n",
      "2020-06-23 18:48:25,173 : INFO : EPOCH 6 - PROGRESS: at 15.73% examples, 329902 words/s, in_qsize 5, out_qsize 0\n",
      "2020-06-23 18:48:26,285 : INFO : EPOCH 6 - PROGRESS: at 29.25% examples, 295037 words/s, in_qsize 6, out_qsize 0\n",
      "2020-06-23 18:48:27,286 : INFO : EPOCH 6 - PROGRESS: at 40.33% examples, 278359 words/s, in_qsize 5, out_qsize 0\n",
      "2020-06-23 18:48:28,298 : INFO : EPOCH 6 - PROGRESS: at 53.47% examples, 279350 words/s, in_qsize 5, out_qsize 0\n",
      "2020-06-23 18:48:29,314 : INFO : EPOCH 6 - PROGRESS: at 72.21% examples, 302273 words/s, in_qsize 5, out_qsize 0\n",
      "2020-06-23 18:48:30,316 : INFO : EPOCH 6 - PROGRESS: at 95.62% examples, 335421 words/s, in_qsize 5, out_qsize 0\n",
      "2020-06-23 18:48:30,510 : INFO : worker thread finished; awaiting finish of 2 more threads\n",
      "2020-06-23 18:48:30,518 : INFO : worker thread finished; awaiting finish of 1 more threads\n",
      "2020-06-23 18:48:30,522 : INFO : worker thread finished; awaiting finish of 0 more threads\n",
      "2020-06-23 18:48:30,523 : INFO : EPOCH - 6 : training on 3060122 raw words (2169372 effective words) took 6.4s, 339768 effective words/s\n",
      "2020-06-23 18:48:31,526 : INFO : EPOCH 7 - PROGRESS: at 25.99% examples, 563231 words/s, in_qsize 5, out_qsize 0\n",
      "2020-06-23 18:48:32,529 : INFO : EPOCH 7 - PROGRESS: at 50.93% examples, 551988 words/s, in_qsize 5, out_qsize 0\n",
      "2020-06-23 18:48:33,536 : INFO : EPOCH 7 - PROGRESS: at 73.16% examples, 526532 words/s, in_qsize 5, out_qsize 0\n",
      "2020-06-23 18:48:34,550 : INFO : EPOCH 7 - PROGRESS: at 95.28% examples, 513221 words/s, in_qsize 5, out_qsize 0\n",
      "2020-06-23 18:48:34,701 : INFO : worker thread finished; awaiting finish of 2 more threads\n",
      "2020-06-23 18:48:34,703 : INFO : worker thread finished; awaiting finish of 1 more threads\n",
      "2020-06-23 18:48:34,722 : INFO : worker thread finished; awaiting finish of 0 more threads\n",
      "2020-06-23 18:48:34,723 : INFO : EPOCH - 7 : training on 3060122 raw words (2169479 effective words) took 4.2s, 516909 effective words/s\n",
      "2020-06-23 18:48:35,743 : INFO : EPOCH 8 - PROGRESS: at 23.14% examples, 493836 words/s, in_qsize 5, out_qsize 0\n",
      "2020-06-23 18:48:36,745 : INFO : EPOCH 8 - PROGRESS: at 46.44% examples, 499579 words/s, in_qsize 5, out_qsize 0\n",
      "2020-06-23 18:48:37,750 : INFO : EPOCH 8 - PROGRESS: at 67.36% examples, 483255 words/s, in_qsize 5, out_qsize 1\n",
      "2020-06-23 18:48:38,750 : INFO : EPOCH 8 - PROGRESS: at 89.90% examples, 483837 words/s, in_qsize 5, out_qsize 0\n",
      "2020-06-23 18:48:39,156 : INFO : worker thread finished; awaiting finish of 2 more threads\n",
      "2020-06-23 18:48:39,159 : INFO : worker thread finished; awaiting finish of 1 more threads\n",
      "2020-06-23 18:48:39,170 : INFO : worker thread finished; awaiting finish of 0 more threads\n"
     ]
    },
    {
     "name": "stderr",
     "output_type": "stream",
     "text": [
      "2020-06-23 18:48:39,171 : INFO : EPOCH - 8 : training on 3060122 raw words (2169266 effective words) took 4.4s, 487990 effective words/s\n",
      "2020-06-23 18:48:40,182 : INFO : EPOCH 9 - PROGRESS: at 27.57% examples, 594397 words/s, in_qsize 6, out_qsize 0\n",
      "2020-06-23 18:48:41,187 : INFO : EPOCH 9 - PROGRESS: at 53.16% examples, 574134 words/s, in_qsize 5, out_qsize 0\n",
      "2020-06-23 18:48:42,187 : INFO : EPOCH 9 - PROGRESS: at 80.45% examples, 579086 words/s, in_qsize 5, out_qsize 0\n",
      "2020-06-23 18:48:42,923 : INFO : worker thread finished; awaiting finish of 2 more threads\n",
      "2020-06-23 18:48:42,928 : INFO : worker thread finished; awaiting finish of 1 more threads\n",
      "2020-06-23 18:48:42,944 : INFO : worker thread finished; awaiting finish of 0 more threads\n",
      "2020-06-23 18:48:42,946 : INFO : EPOCH - 9 : training on 3060122 raw words (2168737 effective words) took 3.8s, 575094 effective words/s\n",
      "2020-06-23 18:48:43,961 : INFO : EPOCH 10 - PROGRESS: at 23.48% examples, 504282 words/s, in_qsize 5, out_qsize 0\n",
      "2020-06-23 18:48:44,990 : INFO : EPOCH 10 - PROGRESS: at 41.01% examples, 436880 words/s, in_qsize 5, out_qsize 0\n",
      "2020-06-23 18:48:46,029 : INFO : EPOCH 10 - PROGRESS: at 51.27% examples, 361790 words/s, in_qsize 5, out_qsize 0\n",
      "2020-06-23 18:48:47,049 : INFO : EPOCH 10 - PROGRESS: at 60.48% examples, 320926 words/s, in_qsize 5, out_qsize 0\n",
      "2020-06-23 18:48:48,072 : INFO : EPOCH 10 - PROGRESS: at 70.65% examples, 298937 words/s, in_qsize 6, out_qsize 0\n",
      "2020-06-23 18:48:49,145 : INFO : EPOCH 10 - PROGRESS: at 78.84% examples, 276080 words/s, in_qsize 5, out_qsize 0\n",
      "2020-06-23 18:48:50,203 : INFO : EPOCH 10 - PROGRESS: at 91.08% examples, 272272 words/s, in_qsize 5, out_qsize 0\n",
      "2020-06-23 18:48:50,837 : INFO : worker thread finished; awaiting finish of 2 more threads\n",
      "2020-06-23 18:48:50,875 : INFO : worker thread finished; awaiting finish of 1 more threads\n",
      "2020-06-23 18:48:50,888 : INFO : worker thread finished; awaiting finish of 0 more threads\n",
      "2020-06-23 18:48:50,889 : INFO : EPOCH - 10 : training on 3060122 raw words (2169335 effective words) took 7.9s, 273292 effective words/s\n",
      "2020-06-23 18:48:51,917 : INFO : EPOCH 11 - PROGRESS: at 15.40% examples, 326618 words/s, in_qsize 6, out_qsize 0\n",
      "2020-06-23 18:48:52,927 : INFO : EPOCH 11 - PROGRESS: at 33.14% examples, 352406 words/s, in_qsize 5, out_qsize 0\n",
      "2020-06-23 18:48:53,938 : INFO : EPOCH 11 - PROGRESS: at 56.26% examples, 402166 words/s, in_qsize 5, out_qsize 0\n",
      "2020-06-23 18:48:54,956 : INFO : EPOCH 11 - PROGRESS: at 80.78% examples, 431295 words/s, in_qsize 5, out_qsize 0\n",
      "2020-06-23 18:48:55,767 : INFO : worker thread finished; awaiting finish of 2 more threads\n",
      "2020-06-23 18:48:55,772 : INFO : worker thread finished; awaiting finish of 1 more threads\n",
      "2020-06-23 18:48:55,788 : INFO : worker thread finished; awaiting finish of 0 more threads\n",
      "2020-06-23 18:48:55,789 : INFO : EPOCH - 11 : training on 3060122 raw words (2170004 effective words) took 4.9s, 443153 effective words/s\n",
      "2020-06-23 18:48:56,795 : INFO : EPOCH 12 - PROGRESS: at 22.49% examples, 486129 words/s, in_qsize 5, out_qsize 0\n",
      "2020-06-23 18:48:57,826 : INFO : EPOCH 12 - PROGRESS: at 44.19% examples, 471909 words/s, in_qsize 5, out_qsize 0\n",
      "2020-06-23 18:48:58,837 : INFO : EPOCH 12 - PROGRESS: at 71.26% examples, 506961 words/s, in_qsize 5, out_qsize 0\n",
      "2020-06-23 18:48:59,850 : INFO : EPOCH 12 - PROGRESS: at 98.96% examples, 529361 words/s, in_qsize 3, out_qsize 0\n",
      "2020-06-23 18:48:59,857 : INFO : worker thread finished; awaiting finish of 2 more threads\n",
      "2020-06-23 18:48:59,859 : INFO : worker thread finished; awaiting finish of 1 more threads\n",
      "2020-06-23 18:48:59,880 : INFO : worker thread finished; awaiting finish of 0 more threads\n",
      "2020-06-23 18:48:59,882 : INFO : EPOCH - 12 : training on 3060122 raw words (2168774 effective words) took 4.1s, 530344 effective words/s\n",
      "2020-06-23 18:49:00,907 : INFO : EPOCH 13 - PROGRESS: at 21.83% examples, 464536 words/s, in_qsize 6, out_qsize 0\n",
      "2020-06-23 18:49:01,925 : INFO : EPOCH 13 - PROGRESS: at 43.59% examples, 464255 words/s, in_qsize 5, out_qsize 0\n",
      "2020-06-23 18:49:02,926 : INFO : EPOCH 13 - PROGRESS: at 67.04% examples, 478378 words/s, in_qsize 6, out_qsize 0\n",
      "2020-06-23 18:49:03,929 : INFO : EPOCH 13 - PROGRESS: at 88.32% examples, 472962 words/s, in_qsize 6, out_qsize 0\n",
      "2020-06-23 18:49:04,445 : INFO : worker thread finished; awaiting finish of 2 more threads\n",
      "2020-06-23 18:49:04,453 : INFO : worker thread finished; awaiting finish of 1 more threads\n",
      "2020-06-23 18:49:04,479 : INFO : worker thread finished; awaiting finish of 0 more threads\n",
      "2020-06-23 18:49:04,480 : INFO : EPOCH - 13 : training on 3060122 raw words (2169298 effective words) took 4.6s, 472203 effective words/s\n",
      "2020-06-23 18:49:05,488 : INFO : EPOCH 14 - PROGRESS: at 26.29% examples, 568016 words/s, in_qsize 5, out_qsize 0\n",
      "2020-06-23 18:49:06,496 : INFO : EPOCH 14 - PROGRESS: at 51.27% examples, 553308 words/s, in_qsize 6, out_qsize 0\n",
      "2020-06-23 18:49:07,508 : INFO : EPOCH 14 - PROGRESS: at 75.60% examples, 542495 words/s, in_qsize 5, out_qsize 0\n",
      "2020-06-23 18:49:08,521 : INFO : EPOCH 14 - PROGRESS: at 97.67% examples, 525256 words/s, in_qsize 6, out_qsize 0\n",
      "2020-06-23 18:49:08,604 : INFO : worker thread finished; awaiting finish of 2 more threads\n",
      "2020-06-23 18:49:08,608 : INFO : worker thread finished; awaiting finish of 1 more threads\n",
      "2020-06-23 18:49:08,627 : INFO : worker thread finished; awaiting finish of 0 more threads\n",
      "2020-06-23 18:49:08,628 : INFO : EPOCH - 14 : training on 3060122 raw words (2169359 effective words) took 4.1s, 523344 effective words/s\n",
      "2020-06-23 18:49:09,632 : INFO : EPOCH 15 - PROGRESS: at 20.49% examples, 445143 words/s, in_qsize 5, out_qsize 0\n",
      "2020-06-23 18:49:10,632 : INFO : EPOCH 15 - PROGRESS: at 41.94% examples, 455459 words/s, in_qsize 5, out_qsize 0\n",
      "2020-06-23 18:49:11,644 : INFO : EPOCH 15 - PROGRESS: at 59.09% examples, 427066 words/s, in_qsize 5, out_qsize 0\n",
      "2020-06-23 18:49:12,654 : INFO : EPOCH 15 - PROGRESS: at 80.45% examples, 433915 words/s, in_qsize 6, out_qsize 0\n",
      "2020-06-23 18:49:13,561 : INFO : worker thread finished; awaiting finish of 2 more threads\n",
      "2020-06-23 18:49:13,597 : INFO : worker thread finished; awaiting finish of 1 more threads\n",
      "2020-06-23 18:49:13,613 : INFO : worker thread finished; awaiting finish of 0 more threads\n",
      "2020-06-23 18:49:13,614 : INFO : EPOCH - 15 : training on 3060122 raw words (2169401 effective words) took 5.0s, 435373 effective words/s\n",
      "2020-06-23 18:49:14,620 : INFO : EPOCH 16 - PROGRESS: at 14.37% examples, 312323 words/s, in_qsize 5, out_qsize 0\n",
      "2020-06-23 18:49:15,661 : INFO : EPOCH 16 - PROGRESS: at 27.57% examples, 293005 words/s, in_qsize 5, out_qsize 0\n",
      "2020-06-23 18:49:16,719 : INFO : EPOCH 16 - PROGRESS: at 38.18% examples, 266943 words/s, in_qsize 5, out_qsize 0\n",
      "2020-06-23 18:49:17,740 : INFO : EPOCH 16 - PROGRESS: at 52.31% examples, 275290 words/s, in_qsize 6, out_qsize 0\n",
      "2020-06-23 18:49:18,747 : INFO : EPOCH 16 - PROGRESS: at 71.26% examples, 301058 words/s, in_qsize 5, out_qsize 0\n",
      "2020-06-23 18:49:19,755 : INFO : EPOCH 16 - PROGRESS: at 97.13% examples, 343227 words/s, in_qsize 6, out_qsize 0\n",
      "2020-06-23 18:49:19,829 : INFO : worker thread finished; awaiting finish of 2 more threads\n",
      "2020-06-23 18:49:19,830 : INFO : worker thread finished; awaiting finish of 1 more threads\n",
      "2020-06-23 18:49:19,850 : INFO : worker thread finished; awaiting finish of 0 more threads\n",
      "2020-06-23 18:49:19,851 : INFO : EPOCH - 16 : training on 3060122 raw words (2169099 effective words) took 6.2s, 347936 effective words/s\n",
      "2020-06-23 18:49:20,855 : INFO : EPOCH 17 - PROGRESS: at 27.57% examples, 597482 words/s, in_qsize 6, out_qsize 0\n",
      "2020-06-23 18:49:21,874 : INFO : EPOCH 17 - PROGRESS: at 50.93% examples, 547488 words/s, in_qsize 5, out_qsize 0\n",
      "2020-06-23 18:49:22,887 : INFO : EPOCH 17 - PROGRESS: at 75.28% examples, 538684 words/s, in_qsize 5, out_qsize 0\n",
      "2020-06-23 18:49:23,751 : INFO : worker thread finished; awaiting finish of 2 more threads\n",
      "2020-06-23 18:49:23,753 : INFO : worker thread finished; awaiting finish of 1 more threads\n",
      "2020-06-23 18:49:23,769 : INFO : worker thread finished; awaiting finish of 0 more threads\n",
      "2020-06-23 18:49:23,769 : INFO : EPOCH - 17 : training on 3060122 raw words (2169316 effective words) took 3.9s, 554045 effective words/s\n"
     ]
    },
    {
     "name": "stderr",
     "output_type": "stream",
     "text": [
      "2020-06-23 18:49:24,784 : INFO : EPOCH 18 - PROGRESS: at 23.14% examples, 496142 words/s, in_qsize 5, out_qsize 0\n",
      "2020-06-23 18:49:25,803 : INFO : EPOCH 18 - PROGRESS: at 48.02% examples, 513999 words/s, in_qsize 6, out_qsize 0\n",
      "2020-06-23 18:49:26,805 : INFO : EPOCH 18 - PROGRESS: at 73.45% examples, 525071 words/s, in_qsize 5, out_qsize 0\n",
      "2020-06-23 18:49:27,815 : INFO : EPOCH 18 - PROGRESS: at 91.43% examples, 490079 words/s, in_qsize 5, out_qsize 0\n",
      "2020-06-23 18:49:28,266 : INFO : worker thread finished; awaiting finish of 2 more threads\n",
      "2020-06-23 18:49:28,276 : INFO : worker thread finished; awaiting finish of 1 more threads\n",
      "2020-06-23 18:49:28,299 : INFO : worker thread finished; awaiting finish of 0 more threads\n",
      "2020-06-23 18:49:28,300 : INFO : EPOCH - 18 : training on 3060122 raw words (2169243 effective words) took 4.5s, 479136 effective words/s\n",
      "2020-06-23 18:49:29,308 : INFO : EPOCH 19 - PROGRESS: at 17.28% examples, 373763 words/s, in_qsize 5, out_qsize 0\n",
      "2020-06-23 18:49:30,358 : INFO : EPOCH 19 - PROGRESS: at 28.23% examples, 297895 words/s, in_qsize 6, out_qsize 0\n",
      "2020-06-23 18:49:31,370 : INFO : EPOCH 19 - PROGRESS: at 40.06% examples, 283506 words/s, in_qsize 5, out_qsize 0\n",
      "2020-06-23 18:49:32,382 : INFO : EPOCH 19 - PROGRESS: at 56.60% examples, 301748 words/s, in_qsize 5, out_qsize 0\n",
      "2020-06-23 18:49:33,390 : INFO : EPOCH 19 - PROGRESS: at 81.08% examples, 345665 words/s, in_qsize 5, out_qsize 0\n",
      "2020-06-23 18:49:34,142 : INFO : worker thread finished; awaiting finish of 2 more threads\n",
      "2020-06-23 18:49:34,155 : INFO : worker thread finished; awaiting finish of 1 more threads\n",
      "2020-06-23 18:49:34,159 : INFO : worker thread finished; awaiting finish of 0 more threads\n",
      "2020-06-23 18:49:34,161 : INFO : EPOCH - 19 : training on 3060122 raw words (2168827 effective words) took 5.9s, 370225 effective words/s\n",
      "2020-06-23 18:49:35,170 : INFO : EPOCH 20 - PROGRESS: at 25.99% examples, 561217 words/s, in_qsize 5, out_qsize 0\n",
      "2020-06-23 18:49:36,174 : INFO : EPOCH 20 - PROGRESS: at 53.80% examples, 581677 words/s, in_qsize 5, out_qsize 0\n",
      "2020-06-23 18:49:37,182 : INFO : EPOCH 20 - PROGRESS: at 79.50% examples, 571392 words/s, in_qsize 5, out_qsize 0\n",
      "2020-06-23 18:49:37,902 : INFO : worker thread finished; awaiting finish of 2 more threads\n",
      "2020-06-23 18:49:37,905 : INFO : worker thread finished; awaiting finish of 1 more threads\n",
      "2020-06-23 18:49:37,921 : INFO : worker thread finished; awaiting finish of 0 more threads\n",
      "2020-06-23 18:49:37,922 : INFO : EPOCH - 20 : training on 3060122 raw words (2169755 effective words) took 3.8s, 577387 effective words/s\n",
      "2020-06-23 18:49:37,923 : INFO : training on a 61202440 raw words (43386414 effective words) took 96.6s, 448955 effective words/s\n",
      "2020-06-23 18:49:37,937 : INFO : precomputing L2-norms of doc weight vectors\n"
     ]
    },
    {
     "data": {
      "text/plain": [
       "0.6835451123476028"
      ]
     },
     "execution_count": 51,
     "metadata": {},
     "output_type": "execute_result"
    }
   ],
   "source": [
    "model_results(45,20)"
   ]
  },
  {
   "cell_type": "markdown",
   "metadata": {},
   "source": [
    "Let us now try to clean up the text body a bit more, by removing stopwords and so on, at the cost of losing some meaning."
   ]
  },
  {
   "cell_type": "code",
   "execution_count": 57,
   "metadata": {},
   "outputs": [],
   "source": [
    "def processed_model_results(dimensions, min_count, epochs=20):\n",
    "    model = gensim.models.doc2vec.Doc2Vec(vector_size=dimensions, min_count=min_count, epochs=epochs)\n",
    "    model.build_vocab(tagged_processed_corpus)\n",
    "    model.train(tagged_processed_corpus, total_examples=model.corpus_count, epochs=model.epochs)\n",
    "    \n",
    "    #ranks = []\n",
    "    second_ranks = []\n",
    "    for doc_id in range(len(tagged_processed_corpus)):\n",
    "        inferred_vector = model.infer_vector(tagged_processed_corpus[doc_id].words)\n",
    "        sims = model.docvecs.most_similar([inferred_vector], topn=2)\n",
    "        \n",
    "        second_ranks.append(sims[1])\n",
    "    \n",
    "    return np.array([x[1] for x in second_ranks]).mean() #mean of the second closest vector"
   ]
  },
  {
   "cell_type": "code",
   "execution_count": 58,
   "metadata": {},
   "outputs": [
    {
     "name": "stderr",
     "output_type": "stream",
     "text": [
      "2020-06-23 19:03:28,464 : INFO : collecting all words and their counts\n",
      "2020-06-23 19:03:28,467 : INFO : PROGRESS: at example #0, processed 0 words (0/s), 0 word types, 0 tags\n",
      "2020-06-23 19:03:29,140 : INFO : collected 27287 word types and 10000 unique tags from a corpus of 10000 examples and 1447322 words\n",
      "2020-06-23 19:03:29,141 : INFO : Loading a fresh vocabulary\n",
      "2020-06-23 19:03:29,177 : INFO : effective_min_count=15 retains 5886 unique words (21% of original 27287, drops 21401)\n",
      "2020-06-23 19:03:29,178 : INFO : effective_min_count=15 leaves 1379980 word corpus (95% of original 1447322, drops 67342)\n",
      "2020-06-23 19:03:29,237 : INFO : deleting the raw counts dictionary of 27287 items\n",
      "2020-06-23 19:03:29,239 : INFO : sample=0.001 downsamples 52 most-common words\n",
      "2020-06-23 19:03:29,240 : INFO : downsampling leaves estimated 1269561 word corpus (92.0% of prior 1379980)\n",
      "2020-06-23 19:03:29,270 : INFO : estimated required memory for 5886 words and 40 dimensions: 6426520 bytes\n",
      "2020-06-23 19:03:29,271 : INFO : resetting layer weights\n",
      "2020-06-23 19:03:34,817 : INFO : training model with 3 workers on 5886 vocabulary and 40 features, using sg=0 hs=0 sample=0.001 negative=5 window=5\n",
      "2020-06-23 19:03:35,841 : INFO : EPOCH 1 - PROGRESS: at 35.63% examples, 446341 words/s, in_qsize 6, out_qsize 0\n",
      "2020-06-23 19:03:36,844 : INFO : EPOCH 1 - PROGRESS: at 71.99% examples, 454688 words/s, in_qsize 5, out_qsize 0\n",
      "2020-06-23 19:03:37,583 : INFO : worker thread finished; awaiting finish of 2 more threads\n",
      "2020-06-23 19:03:37,599 : INFO : worker thread finished; awaiting finish of 1 more threads\n",
      "2020-06-23 19:03:37,616 : INFO : worker thread finished; awaiting finish of 0 more threads\n",
      "2020-06-23 19:03:37,617 : INFO : EPOCH - 1 : training on 1447322 raw words (1279558 effective words) took 2.8s, 457775 effective words/s\n",
      "2020-06-23 19:03:38,628 : INFO : EPOCH 2 - PROGRESS: at 35.63% examples, 451884 words/s, in_qsize 5, out_qsize 0\n",
      "2020-06-23 19:03:39,635 : INFO : EPOCH 2 - PROGRESS: at 60.10% examples, 382690 words/s, in_qsize 6, out_qsize 0\n",
      "2020-06-23 19:03:40,688 : INFO : EPOCH 2 - PROGRESS: at 94.55% examples, 394044 words/s, in_qsize 5, out_qsize 0\n",
      "2020-06-23 19:03:40,897 : INFO : worker thread finished; awaiting finish of 2 more threads\n",
      "2020-06-23 19:03:40,912 : INFO : worker thread finished; awaiting finish of 1 more threads\n",
      "2020-06-23 19:03:40,915 : INFO : worker thread finished; awaiting finish of 0 more threads\n",
      "2020-06-23 19:03:40,916 : INFO : EPOCH - 2 : training on 1447322 raw words (1279365 effective words) took 3.3s, 388184 effective words/s\n",
      "2020-06-23 19:03:41,926 : INFO : EPOCH 3 - PROGRESS: at 33.61% examples, 427622 words/s, in_qsize 5, out_qsize 0\n",
      "2020-06-23 19:03:42,927 : INFO : EPOCH 3 - PROGRESS: at 64.30% examples, 410901 words/s, in_qsize 5, out_qsize 0\n",
      "2020-06-23 19:03:43,928 : INFO : EPOCH 3 - PROGRESS: at 94.64% examples, 402306 words/s, in_qsize 5, out_qsize 0\n",
      "2020-06-23 19:03:44,058 : INFO : worker thread finished; awaiting finish of 2 more threads\n",
      "2020-06-23 19:03:44,064 : INFO : worker thread finished; awaiting finish of 1 more threads\n",
      "2020-06-23 19:03:44,078 : INFO : worker thread finished; awaiting finish of 0 more threads\n",
      "2020-06-23 19:03:44,079 : INFO : EPOCH - 3 : training on 1447322 raw words (1279560 effective words) took 3.2s, 405385 effective words/s\n",
      "2020-06-23 19:03:45,116 : INFO : EPOCH 4 - PROGRESS: at 31.53% examples, 390015 words/s, in_qsize 5, out_qsize 0\n",
      "2020-06-23 19:03:46,132 : INFO : EPOCH 4 - PROGRESS: at 59.35% examples, 372120 words/s, in_qsize 5, out_qsize 0\n",
      "2020-06-23 19:03:47,134 : INFO : EPOCH 4 - PROGRESS: at 89.79% examples, 376191 words/s, in_qsize 5, out_qsize 0\n",
      "2020-06-23 19:03:47,405 : INFO : worker thread finished; awaiting finish of 2 more threads\n",
      "2020-06-23 19:03:47,435 : INFO : worker thread finished; awaiting finish of 1 more threads\n",
      "2020-06-23 19:03:47,437 : INFO : worker thread finished; awaiting finish of 0 more threads\n",
      "2020-06-23 19:03:47,439 : INFO : EPOCH - 4 : training on 1447322 raw words (1279777 effective words) took 3.4s, 381346 effective words/s\n",
      "2020-06-23 19:03:48,466 : INFO : EPOCH 5 - PROGRESS: at 26.00% examples, 328485 words/s, in_qsize 5, out_qsize 0\n",
      "2020-06-23 19:03:49,478 : INFO : EPOCH 5 - PROGRESS: at 51.27% examples, 324369 words/s, in_qsize 5, out_qsize 0\n",
      "2020-06-23 19:03:50,482 : INFO : EPOCH 5 - PROGRESS: at 80.82% examples, 341194 words/s, in_qsize 5, out_qsize 0\n",
      "2020-06-23 19:03:51,145 : INFO : worker thread finished; awaiting finish of 2 more threads\n",
      "2020-06-23 19:03:51,155 : INFO : worker thread finished; awaiting finish of 1 more threads\n",
      "2020-06-23 19:03:51,161 : INFO : worker thread finished; awaiting finish of 0 more threads\n",
      "2020-06-23 19:03:51,162 : INFO : EPOCH - 5 : training on 1447322 raw words (1279533 effective words) took 3.7s, 344942 effective words/s\n",
      "2020-06-23 19:03:52,220 : INFO : EPOCH 6 - PROGRESS: at 25.32% examples, 309487 words/s, in_qsize 5, out_qsize 0\n",
      "2020-06-23 19:03:53,276 : INFO : EPOCH 6 - PROGRESS: at 56.02% examples, 341595 words/s, in_qsize 5, out_qsize 0\n",
      "2020-06-23 19:03:54,279 : INFO : EPOCH 6 - PROGRESS: at 88.56% examples, 363801 words/s, in_qsize 5, out_qsize 0\n",
      "2020-06-23 19:03:54,624 : INFO : worker thread finished; awaiting finish of 2 more threads\n",
      "2020-06-23 19:03:54,628 : INFO : worker thread finished; awaiting finish of 1 more threads\n",
      "2020-06-23 19:03:54,647 : INFO : worker thread finished; awaiting finish of 0 more threads\n",
      "2020-06-23 19:03:54,648 : INFO : EPOCH - 6 : training on 1447322 raw words (1279225 effective words) took 3.5s, 368072 effective words/s\n",
      "2020-06-23 19:03:55,673 : INFO : EPOCH 7 - PROGRESS: at 28.75% examples, 359942 words/s, in_qsize 5, out_qsize 0\n",
      "2020-06-23 19:03:56,706 : INFO : EPOCH 7 - PROGRESS: at 64.23% examples, 401019 words/s, in_qsize 6, out_qsize 0\n",
      "2020-06-23 19:03:57,567 : INFO : worker thread finished; awaiting finish of 2 more threads\n",
      "2020-06-23 19:03:57,589 : INFO : worker thread finished; awaiting finish of 1 more threads\n",
      "2020-06-23 19:03:57,598 : INFO : worker thread finished; awaiting finish of 0 more threads\n",
      "2020-06-23 19:03:57,599 : INFO : EPOCH - 7 : training on 1447322 raw words (1279785 effective words) took 2.9s, 434235 effective words/s\n",
      "2020-06-23 19:03:58,634 : INFO : EPOCH 8 - PROGRESS: at 36.32% examples, 449787 words/s, in_qsize 6, out_qsize 0\n",
      "2020-06-23 19:03:59,637 : INFO : EPOCH 8 - PROGRESS: at 70.61% examples, 443410 words/s, in_qsize 5, out_qsize 0\n",
      "2020-06-23 19:04:00,587 : INFO : worker thread finished; awaiting finish of 2 more threads\n",
      "2020-06-23 19:04:00,602 : INFO : worker thread finished; awaiting finish of 1 more threads\n",
      "2020-06-23 19:04:00,605 : INFO : worker thread finished; awaiting finish of 0 more threads\n",
      "2020-06-23 19:04:00,607 : INFO : EPOCH - 8 : training on 1447322 raw words (1279818 effective words) took 3.0s, 425967 effective words/s\n",
      "2020-06-23 19:04:01,636 : INFO : EPOCH 9 - PROGRESS: at 31.53% examples, 393514 words/s, in_qsize 6, out_qsize 0\n",
      "2020-06-23 19:04:02,672 : INFO : EPOCH 9 - PROGRESS: at 58.01% examples, 361641 words/s, in_qsize 5, out_qsize 0\n",
      "2020-06-23 19:04:03,685 : INFO : EPOCH 9 - PROGRESS: at 95.96% examples, 399088 words/s, in_qsize 6, out_qsize 0\n",
      "2020-06-23 19:04:03,791 : INFO : worker thread finished; awaiting finish of 2 more threads\n",
      "2020-06-23 19:04:03,803 : INFO : worker thread finished; awaiting finish of 1 more threads\n",
      "2020-06-23 19:04:03,815 : INFO : worker thread finished; awaiting finish of 0 more threads\n",
      "2020-06-23 19:04:03,816 : INFO : EPOCH - 9 : training on 1447322 raw words (1279227 effective words) took 3.2s, 399360 effective words/s\n",
      "2020-06-23 19:04:04,831 : INFO : EPOCH 10 - PROGRESS: at 39.67% examples, 502681 words/s, in_qsize 5, out_qsize 0\n",
      "2020-06-23 19:04:05,855 : INFO : EPOCH 10 - PROGRESS: at 77.41% examples, 486441 words/s, in_qsize 5, out_qsize 0\n",
      "2020-06-23 19:04:06,437 : INFO : worker thread finished; awaiting finish of 2 more threads\n",
      "2020-06-23 19:04:06,460 : INFO : worker thread finished; awaiting finish of 1 more threads\n",
      "2020-06-23 19:04:06,474 : INFO : worker thread finished; awaiting finish of 0 more threads\n",
      "2020-06-23 19:04:06,476 : INFO : EPOCH - 10 : training on 1447322 raw words (1279602 effective words) took 2.7s, 481852 effective words/s\n"
     ]
    },
    {
     "name": "stderr",
     "output_type": "stream",
     "text": [
      "2020-06-23 19:04:07,502 : INFO : EPOCH 11 - PROGRESS: at 36.32% examples, 456893 words/s, in_qsize 5, out_qsize 0\n",
      "2020-06-23 19:04:08,516 : INFO : EPOCH 11 - PROGRESS: at 77.41% examples, 487915 words/s, in_qsize 5, out_qsize 0\n",
      "2020-06-23 19:04:09,035 : INFO : worker thread finished; awaiting finish of 2 more threads\n",
      "2020-06-23 19:04:09,045 : INFO : worker thread finished; awaiting finish of 1 more threads\n",
      "2020-06-23 19:04:09,049 : INFO : worker thread finished; awaiting finish of 0 more threads\n",
      "2020-06-23 19:04:09,049 : INFO : EPOCH - 11 : training on 1447322 raw words (1279600 effective words) took 2.6s, 499304 effective words/s\n",
      "2020-06-23 19:04:10,065 : INFO : EPOCH 12 - PROGRESS: at 39.67% examples, 501676 words/s, in_qsize 6, out_qsize 0\n",
      "2020-06-23 19:04:11,083 : INFO : EPOCH 12 - PROGRESS: at 80.82% examples, 508913 words/s, in_qsize 5, out_qsize 0\n",
      "2020-06-23 19:04:11,514 : INFO : worker thread finished; awaiting finish of 2 more threads\n",
      "2020-06-23 19:04:11,526 : INFO : worker thread finished; awaiting finish of 1 more threads\n",
      "2020-06-23 19:04:11,531 : INFO : worker thread finished; awaiting finish of 0 more threads\n",
      "2020-06-23 19:04:11,532 : INFO : EPOCH - 12 : training on 1447322 raw words (1278784 effective words) took 2.5s, 516007 effective words/s\n",
      "2020-06-23 19:04:12,541 : INFO : EPOCH 13 - PROGRESS: at 38.95% examples, 496745 words/s, in_qsize 5, out_qsize 0\n",
      "2020-06-23 19:04:13,544 : INFO : EPOCH 13 - PROGRESS: at 76.71% examples, 488571 words/s, in_qsize 6, out_qsize 0\n",
      "2020-06-23 19:04:14,162 : INFO : worker thread finished; awaiting finish of 2 more threads\n",
      "2020-06-23 19:04:14,170 : INFO : worker thread finished; awaiting finish of 1 more threads\n",
      "2020-06-23 19:04:14,180 : INFO : worker thread finished; awaiting finish of 0 more threads\n",
      "2020-06-23 19:04:14,182 : INFO : EPOCH - 13 : training on 1447322 raw words (1279873 effective words) took 2.6s, 483677 effective words/s\n",
      "2020-06-23 19:04:15,222 : INFO : EPOCH 14 - PROGRESS: at 35.63% examples, 439546 words/s, in_qsize 6, out_qsize 0\n",
      "2020-06-23 19:04:16,241 : INFO : EPOCH 14 - PROGRESS: at 69.16% examples, 430601 words/s, in_qsize 5, out_qsize 0\n",
      "2020-06-23 19:04:17,216 : INFO : worker thread finished; awaiting finish of 2 more threads\n",
      "2020-06-23 19:04:17,237 : INFO : worker thread finished; awaiting finish of 1 more threads\n",
      "2020-06-23 19:04:17,263 : INFO : EPOCH 14 - PROGRESS: at 100.00% examples, 415946 words/s, in_qsize 0, out_qsize 1\n",
      "2020-06-23 19:04:17,264 : INFO : worker thread finished; awaiting finish of 0 more threads\n",
      "2020-06-23 19:04:17,265 : INFO : EPOCH - 14 : training on 1447322 raw words (1279766 effective words) took 3.1s, 415663 effective words/s\n",
      "2020-06-23 19:04:18,286 : INFO : EPOCH 15 - PROGRESS: at 31.53% examples, 396715 words/s, in_qsize 5, out_qsize 0\n",
      "2020-06-23 19:04:19,299 : INFO : EPOCH 15 - PROGRESS: at 72.66% examples, 457731 words/s, in_qsize 5, out_qsize 0\n",
      "2020-06-23 19:04:19,930 : INFO : worker thread finished; awaiting finish of 2 more threads\n",
      "2020-06-23 19:04:19,940 : INFO : worker thread finished; awaiting finish of 1 more threads\n",
      "2020-06-23 19:04:19,945 : INFO : worker thread finished; awaiting finish of 0 more threads\n",
      "2020-06-23 19:04:19,946 : INFO : EPOCH - 15 : training on 1447322 raw words (1279474 effective words) took 2.7s, 478211 effective words/s\n",
      "2020-06-23 19:04:20,951 : INFO : EPOCH 16 - PROGRESS: at 40.28% examples, 516284 words/s, in_qsize 5, out_qsize 0\n",
      "2020-06-23 19:04:21,985 : INFO : EPOCH 16 - PROGRESS: at 78.09% examples, 490964 words/s, in_qsize 5, out_qsize 0\n",
      "2020-06-23 19:04:22,580 : INFO : worker thread finished; awaiting finish of 2 more threads\n",
      "2020-06-23 19:04:22,583 : INFO : worker thread finished; awaiting finish of 1 more threads\n",
      "2020-06-23 19:04:22,594 : INFO : worker thread finished; awaiting finish of 0 more threads\n",
      "2020-06-23 19:04:22,595 : INFO : EPOCH - 16 : training on 1447322 raw words (1279848 effective words) took 2.6s, 483841 effective words/s\n",
      "2020-06-23 19:04:23,616 : INFO : EPOCH 17 - PROGRESS: at 25.32% examples, 318377 words/s, in_qsize 6, out_qsize 0\n",
      "2020-06-23 19:04:24,617 : INFO : EPOCH 17 - PROGRESS: at 57.36% examples, 364736 words/s, in_qsize 5, out_qsize 0\n",
      "2020-06-23 19:04:25,628 : INFO : EPOCH 17 - PROGRESS: at 93.20% examples, 393222 words/s, in_qsize 5, out_qsize 0\n",
      "2020-06-23 19:04:25,762 : INFO : worker thread finished; awaiting finish of 2 more threads\n",
      "2020-06-23 19:04:25,773 : INFO : worker thread finished; awaiting finish of 1 more threads\n",
      "2020-06-23 19:04:25,787 : INFO : worker thread finished; awaiting finish of 0 more threads\n",
      "2020-06-23 19:04:25,788 : INFO : EPOCH - 17 : training on 1447322 raw words (1279499 effective words) took 3.2s, 401136 effective words/s\n",
      "2020-06-23 19:04:26,792 : INFO : EPOCH 18 - PROGRESS: at 39.67% examples, 507638 words/s, in_qsize 5, out_qsize 0\n",
      "2020-06-23 19:04:27,817 : INFO : EPOCH 18 - PROGRESS: at 78.75% examples, 497296 words/s, in_qsize 5, out_qsize 0\n",
      "2020-06-23 19:04:28,296 : INFO : worker thread finished; awaiting finish of 2 more threads\n",
      "2020-06-23 19:04:28,310 : INFO : worker thread finished; awaiting finish of 1 more threads\n",
      "2020-06-23 19:04:28,318 : INFO : worker thread finished; awaiting finish of 0 more threads\n",
      "2020-06-23 19:04:28,319 : INFO : EPOCH - 18 : training on 1447322 raw words (1279040 effective words) took 2.5s, 506064 effective words/s\n",
      "2020-06-23 19:04:29,336 : INFO : EPOCH 19 - PROGRESS: at 37.65% examples, 475432 words/s, in_qsize 6, out_qsize 0\n",
      "2020-06-23 19:04:30,338 : INFO : EPOCH 19 - PROGRESS: at 75.28% examples, 478304 words/s, in_qsize 6, out_qsize 0\n",
      "2020-06-23 19:04:30,894 : INFO : worker thread finished; awaiting finish of 2 more threads\n",
      "2020-06-23 19:04:30,915 : INFO : worker thread finished; awaiting finish of 1 more threads\n",
      "2020-06-23 19:04:30,923 : INFO : worker thread finished; awaiting finish of 0 more threads\n",
      "2020-06-23 19:04:30,924 : INFO : EPOCH - 19 : training on 1447322 raw words (1279838 effective words) took 2.6s, 491940 effective words/s\n",
      "2020-06-23 19:04:31,955 : INFO : EPOCH 20 - PROGRESS: at 41.69% examples, 521055 words/s, in_qsize 5, out_qsize 0\n",
      "2020-06-23 19:04:32,983 : INFO : EPOCH 20 - PROGRESS: at 84.95% examples, 529326 words/s, in_qsize 5, out_qsize 0\n",
      "2020-06-23 19:04:33,301 : INFO : worker thread finished; awaiting finish of 2 more threads\n",
      "2020-06-23 19:04:33,321 : INFO : worker thread finished; awaiting finish of 1 more threads\n",
      "2020-06-23 19:04:33,325 : INFO : worker thread finished; awaiting finish of 0 more threads\n",
      "2020-06-23 19:04:33,325 : INFO : EPOCH - 20 : training on 1447322 raw words (1279806 effective words) took 2.4s, 534140 effective words/s\n",
      "2020-06-23 19:04:33,326 : INFO : training on a 28946440 raw words (25590978 effective words) took 58.5s, 437399 effective words/s\n",
      "2020-06-23 19:04:33,337 : INFO : precomputing L2-norms of doc weight vectors\n"
     ]
    },
    {
     "data": {
      "text/plain": [
       "0.6934578554749489"
      ]
     },
     "execution_count": 58,
     "metadata": {},
     "output_type": "execute_result"
    }
   ],
   "source": [
    "processed_model_results(40,15)"
   ]
  },
  {
   "cell_type": "code",
   "execution_count": 59,
   "metadata": {},
   "outputs": [
    {
     "name": "stderr",
     "output_type": "stream",
     "text": [
      "2020-06-23 19:06:29,941 : INFO : collecting all words and their counts\n",
      "2020-06-23 19:06:29,943 : INFO : PROGRESS: at example #0, processed 0 words (0/s), 0 word types, 0 tags\n",
      "2020-06-23 19:06:30,312 : INFO : collected 27287 word types and 10000 unique tags from a corpus of 10000 examples and 1447322 words\n",
      "2020-06-23 19:06:30,314 : INFO : Loading a fresh vocabulary\n",
      "2020-06-23 19:06:30,343 : INFO : effective_min_count=20 retains 4996 unique words (18% of original 27287, drops 22291)\n",
      "2020-06-23 19:06:30,345 : INFO : effective_min_count=20 leaves 1364958 word corpus (94% of original 1447322, drops 82364)\n",
      "2020-06-23 19:06:30,384 : INFO : deleting the raw counts dictionary of 27287 items\n",
      "2020-06-23 19:06:30,386 : INFO : sample=0.001 downsamples 52 most-common words\n",
      "2020-06-23 19:06:30,387 : INFO : downsampling leaves estimated 1252929 word corpus (91.8% of prior 1364958)\n",
      "2020-06-23 19:06:30,413 : INFO : estimated required memory for 4996 words and 40 dimensions: 5696720 bytes\n",
      "2020-06-23 19:06:30,415 : INFO : resetting layer weights\n",
      "2020-06-23 19:06:35,408 : INFO : training model with 3 workers on 4996 vocabulary and 40 features, using sg=0 hs=0 sample=0.001 negative=5 window=5\n",
      "2020-06-23 19:06:36,432 : INFO : EPOCH 1 - PROGRESS: at 26.00% examples, 322350 words/s, in_qsize 5, out_qsize 0\n",
      "2020-06-23 19:06:37,438 : INFO : EPOCH 1 - PROGRESS: at 56.02% examples, 350315 words/s, in_qsize 5, out_qsize 0\n",
      "2020-06-23 19:06:38,440 : INFO : EPOCH 1 - PROGRESS: at 91.12% examples, 379938 words/s, in_qsize 5, out_qsize 0\n",
      "2020-06-23 19:06:38,733 : INFO : worker thread finished; awaiting finish of 2 more threads\n",
      "2020-06-23 19:06:38,747 : INFO : worker thread finished; awaiting finish of 1 more threads\n",
      "2020-06-23 19:06:38,751 : INFO : worker thread finished; awaiting finish of 0 more threads\n",
      "2020-06-23 19:06:38,752 : INFO : EPOCH - 1 : training on 1447322 raw words (1262966 effective words) took 3.3s, 378323 effective words/s\n",
      "2020-06-23 19:06:39,814 : INFO : EPOCH 2 - PROGRESS: at 33.61% examples, 400734 words/s, in_qsize 5, out_qsize 0\n",
      "2020-06-23 19:06:40,840 : INFO : EPOCH 2 - PROGRESS: at 52.68% examples, 319696 words/s, in_qsize 5, out_qsize 0\n",
      "2020-06-23 19:06:41,847 : INFO : EPOCH 2 - PROGRESS: at 78.09% examples, 319171 words/s, in_qsize 5, out_qsize 0\n",
      "2020-06-23 19:06:42,752 : INFO : worker thread finished; awaiting finish of 2 more threads\n",
      "2020-06-23 19:06:42,784 : INFO : worker thread finished; awaiting finish of 1 more threads\n",
      "2020-06-23 19:06:42,793 : INFO : worker thread finished; awaiting finish of 0 more threads\n",
      "2020-06-23 19:06:42,794 : INFO : EPOCH - 2 : training on 1447322 raw words (1263608 effective words) took 4.0s, 312914 effective words/s\n",
      "2020-06-23 19:06:43,833 : INFO : EPOCH 3 - PROGRESS: at 34.29% examples, 417465 words/s, in_qsize 6, out_qsize 0\n",
      "2020-06-23 19:06:44,852 : INFO : EPOCH 3 - PROGRESS: at 62.22% examples, 383048 words/s, in_qsize 5, out_qsize 0\n",
      "2020-06-23 19:06:45,864 : INFO : EPOCH 3 - PROGRESS: at 95.96% examples, 394811 words/s, in_qsize 5, out_qsize 0\n",
      "2020-06-23 19:06:45,935 : INFO : worker thread finished; awaiting finish of 2 more threads\n",
      "2020-06-23 19:06:45,938 : INFO : worker thread finished; awaiting finish of 1 more threads\n",
      "2020-06-23 19:06:45,960 : INFO : worker thread finished; awaiting finish of 0 more threads\n",
      "2020-06-23 19:06:45,961 : INFO : EPOCH - 3 : training on 1447322 raw words (1262813 effective words) took 3.2s, 399175 effective words/s\n",
      "2020-06-23 19:06:46,977 : INFO : EPOCH 4 - PROGRESS: at 33.61% examples, 418497 words/s, in_qsize 5, out_qsize 0\n",
      "2020-06-23 19:06:47,978 : INFO : EPOCH 4 - PROGRESS: at 67.13% examples, 420942 words/s, in_qsize 5, out_qsize 0\n",
      "2020-06-23 19:06:48,896 : INFO : worker thread finished; awaiting finish of 2 more threads\n",
      "2020-06-23 19:06:48,909 : INFO : worker thread finished; awaiting finish of 1 more threads\n",
      "2020-06-23 19:06:48,925 : INFO : worker thread finished; awaiting finish of 0 more threads\n",
      "2020-06-23 19:06:48,927 : INFO : EPOCH - 4 : training on 1447322 raw words (1263145 effective words) took 3.0s, 426424 effective words/s\n",
      "2020-06-23 19:06:49,936 : INFO : EPOCH 5 - PROGRESS: at 38.95% examples, 491433 words/s, in_qsize 5, out_qsize 0\n",
      "2020-06-23 19:06:50,943 : INFO : EPOCH 5 - PROGRESS: at 73.93% examples, 464612 words/s, in_qsize 5, out_qsize 0\n",
      "2020-06-23 19:06:51,718 : INFO : worker thread finished; awaiting finish of 2 more threads\n",
      "2020-06-23 19:06:51,725 : INFO : worker thread finished; awaiting finish of 1 more threads\n",
      "2020-06-23 19:06:51,767 : INFO : worker thread finished; awaiting finish of 0 more threads\n",
      "2020-06-23 19:06:51,768 : INFO : EPOCH - 5 : training on 1447322 raw words (1262684 effective words) took 2.8s, 445509 effective words/s\n",
      "2020-06-23 19:06:52,784 : INFO : EPOCH 6 - PROGRESS: at 34.34% examples, 427755 words/s, in_qsize 5, out_qsize 0\n",
      "2020-06-23 19:06:53,792 : INFO : EPOCH 6 - PROGRESS: at 75.28% examples, 471127 words/s, in_qsize 5, out_qsize 0\n",
      "2020-06-23 19:06:54,380 : INFO : worker thread finished; awaiting finish of 2 more threads\n",
      "2020-06-23 19:06:54,381 : INFO : worker thread finished; awaiting finish of 1 more threads\n",
      "2020-06-23 19:06:54,390 : INFO : worker thread finished; awaiting finish of 0 more threads\n",
      "2020-06-23 19:06:54,391 : INFO : EPOCH - 6 : training on 1447322 raw words (1262898 effective words) took 2.6s, 482353 effective words/s\n",
      "2020-06-23 19:06:55,412 : INFO : EPOCH 7 - PROGRESS: at 39.67% examples, 493492 words/s, in_qsize 6, out_qsize 0\n",
      "2020-06-23 19:06:56,417 : INFO : EPOCH 7 - PROGRESS: at 78.09% examples, 487703 words/s, in_qsize 5, out_qsize 0\n",
      "2020-06-23 19:06:56,935 : INFO : worker thread finished; awaiting finish of 2 more threads\n",
      "2020-06-23 19:06:56,957 : INFO : worker thread finished; awaiting finish of 1 more threads\n",
      "2020-06-23 19:06:56,964 : INFO : worker thread finished; awaiting finish of 0 more threads\n",
      "2020-06-23 19:06:56,965 : INFO : EPOCH - 7 : training on 1447322 raw words (1262968 effective words) took 2.6s, 491449 effective words/s\n",
      "2020-06-23 19:06:57,997 : INFO : EPOCH 8 - PROGRESS: at 39.67% examples, 487859 words/s, in_qsize 6, out_qsize 0\n",
      "2020-06-23 19:06:59,016 : INFO : EPOCH 8 - PROGRESS: at 77.41% examples, 477188 words/s, in_qsize 5, out_qsize 0\n",
      "2020-06-23 19:06:59,745 : INFO : worker thread finished; awaiting finish of 2 more threads\n",
      "2020-06-23 19:06:59,754 : INFO : worker thread finished; awaiting finish of 1 more threads\n",
      "2020-06-23 19:06:59,766 : INFO : worker thread finished; awaiting finish of 0 more threads\n",
      "2020-06-23 19:06:59,767 : INFO : EPOCH - 8 : training on 1447322 raw words (1262770 effective words) took 2.8s, 451266 effective words/s\n",
      "2020-06-23 19:07:00,782 : INFO : EPOCH 9 - PROGRESS: at 26.64% examples, 335092 words/s, in_qsize 5, out_qsize 0\n",
      "2020-06-23 19:07:01,907 : INFO : EPOCH 9 - PROGRESS: at 60.10% examples, 357419 words/s, in_qsize 5, out_qsize 0\n",
      "2020-06-23 19:07:02,975 : INFO : EPOCH 9 - PROGRESS: at 78.75% examples, 310985 words/s, in_qsize 5, out_qsize 0\n",
      "2020-06-23 19:07:03,975 : INFO : EPOCH 9 - PROGRESS: at 97.80% examples, 294566 words/s, in_qsize 4, out_qsize 0\n",
      "2020-06-23 19:07:03,990 : INFO : worker thread finished; awaiting finish of 2 more threads\n",
      "2020-06-23 19:07:04,001 : INFO : worker thread finished; awaiting finish of 1 more threads\n",
      "2020-06-23 19:07:04,026 : INFO : worker thread finished; awaiting finish of 0 more threads\n",
      "2020-06-23 19:07:04,027 : INFO : EPOCH - 9 : training on 1447322 raw words (1263125 effective words) took 4.3s, 297191 effective words/s\n",
      "2020-06-23 19:07:05,042 : INFO : EPOCH 10 - PROGRESS: at 28.78% examples, 359860 words/s, in_qsize 5, out_qsize 0\n",
      "2020-06-23 19:07:06,043 : INFO : EPOCH 10 - PROGRESS: at 67.84% examples, 426138 words/s, in_qsize 5, out_qsize 0\n",
      "2020-06-23 19:07:06,770 : INFO : worker thread finished; awaiting finish of 2 more threads\n",
      "2020-06-23 19:07:06,798 : INFO : worker thread finished; awaiting finish of 1 more threads\n",
      "2020-06-23 19:07:06,802 : INFO : worker thread finished; awaiting finish of 0 more threads\n",
      "2020-06-23 19:07:06,803 : INFO : EPOCH - 10 : training on 1447322 raw words (1262897 effective words) took 2.8s, 455887 effective words/s\n",
      "2020-06-23 19:07:07,823 : INFO : EPOCH 11 - PROGRESS: at 29.49% examples, 366399 words/s, in_qsize 5, out_qsize 0\n"
     ]
    },
    {
     "name": "stderr",
     "output_type": "stream",
     "text": [
      "2020-06-23 19:07:08,828 : INFO : EPOCH 11 - PROGRESS: at 70.61% examples, 441003 words/s, in_qsize 6, out_qsize 0\n",
      "2020-06-23 19:07:09,673 : INFO : worker thread finished; awaiting finish of 2 more threads\n",
      "2020-06-23 19:07:09,707 : INFO : worker thread finished; awaiting finish of 1 more threads\n",
      "2020-06-23 19:07:09,722 : INFO : worker thread finished; awaiting finish of 0 more threads\n",
      "2020-06-23 19:07:09,724 : INFO : EPOCH - 11 : training on 1447322 raw words (1262859 effective words) took 2.9s, 433181 effective words/s\n",
      "2020-06-23 19:07:10,751 : INFO : EPOCH 12 - PROGRESS: at 31.53% examples, 388940 words/s, in_qsize 5, out_qsize 0\n",
      "2020-06-23 19:07:11,772 : INFO : EPOCH 12 - PROGRESS: at 66.39% examples, 410555 words/s, in_qsize 5, out_qsize 0\n",
      "2020-06-23 19:07:12,782 : INFO : EPOCH 12 - PROGRESS: at 98.53% examples, 407817 words/s, in_qsize 3, out_qsize 0\n",
      "2020-06-23 19:07:12,787 : INFO : worker thread finished; awaiting finish of 2 more threads\n",
      "2020-06-23 19:07:12,791 : INFO : worker thread finished; awaiting finish of 1 more threads\n",
      "2020-06-23 19:07:12,802 : INFO : worker thread finished; awaiting finish of 0 more threads\n",
      "2020-06-23 19:07:12,803 : INFO : EPOCH - 12 : training on 1447322 raw words (1262767 effective words) took 3.1s, 410790 effective words/s\n",
      "2020-06-23 19:07:13,826 : INFO : EPOCH 13 - PROGRESS: at 32.27% examples, 399726 words/s, in_qsize 5, out_qsize 0\n",
      "2020-06-23 19:07:14,849 : INFO : EPOCH 13 - PROGRESS: at 62.90% examples, 390039 words/s, in_qsize 5, out_qsize 0\n",
      "2020-06-23 19:07:15,737 : INFO : worker thread finished; awaiting finish of 2 more threads\n",
      "2020-06-23 19:07:15,747 : INFO : worker thread finished; awaiting finish of 1 more threads\n",
      "2020-06-23 19:07:15,749 : INFO : worker thread finished; awaiting finish of 0 more threads\n",
      "2020-06-23 19:07:15,749 : INFO : EPOCH - 13 : training on 1447322 raw words (1262842 effective words) took 2.9s, 429493 effective words/s\n",
      "2020-06-23 19:07:16,761 : INFO : EPOCH 14 - PROGRESS: at 37.65% examples, 472063 words/s, in_qsize 5, out_qsize 0\n",
      "2020-06-23 19:07:17,777 : INFO : EPOCH 14 - PROGRESS: at 69.18% examples, 431647 words/s, in_qsize 5, out_qsize 0\n",
      "2020-06-23 19:07:18,565 : INFO : worker thread finished; awaiting finish of 2 more threads\n",
      "2020-06-23 19:07:18,573 : INFO : worker thread finished; awaiting finish of 1 more threads\n",
      "2020-06-23 19:07:18,601 : INFO : worker thread finished; awaiting finish of 0 more threads\n",
      "2020-06-23 19:07:18,603 : INFO : EPOCH - 14 : training on 1447322 raw words (1262945 effective words) took 2.8s, 443300 effective words/s\n",
      "2020-06-23 19:07:19,615 : INFO : EPOCH 15 - PROGRESS: at 33.61% examples, 420083 words/s, in_qsize 5, out_qsize 0\n",
      "2020-06-23 19:07:20,623 : INFO : EPOCH 15 - PROGRESS: at 67.13% examples, 420417 words/s, in_qsize 5, out_qsize 0\n",
      "2020-06-23 19:07:21,565 : INFO : worker thread finished; awaiting finish of 2 more threads\n",
      "2020-06-23 19:07:21,594 : INFO : worker thread finished; awaiting finish of 1 more threads\n",
      "2020-06-23 19:07:21,597 : INFO : worker thread finished; awaiting finish of 0 more threads\n",
      "2020-06-23 19:07:21,598 : INFO : EPOCH - 15 : training on 1447322 raw words (1262757 effective words) took 3.0s, 422215 effective words/s\n",
      "2020-06-23 19:07:22,630 : INFO : EPOCH 16 - PROGRESS: at 34.34% examples, 420753 words/s, in_qsize 5, out_qsize 0\n",
      "2020-06-23 19:07:23,653 : INFO : EPOCH 16 - PROGRESS: at 70.61% examples, 434493 words/s, in_qsize 5, out_qsize 0\n",
      "2020-06-23 19:07:24,479 : INFO : worker thread finished; awaiting finish of 2 more threads\n",
      "2020-06-23 19:07:24,484 : INFO : worker thread finished; awaiting finish of 1 more threads\n",
      "2020-06-23 19:07:24,491 : INFO : worker thread finished; awaiting finish of 0 more threads\n",
      "2020-06-23 19:07:24,492 : INFO : EPOCH - 16 : training on 1447322 raw words (1263167 effective words) took 2.9s, 437084 effective words/s\n",
      "2020-06-23 19:07:25,521 : INFO : EPOCH 17 - PROGRESS: at 37.65% examples, 463634 words/s, in_qsize 6, out_qsize 0\n",
      "2020-06-23 19:07:26,524 : INFO : EPOCH 17 - PROGRESS: at 72.66% examples, 451782 words/s, in_qsize 5, out_qsize 0\n",
      "2020-06-23 19:07:27,307 : INFO : worker thread finished; awaiting finish of 2 more threads\n",
      "2020-06-23 19:07:27,323 : INFO : worker thread finished; awaiting finish of 1 more threads\n",
      "2020-06-23 19:07:27,325 : INFO : worker thread finished; awaiting finish of 0 more threads\n",
      "2020-06-23 19:07:27,326 : INFO : EPOCH - 17 : training on 1447322 raw words (1262781 effective words) took 2.8s, 446172 effective words/s\n",
      "2020-06-23 19:07:28,353 : INFO : EPOCH 18 - PROGRESS: at 36.32% examples, 448155 words/s, in_qsize 5, out_qsize 0\n",
      "2020-06-23 19:07:29,367 : INFO : EPOCH 18 - PROGRESS: at 74.57% examples, 462899 words/s, in_qsize 5, out_qsize 0\n",
      "2020-06-23 19:07:30,035 : INFO : worker thread finished; awaiting finish of 2 more threads\n",
      "2020-06-23 19:07:30,045 : INFO : worker thread finished; awaiting finish of 1 more threads\n",
      "2020-06-23 19:07:30,058 : INFO : worker thread finished; awaiting finish of 0 more threads\n",
      "2020-06-23 19:07:30,059 : INFO : EPOCH - 18 : training on 1447322 raw words (1263112 effective words) took 2.7s, 462822 effective words/s\n",
      "2020-06-23 19:07:31,104 : INFO : EPOCH 19 - PROGRESS: at 34.34% examples, 415284 words/s, in_qsize 5, out_qsize 0\n",
      "2020-06-23 19:07:32,112 : INFO : EPOCH 19 - PROGRESS: at 62.22% examples, 384048 words/s, in_qsize 5, out_qsize 0\n",
      "2020-06-23 19:07:33,057 : INFO : worker thread finished; awaiting finish of 2 more threads\n",
      "2020-06-23 19:07:33,061 : INFO : worker thread finished; awaiting finish of 1 more threads\n",
      "2020-06-23 19:07:33,079 : INFO : worker thread finished; awaiting finish of 0 more threads\n",
      "2020-06-23 19:07:33,080 : INFO : EPOCH - 19 : training on 1447322 raw words (1262805 effective words) took 3.0s, 418591 effective words/s\n",
      "2020-06-23 19:07:34,102 : INFO : EPOCH 20 - PROGRESS: at 35.63% examples, 441541 words/s, in_qsize 5, out_qsize 0\n",
      "2020-06-23 19:07:35,105 : INFO : EPOCH 20 - PROGRESS: at 72.60% examples, 453553 words/s, in_qsize 5, out_qsize 0\n",
      "2020-06-23 19:07:35,782 : INFO : worker thread finished; awaiting finish of 2 more threads\n",
      "2020-06-23 19:07:35,796 : INFO : worker thread finished; awaiting finish of 1 more threads\n",
      "2020-06-23 19:07:35,806 : INFO : worker thread finished; awaiting finish of 0 more threads\n",
      "2020-06-23 19:07:35,808 : INFO : EPOCH - 20 : training on 1447322 raw words (1262867 effective words) took 2.7s, 463661 effective words/s\n",
      "2020-06-23 19:07:35,809 : INFO : training on a 28946440 raw words (25258776 effective words) took 60.4s, 418199 effective words/s\n",
      "2020-06-23 19:07:35,819 : INFO : precomputing L2-norms of doc weight vectors\n"
     ]
    },
    {
     "data": {
      "text/plain": [
       "0.6907650874912739"
      ]
     },
     "execution_count": 59,
     "metadata": {},
     "output_type": "execute_result"
    }
   ],
   "source": [
    "processed_model_results(40,20)"
   ]
  },
  {
   "cell_type": "code",
   "execution_count": 60,
   "metadata": {},
   "outputs": [
    {
     "name": "stderr",
     "output_type": "stream",
     "text": [
      "2020-06-23 19:09:42,815 : WARNING : consider setting layer size to a multiple of 4 for greater performance\n",
      "2020-06-23 19:09:42,817 : INFO : collecting all words and their counts\n",
      "2020-06-23 19:09:42,819 : INFO : PROGRESS: at example #0, processed 0 words (0/s), 0 word types, 0 tags\n",
      "2020-06-23 19:09:43,183 : INFO : collected 27287 word types and 10000 unique tags from a corpus of 10000 examples and 1447322 words\n",
      "2020-06-23 19:09:43,184 : INFO : Loading a fresh vocabulary\n",
      "2020-06-23 19:09:43,868 : INFO : effective_min_count=15 retains 5886 unique words (21% of original 27287, drops 21401)\n",
      "2020-06-23 19:09:43,869 : INFO : effective_min_count=15 leaves 1379980 word corpus (95% of original 1447322, drops 67342)\n",
      "2020-06-23 19:09:43,910 : INFO : deleting the raw counts dictionary of 27287 items\n",
      "2020-06-23 19:09:43,913 : INFO : sample=0.001 downsamples 52 most-common words\n",
      "2020-06-23 19:09:43,914 : INFO : downsampling leaves estimated 1269561 word corpus (92.0% of prior 1379980)\n",
      "2020-06-23 19:09:43,943 : INFO : estimated required memory for 5886 words and 45 dimensions: 6861960 bytes\n",
      "2020-06-23 19:09:43,945 : INFO : resetting layer weights\n",
      "2020-06-23 19:09:49,079 : INFO : training model with 3 workers on 5886 vocabulary and 45 features, using sg=0 hs=0 sample=0.001 negative=5 window=5\n",
      "2020-06-23 19:09:50,087 : INFO : EPOCH 1 - PROGRESS: at 32.27% examples, 410034 words/s, in_qsize 5, out_qsize 0\n",
      "2020-06-23 19:09:51,097 : INFO : EPOCH 1 - PROGRESS: at 69.87% examples, 443582 words/s, in_qsize 6, out_qsize 0\n",
      "2020-06-23 19:09:51,883 : INFO : worker thread finished; awaiting finish of 2 more threads\n",
      "2020-06-23 19:09:51,900 : INFO : worker thread finished; awaiting finish of 1 more threads\n",
      "2020-06-23 19:09:51,909 : INFO : worker thread finished; awaiting finish of 0 more threads\n",
      "2020-06-23 19:09:51,910 : INFO : EPOCH - 1 : training on 1447322 raw words (1279505 effective words) took 2.8s, 452682 effective words/s\n",
      "2020-06-23 19:09:52,943 : INFO : EPOCH 2 - PROGRESS: at 38.28% examples, 477207 words/s, in_qsize 6, out_qsize 0\n",
      "2020-06-23 19:09:53,960 : INFO : EPOCH 2 - PROGRESS: at 76.71% examples, 479849 words/s, in_qsize 5, out_qsize 0\n",
      "2020-06-23 19:09:54,563 : INFO : worker thread finished; awaiting finish of 2 more threads\n",
      "2020-06-23 19:09:54,581 : INFO : worker thread finished; awaiting finish of 1 more threads\n",
      "2020-06-23 19:09:54,591 : INFO : worker thread finished; awaiting finish of 0 more threads\n",
      "2020-06-23 19:09:54,592 : INFO : EPOCH - 2 : training on 1447322 raw words (1279628 effective words) took 2.7s, 477896 effective words/s\n",
      "2020-06-23 19:09:55,620 : INFO : EPOCH 3 - PROGRESS: at 35.63% examples, 444647 words/s, in_qsize 6, out_qsize 0\n",
      "2020-06-23 19:09:56,627 : INFO : EPOCH 3 - PROGRESS: at 71.99% examples, 452826 words/s, in_qsize 6, out_qsize 0\n",
      "2020-06-23 19:09:57,305 : INFO : worker thread finished; awaiting finish of 2 more threads\n",
      "2020-06-23 19:09:57,325 : INFO : worker thread finished; awaiting finish of 1 more threads\n",
      "2020-06-23 19:09:57,333 : INFO : worker thread finished; awaiting finish of 0 more threads\n",
      "2020-06-23 19:09:57,334 : INFO : EPOCH - 3 : training on 1447322 raw words (1279690 effective words) took 2.7s, 467401 effective words/s\n",
      "2020-06-23 19:09:58,341 : INFO : EPOCH 4 - PROGRESS: at 35.63% examples, 453961 words/s, in_qsize 6, out_qsize 0\n",
      "2020-06-23 19:09:59,447 : INFO : EPOCH 4 - PROGRESS: at 67.76% examples, 411383 words/s, in_qsize 5, out_qsize 0\n",
      "2020-06-23 19:10:00,474 : INFO : EPOCH 4 - PROGRESS: at 94.63% examples, 385693 words/s, in_qsize 5, out_qsize 0\n",
      "2020-06-23 19:10:00,655 : INFO : worker thread finished; awaiting finish of 2 more threads\n",
      "2020-06-23 19:10:00,695 : INFO : worker thread finished; awaiting finish of 1 more threads\n",
      "2020-06-23 19:10:00,713 : INFO : worker thread finished; awaiting finish of 0 more threads\n",
      "2020-06-23 19:10:00,714 : INFO : EPOCH - 4 : training on 1447322 raw words (1279801 effective words) took 3.4s, 379080 effective words/s\n",
      "2020-06-23 19:10:01,727 : INFO : EPOCH 5 - PROGRESS: at 25.32% examples, 322391 words/s, in_qsize 5, out_qsize 0\n",
      "2020-06-23 19:10:02,744 : INFO : EPOCH 5 - PROGRESS: at 58.71% examples, 372681 words/s, in_qsize 5, out_qsize 0\n",
      "2020-06-23 19:10:03,747 : INFO : EPOCH 5 - PROGRESS: at 89.91% examples, 379489 words/s, in_qsize 6, out_qsize 0\n",
      "2020-06-23 19:10:03,991 : INFO : worker thread finished; awaiting finish of 2 more threads\n",
      "2020-06-23 19:10:04,000 : INFO : worker thread finished; awaiting finish of 1 more threads\n",
      "2020-06-23 19:10:04,014 : INFO : worker thread finished; awaiting finish of 0 more threads\n",
      "2020-06-23 19:10:04,015 : INFO : EPOCH - 5 : training on 1447322 raw words (1279749 effective words) took 3.3s, 388482 effective words/s\n",
      "2020-06-23 19:10:05,036 : INFO : EPOCH 6 - PROGRESS: at 29.49% examples, 370388 words/s, in_qsize 6, out_qsize 0\n",
      "2020-06-23 19:10:06,060 : INFO : EPOCH 6 - PROGRESS: at 60.10% examples, 378007 words/s, in_qsize 5, out_qsize 0\n",
      "2020-06-23 19:10:07,062 : INFO : EPOCH 6 - PROGRESS: at 95.26% examples, 400185 words/s, in_qsize 5, out_qsize 0\n",
      "2020-06-23 19:10:07,140 : INFO : worker thread finished; awaiting finish of 2 more threads\n",
      "2020-06-23 19:10:07,162 : INFO : worker thread finished; awaiting finish of 1 more threads\n",
      "2020-06-23 19:10:07,171 : INFO : worker thread finished; awaiting finish of 0 more threads\n",
      "2020-06-23 19:10:07,172 : INFO : EPOCH - 6 : training on 1447322 raw words (1279452 effective words) took 3.2s, 405882 effective words/s\n",
      "2020-06-23 19:10:08,179 : INFO : EPOCH 7 - PROGRESS: at 33.61% examples, 427472 words/s, in_qsize 5, out_qsize 0\n",
      "2020-06-23 19:10:09,197 : INFO : EPOCH 7 - PROGRESS: at 66.39% examples, 420392 words/s, in_qsize 5, out_qsize 0\n",
      "2020-06-23 19:10:10,204 : INFO : EPOCH 7 - PROGRESS: at 97.22% examples, 410700 words/s, in_qsize 5, out_qsize 0\n",
      "2020-06-23 19:10:10,248 : INFO : worker thread finished; awaiting finish of 2 more threads\n",
      "2020-06-23 19:10:10,260 : INFO : worker thread finished; awaiting finish of 1 more threads\n",
      "2020-06-23 19:10:10,273 : INFO : worker thread finished; awaiting finish of 0 more threads\n",
      "2020-06-23 19:10:10,275 : INFO : EPOCH - 7 : training on 1447322 raw words (1279391 effective words) took 3.1s, 412857 effective words/s\n",
      "2020-06-23 19:10:11,278 : INFO : EPOCH 8 - PROGRESS: at 30.20% examples, 385217 words/s, in_qsize 5, out_qsize 0\n",
      "2020-06-23 19:10:12,303 : INFO : EPOCH 8 - PROGRESS: at 62.90% examples, 398107 words/s, in_qsize 5, out_qsize 0\n",
      "2020-06-23 19:10:13,304 : INFO : EPOCH 8 - PROGRESS: at 98.53% examples, 416825 words/s, in_qsize 3, out_qsize 0\n",
      "2020-06-23 19:10:13,309 : INFO : worker thread finished; awaiting finish of 2 more threads\n",
      "2020-06-23 19:10:13,311 : INFO : worker thread finished; awaiting finish of 1 more threads\n",
      "2020-06-23 19:10:13,328 : INFO : worker thread finished; awaiting finish of 0 more threads\n",
      "2020-06-23 19:10:13,329 : INFO : EPOCH - 8 : training on 1447322 raw words (1279518 effective words) took 3.1s, 419417 effective words/s\n",
      "2020-06-23 19:10:14,371 : INFO : EPOCH 9 - PROGRESS: at 32.21% examples, 396402 words/s, in_qsize 5, out_qsize 0\n",
      "2020-06-23 19:10:15,402 : INFO : EPOCH 9 - PROGRESS: at 68.47% examples, 423509 words/s, in_qsize 5, out_qsize 0\n",
      "2020-06-23 19:10:16,377 : INFO : worker thread finished; awaiting finish of 2 more threads\n",
      "2020-06-23 19:10:16,379 : INFO : worker thread finished; awaiting finish of 1 more threads\n",
      "2020-06-23 19:10:16,396 : INFO : worker thread finished; awaiting finish of 0 more threads\n",
      "2020-06-23 19:10:16,397 : INFO : EPOCH - 9 : training on 1447322 raw words (1279970 effective words) took 3.1s, 417695 effective words/s\n",
      "2020-06-23 19:10:17,418 : INFO : EPOCH 10 - PROGRESS: at 31.53% examples, 395998 words/s, in_qsize 5, out_qsize 0\n",
      "2020-06-23 19:10:18,437 : INFO : EPOCH 10 - PROGRESS: at 62.22% examples, 391601 words/s, in_qsize 5, out_qsize 0\n",
      "2020-06-23 19:10:19,484 : INFO : EPOCH 10 - PROGRESS: at 96.57% examples, 400593 words/s, in_qsize 5, out_qsize 1\n",
      "2020-06-23 19:10:19,541 : INFO : worker thread finished; awaiting finish of 2 more threads\n",
      "2020-06-23 19:10:19,543 : INFO : worker thread finished; awaiting finish of 1 more threads\n",
      "2020-06-23 19:10:19,544 : INFO : worker thread finished; awaiting finish of 0 more threads\n"
     ]
    },
    {
     "name": "stderr",
     "output_type": "stream",
     "text": [
      "2020-06-23 19:10:19,545 : INFO : EPOCH - 10 : training on 1447322 raw words (1279573 effective words) took 3.1s, 406960 effective words/s\n",
      "2020-06-23 19:10:20,557 : INFO : EPOCH 11 - PROGRESS: at 35.02% examples, 443243 words/s, in_qsize 5, out_qsize 0\n",
      "2020-06-23 19:10:21,567 : INFO : EPOCH 11 - PROGRESS: at 62.22% examples, 395157 words/s, in_qsize 6, out_qsize 0\n",
      "2020-06-23 19:10:22,576 : INFO : EPOCH 11 - PROGRESS: at 92.46% examples, 390837 words/s, in_qsize 6, out_qsize 0\n",
      "2020-06-23 19:10:22,812 : INFO : worker thread finished; awaiting finish of 2 more threads\n",
      "2020-06-23 19:10:22,815 : INFO : worker thread finished; awaiting finish of 1 more threads\n",
      "2020-06-23 19:10:22,826 : INFO : worker thread finished; awaiting finish of 0 more threads\n",
      "2020-06-23 19:10:22,827 : INFO : EPOCH - 11 : training on 1447322 raw words (1279691 effective words) took 3.3s, 390510 effective words/s\n",
      "2020-06-23 19:10:23,849 : INFO : EPOCH 12 - PROGRESS: at 36.32% examples, 456332 words/s, in_qsize 5, out_qsize 0\n",
      "2020-06-23 19:10:24,877 : INFO : EPOCH 12 - PROGRESS: at 66.39% examples, 415609 words/s, in_qsize 5, out_qsize 0\n",
      "2020-06-23 19:10:25,769 : INFO : worker thread finished; awaiting finish of 2 more threads\n",
      "2020-06-23 19:10:25,787 : INFO : worker thread finished; awaiting finish of 1 more threads\n",
      "2020-06-23 19:10:25,800 : INFO : worker thread finished; awaiting finish of 0 more threads\n",
      "2020-06-23 19:10:25,801 : INFO : EPOCH - 12 : training on 1447322 raw words (1279784 effective words) took 3.0s, 430963 effective words/s\n",
      "2020-06-23 19:10:26,822 : INFO : EPOCH 13 - PROGRESS: at 33.61% examples, 422020 words/s, in_qsize 5, out_qsize 0\n",
      "2020-06-23 19:10:27,839 : INFO : EPOCH 13 - PROGRESS: at 68.47% examples, 430673 words/s, in_qsize 5, out_qsize 0\n",
      "2020-06-23 19:10:28,613 : INFO : worker thread finished; awaiting finish of 2 more threads\n",
      "2020-06-23 19:10:28,636 : INFO : worker thread finished; awaiting finish of 1 more threads\n",
      "2020-06-23 19:10:28,642 : INFO : worker thread finished; awaiting finish of 0 more threads\n",
      "2020-06-23 19:10:28,643 : INFO : EPOCH - 13 : training on 1447322 raw words (1279942 effective words) took 2.8s, 450938 effective words/s\n",
      "2020-06-23 19:10:29,658 : INFO : EPOCH 14 - PROGRESS: at 38.32% examples, 485082 words/s, in_qsize 5, out_qsize 0\n",
      "2020-06-23 19:10:30,673 : INFO : EPOCH 14 - PROGRESS: at 72.60% examples, 458282 words/s, in_qsize 6, out_qsize 1\n",
      "2020-06-23 19:10:31,506 : INFO : worker thread finished; awaiting finish of 2 more threads\n",
      "2020-06-23 19:10:31,544 : INFO : worker thread finished; awaiting finish of 1 more threads\n",
      "2020-06-23 19:10:31,557 : INFO : worker thread finished; awaiting finish of 0 more threads\n",
      "2020-06-23 19:10:31,558 : INFO : EPOCH - 14 : training on 1447322 raw words (1279231 effective words) took 2.9s, 439462 effective words/s\n",
      "2020-06-23 19:10:32,565 : INFO : EPOCH 15 - PROGRESS: at 30.85% examples, 393945 words/s, in_qsize 5, out_qsize 0\n",
      "2020-06-23 19:10:33,587 : INFO : EPOCH 15 - PROGRESS: at 68.47% examples, 433279 words/s, in_qsize 5, out_qsize 0\n",
      "2020-06-23 19:10:34,456 : INFO : worker thread finished; awaiting finish of 2 more threads\n",
      "2020-06-23 19:10:34,485 : INFO : worker thread finished; awaiting finish of 1 more threads\n",
      "2020-06-23 19:10:34,494 : INFO : worker thread finished; awaiting finish of 0 more threads\n",
      "2020-06-23 19:10:34,495 : INFO : EPOCH - 15 : training on 1447322 raw words (1279466 effective words) took 2.9s, 436627 effective words/s\n",
      "2020-06-23 19:10:35,517 : INFO : EPOCH 16 - PROGRESS: at 35.63% examples, 447540 words/s, in_qsize 5, out_qsize 0\n",
      "2020-06-23 19:10:36,547 : INFO : EPOCH 16 - PROGRESS: at 74.57% examples, 466212 words/s, in_qsize 5, out_qsize 0\n",
      "2020-06-23 19:10:37,169 : INFO : worker thread finished; awaiting finish of 2 more threads\n",
      "2020-06-23 19:10:37,200 : INFO : worker thread finished; awaiting finish of 1 more threads\n",
      "2020-06-23 19:10:37,205 : INFO : worker thread finished; awaiting finish of 0 more threads\n",
      "2020-06-23 19:10:37,206 : INFO : EPOCH - 16 : training on 1447322 raw words (1278833 effective words) took 2.7s, 472626 effective words/s\n",
      "2020-06-23 19:10:38,226 : INFO : EPOCH 17 - PROGRESS: at 36.33% examples, 456906 words/s, in_qsize 5, out_qsize 0\n",
      "2020-06-23 19:10:39,256 : INFO : EPOCH 17 - PROGRESS: at 76.71% examples, 479634 words/s, in_qsize 6, out_qsize 0\n",
      "2020-06-23 19:10:39,871 : INFO : worker thread finished; awaiting finish of 2 more threads\n",
      "2020-06-23 19:10:39,882 : INFO : worker thread finished; awaiting finish of 1 more threads\n",
      "2020-06-23 19:10:39,884 : INFO : worker thread finished; awaiting finish of 0 more threads\n",
      "2020-06-23 19:10:39,885 : INFO : EPOCH - 17 : training on 1447322 raw words (1279868 effective words) took 2.7s, 478404 effective words/s\n",
      "2020-06-23 19:10:40,934 : INFO : EPOCH 18 - PROGRESS: at 33.61% examples, 411106 words/s, in_qsize 6, out_qsize 0\n",
      "2020-06-23 19:10:41,964 : INFO : EPOCH 18 - PROGRESS: at 66.39% examples, 409772 words/s, in_qsize 5, out_qsize 0\n",
      "2020-06-23 19:10:42,867 : INFO : worker thread finished; awaiting finish of 2 more threads\n",
      "2020-06-23 19:10:42,876 : INFO : worker thread finished; awaiting finish of 1 more threads\n",
      "2020-06-23 19:10:42,892 : INFO : worker thread finished; awaiting finish of 0 more threads\n",
      "2020-06-23 19:10:42,893 : INFO : EPOCH - 18 : training on 1447322 raw words (1279963 effective words) took 3.0s, 426207 effective words/s\n",
      "2020-06-23 19:10:43,918 : INFO : EPOCH 19 - PROGRESS: at 38.32% examples, 479582 words/s, in_qsize 5, out_qsize 0\n",
      "2020-06-23 19:10:44,942 : INFO : EPOCH 19 - PROGRESS: at 74.57% examples, 466690 words/s, in_qsize 5, out_qsize 0\n",
      "2020-06-23 19:10:45,532 : INFO : worker thread finished; awaiting finish of 2 more threads\n",
      "2020-06-23 19:10:45,555 : INFO : worker thread finished; awaiting finish of 1 more threads\n",
      "2020-06-23 19:10:45,563 : INFO : worker thread finished; awaiting finish of 0 more threads\n",
      "2020-06-23 19:10:45,564 : INFO : EPOCH - 19 : training on 1447322 raw words (1279548 effective words) took 2.7s, 479663 effective words/s\n",
      "2020-06-23 19:10:46,589 : INFO : EPOCH 20 - PROGRESS: at 39.67% examples, 497510 words/s, in_qsize 5, out_qsize 0\n",
      "2020-06-23 19:10:47,594 : INFO : EPOCH 20 - PROGRESS: at 79.39% examples, 501584 words/s, in_qsize 6, out_qsize 0\n",
      "2020-06-23 19:10:48,104 : INFO : worker thread finished; awaiting finish of 2 more threads\n",
      "2020-06-23 19:10:48,115 : INFO : worker thread finished; awaiting finish of 1 more threads\n",
      "2020-06-23 19:10:48,130 : INFO : worker thread finished; awaiting finish of 0 more threads\n",
      "2020-06-23 19:10:48,131 : INFO : EPOCH - 20 : training on 1447322 raw words (1279973 effective words) took 2.6s, 499205 effective words/s\n",
      "2020-06-23 19:10:48,132 : INFO : training on a 28946440 raw words (25592576 effective words) took 59.1s, 433396 effective words/s\n",
      "2020-06-23 19:10:48,142 : INFO : precomputing L2-norms of doc weight vectors\n"
     ]
    },
    {
     "data": {
      "text/plain": [
       "0.6714667041152715"
      ]
     },
     "execution_count": 60,
     "metadata": {},
     "output_type": "execute_result"
    }
   ],
   "source": [
    "processed_model_results(45,15)"
   ]
  },
  {
   "cell_type": "code",
   "execution_count": 61,
   "metadata": {},
   "outputs": [
    {
     "name": "stderr",
     "output_type": "stream",
     "text": [
      "2020-06-23 19:12:40,819 : WARNING : consider setting layer size to a multiple of 4 for greater performance\n",
      "2020-06-23 19:12:40,822 : INFO : collecting all words and their counts\n",
      "2020-06-23 19:12:40,823 : INFO : PROGRESS: at example #0, processed 0 words (0/s), 0 word types, 0 tags\n",
      "2020-06-23 19:12:41,195 : INFO : collected 27287 word types and 10000 unique tags from a corpus of 10000 examples and 1447322 words\n",
      "2020-06-23 19:12:41,196 : INFO : Loading a fresh vocabulary\n",
      "2020-06-23 19:12:41,226 : INFO : effective_min_count=20 retains 4996 unique words (18% of original 27287, drops 22291)\n",
      "2020-06-23 19:12:41,228 : INFO : effective_min_count=20 leaves 1364958 word corpus (94% of original 1447322, drops 82364)\n",
      "2020-06-23 19:12:41,264 : INFO : deleting the raw counts dictionary of 27287 items\n",
      "2020-06-23 19:12:41,266 : INFO : sample=0.001 downsamples 52 most-common words\n",
      "2020-06-23 19:12:41,267 : INFO : downsampling leaves estimated 1252929 word corpus (91.8% of prior 1364958)\n",
      "2020-06-23 19:12:41,293 : INFO : estimated required memory for 4996 words and 45 dimensions: 6096560 bytes\n",
      "2020-06-23 19:12:41,295 : INFO : resetting layer weights\n",
      "2020-06-23 19:12:46,583 : INFO : training model with 3 workers on 4996 vocabulary and 45 features, using sg=0 hs=0 sample=0.001 negative=5 window=5\n",
      "2020-06-23 19:12:47,605 : INFO : EPOCH 1 - PROGRESS: at 36.26% examples, 449412 words/s, in_qsize 5, out_qsize 0\n",
      "2020-06-23 19:12:48,614 : INFO : EPOCH 1 - PROGRESS: at 76.71% examples, 477571 words/s, in_qsize 5, out_qsize 0\n",
      "2020-06-23 19:12:49,180 : INFO : worker thread finished; awaiting finish of 2 more threads\n",
      "2020-06-23 19:12:49,196 : INFO : worker thread finished; awaiting finish of 1 more threads\n",
      "2020-06-23 19:12:49,202 : INFO : worker thread finished; awaiting finish of 0 more threads\n",
      "2020-06-23 19:12:49,203 : INFO : EPOCH - 1 : training on 1447322 raw words (1263036 effective words) took 2.6s, 482693 effective words/s\n",
      "2020-06-23 19:12:50,207 : INFO : EPOCH 2 - PROGRESS: at 38.32% examples, 483732 words/s, in_qsize 5, out_qsize 0\n",
      "2020-06-23 19:12:51,216 : INFO : EPOCH 2 - PROGRESS: at 64.96% examples, 408948 words/s, in_qsize 5, out_qsize 0\n",
      "2020-06-23 19:12:52,141 : INFO : worker thread finished; awaiting finish of 2 more threads\n",
      "2020-06-23 19:12:52,142 : INFO : worker thread finished; awaiting finish of 1 more threads\n",
      "2020-06-23 19:12:52,167 : INFO : worker thread finished; awaiting finish of 0 more threads\n",
      "2020-06-23 19:12:52,168 : INFO : EPOCH - 2 : training on 1447322 raw words (1262898 effective words) took 3.0s, 426404 effective words/s\n",
      "2020-06-23 19:12:53,172 : INFO : EPOCH 3 - PROGRESS: at 32.95% examples, 414585 words/s, in_qsize 6, out_qsize 0\n",
      "2020-06-23 19:12:54,192 : INFO : EPOCH 3 - PROGRESS: at 66.39% examples, 415275 words/s, in_qsize 6, out_qsize 0\n",
      "2020-06-23 19:12:55,142 : INFO : worker thread finished; awaiting finish of 2 more threads\n",
      "2020-06-23 19:12:55,156 : INFO : worker thread finished; awaiting finish of 1 more threads\n",
      "2020-06-23 19:12:55,163 : INFO : worker thread finished; awaiting finish of 0 more threads\n",
      "2020-06-23 19:12:55,164 : INFO : EPOCH - 3 : training on 1447322 raw words (1263118 effective words) took 3.0s, 422170 effective words/s\n",
      "2020-06-23 19:12:56,172 : INFO : EPOCH 4 - PROGRESS: at 32.95% examples, 412821 words/s, in_qsize 5, out_qsize 0\n",
      "2020-06-23 19:12:57,197 : INFO : EPOCH 4 - PROGRESS: at 66.39% examples, 413219 words/s, in_qsize 6, out_qsize 0\n",
      "2020-06-23 19:12:58,206 : INFO : EPOCH 4 - PROGRESS: at 97.15% examples, 403921 words/s, in_qsize 5, out_qsize 0\n",
      "2020-06-23 19:12:58,265 : INFO : worker thread finished; awaiting finish of 2 more threads\n",
      "2020-06-23 19:12:58,268 : INFO : worker thread finished; awaiting finish of 1 more threads\n",
      "2020-06-23 19:12:58,274 : INFO : worker thread finished; awaiting finish of 0 more threads\n",
      "2020-06-23 19:12:58,275 : INFO : EPOCH - 4 : training on 1447322 raw words (1262629 effective words) took 3.1s, 406375 effective words/s\n",
      "2020-06-23 19:12:59,289 : INFO : EPOCH 5 - PROGRESS: at 39.67% examples, 496185 words/s, in_qsize 5, out_qsize 0\n",
      "2020-06-23 19:13:00,329 : INFO : EPOCH 5 - PROGRESS: at 80.82% examples, 497621 words/s, in_qsize 6, out_qsize 0\n",
      "2020-06-23 19:13:00,756 : INFO : worker thread finished; awaiting finish of 2 more threads\n",
      "2020-06-23 19:13:00,778 : INFO : worker thread finished; awaiting finish of 1 more threads\n",
      "2020-06-23 19:13:00,785 : INFO : worker thread finished; awaiting finish of 0 more threads\n",
      "2020-06-23 19:13:00,786 : INFO : EPOCH - 5 : training on 1447322 raw words (1263105 effective words) took 2.5s, 503631 effective words/s\n",
      "2020-06-23 19:13:01,803 : INFO : EPOCH 6 - PROGRESS: at 39.67% examples, 495162 words/s, in_qsize 5, out_qsize 0\n",
      "2020-06-23 19:13:02,844 : INFO : EPOCH 6 - PROGRESS: at 80.82% examples, 496897 words/s, in_qsize 5, out_qsize 0\n",
      "2020-06-23 19:13:03,277 : INFO : worker thread finished; awaiting finish of 2 more threads\n",
      "2020-06-23 19:13:03,301 : INFO : worker thread finished; awaiting finish of 1 more threads\n",
      "2020-06-23 19:13:03,308 : INFO : worker thread finished; awaiting finish of 0 more threads\n",
      "2020-06-23 19:13:03,309 : INFO : EPOCH - 6 : training on 1447322 raw words (1262764 effective words) took 2.5s, 501392 effective words/s\n",
      "2020-06-23 19:13:04,319 : INFO : EPOCH 7 - PROGRESS: at 38.95% examples, 490140 words/s, in_qsize 6, out_qsize 0\n",
      "2020-06-23 19:13:05,327 : INFO : EPOCH 7 - PROGRESS: at 78.75% examples, 493857 words/s, in_qsize 5, out_qsize 0\n",
      "2020-06-23 19:13:06,161 : INFO : worker thread finished; awaiting finish of 2 more threads\n",
      "2020-06-23 19:13:06,200 : INFO : worker thread finished; awaiting finish of 1 more threads\n",
      "2020-06-23 19:13:06,207 : INFO : worker thread finished; awaiting finish of 0 more threads\n",
      "2020-06-23 19:13:06,208 : INFO : EPOCH - 7 : training on 1447322 raw words (1263009 effective words) took 2.9s, 436385 effective words/s\n",
      "2020-06-23 19:13:07,234 : INFO : EPOCH 8 - PROGRESS: at 23.33% examples, 287686 words/s, in_qsize 5, out_qsize 0\n",
      "2020-06-23 19:13:08,255 : INFO : EPOCH 8 - PROGRESS: at 41.69% examples, 258236 words/s, in_qsize 5, out_qsize 0\n",
      "2020-06-23 19:13:09,267 : INFO : EPOCH 8 - PROGRESS: at 69.16% examples, 286007 words/s, in_qsize 6, out_qsize 0\n",
      "2020-06-23 19:13:10,268 : INFO : EPOCH 8 - PROGRESS: at 95.26% examples, 296455 words/s, in_qsize 5, out_qsize 0\n",
      "2020-06-23 19:13:10,424 : INFO : worker thread finished; awaiting finish of 2 more threads\n",
      "2020-06-23 19:13:10,443 : INFO : worker thread finished; awaiting finish of 1 more threads\n",
      "2020-06-23 19:13:10,447 : INFO : worker thread finished; awaiting finish of 0 more threads\n",
      "2020-06-23 19:13:10,449 : INFO : EPOCH - 8 : training on 1447322 raw words (1262947 effective words) took 4.2s, 298137 effective words/s\n",
      "2020-06-23 19:13:11,510 : INFO : EPOCH 9 - PROGRESS: at 29.49% examples, 352473 words/s, in_qsize 5, out_qsize 0\n",
      "2020-06-23 19:13:12,511 : INFO : EPOCH 9 - PROGRESS: at 53.28% examples, 328096 words/s, in_qsize 5, out_qsize 0\n",
      "2020-06-23 19:13:13,552 : INFO : EPOCH 9 - PROGRESS: at 76.02% examples, 310050 words/s, in_qsize 5, out_qsize 0\n",
      "2020-06-23 19:13:14,510 : INFO : worker thread finished; awaiting finish of 2 more threads\n",
      "2020-06-23 19:13:14,536 : INFO : worker thread finished; awaiting finish of 1 more threads\n",
      "2020-06-23 19:13:14,539 : INFO : worker thread finished; awaiting finish of 0 more threads\n",
      "2020-06-23 19:13:14,540 : INFO : EPOCH - 9 : training on 1447322 raw words (1263275 effective words) took 4.1s, 309182 effective words/s\n",
      "2020-06-23 19:13:15,577 : INFO : EPOCH 10 - PROGRESS: at 29.49% examples, 361097 words/s, in_qsize 5, out_qsize 0\n",
      "2020-06-23 19:13:16,602 : INFO : EPOCH 10 - PROGRESS: at 53.28% examples, 328347 words/s, in_qsize 5, out_qsize 0\n",
      "2020-06-23 19:13:17,646 : INFO : EPOCH 10 - PROGRESS: at 82.24% examples, 334861 words/s, in_qsize 5, out_qsize 0\n",
      "2020-06-23 19:13:18,466 : INFO : worker thread finished; awaiting finish of 2 more threads\n",
      "2020-06-23 19:13:18,468 : INFO : worker thread finished; awaiting finish of 1 more threads\n",
      "2020-06-23 19:13:18,540 : INFO : worker thread finished; awaiting finish of 0 more threads\n",
      "2020-06-23 19:13:18,541 : INFO : EPOCH - 10 : training on 1447322 raw words (1263008 effective words) took 4.0s, 316315 effective words/s\n"
     ]
    },
    {
     "name": "stderr",
     "output_type": "stream",
     "text": [
      "2020-06-23 19:13:19,578 : INFO : EPOCH 11 - PROGRESS: at 20.46% examples, 251239 words/s, in_qsize 6, out_qsize 0\n",
      "2020-06-23 19:13:20,588 : INFO : EPOCH 11 - PROGRESS: at 47.68% examples, 296367 words/s, in_qsize 5, out_qsize 0\n",
      "2020-06-23 19:13:21,629 : INFO : EPOCH 11 - PROGRESS: at 70.52% examples, 288945 words/s, in_qsize 5, out_qsize 0\n",
      "2020-06-23 19:13:22,668 : INFO : EPOCH 11 - PROGRESS: at 89.86% examples, 274828 words/s, in_qsize 5, out_qsize 0\n",
      "2020-06-23 19:13:23,053 : INFO : worker thread finished; awaiting finish of 2 more threads\n",
      "2020-06-23 19:13:23,055 : INFO : worker thread finished; awaiting finish of 1 more threads\n",
      "2020-06-23 19:13:23,096 : INFO : worker thread finished; awaiting finish of 0 more threads\n",
      "2020-06-23 19:13:23,097 : INFO : EPOCH - 11 : training on 1447322 raw words (1262919 effective words) took 4.6s, 277563 effective words/s\n",
      "2020-06-23 19:13:24,146 : INFO : EPOCH 12 - PROGRESS: at 23.29% examples, 282457 words/s, in_qsize 5, out_qsize 0\n",
      "2020-06-23 19:13:25,162 : INFO : EPOCH 12 - PROGRESS: at 49.12% examples, 302573 words/s, in_qsize 6, out_qsize 0\n",
      "2020-06-23 19:13:26,168 : INFO : EPOCH 12 - PROGRESS: at 73.93% examples, 304857 words/s, in_qsize 5, out_qsize 0\n",
      "2020-06-23 19:13:27,193 : INFO : EPOCH 12 - PROGRESS: at 97.22% examples, 300446 words/s, in_qsize 5, out_qsize 0\n",
      "2020-06-23 19:13:27,234 : INFO : worker thread finished; awaiting finish of 2 more threads\n",
      "2020-06-23 19:13:27,258 : INFO : worker thread finished; awaiting finish of 1 more threads\n",
      "2020-06-23 19:13:27,259 : INFO : worker thread finished; awaiting finish of 0 more threads\n",
      "2020-06-23 19:13:27,260 : INFO : EPOCH - 12 : training on 1447322 raw words (1263107 effective words) took 4.2s, 304032 effective words/s\n",
      "2020-06-23 19:13:28,300 : INFO : EPOCH 13 - PROGRESS: at 28.78% examples, 350391 words/s, in_qsize 5, out_qsize 0\n",
      "2020-06-23 19:13:29,308 : INFO : EPOCH 13 - PROGRESS: at 51.96% examples, 321535 words/s, in_qsize 5, out_qsize 0\n",
      "2020-06-23 19:13:30,353 : INFO : EPOCH 13 - PROGRESS: at 78.75% examples, 321941 words/s, in_qsize 5, out_qsize 0\n",
      "2020-06-23 19:13:31,307 : INFO : worker thread finished; awaiting finish of 2 more threads\n",
      "2020-06-23 19:13:31,309 : INFO : worker thread finished; awaiting finish of 1 more threads\n",
      "2020-06-23 19:13:31,318 : INFO : worker thread finished; awaiting finish of 0 more threads\n",
      "2020-06-23 19:13:31,319 : INFO : EPOCH - 13 : training on 1447322 raw words (1263038 effective words) took 4.1s, 311495 effective words/s\n",
      "2020-06-23 19:13:32,367 : INFO : EPOCH 14 - PROGRESS: at 24.70% examples, 299782 words/s, in_qsize 5, out_qsize 0\n",
      "2020-06-23 19:13:33,374 : INFO : EPOCH 14 - PROGRESS: at 54.00% examples, 334062 words/s, in_qsize 5, out_qsize 0\n",
      "2020-06-23 19:13:34,375 : INFO : EPOCH 14 - PROGRESS: at 84.29% examples, 349143 words/s, in_qsize 6, out_qsize 0\n",
      "2020-06-23 19:13:34,818 : INFO : worker thread finished; awaiting finish of 2 more threads\n",
      "2020-06-23 19:13:34,845 : INFO : worker thread finished; awaiting finish of 1 more threads\n",
      "2020-06-23 19:13:34,853 : INFO : worker thread finished; awaiting finish of 0 more threads\n",
      "2020-06-23 19:13:34,854 : INFO : EPOCH - 14 : training on 1447322 raw words (1262483 effective words) took 3.5s, 358167 effective words/s\n",
      "2020-06-23 19:13:35,862 : INFO : EPOCH 15 - PROGRESS: at 38.32% examples, 482013 words/s, in_qsize 5, out_qsize 0\n",
      "2020-06-23 19:13:36,868 : INFO : EPOCH 15 - PROGRESS: at 72.66% examples, 456109 words/s, in_qsize 5, out_qsize 0\n",
      "2020-06-23 19:13:37,565 : INFO : worker thread finished; awaiting finish of 2 more threads\n",
      "2020-06-23 19:13:37,584 : INFO : worker thread finished; awaiting finish of 1 more threads\n",
      "2020-06-23 19:13:37,587 : INFO : worker thread finished; awaiting finish of 0 more threads\n",
      "2020-06-23 19:13:37,588 : INFO : EPOCH - 15 : training on 1447322 raw words (1263187 effective words) took 2.7s, 462592 effective words/s\n",
      "2020-06-23 19:13:38,597 : INFO : EPOCH 16 - PROGRESS: at 30.85% examples, 387086 words/s, in_qsize 6, out_qsize 0\n",
      "2020-06-23 19:13:39,608 : INFO : EPOCH 16 - PROGRESS: at 64.23% examples, 403225 words/s, in_qsize 6, out_qsize 0\n",
      "2020-06-23 19:13:40,598 : INFO : worker thread finished; awaiting finish of 2 more threads\n",
      "2020-06-23 19:13:40,627 : INFO : EPOCH 16 - PROGRESS: at 99.26% examples, 413372 words/s, in_qsize 1, out_qsize 1\n",
      "2020-06-23 19:13:40,631 : INFO : worker thread finished; awaiting finish of 1 more threads\n",
      "2020-06-23 19:13:40,665 : INFO : worker thread finished; awaiting finish of 0 more threads\n",
      "2020-06-23 19:13:40,667 : INFO : EPOCH - 16 : training on 1447322 raw words (1262742 effective words) took 3.1s, 410798 effective words/s\n",
      "2020-06-23 19:13:41,682 : INFO : EPOCH 17 - PROGRESS: at 33.61% examples, 420389 words/s, in_qsize 5, out_qsize 0\n",
      "2020-06-23 19:13:42,709 : INFO : EPOCH 17 - PROGRESS: at 72.66% examples, 450515 words/s, in_qsize 6, out_qsize 0\n",
      "2020-06-23 19:13:43,551 : INFO : worker thread finished; awaiting finish of 2 more threads\n",
      "2020-06-23 19:13:43,556 : INFO : worker thread finished; awaiting finish of 1 more threads\n",
      "2020-06-23 19:13:43,575 : INFO : worker thread finished; awaiting finish of 0 more threads\n",
      "2020-06-23 19:13:43,576 : INFO : EPOCH - 17 : training on 1447322 raw words (1262724 effective words) took 2.9s, 435213 effective words/s\n",
      "2020-06-23 19:13:44,583 : INFO : EPOCH 18 - PROGRESS: at 26.69% examples, 335922 words/s, in_qsize 5, out_qsize 0\n",
      "2020-06-23 19:13:45,585 : INFO : EPOCH 18 - PROGRESS: at 57.32% examples, 362318 words/s, in_qsize 5, out_qsize 0\n",
      "2020-06-23 19:13:46,606 : INFO : EPOCH 18 - PROGRESS: at 91.81% examples, 382743 words/s, in_qsize 6, out_qsize 0\n",
      "2020-06-23 19:13:46,801 : INFO : worker thread finished; awaiting finish of 2 more threads\n",
      "2020-06-23 19:13:46,806 : INFO : worker thread finished; awaiting finish of 1 more threads\n",
      "2020-06-23 19:13:46,826 : INFO : worker thread finished; awaiting finish of 0 more threads\n",
      "2020-06-23 19:13:46,827 : INFO : EPOCH - 18 : training on 1447322 raw words (1262798 effective words) took 3.2s, 388902 effective words/s\n",
      "2020-06-23 19:13:47,844 : INFO : EPOCH 19 - PROGRESS: at 37.65% examples, 469109 words/s, in_qsize 5, out_qsize 0\n",
      "2020-06-23 19:13:48,853 : INFO : EPOCH 19 - PROGRESS: at 75.97% examples, 474543 words/s, in_qsize 5, out_qsize 0\n",
      "2020-06-23 19:13:49,427 : INFO : worker thread finished; awaiting finish of 2 more threads\n",
      "2020-06-23 19:13:49,434 : INFO : worker thread finished; awaiting finish of 1 more threads\n",
      "2020-06-23 19:13:49,455 : INFO : worker thread finished; awaiting finish of 0 more threads\n",
      "2020-06-23 19:13:49,457 : INFO : EPOCH - 19 : training on 1447322 raw words (1263082 effective words) took 2.6s, 480983 effective words/s\n",
      "2020-06-23 19:13:50,480 : INFO : EPOCH 20 - PROGRESS: at 39.67% examples, 492372 words/s, in_qsize 5, out_qsize 0\n",
      "2020-06-23 19:13:51,509 : INFO : EPOCH 20 - PROGRESS: at 80.78% examples, 498405 words/s, in_qsize 5, out_qsize 0\n",
      "2020-06-23 19:13:51,929 : INFO : worker thread finished; awaiting finish of 2 more threads\n",
      "2020-06-23 19:13:51,957 : INFO : worker thread finished; awaiting finish of 1 more threads\n",
      "2020-06-23 19:13:51,960 : INFO : worker thread finished; awaiting finish of 0 more threads\n",
      "2020-06-23 19:13:51,961 : INFO : EPOCH - 20 : training on 1447322 raw words (1263025 effective words) took 2.5s, 505202 effective words/s\n",
      "2020-06-23 19:13:51,962 : INFO : training on a 28946440 raw words (25258894 effective words) took 65.4s, 386353 effective words/s\n",
      "2020-06-23 19:13:51,973 : INFO : precomputing L2-norms of doc weight vectors\n"
     ]
    },
    {
     "data": {
      "text/plain": [
       "0.6685420478999615"
      ]
     },
     "execution_count": 61,
     "metadata": {},
     "output_type": "execute_result"
    }
   ],
   "source": [
    "processed_model_results(45,20)"
   ]
  },
  {
   "cell_type": "code",
   "execution_count": 62,
   "metadata": {},
   "outputs": [
    {
     "name": "stderr",
     "output_type": "stream",
     "text": [
      "2020-06-23 19:16:16,319 : WARNING : consider setting layer size to a multiple of 4 for greater performance\n",
      "2020-06-23 19:16:16,321 : INFO : collecting all words and their counts\n",
      "2020-06-23 19:16:16,323 : INFO : PROGRESS: at example #0, processed 0 words (0/s), 0 word types, 0 tags\n",
      "2020-06-23 19:16:16,688 : INFO : collected 27287 word types and 10000 unique tags from a corpus of 10000 examples and 1447322 words\n",
      "2020-06-23 19:16:16,690 : INFO : Loading a fresh vocabulary\n",
      "2020-06-23 19:16:16,732 : INFO : effective_min_count=5 retains 10690 unique words (39% of original 27287, drops 16597)\n",
      "2020-06-23 19:16:16,734 : INFO : effective_min_count=5 leaves 1419352 word corpus (98% of original 1447322, drops 27970)\n",
      "2020-06-23 19:16:16,819 : INFO : deleting the raw counts dictionary of 27287 items\n",
      "2020-06-23 19:16:16,822 : INFO : sample=0.001 downsamples 51 most-common words\n",
      "2020-06-23 19:16:16,824 : INFO : downsampling leaves estimated 1313071 word corpus (92.5% of prior 1419352)\n",
      "2020-06-23 19:16:16,876 : INFO : estimated required memory for 10690 words and 45 dimensions: 10993400 bytes\n",
      "2020-06-23 19:16:16,878 : INFO : resetting layer weights\n",
      "2020-06-23 19:16:23,698 : INFO : training model with 3 workers on 10690 vocabulary and 45 features, using sg=0 hs=0 sample=0.001 negative=5 window=5\n",
      "2020-06-23 19:16:24,718 : INFO : EPOCH 1 - PROGRESS: at 30.20% examples, 392480 words/s, in_qsize 6, out_qsize 0\n",
      "2020-06-23 19:16:25,736 : INFO : EPOCH 1 - PROGRESS: at 67.84% examples, 441048 words/s, in_qsize 6, out_qsize 0\n",
      "2020-06-23 19:16:26,552 : INFO : worker thread finished; awaiting finish of 2 more threads\n",
      "2020-06-23 19:16:26,556 : INFO : worker thread finished; awaiting finish of 1 more threads\n",
      "2020-06-23 19:16:26,565 : INFO : worker thread finished; awaiting finish of 0 more threads\n",
      "2020-06-23 19:16:26,566 : INFO : EPOCH - 1 : training on 1447322 raw words (1323242 effective words) took 2.9s, 462177 effective words/s\n",
      "2020-06-23 19:16:27,577 : INFO : EPOCH 2 - PROGRESS: at 37.65% examples, 494742 words/s, in_qsize 6, out_qsize 0\n",
      "2020-06-23 19:16:28,579 : INFO : EPOCH 2 - PROGRESS: at 63.57% examples, 419393 words/s, in_qsize 5, out_qsize 0\n",
      "2020-06-23 19:16:29,570 : INFO : worker thread finished; awaiting finish of 2 more threads\n",
      "2020-06-23 19:16:29,595 : INFO : EPOCH 2 - PROGRESS: at 99.26% examples, 434403 words/s, in_qsize 1, out_qsize 1\n",
      "2020-06-23 19:16:29,597 : INFO : worker thread finished; awaiting finish of 1 more threads\n",
      "2020-06-23 19:16:29,602 : INFO : worker thread finished; awaiting finish of 0 more threads\n",
      "2020-06-23 19:16:29,603 : INFO : EPOCH - 2 : training on 1447322 raw words (1323134 effective words) took 3.0s, 436254 effective words/s\n",
      "2020-06-23 19:16:30,622 : INFO : EPOCH 3 - PROGRESS: at 33.61% examples, 436831 words/s, in_qsize 5, out_qsize 0\n",
      "2020-06-23 19:16:31,630 : INFO : EPOCH 3 - PROGRESS: at 64.23% examples, 421005 words/s, in_qsize 5, out_qsize 0\n",
      "2020-06-23 19:16:32,658 : INFO : EPOCH 3 - PROGRESS: at 89.86% examples, 388920 words/s, in_qsize 6, out_qsize 0\n",
      "2020-06-23 19:16:32,892 : INFO : worker thread finished; awaiting finish of 2 more threads\n",
      "2020-06-23 19:16:32,894 : INFO : worker thread finished; awaiting finish of 1 more threads\n",
      "2020-06-23 19:16:32,920 : INFO : worker thread finished; awaiting finish of 0 more threads\n",
      "2020-06-23 19:16:32,921 : INFO : EPOCH - 3 : training on 1447322 raw words (1323103 effective words) took 3.3s, 399156 effective words/s\n",
      "2020-06-23 19:16:33,937 : INFO : EPOCH 4 - PROGRESS: at 38.32% examples, 500680 words/s, in_qsize 5, out_qsize 0\n",
      "2020-06-23 19:16:34,950 : INFO : EPOCH 4 - PROGRESS: at 74.57% examples, 487411 words/s, in_qsize 6, out_qsize 0\n",
      "2020-06-23 19:16:35,806 : INFO : worker thread finished; awaiting finish of 2 more threads\n",
      "2020-06-23 19:16:35,823 : INFO : worker thread finished; awaiting finish of 1 more threads\n",
      "2020-06-23 19:16:35,828 : INFO : worker thread finished; awaiting finish of 0 more threads\n",
      "2020-06-23 19:16:35,829 : INFO : EPOCH - 4 : training on 1447322 raw words (1322396 effective words) took 2.9s, 455387 effective words/s\n",
      "2020-06-23 19:16:36,850 : INFO : EPOCH 5 - PROGRESS: at 35.63% examples, 462812 words/s, in_qsize 5, out_qsize 0\n",
      "2020-06-23 19:16:37,862 : INFO : EPOCH 5 - PROGRESS: at 70.61% examples, 459809 words/s, in_qsize 5, out_qsize 0\n",
      "2020-06-23 19:16:38,763 : INFO : worker thread finished; awaiting finish of 2 more threads\n",
      "2020-06-23 19:16:38,765 : INFO : worker thread finished; awaiting finish of 1 more threads\n",
      "2020-06-23 19:16:38,774 : INFO : worker thread finished; awaiting finish of 0 more threads\n",
      "2020-06-23 19:16:38,775 : INFO : EPOCH - 5 : training on 1447322 raw words (1323171 effective words) took 2.9s, 449725 effective words/s\n",
      "2020-06-23 19:16:39,781 : INFO : EPOCH 6 - PROGRESS: at 32.95% examples, 433790 words/s, in_qsize 5, out_qsize 0\n",
      "2020-06-23 19:16:40,783 : INFO : EPOCH 6 - PROGRESS: at 67.84% examples, 447488 words/s, in_qsize 5, out_qsize 0\n",
      "2020-06-23 19:16:41,681 : INFO : worker thread finished; awaiting finish of 2 more threads\n",
      "2020-06-23 19:16:41,714 : INFO : worker thread finished; awaiting finish of 1 more threads\n",
      "2020-06-23 19:16:41,723 : INFO : worker thread finished; awaiting finish of 0 more threads\n",
      "2020-06-23 19:16:41,724 : INFO : EPOCH - 6 : training on 1447322 raw words (1323079 effective words) took 2.9s, 449306 effective words/s\n",
      "2020-06-23 19:16:42,758 : INFO : EPOCH 7 - PROGRESS: at 36.26% examples, 466810 words/s, in_qsize 5, out_qsize 0\n",
      "2020-06-23 19:16:43,778 : INFO : EPOCH 7 - PROGRESS: at 75.28% examples, 486418 words/s, in_qsize 5, out_qsize 0\n",
      "2020-06-23 19:16:44,387 : INFO : worker thread finished; awaiting finish of 2 more threads\n",
      "2020-06-23 19:16:44,389 : INFO : worker thread finished; awaiting finish of 1 more threads\n",
      "2020-06-23 19:16:44,408 : INFO : worker thread finished; awaiting finish of 0 more threads\n",
      "2020-06-23 19:16:44,409 : INFO : EPOCH - 7 : training on 1447322 raw words (1322772 effective words) took 2.7s, 493765 effective words/s\n",
      "2020-06-23 19:16:45,422 : INFO : EPOCH 8 - PROGRESS: at 28.78% examples, 376659 words/s, in_qsize 5, out_qsize 0\n",
      "2020-06-23 19:16:46,442 : INFO : EPOCH 8 - PROGRESS: at 62.17% examples, 405966 words/s, in_qsize 5, out_qsize 0\n",
      "2020-06-23 19:16:47,376 : INFO : worker thread finished; awaiting finish of 2 more threads\n",
      "2020-06-23 19:16:47,398 : INFO : worker thread finished; awaiting finish of 1 more threads\n",
      "2020-06-23 19:16:47,407 : INFO : worker thread finished; awaiting finish of 0 more threads\n",
      "2020-06-23 19:16:47,409 : INFO : EPOCH - 8 : training on 1447322 raw words (1322699 effective words) took 3.0s, 441475 effective words/s\n",
      "2020-06-23 19:16:48,479 : INFO : EPOCH 9 - PROGRESS: at 32.95% examples, 407609 words/s, in_qsize 5, out_qsize 0\n",
      "2020-06-23 19:16:49,500 : INFO : EPOCH 9 - PROGRESS: at 62.17% examples, 394801 words/s, in_qsize 5, out_qsize 0\n",
      "2020-06-23 19:16:50,520 : INFO : EPOCH 9 - PROGRESS: at 85.67% examples, 364329 words/s, in_qsize 6, out_qsize 0\n",
      "2020-06-23 19:16:50,927 : INFO : worker thread finished; awaiting finish of 2 more threads\n",
      "2020-06-23 19:16:50,951 : INFO : worker thread finished; awaiting finish of 1 more threads\n",
      "2020-06-23 19:16:50,961 : INFO : worker thread finished; awaiting finish of 0 more threads\n",
      "2020-06-23 19:16:50,962 : INFO : EPOCH - 9 : training on 1447322 raw words (1322808 effective words) took 3.5s, 372683 effective words/s\n",
      "2020-06-23 19:16:51,980 : INFO : EPOCH 10 - PROGRESS: at 27.33% examples, 356754 words/s, in_qsize 5, out_qsize 0\n",
      "2020-06-23 19:16:53,009 : INFO : EPOCH 10 - PROGRESS: at 62.22% examples, 403262 words/s, in_qsize 5, out_qsize 0\n",
      "2020-06-23 19:16:53,987 : INFO : worker thread finished; awaiting finish of 2 more threads\n",
      "2020-06-23 19:16:53,993 : INFO : worker thread finished; awaiting finish of 1 more threads\n",
      "2020-06-23 19:16:54,008 : INFO : worker thread finished; awaiting finish of 0 more threads\n",
      "2020-06-23 19:16:54,009 : INFO : EPOCH - 10 : training on 1447322 raw words (1322584 effective words) took 3.0s, 434584 effective words/s\n",
      "2020-06-23 19:16:55,015 : INFO : EPOCH 11 - PROGRESS: at 37.65% examples, 497378 words/s, in_qsize 5, out_qsize 0\n",
      "2020-06-23 19:16:56,020 : INFO : EPOCH 11 - PROGRESS: at 75.28% examples, 496680 words/s, in_qsize 5, out_qsize 0\n"
     ]
    },
    {
     "name": "stderr",
     "output_type": "stream",
     "text": [
      "2020-06-23 19:16:56,626 : INFO : worker thread finished; awaiting finish of 2 more threads\n",
      "2020-06-23 19:16:56,650 : INFO : worker thread finished; awaiting finish of 1 more threads\n",
      "2020-06-23 19:16:56,656 : INFO : worker thread finished; awaiting finish of 0 more threads\n",
      "2020-06-23 19:16:56,657 : INFO : EPOCH - 11 : training on 1447322 raw words (1323326 effective words) took 2.6s, 500622 effective words/s\n",
      "2020-06-23 19:16:57,664 : INFO : EPOCH 12 - PROGRESS: at 37.65% examples, 496672 words/s, in_qsize 5, out_qsize 0\n",
      "2020-06-23 19:16:58,670 : INFO : EPOCH 12 - PROGRESS: at 75.97% examples, 500461 words/s, in_qsize 5, out_qsize 0\n",
      "2020-06-23 19:16:59,267 : INFO : worker thread finished; awaiting finish of 2 more threads\n",
      "2020-06-23 19:16:59,284 : INFO : worker thread finished; awaiting finish of 1 more threads\n",
      "2020-06-23 19:16:59,293 : INFO : worker thread finished; awaiting finish of 0 more threads\n",
      "2020-06-23 19:16:59,294 : INFO : EPOCH - 12 : training on 1447322 raw words (1323189 effective words) took 2.6s, 502580 effective words/s\n",
      "2020-06-23 19:17:00,303 : INFO : EPOCH 13 - PROGRESS: at 37.65% examples, 495739 words/s, in_qsize 5, out_qsize 0\n",
      "2020-06-23 19:17:01,337 : INFO : EPOCH 13 - PROGRESS: at 76.67% examples, 497626 words/s, in_qsize 5, out_qsize 0\n",
      "2020-06-23 19:17:01,888 : INFO : worker thread finished; awaiting finish of 2 more threads\n",
      "2020-06-23 19:17:01,914 : INFO : worker thread finished; awaiting finish of 1 more threads\n",
      "2020-06-23 19:17:01,918 : INFO : worker thread finished; awaiting finish of 0 more threads\n",
      "2020-06-23 19:17:01,919 : INFO : EPOCH - 13 : training on 1447322 raw words (1323272 effective words) took 2.6s, 504837 effective words/s\n",
      "2020-06-23 19:17:02,941 : INFO : EPOCH 14 - PROGRESS: at 38.32% examples, 500065 words/s, in_qsize 5, out_qsize 0\n",
      "2020-06-23 19:17:03,960 : INFO : EPOCH 14 - PROGRESS: at 76.71% examples, 499010 words/s, in_qsize 5, out_qsize 0\n",
      "2020-06-23 19:17:04,513 : INFO : worker thread finished; awaiting finish of 2 more threads\n",
      "2020-06-23 19:17:04,543 : INFO : worker thread finished; awaiting finish of 1 more threads\n",
      "2020-06-23 19:17:04,546 : INFO : worker thread finished; awaiting finish of 0 more threads\n",
      "2020-06-23 19:17:04,546 : INFO : EPOCH - 14 : training on 1447322 raw words (1323286 effective words) took 2.6s, 505051 effective words/s\n",
      "2020-06-23 19:17:05,570 : INFO : EPOCH 15 - PROGRESS: at 38.32% examples, 497341 words/s, in_qsize 6, out_qsize 0\n",
      "2020-06-23 19:17:06,631 : INFO : EPOCH 15 - PROGRESS: at 74.57% examples, 474343 words/s, in_qsize 5, out_qsize 0\n",
      "2020-06-23 19:17:07,649 : INFO : EPOCH 15 - PROGRESS: at 92.46% examples, 394574 words/s, in_qsize 5, out_qsize 0\n",
      "2020-06-23 19:17:08,036 : INFO : worker thread finished; awaiting finish of 2 more threads\n",
      "2020-06-23 19:17:08,043 : INFO : worker thread finished; awaiting finish of 1 more threads\n",
      "2020-06-23 19:17:08,055 : INFO : worker thread finished; awaiting finish of 0 more threads\n",
      "2020-06-23 19:17:08,056 : INFO : EPOCH - 15 : training on 1447322 raw words (1322911 effective words) took 3.5s, 377424 effective words/s\n",
      "2020-06-23 19:17:09,073 : INFO : EPOCH 16 - PROGRESS: at 22.61% examples, 295068 words/s, in_qsize 6, out_qsize 0\n",
      "2020-06-23 19:17:10,073 : INFO : EPOCH 16 - PROGRESS: at 49.17% examples, 323973 words/s, in_qsize 6, out_qsize 0\n",
      "2020-06-23 19:17:11,095 : INFO : EPOCH 16 - PROGRESS: at 76.71% examples, 334253 words/s, in_qsize 5, out_qsize 0\n",
      "2020-06-23 19:17:11,918 : INFO : worker thread finished; awaiting finish of 2 more threads\n",
      "2020-06-23 19:17:11,948 : INFO : worker thread finished; awaiting finish of 1 more threads\n",
      "2020-06-23 19:17:11,963 : INFO : worker thread finished; awaiting finish of 0 more threads\n",
      "2020-06-23 19:17:11,964 : INFO : EPOCH - 16 : training on 1447322 raw words (1322840 effective words) took 3.9s, 338875 effective words/s\n",
      "2020-06-23 19:17:12,974 : INFO : EPOCH 17 - PROGRESS: at 23.33% examples, 306421 words/s, in_qsize 5, out_qsize 1\n",
      "2020-06-23 19:17:14,039 : INFO : EPOCH 17 - PROGRESS: at 51.27% examples, 328224 words/s, in_qsize 5, out_qsize 0\n",
      "2020-06-23 19:17:15,063 : INFO : EPOCH 17 - PROGRESS: at 79.45% examples, 339679 words/s, in_qsize 6, out_qsize 0\n",
      "2020-06-23 19:17:15,727 : INFO : worker thread finished; awaiting finish of 2 more threads\n",
      "2020-06-23 19:17:15,746 : INFO : worker thread finished; awaiting finish of 1 more threads\n",
      "2020-06-23 19:17:15,755 : INFO : worker thread finished; awaiting finish of 0 more threads\n",
      "2020-06-23 19:17:15,756 : INFO : EPOCH - 17 : training on 1447322 raw words (1323084 effective words) took 3.8s, 349370 effective words/s\n",
      "2020-06-23 19:17:16,767 : INFO : EPOCH 18 - PROGRESS: at 23.29% examples, 307046 words/s, in_qsize 5, out_qsize 0\n",
      "2020-06-23 19:17:17,794 : INFO : EPOCH 18 - PROGRESS: at 45.07% examples, 294477 words/s, in_qsize 5, out_qsize 0\n",
      "2020-06-23 19:17:18,822 : INFO : EPOCH 18 - PROGRESS: at 64.23% examples, 278527 words/s, in_qsize 5, out_qsize 0\n",
      "2020-06-23 19:17:19,824 : INFO : EPOCH 18 - PROGRESS: at 95.26% examples, 310161 words/s, in_qsize 5, out_qsize 0\n",
      "2020-06-23 19:17:20,053 : INFO : worker thread finished; awaiting finish of 2 more threads\n",
      "2020-06-23 19:17:20,060 : INFO : worker thread finished; awaiting finish of 1 more threads\n",
      "2020-06-23 19:17:20,079 : INFO : worker thread finished; awaiting finish of 0 more threads\n",
      "2020-06-23 19:17:20,080 : INFO : EPOCH - 18 : training on 1447322 raw words (1323151 effective words) took 4.3s, 306572 effective words/s\n",
      "2020-06-23 19:17:21,170 : INFO : EPOCH 19 - PROGRESS: at 27.33% examples, 334972 words/s, in_qsize 5, out_qsize 0\n",
      "2020-06-23 19:17:22,206 : INFO : EPOCH 19 - PROGRESS: at 54.00% examples, 338174 words/s, in_qsize 5, out_qsize 0\n",
      "2020-06-23 19:17:23,214 : INFO : EPOCH 19 - PROGRESS: at 80.82% examples, 342284 words/s, in_qsize 5, out_qsize 0\n",
      "2020-06-23 19:17:23,749 : INFO : worker thread finished; awaiting finish of 2 more threads\n",
      "2020-06-23 19:17:23,762 : INFO : worker thread finished; awaiting finish of 1 more threads\n",
      "2020-06-23 19:17:23,779 : INFO : worker thread finished; awaiting finish of 0 more threads\n",
      "2020-06-23 19:17:23,781 : INFO : EPOCH - 19 : training on 1447322 raw words (1323584 effective words) took 3.7s, 358521 effective words/s\n",
      "2020-06-23 19:17:24,793 : INFO : EPOCH 20 - PROGRESS: at 26.00% examples, 341821 words/s, in_qsize 5, out_qsize 0\n",
      "2020-06-23 19:17:25,795 : INFO : EPOCH 20 - PROGRESS: at 56.67% examples, 374537 words/s, in_qsize 6, out_qsize 0\n",
      "2020-06-23 19:17:26,809 : INFO : EPOCH 20 - PROGRESS: at 82.24% examples, 359780 words/s, in_qsize 6, out_qsize 0\n",
      "2020-06-23 19:17:27,522 : INFO : worker thread finished; awaiting finish of 2 more threads\n",
      "2020-06-23 19:17:27,529 : INFO : worker thread finished; awaiting finish of 1 more threads\n",
      "2020-06-23 19:17:27,546 : INFO : worker thread finished; awaiting finish of 0 more threads\n",
      "2020-06-23 19:17:27,547 : INFO : EPOCH - 20 : training on 1447322 raw words (1323546 effective words) took 3.8s, 351963 effective words/s\n",
      "2020-06-23 19:17:27,548 : INFO : training on a 28946440 raw words (26461177 effective words) took 63.8s, 414440 effective words/s\n",
      "2020-06-23 19:17:27,567 : INFO : precomputing L2-norms of doc weight vectors\n"
     ]
    },
    {
     "data": {
      "text/plain": [
       "0.6796206919252873"
      ]
     },
     "execution_count": 62,
     "metadata": {},
     "output_type": "execute_result"
    }
   ],
   "source": [
    "processed_model_results(45,5)"
   ]
  },
  {
   "cell_type": "code",
   "execution_count": 63,
   "metadata": {},
   "outputs": [
    {
     "name": "stderr",
     "output_type": "stream",
     "text": [
      "2020-06-23 19:20:50,871 : WARNING : consider setting layer size to a multiple of 4 for greater performance\n",
      "2020-06-23 19:20:50,874 : INFO : collecting all words and their counts\n",
      "2020-06-23 19:20:50,875 : INFO : PROGRESS: at example #0, processed 0 words (0/s), 0 word types, 0 tags\n",
      "2020-06-23 19:20:51,290 : INFO : collected 27287 word types and 10000 unique tags from a corpus of 10000 examples and 1447322 words\n",
      "2020-06-23 19:20:51,291 : INFO : Loading a fresh vocabulary\n",
      "2020-06-23 19:20:51,330 : INFO : effective_min_count=10 retains 7365 unique words (26% of original 27287, drops 19922)\n",
      "2020-06-23 19:20:51,331 : INFO : effective_min_count=10 leaves 1397358 word corpus (96% of original 1447322, drops 49964)\n",
      "2020-06-23 19:20:51,388 : INFO : deleting the raw counts dictionary of 27287 items\n",
      "2020-06-23 19:20:51,390 : INFO : sample=0.001 downsamples 51 most-common words\n",
      "2020-06-23 19:20:51,391 : INFO : downsampling leaves estimated 1288775 word corpus (92.2% of prior 1397358)\n",
      "2020-06-23 19:20:51,430 : INFO : estimated required memory for 7365 words and 45 dimensions: 8133900 bytes\n",
      "2020-06-23 19:20:51,432 : INFO : resetting layer weights\n",
      "2020-06-23 19:20:57,299 : INFO : training model with 3 workers on 7365 vocabulary and 45 features, using sg=0 hs=0 sample=0.001 negative=5 window=5\n",
      "2020-06-23 19:20:58,335 : INFO : EPOCH 1 - PROGRESS: at 24.01% examples, 301413 words/s, in_qsize 5, out_qsize 0\n",
      "2020-06-23 19:20:59,344 : INFO : EPOCH 1 - PROGRESS: at 49.90% examples, 317741 words/s, in_qsize 5, out_qsize 0\n",
      "2020-06-23 19:21:00,422 : INFO : EPOCH 1 - PROGRESS: at 80.82% examples, 336295 words/s, in_qsize 6, out_qsize 0\n",
      "2020-06-23 19:21:01,257 : INFO : worker thread finished; awaiting finish of 2 more threads\n",
      "2020-06-23 19:21:01,265 : INFO : worker thread finished; awaiting finish of 1 more threads\n",
      "2020-06-23 19:21:01,290 : INFO : worker thread finished; awaiting finish of 0 more threads\n",
      "2020-06-23 19:21:01,290 : INFO : EPOCH - 1 : training on 1447322 raw words (1298687 effective words) took 4.0s, 325663 effective words/s\n",
      "2020-06-23 19:21:02,345 : INFO : EPOCH 2 - PROGRESS: at 16.46% examples, 204764 words/s, in_qsize 5, out_qsize 0\n",
      "2020-06-23 19:21:03,359 : INFO : EPOCH 2 - PROGRESS: at 44.39% examples, 280912 words/s, in_qsize 5, out_qsize 0\n",
      "2020-06-23 19:21:04,402 : INFO : EPOCH 2 - PROGRESS: at 78.73% examples, 329756 words/s, in_qsize 5, out_qsize 0\n",
      "2020-06-23 19:21:05,102 : INFO : worker thread finished; awaiting finish of 2 more threads\n",
      "2020-06-23 19:21:05,105 : INFO : worker thread finished; awaiting finish of 1 more threads\n",
      "2020-06-23 19:21:05,140 : INFO : worker thread finished; awaiting finish of 0 more threads\n",
      "2020-06-23 19:21:05,141 : INFO : EPOCH - 2 : training on 1447322 raw words (1298626 effective words) took 3.8s, 338160 effective words/s\n",
      "2020-06-23 19:21:06,195 : INFO : EPOCH 3 - PROGRESS: at 26.64% examples, 331359 words/s, in_qsize 6, out_qsize 0\n",
      "2020-06-23 19:21:07,197 : INFO : EPOCH 3 - PROGRESS: at 45.07% examples, 286349 words/s, in_qsize 5, out_qsize 0\n",
      "2020-06-23 19:21:08,202 : INFO : EPOCH 3 - PROGRESS: at 78.75% examples, 334904 words/s, in_qsize 5, out_qsize 0\n",
      "2020-06-23 19:21:08,930 : INFO : worker thread finished; awaiting finish of 2 more threads\n",
      "2020-06-23 19:21:08,942 : INFO : worker thread finished; awaiting finish of 1 more threads\n",
      "2020-06-23 19:21:08,967 : INFO : worker thread finished; awaiting finish of 0 more threads\n",
      "2020-06-23 19:21:08,969 : INFO : EPOCH - 3 : training on 1447322 raw words (1298627 effective words) took 3.8s, 339995 effective words/s\n",
      "2020-06-23 19:21:10,015 : INFO : EPOCH 4 - PROGRESS: at 29.49% examples, 368504 words/s, in_qsize 5, out_qsize 0\n",
      "2020-06-23 19:21:11,023 : INFO : EPOCH 4 - PROGRESS: at 48.44% examples, 308556 words/s, in_qsize 5, out_qsize 0\n",
      "2020-06-23 19:21:12,048 : INFO : EPOCH 4 - PROGRESS: at 79.45% examples, 335935 words/s, in_qsize 5, out_qsize 0\n",
      "2020-06-23 19:21:12,788 : INFO : worker thread finished; awaiting finish of 2 more threads\n",
      "2020-06-23 19:21:12,791 : INFO : worker thread finished; awaiting finish of 1 more threads\n",
      "2020-06-23 19:21:12,801 : INFO : worker thread finished; awaiting finish of 0 more threads\n",
      "2020-06-23 19:21:12,802 : INFO : EPOCH - 4 : training on 1447322 raw words (1298889 effective words) took 3.8s, 339558 effective words/s\n",
      "2020-06-23 19:21:13,819 : INFO : EPOCH 5 - PROGRESS: at 31.53% examples, 403897 words/s, in_qsize 5, out_qsize 0\n",
      "2020-06-23 19:21:14,834 : INFO : EPOCH 5 - PROGRESS: at 70.61% examples, 451616 words/s, in_qsize 5, out_qsize 0\n",
      "2020-06-23 19:21:15,548 : INFO : worker thread finished; awaiting finish of 2 more threads\n",
      "2020-06-23 19:21:15,570 : INFO : worker thread finished; awaiting finish of 1 more threads\n",
      "2020-06-23 19:21:15,577 : INFO : worker thread finished; awaiting finish of 0 more threads\n",
      "2020-06-23 19:21:15,578 : INFO : EPOCH - 5 : training on 1447322 raw words (1298757 effective words) took 2.8s, 468746 effective words/s\n",
      "2020-06-23 19:21:16,587 : INFO : EPOCH 6 - PROGRESS: at 38.95% examples, 503710 words/s, in_qsize 6, out_qsize 0\n",
      "2020-06-23 19:21:17,594 : INFO : EPOCH 6 - PROGRESS: at 71.99% examples, 463819 words/s, in_qsize 5, out_qsize 0\n",
      "2020-06-23 19:21:18,597 : INFO : EPOCH 6 - PROGRESS: at 95.96% examples, 412710 words/s, in_qsize 5, out_qsize 0\n",
      "2020-06-23 19:21:18,711 : INFO : worker thread finished; awaiting finish of 2 more threads\n",
      "2020-06-23 19:21:18,720 : INFO : worker thread finished; awaiting finish of 1 more threads\n",
      "2020-06-23 19:21:18,733 : INFO : worker thread finished; awaiting finish of 0 more threads\n",
      "2020-06-23 19:21:18,733 : INFO : EPOCH - 6 : training on 1447322 raw words (1298664 effective words) took 3.2s, 411965 effective words/s\n",
      "2020-06-23 19:21:19,747 : INFO : EPOCH 7 - PROGRESS: at 34.29% examples, 439972 words/s, in_qsize 5, out_qsize 0\n",
      "2020-06-23 19:21:20,747 : INFO : EPOCH 7 - PROGRESS: at 51.27% examples, 331762 words/s, in_qsize 5, out_qsize 0\n",
      "2020-06-23 19:21:21,759 : INFO : EPOCH 7 - PROGRESS: at 85.66% examples, 367942 words/s, in_qsize 5, out_qsize 0\n",
      "2020-06-23 19:21:22,192 : INFO : worker thread finished; awaiting finish of 2 more threads\n",
      "2020-06-23 19:21:22,217 : INFO : worker thread finished; awaiting finish of 1 more threads\n",
      "2020-06-23 19:21:22,248 : INFO : worker thread finished; awaiting finish of 0 more threads\n",
      "2020-06-23 19:21:22,249 : INFO : EPOCH - 7 : training on 1447322 raw words (1298915 effective words) took 3.5s, 369827 effective words/s\n",
      "2020-06-23 19:21:23,298 : INFO : EPOCH 8 - PROGRESS: at 29.49% examples, 366248 words/s, in_qsize 5, out_qsize 0\n",
      "2020-06-23 19:21:24,310 : INFO : EPOCH 8 - PROGRESS: at 58.01% examples, 367801 words/s, in_qsize 6, out_qsize 0\n",
      "2020-06-23 19:21:25,351 : INFO : EPOCH 8 - PROGRESS: at 79.39% examples, 333058 words/s, in_qsize 5, out_qsize 0\n",
      "2020-06-23 19:21:26,076 : INFO : worker thread finished; awaiting finish of 2 more threads\n",
      "2020-06-23 19:21:26,108 : INFO : worker thread finished; awaiting finish of 1 more threads\n",
      "2020-06-23 19:21:26,114 : INFO : worker thread finished; awaiting finish of 0 more threads\n",
      "2020-06-23 19:21:26,115 : INFO : EPOCH - 8 : training on 1447322 raw words (1298799 effective words) took 3.9s, 336494 effective words/s\n",
      "2020-06-23 19:21:27,156 : INFO : EPOCH 9 - PROGRESS: at 21.20% examples, 265893 words/s, in_qsize 5, out_qsize 0\n",
      "2020-06-23 19:21:28,165 : INFO : EPOCH 9 - PROGRESS: at 43.04% examples, 273941 words/s, in_qsize 6, out_qsize 0\n",
      "2020-06-23 19:21:29,197 : INFO : EPOCH 9 - PROGRESS: at 72.66% examples, 306423 words/s, in_qsize 6, out_qsize 0\n",
      "2020-06-23 19:21:29,858 : INFO : worker thread finished; awaiting finish of 2 more threads\n",
      "2020-06-23 19:21:29,886 : INFO : worker thread finished; awaiting finish of 1 more threads\n",
      "2020-06-23 19:21:29,890 : INFO : worker thread finished; awaiting finish of 0 more threads\n",
      "2020-06-23 19:21:29,891 : INFO : EPOCH - 9 : training on 1447322 raw words (1298954 effective words) took 3.8s, 344551 effective words/s\n",
      "2020-06-23 19:21:30,910 : INFO : EPOCH 10 - PROGRESS: at 37.65% examples, 481384 words/s, in_qsize 5, out_qsize 0\n",
      "2020-06-23 19:21:31,931 : INFO : EPOCH 10 - PROGRESS: at 72.66% examples, 462693 words/s, in_qsize 5, out_qsize 0\n",
      "2020-06-23 19:21:32,596 : INFO : worker thread finished; awaiting finish of 2 more threads\n"
     ]
    },
    {
     "name": "stderr",
     "output_type": "stream",
     "text": [
      "2020-06-23 19:21:32,616 : INFO : worker thread finished; awaiting finish of 1 more threads\n",
      "2020-06-23 19:21:32,625 : INFO : worker thread finished; awaiting finish of 0 more threads\n",
      "2020-06-23 19:21:32,626 : INFO : EPOCH - 10 : training on 1447322 raw words (1298589 effective words) took 2.7s, 475443 effective words/s\n",
      "2020-06-23 19:21:33,655 : INFO : EPOCH 11 - PROGRESS: at 37.65% examples, 476808 words/s, in_qsize 5, out_qsize 0\n",
      "2020-06-23 19:21:34,657 : INFO : EPOCH 11 - PROGRESS: at 75.97% examples, 486868 words/s, in_qsize 6, out_qsize 0\n",
      "2020-06-23 19:21:35,294 : INFO : worker thread finished; awaiting finish of 2 more threads\n",
      "2020-06-23 19:21:35,317 : INFO : worker thread finished; awaiting finish of 1 more threads\n",
      "2020-06-23 19:21:35,331 : INFO : worker thread finished; awaiting finish of 0 more threads\n",
      "2020-06-23 19:21:35,332 : INFO : EPOCH - 11 : training on 1447322 raw words (1298143 effective words) took 2.7s, 480583 effective words/s\n",
      "2020-06-23 19:21:36,348 : INFO : EPOCH 12 - PROGRESS: at 34.34% examples, 439098 words/s, in_qsize 6, out_qsize 0\n",
      "2020-06-23 19:21:37,354 : INFO : EPOCH 12 - PROGRESS: at 69.87% examples, 449503 words/s, in_qsize 5, out_qsize 0\n",
      "2020-06-23 19:21:38,163 : INFO : worker thread finished; awaiting finish of 2 more threads\n",
      "2020-06-23 19:21:38,166 : INFO : worker thread finished; awaiting finish of 1 more threads\n",
      "2020-06-23 19:21:38,181 : INFO : worker thread finished; awaiting finish of 0 more threads\n",
      "2020-06-23 19:21:38,182 : INFO : EPOCH - 12 : training on 1447322 raw words (1298957 effective words) took 2.8s, 456432 effective words/s\n",
      "2020-06-23 19:21:39,203 : INFO : EPOCH 13 - PROGRESS: at 25.38% examples, 323311 words/s, in_qsize 5, out_qsize 0\n",
      "2020-06-23 19:21:40,234 : INFO : EPOCH 13 - PROGRESS: at 58.01% examples, 369203 words/s, in_qsize 5, out_qsize 0\n",
      "2020-06-23 19:21:41,274 : INFO : EPOCH 13 - PROGRESS: at 93.20% examples, 391547 words/s, in_qsize 5, out_qsize 0\n",
      "2020-06-23 19:21:41,468 : INFO : worker thread finished; awaiting finish of 2 more threads\n",
      "2020-06-23 19:21:41,498 : INFO : worker thread finished; awaiting finish of 1 more threads\n",
      "2020-06-23 19:21:41,507 : INFO : worker thread finished; awaiting finish of 0 more threads\n",
      "2020-06-23 19:21:41,510 : INFO : EPOCH - 13 : training on 1447322 raw words (1298520 effective words) took 3.3s, 390742 effective words/s\n",
      "2020-06-23 19:21:42,535 : INFO : EPOCH 14 - PROGRESS: at 31.53% examples, 400496 words/s, in_qsize 5, out_qsize 0\n",
      "2020-06-23 19:21:43,544 : INFO : EPOCH 14 - PROGRESS: at 56.02% examples, 359569 words/s, in_qsize 5, out_qsize 0\n",
      "2020-06-23 19:21:44,567 : INFO : EPOCH 14 - PROGRESS: at 86.38% examples, 367257 words/s, in_qsize 5, out_qsize 0\n",
      "2020-06-23 19:21:44,898 : INFO : worker thread finished; awaiting finish of 2 more threads\n",
      "2020-06-23 19:21:44,902 : INFO : worker thread finished; awaiting finish of 1 more threads\n",
      "2020-06-23 19:21:44,906 : INFO : worker thread finished; awaiting finish of 0 more threads\n",
      "2020-06-23 19:21:44,907 : INFO : EPOCH - 14 : training on 1447322 raw words (1299480 effective words) took 3.4s, 383020 effective words/s\n",
      "2020-06-23 19:21:45,923 : INFO : EPOCH 15 - PROGRESS: at 23.29% examples, 299129 words/s, in_qsize 5, out_qsize 0\n",
      "2020-06-23 19:21:46,944 : INFO : EPOCH 15 - PROGRESS: at 51.96% examples, 332453 words/s, in_qsize 5, out_qsize 0\n",
      "2020-06-23 19:21:47,949 : INFO : EPOCH 15 - PROGRESS: at 87.79% examples, 374742 words/s, in_qsize 6, out_qsize 0\n",
      "2020-06-23 19:21:48,219 : INFO : worker thread finished; awaiting finish of 2 more threads\n",
      "2020-06-23 19:21:48,241 : INFO : worker thread finished; awaiting finish of 1 more threads\n",
      "2020-06-23 19:21:48,250 : INFO : worker thread finished; awaiting finish of 0 more threads\n",
      "2020-06-23 19:21:48,251 : INFO : EPOCH - 15 : training on 1447322 raw words (1298901 effective words) took 3.3s, 388971 effective words/s\n",
      "2020-06-23 19:21:49,257 : INFO : EPOCH 16 - PROGRESS: at 37.65% examples, 487801 words/s, in_qsize 6, out_qsize 0\n",
      "2020-06-23 19:21:50,261 : INFO : EPOCH 16 - PROGRESS: at 76.71% examples, 496433 words/s, in_qsize 6, out_qsize 0\n",
      "2020-06-23 19:21:50,816 : INFO : worker thread finished; awaiting finish of 2 more threads\n",
      "2020-06-23 19:21:50,837 : INFO : worker thread finished; awaiting finish of 1 more threads\n",
      "2020-06-23 19:21:50,842 : INFO : worker thread finished; awaiting finish of 0 more threads\n",
      "2020-06-23 19:21:50,843 : INFO : EPOCH - 16 : training on 1447322 raw words (1298584 effective words) took 2.6s, 501876 effective words/s\n",
      "2020-06-23 19:21:51,847 : INFO : EPOCH 17 - PROGRESS: at 35.63% examples, 461597 words/s, in_qsize 5, out_qsize 0\n",
      "2020-06-23 19:21:52,888 : INFO : EPOCH 17 - PROGRESS: at 75.28% examples, 479203 words/s, in_qsize 6, out_qsize 0\n",
      "2020-06-23 19:21:53,804 : INFO : worker thread finished; awaiting finish of 2 more threads\n",
      "2020-06-23 19:21:53,806 : INFO : worker thread finished; awaiting finish of 1 more threads\n",
      "2020-06-23 19:21:53,833 : INFO : worker thread finished; awaiting finish of 0 more threads\n",
      "2020-06-23 19:21:53,834 : INFO : EPOCH - 17 : training on 1447322 raw words (1298738 effective words) took 3.0s, 434680 effective words/s\n",
      "2020-06-23 19:21:54,857 : INFO : EPOCH 18 - PROGRESS: at 33.61% examples, 427658 words/s, in_qsize 5, out_qsize 0\n",
      "2020-06-23 19:21:55,880 : INFO : EPOCH 18 - PROGRESS: at 72.66% examples, 461837 words/s, in_qsize 5, out_qsize 0\n",
      "2020-06-23 19:21:56,549 : INFO : worker thread finished; awaiting finish of 2 more threads\n",
      "2020-06-23 19:21:56,560 : INFO : worker thread finished; awaiting finish of 1 more threads\n",
      "2020-06-23 19:21:56,567 : INFO : worker thread finished; awaiting finish of 0 more threads\n",
      "2020-06-23 19:21:56,568 : INFO : EPOCH - 18 : training on 1447322 raw words (1298960 effective words) took 2.7s, 475976 effective words/s\n",
      "2020-06-23 19:21:57,586 : INFO : EPOCH 19 - PROGRESS: at 29.49% examples, 377113 words/s, in_qsize 5, out_qsize 0\n",
      "2020-06-23 19:21:58,596 : INFO : EPOCH 19 - PROGRESS: at 58.01% examples, 373663 words/s, in_qsize 6, out_qsize 0\n",
      "2020-06-23 19:21:59,602 : INFO : EPOCH 19 - PROGRESS: at 87.81% examples, 375815 words/s, in_qsize 5, out_qsize 0\n",
      "2020-06-23 19:21:59,967 : INFO : worker thread finished; awaiting finish of 2 more threads\n",
      "2020-06-23 19:21:59,976 : INFO : worker thread finished; awaiting finish of 1 more threads\n",
      "2020-06-23 19:21:59,977 : INFO : worker thread finished; awaiting finish of 0 more threads\n",
      "2020-06-23 19:21:59,979 : INFO : EPOCH - 19 : training on 1447322 raw words (1299285 effective words) took 3.4s, 381317 effective words/s\n",
      "2020-06-23 19:22:01,034 : INFO : EPOCH 20 - PROGRESS: at 21.88% examples, 270565 words/s, in_qsize 5, out_qsize 0\n",
      "2020-06-23 19:22:02,072 : INFO : EPOCH 20 - PROGRESS: at 38.32% examples, 238258 words/s, in_qsize 5, out_qsize 0\n",
      "2020-06-23 19:22:03,083 : INFO : EPOCH 20 - PROGRESS: at 58.01% examples, 243965 words/s, in_qsize 6, out_qsize 0\n",
      "2020-06-23 19:22:04,157 : INFO : EPOCH 20 - PROGRESS: at 84.95% examples, 264294 words/s, in_qsize 6, out_qsize 0\n",
      "2020-06-23 19:22:05,041 : INFO : worker thread finished; awaiting finish of 2 more threads\n",
      "2020-06-23 19:22:05,045 : INFO : worker thread finished; awaiting finish of 1 more threads\n",
      "2020-06-23 19:22:05,067 : INFO : worker thread finished; awaiting finish of 0 more threads\n",
      "2020-06-23 19:22:05,069 : INFO : EPOCH - 20 : training on 1447322 raw words (1298714 effective words) took 5.1s, 255381 effective words/s\n",
      "2020-06-23 19:22:05,072 : INFO : training on a 28946440 raw words (25975789 effective words) took 67.8s, 383285 effective words/s\n",
      "2020-06-23 19:22:05,090 : INFO : precomputing L2-norms of doc weight vectors\n"
     ]
    },
    {
     "data": {
      "text/plain": [
       "0.6745321702659131"
      ]
     },
     "execution_count": 63,
     "metadata": {},
     "output_type": "execute_result"
    }
   ],
   "source": [
    "processed_model_results(45,10)"
   ]
  },
  {
   "cell_type": "code",
   "execution_count": 64,
   "metadata": {},
   "outputs": [
    {
     "name": "stderr",
     "output_type": "stream",
     "text": [
      "2020-06-23 19:25:06,594 : WARNING : consider setting layer size to a multiple of 4 for greater performance\n",
      "2020-06-23 19:25:06,596 : INFO : collecting all words and their counts\n",
      "2020-06-23 19:25:06,598 : INFO : PROGRESS: at example #0, processed 0 words (0/s), 0 word types, 0 tags\n",
      "2020-06-23 19:25:06,993 : INFO : collected 27287 word types and 10000 unique tags from a corpus of 10000 examples and 1447322 words\n",
      "2020-06-23 19:25:06,994 : INFO : Loading a fresh vocabulary\n",
      "2020-06-23 19:25:07,057 : INFO : effective_min_count=2 retains 17371 unique words (63% of original 27287, drops 9916)\n",
      "2020-06-23 19:25:07,059 : INFO : effective_min_count=2 leaves 1437406 word corpus (99% of original 1447322, drops 9916)\n",
      "2020-06-23 19:25:07,170 : INFO : deleting the raw counts dictionary of 27287 items\n",
      "2020-06-23 19:25:07,172 : INFO : sample=0.001 downsamples 49 most-common words\n",
      "2020-06-23 19:25:07,173 : INFO : downsampling leaves estimated 1332987 word corpus (92.7% of prior 1437406)\n",
      "2020-06-23 19:25:07,270 : INFO : estimated required memory for 17371 words and 45 dimensions: 16739060 bytes\n",
      "2020-06-23 19:25:07,271 : INFO : resetting layer weights\n",
      "2020-06-23 19:25:16,944 : INFO : training model with 3 workers on 17371 vocabulary and 45 features, using sg=0 hs=0 sample=0.001 negative=5 window=5\n",
      "2020-06-23 19:25:17,967 : INFO : EPOCH 1 - PROGRESS: at 32.21% examples, 423383 words/s, in_qsize 5, out_qsize 0\n",
      "2020-06-23 19:25:18,986 : INFO : EPOCH 1 - PROGRESS: at 52.68% examples, 347165 words/s, in_qsize 5, out_qsize 0\n",
      "2020-06-23 19:25:19,991 : INFO : EPOCH 1 - PROGRESS: at 78.09% examples, 344216 words/s, in_qsize 6, out_qsize 0\n",
      "2020-06-23 19:25:20,705 : INFO : worker thread finished; awaiting finish of 2 more threads\n",
      "2020-06-23 19:25:20,718 : INFO : worker thread finished; awaiting finish of 1 more threads\n",
      "2020-06-23 19:25:20,729 : INFO : worker thread finished; awaiting finish of 0 more threads\n",
      "2020-06-23 19:25:20,730 : INFO : EPOCH - 1 : training on 1447322 raw words (1342473 effective words) took 3.8s, 354938 effective words/s\n",
      "2020-06-23 19:25:21,779 : INFO : EPOCH 2 - PROGRESS: at 24.70% examples, 316687 words/s, in_qsize 5, out_qsize 0\n",
      "2020-06-23 19:25:22,798 : INFO : EPOCH 2 - PROGRESS: at 42.38% examples, 276091 words/s, in_qsize 5, out_qsize 0\n",
      "2020-06-23 19:25:23,813 : INFO : EPOCH 2 - PROGRESS: at 60.80% examples, 265696 words/s, in_qsize 5, out_qsize 0\n",
      "2020-06-23 19:25:24,837 : INFO : EPOCH 2 - PROGRESS: at 92.46% examples, 302471 words/s, in_qsize 6, out_qsize 0\n",
      "2020-06-23 19:25:25,013 : INFO : worker thread finished; awaiting finish of 2 more threads\n",
      "2020-06-23 19:25:25,017 : INFO : worker thread finished; awaiting finish of 1 more threads\n",
      "2020-06-23 19:25:25,018 : INFO : worker thread finished; awaiting finish of 0 more threads\n",
      "2020-06-23 19:25:25,020 : INFO : EPOCH - 2 : training on 1447322 raw words (1342798 effective words) took 4.3s, 313316 effective words/s\n",
      "2020-06-23 19:25:26,033 : INFO : EPOCH 3 - PROGRESS: at 30.85% examples, 409824 words/s, in_qsize 5, out_qsize 0\n",
      "2020-06-23 19:25:27,042 : INFO : EPOCH 3 - PROGRESS: at 57.36% examples, 382678 words/s, in_qsize 5, out_qsize 0\n",
      "2020-06-23 19:25:28,065 : INFO : EPOCH 3 - PROGRESS: at 90.50% examples, 399041 words/s, in_qsize 5, out_qsize 0\n",
      "2020-06-23 19:25:28,320 : INFO : worker thread finished; awaiting finish of 2 more threads\n",
      "2020-06-23 19:25:28,322 : INFO : worker thread finished; awaiting finish of 1 more threads\n",
      "2020-06-23 19:25:28,334 : INFO : worker thread finished; awaiting finish of 0 more threads\n",
      "2020-06-23 19:25:28,335 : INFO : EPOCH - 3 : training on 1447322 raw words (1342834 effective words) took 3.3s, 405514 effective words/s\n",
      "2020-06-23 19:25:29,351 : INFO : EPOCH 4 - PROGRESS: at 31.53% examples, 418374 words/s, in_qsize 5, out_qsize 0\n",
      "2020-06-23 19:25:30,396 : INFO : EPOCH 4 - PROGRESS: at 56.02% examples, 366858 words/s, in_qsize 6, out_qsize 1\n",
      "2020-06-23 19:25:31,433 : INFO : EPOCH 4 - PROGRESS: at 72.60% examples, 315193 words/s, in_qsize 5, out_qsize 0\n",
      "2020-06-23 19:25:32,438 : INFO : EPOCH 4 - PROGRESS: at 99.21% examples, 325431 words/s, in_qsize 2, out_qsize 1\n",
      "2020-06-23 19:25:32,439 : INFO : worker thread finished; awaiting finish of 2 more threads\n",
      "2020-06-23 19:25:32,442 : INFO : worker thread finished; awaiting finish of 1 more threads\n",
      "2020-06-23 19:25:32,459 : INFO : worker thread finished; awaiting finish of 0 more threads\n",
      "2020-06-23 19:25:32,461 : INFO : EPOCH - 4 : training on 1447322 raw words (1343292 effective words) took 4.1s, 325995 effective words/s\n",
      "2020-06-23 19:25:33,473 : INFO : EPOCH 5 - PROGRESS: at 36.32% examples, 483291 words/s, in_qsize 5, out_qsize 0\n",
      "2020-06-23 19:25:34,495 : INFO : EPOCH 5 - PROGRESS: at 73.93% examples, 488973 words/s, in_qsize 6, out_qsize 0\n",
      "2020-06-23 19:25:35,231 : INFO : worker thread finished; awaiting finish of 2 more threads\n",
      "2020-06-23 19:25:35,255 : INFO : worker thread finished; awaiting finish of 1 more threads\n",
      "2020-06-23 19:25:35,264 : INFO : worker thread finished; awaiting finish of 0 more threads\n",
      "2020-06-23 19:25:35,265 : INFO : EPOCH - 5 : training on 1447322 raw words (1342543 effective words) took 2.8s, 479321 effective words/s\n",
      "2020-06-23 19:25:36,279 : INFO : EPOCH 6 - PROGRESS: at 28.04% examples, 373320 words/s, in_qsize 5, out_qsize 0\n",
      "2020-06-23 19:25:37,316 : INFO : EPOCH 6 - PROGRESS: at 64.96% examples, 426834 words/s, in_qsize 5, out_qsize 0\n",
      "2020-06-23 19:25:38,352 : INFO : EPOCH 6 - PROGRESS: at 95.96% examples, 417699 words/s, in_qsize 5, out_qsize 0\n",
      "2020-06-23 19:25:38,418 : INFO : worker thread finished; awaiting finish of 2 more threads\n",
      "2020-06-23 19:25:38,420 : INFO : worker thread finished; awaiting finish of 1 more threads\n",
      "2020-06-23 19:25:38,448 : INFO : worker thread finished; awaiting finish of 0 more threads\n",
      "2020-06-23 19:25:38,450 : INFO : EPOCH - 6 : training on 1447322 raw words (1343092 effective words) took 3.2s, 422381 effective words/s\n",
      "2020-06-23 19:25:39,456 : INFO : EPOCH 7 - PROGRESS: at 35.02% examples, 467863 words/s, in_qsize 5, out_qsize 0\n",
      "2020-06-23 19:25:40,475 : INFO : EPOCH 7 - PROGRESS: at 64.23% examples, 427562 words/s, in_qsize 6, out_qsize 0\n",
      "2020-06-23 19:25:41,424 : INFO : worker thread finished; awaiting finish of 2 more threads\n",
      "2020-06-23 19:25:41,445 : INFO : worker thread finished; awaiting finish of 1 more threads\n",
      "2020-06-23 19:25:41,457 : INFO : worker thread finished; awaiting finish of 0 more threads\n",
      "2020-06-23 19:25:41,458 : INFO : EPOCH - 7 : training on 1447322 raw words (1342869 effective words) took 3.0s, 447024 effective words/s\n",
      "2020-06-23 19:25:42,463 : INFO : EPOCH 8 - PROGRESS: at 32.27% examples, 431195 words/s, in_qsize 5, out_qsize 0\n",
      "2020-06-23 19:25:43,477 : INFO : EPOCH 8 - PROGRESS: at 58.01% examples, 387829 words/s, in_qsize 6, out_qsize 0\n",
      "2020-06-23 19:25:44,489 : INFO : EPOCH 8 - PROGRESS: at 85.66% examples, 379718 words/s, in_qsize 5, out_qsize 0\n",
      "2020-06-23 19:25:44,991 : INFO : worker thread finished; awaiting finish of 2 more threads\n",
      "2020-06-23 19:25:45,005 : INFO : worker thread finished; awaiting finish of 1 more threads\n",
      "2020-06-23 19:25:45,032 : INFO : worker thread finished; awaiting finish of 0 more threads\n",
      "2020-06-23 19:25:45,033 : INFO : EPOCH - 8 : training on 1447322 raw words (1342918 effective words) took 3.6s, 375991 effective words/s\n",
      "2020-06-23 19:25:46,045 : INFO : EPOCH 9 - PROGRESS: at 26.00% examples, 348026 words/s, in_qsize 6, out_qsize 0\n",
      "2020-06-23 19:25:47,068 : INFO : EPOCH 9 - PROGRESS: at 62.90% examples, 417357 words/s, in_qsize 6, out_qsize 0\n",
      "2020-06-23 19:25:48,079 : INFO : EPOCH 9 - PROGRESS: at 96.57% examples, 426761 words/s, in_qsize 5, out_qsize 0\n",
      "2020-06-23 19:25:48,146 : INFO : worker thread finished; awaiting finish of 2 more threads\n",
      "2020-06-23 19:25:48,155 : INFO : worker thread finished; awaiting finish of 1 more threads\n",
      "2020-06-23 19:25:48,161 : INFO : worker thread finished; awaiting finish of 0 more threads\n",
      "2020-06-23 19:25:48,162 : INFO : EPOCH - 9 : training on 1447322 raw words (1343215 effective words) took 3.1s, 430363 effective words/s\n",
      "2020-06-23 19:25:49,177 : INFO : EPOCH 10 - PROGRESS: at 34.29% examples, 454236 words/s, in_qsize 5, out_qsize 0\n",
      "2020-06-23 19:25:50,181 : INFO : EPOCH 10 - PROGRESS: at 71.99% examples, 478729 words/s, in_qsize 6, out_qsize 0\n"
     ]
    },
    {
     "name": "stderr",
     "output_type": "stream",
     "text": [
      "2020-06-23 19:25:50,925 : INFO : worker thread finished; awaiting finish of 2 more threads\n",
      "2020-06-23 19:25:50,934 : INFO : worker thread finished; awaiting finish of 1 more threads\n",
      "2020-06-23 19:25:50,946 : INFO : worker thread finished; awaiting finish of 0 more threads\n",
      "2020-06-23 19:25:50,947 : INFO : EPOCH - 10 : training on 1447322 raw words (1342574 effective words) took 2.8s, 482561 effective words/s\n",
      "2020-06-23 19:25:51,964 : INFO : EPOCH 11 - PROGRESS: at 35.63% examples, 471946 words/s, in_qsize 5, out_qsize 0\n",
      "2020-06-23 19:25:52,965 : INFO : EPOCH 11 - PROGRESS: at 73.32% examples, 488290 words/s, in_qsize 5, out_qsize 0\n",
      "2020-06-23 19:25:53,635 : INFO : worker thread finished; awaiting finish of 2 more threads\n",
      "2020-06-23 19:25:53,659 : INFO : worker thread finished; awaiting finish of 1 more threads\n",
      "2020-06-23 19:25:53,666 : INFO : worker thread finished; awaiting finish of 0 more threads\n",
      "2020-06-23 19:25:53,666 : INFO : EPOCH - 11 : training on 1447322 raw words (1342925 effective words) took 2.7s, 494545 effective words/s\n",
      "2020-06-23 19:25:54,693 : INFO : EPOCH 12 - PROGRESS: at 37.65% examples, 494299 words/s, in_qsize 5, out_qsize 0\n",
      "2020-06-23 19:25:55,701 : INFO : EPOCH 12 - PROGRESS: at 74.57% examples, 493690 words/s, in_qsize 6, out_qsize 0\n",
      "2020-06-23 19:25:56,331 : INFO : worker thread finished; awaiting finish of 2 more threads\n",
      "2020-06-23 19:25:56,354 : INFO : worker thread finished; awaiting finish of 1 more threads\n",
      "2020-06-23 19:25:56,360 : INFO : worker thread finished; awaiting finish of 0 more threads\n",
      "2020-06-23 19:25:56,361 : INFO : EPOCH - 12 : training on 1447322 raw words (1343431 effective words) took 2.7s, 499358 effective words/s\n",
      "2020-06-23 19:25:57,381 : INFO : EPOCH 13 - PROGRESS: at 28.07% examples, 370799 words/s, in_qsize 6, out_qsize 0\n",
      "2020-06-23 19:25:58,391 : INFO : EPOCH 13 - PROGRESS: at 54.00% examples, 358430 words/s, in_qsize 6, out_qsize 0\n",
      "2020-06-23 19:25:59,418 : INFO : EPOCH 13 - PROGRESS: at 78.75% examples, 346298 words/s, in_qsize 5, out_qsize 0\n",
      "2020-06-23 19:26:00,027 : INFO : worker thread finished; awaiting finish of 2 more threads\n",
      "2020-06-23 19:26:00,054 : INFO : worker thread finished; awaiting finish of 1 more threads\n",
      "2020-06-23 19:26:00,059 : INFO : worker thread finished; awaiting finish of 0 more threads\n",
      "2020-06-23 19:26:00,060 : INFO : EPOCH - 13 : training on 1447322 raw words (1343030 effective words) took 3.7s, 363475 effective words/s\n",
      "2020-06-23 19:26:01,064 : INFO : EPOCH 14 - PROGRESS: at 30.85% examples, 413301 words/s, in_qsize 6, out_qsize 0\n",
      "2020-06-23 19:26:02,133 : INFO : EPOCH 14 - PROGRESS: at 51.26% examples, 333136 words/s, in_qsize 6, out_qsize 0\n",
      "2020-06-23 19:26:03,143 : INFO : EPOCH 14 - PROGRESS: at 70.52% examples, 307442 words/s, in_qsize 5, out_qsize 0\n",
      "2020-06-23 19:26:04,127 : INFO : worker thread finished; awaiting finish of 2 more threads\n",
      "2020-06-23 19:26:04,129 : INFO : worker thread finished; awaiting finish of 1 more threads\n",
      "2020-06-23 19:26:04,147 : INFO : EPOCH 14 - PROGRESS: at 100.00% examples, 328841 words/s, in_qsize 0, out_qsize 1\n",
      "2020-06-23 19:26:04,148 : INFO : worker thread finished; awaiting finish of 0 more threads\n",
      "2020-06-23 19:26:04,149 : INFO : EPOCH - 14 : training on 1447322 raw words (1342750 effective words) took 4.1s, 328651 effective words/s\n",
      "2020-06-23 19:26:05,170 : INFO : EPOCH 15 - PROGRESS: at 27.33% examples, 361729 words/s, in_qsize 5, out_qsize 0\n",
      "2020-06-23 19:26:06,173 : INFO : EPOCH 15 - PROGRESS: at 55.35% examples, 368774 words/s, in_qsize 6, out_qsize 0\n",
      "2020-06-23 19:26:07,197 : INFO : EPOCH 15 - PROGRESS: at 82.91% examples, 365561 words/s, in_qsize 6, out_qsize 0\n",
      "2020-06-23 19:26:07,889 : INFO : worker thread finished; awaiting finish of 2 more threads\n",
      "2020-06-23 19:26:07,896 : INFO : worker thread finished; awaiting finish of 1 more threads\n",
      "2020-06-23 19:26:07,913 : INFO : worker thread finished; awaiting finish of 0 more threads\n",
      "2020-06-23 19:26:07,914 : INFO : EPOCH - 15 : training on 1447322 raw words (1342942 effective words) took 3.8s, 357145 effective words/s\n",
      "2020-06-23 19:26:08,923 : INFO : EPOCH 16 - PROGRESS: at 21.88% examples, 293301 words/s, in_qsize 6, out_qsize 0\n",
      "2020-06-23 19:26:09,940 : INFO : EPOCH 16 - PROGRESS: at 40.28% examples, 268608 words/s, in_qsize 5, out_qsize 0\n",
      "2020-06-23 19:26:10,942 : INFO : EPOCH 16 - PROGRESS: at 64.96% examples, 289055 words/s, in_qsize 5, out_qsize 0\n",
      "2020-06-23 19:26:11,981 : INFO : EPOCH 16 - PROGRESS: at 90.48% examples, 298848 words/s, in_qsize 5, out_qsize 0\n",
      "2020-06-23 19:26:12,314 : INFO : worker thread finished; awaiting finish of 2 more threads\n",
      "2020-06-23 19:26:12,316 : INFO : worker thread finished; awaiting finish of 1 more threads\n",
      "2020-06-23 19:26:12,345 : INFO : worker thread finished; awaiting finish of 0 more threads\n",
      "2020-06-23 19:26:12,346 : INFO : EPOCH - 16 : training on 1447322 raw words (1343008 effective words) took 4.4s, 303412 effective words/s\n",
      "2020-06-23 19:26:13,365 : INFO : EPOCH 17 - PROGRESS: at 21.18% examples, 280695 words/s, in_qsize 5, out_qsize 0\n",
      "2020-06-23 19:26:14,375 : INFO : EPOCH 17 - PROGRESS: at 38.32% examples, 254351 words/s, in_qsize 5, out_qsize 0\n",
      "2020-06-23 19:26:15,375 : INFO : EPOCH 17 - PROGRESS: at 54.00% examples, 240128 words/s, in_qsize 6, out_qsize 0\n",
      "2020-06-23 19:26:16,392 : INFO : EPOCH 17 - PROGRESS: at 67.84% examples, 225197 words/s, in_qsize 5, out_qsize 0\n",
      "2020-06-23 19:26:17,415 : INFO : EPOCH 17 - PROGRESS: at 88.56% examples, 234257 words/s, in_qsize 5, out_qsize 0\n",
      "2020-06-23 19:26:17,689 : INFO : worker thread finished; awaiting finish of 2 more threads\n",
      "2020-06-23 19:26:17,715 : INFO : worker thread finished; awaiting finish of 1 more threads\n",
      "2020-06-23 19:26:17,726 : INFO : worker thread finished; awaiting finish of 0 more threads\n",
      "2020-06-23 19:26:17,727 : INFO : EPOCH - 17 : training on 1447322 raw words (1342852 effective words) took 5.4s, 249736 effective words/s\n",
      "2020-06-23 19:26:18,745 : INFO : EPOCH 18 - PROGRESS: at 25.32% examples, 335150 words/s, in_qsize 5, out_qsize 0\n",
      "2020-06-23 19:26:19,747 : INFO : EPOCH 18 - PROGRESS: at 60.80% examples, 405632 words/s, in_qsize 5, out_qsize 0\n",
      "2020-06-23 19:26:20,775 : INFO : EPOCH 18 - PROGRESS: at 97.80% examples, 431682 words/s, in_qsize 4, out_qsize 0\n",
      "2020-06-23 19:26:20,802 : INFO : worker thread finished; awaiting finish of 2 more threads\n",
      "2020-06-23 19:26:20,805 : INFO : worker thread finished; awaiting finish of 1 more threads\n",
      "2020-06-23 19:26:20,829 : INFO : worker thread finished; awaiting finish of 0 more threads\n",
      "2020-06-23 19:26:20,830 : INFO : EPOCH - 18 : training on 1447322 raw words (1342465 effective words) took 3.1s, 433180 effective words/s\n",
      "2020-06-23 19:26:21,859 : INFO : EPOCH 19 - PROGRESS: at 32.27% examples, 421184 words/s, in_qsize 5, out_qsize 0\n",
      "2020-06-23 19:26:22,867 : INFO : EPOCH 19 - PROGRESS: at 60.79% examples, 402543 words/s, in_qsize 5, out_qsize 0\n",
      "2020-06-23 19:26:23,873 : INFO : EPOCH 19 - PROGRESS: at 95.96% examples, 423456 words/s, in_qsize 5, out_qsize 0\n",
      "2020-06-23 19:26:23,941 : INFO : worker thread finished; awaiting finish of 2 more threads\n",
      "2020-06-23 19:26:23,966 : INFO : worker thread finished; awaiting finish of 1 more threads\n",
      "2020-06-23 19:26:23,975 : INFO : worker thread finished; awaiting finish of 0 more threads\n",
      "2020-06-23 19:26:23,976 : INFO : EPOCH - 19 : training on 1447322 raw words (1342985 effective words) took 3.1s, 427370 effective words/s\n",
      "2020-06-23 19:26:24,980 : INFO : EPOCH 20 - PROGRESS: at 37.02% examples, 496675 words/s, in_qsize 5, out_qsize 0\n",
      "2020-06-23 19:26:25,997 : INFO : EPOCH 20 - PROGRESS: at 74.57% examples, 496819 words/s, in_qsize 5, out_qsize 0\n",
      "2020-06-23 19:26:26,624 : INFO : worker thread finished; awaiting finish of 2 more threads\n",
      "2020-06-23 19:26:26,648 : INFO : worker thread finished; awaiting finish of 1 more threads\n",
      "2020-06-23 19:26:26,657 : INFO : worker thread finished; awaiting finish of 0 more threads\n",
      "2020-06-23 19:26:26,658 : INFO : EPOCH - 20 : training on 1447322 raw words (1343247 effective words) took 2.7s, 501523 effective words/s\n",
      "2020-06-23 19:26:26,658 : INFO : training on a 28946440 raw words (26858243 effective words) took 69.7s, 385270 effective words/s\n",
      "2020-06-23 19:26:26,669 : INFO : precomputing L2-norms of doc weight vectors\n"
     ]
    },
    {
     "data": {
      "text/plain": [
       "0.6874921322762966"
      ]
     },
     "execution_count": 64,
     "metadata": {},
     "output_type": "execute_result"
    }
   ],
   "source": [
    "processed_model_results(45,2)"
   ]
  },
  {
   "cell_type": "code",
   "execution_count": 65,
   "metadata": {},
   "outputs": [
    {
     "name": "stderr",
     "output_type": "stream",
     "text": [
      "2020-06-23 19:28:26,068 : INFO : collecting all words and their counts\n",
      "2020-06-23 19:28:26,069 : INFO : PROGRESS: at example #0, processed 0 words (0/s), 0 word types, 0 tags\n",
      "2020-06-23 19:28:26,427 : INFO : collected 27287 word types and 10000 unique tags from a corpus of 10000 examples and 1447322 words\n",
      "2020-06-23 19:28:26,428 : INFO : Loading a fresh vocabulary\n",
      "2020-06-23 19:28:26,487 : INFO : effective_min_count=2 retains 17371 unique words (63% of original 27287, drops 9916)\n",
      "2020-06-23 19:28:26,489 : INFO : effective_min_count=2 leaves 1437406 word corpus (99% of original 1447322, drops 9916)\n",
      "2020-06-23 19:28:26,594 : INFO : deleting the raw counts dictionary of 27287 items\n",
      "2020-06-23 19:28:26,596 : INFO : sample=0.001 downsamples 49 most-common words\n",
      "2020-06-23 19:28:26,597 : INFO : downsampling leaves estimated 1332987 word corpus (92.7% of prior 1437406)\n",
      "2020-06-23 19:28:26,673 : INFO : estimated required memory for 17371 words and 40 dimensions: 15844220 bytes\n",
      "2020-06-23 19:28:26,674 : INFO : resetting layer weights\n",
      "2020-06-23 19:28:35,408 : INFO : training model with 3 workers on 17371 vocabulary and 40 features, using sg=0 hs=0 sample=0.001 negative=5 window=5\n",
      "2020-06-23 19:28:36,427 : INFO : EPOCH 1 - PROGRESS: at 34.95% examples, 462380 words/s, in_qsize 5, out_qsize 0\n",
      "2020-06-23 19:28:37,427 : INFO : EPOCH 1 - PROGRESS: at 70.61% examples, 469923 words/s, in_qsize 5, out_qsize 0\n",
      "2020-06-23 19:28:38,173 : INFO : worker thread finished; awaiting finish of 2 more threads\n",
      "2020-06-23 19:28:38,183 : INFO : worker thread finished; awaiting finish of 1 more threads\n",
      "2020-06-23 19:28:38,185 : INFO : worker thread finished; awaiting finish of 0 more threads\n",
      "2020-06-23 19:28:38,186 : INFO : EPOCH - 1 : training on 1447322 raw words (1342814 effective words) took 2.8s, 484227 effective words/s\n",
      "2020-06-23 19:28:39,194 : INFO : EPOCH 2 - PROGRESS: at 33.61% examples, 448845 words/s, in_qsize 6, out_qsize 0\n",
      "2020-06-23 19:28:40,226 : INFO : EPOCH 2 - PROGRESS: at 70.61% examples, 464987 words/s, in_qsize 6, out_qsize 0\n",
      "2020-06-23 19:28:41,104 : INFO : worker thread finished; awaiting finish of 2 more threads\n",
      "2020-06-23 19:28:41,113 : INFO : worker thread finished; awaiting finish of 1 more threads\n",
      "2020-06-23 19:28:41,120 : INFO : worker thread finished; awaiting finish of 0 more threads\n",
      "2020-06-23 19:28:41,121 : INFO : EPOCH - 2 : training on 1447322 raw words (1342772 effective words) took 2.9s, 458068 effective words/s\n",
      "2020-06-23 19:28:42,127 : INFO : EPOCH 3 - PROGRESS: at 37.02% examples, 495124 words/s, in_qsize 6, out_qsize 0\n",
      "2020-06-23 19:28:43,189 : INFO : EPOCH 3 - PROGRESS: at 69.16% examples, 449702 words/s, in_qsize 5, out_qsize 0\n",
      "2020-06-23 19:28:44,019 : INFO : worker thread finished; awaiting finish of 2 more threads\n",
      "2020-06-23 19:28:44,027 : INFO : worker thread finished; awaiting finish of 1 more threads\n",
      "2020-06-23 19:28:44,049 : INFO : worker thread finished; awaiting finish of 0 more threads\n",
      "2020-06-23 19:28:44,051 : INFO : EPOCH - 3 : training on 1447322 raw words (1342768 effective words) took 2.9s, 458947 effective words/s\n",
      "2020-06-23 19:28:45,068 : INFO : EPOCH 4 - PROGRESS: at 33.61% examples, 444718 words/s, in_qsize 5, out_qsize 0\n",
      "2020-06-23 19:28:46,069 : INFO : EPOCH 4 - PROGRESS: at 69.87% examples, 465765 words/s, in_qsize 5, out_qsize 0\n",
      "2020-06-23 19:28:46,812 : INFO : worker thread finished; awaiting finish of 2 more threads\n",
      "2020-06-23 19:28:46,831 : INFO : worker thread finished; awaiting finish of 1 more threads\n",
      "2020-06-23 19:28:46,840 : INFO : worker thread finished; awaiting finish of 0 more threads\n",
      "2020-06-23 19:28:46,842 : INFO : EPOCH - 4 : training on 1447322 raw words (1343541 effective words) took 2.8s, 482120 effective words/s\n",
      "2020-06-23 19:28:47,848 : INFO : EPOCH 5 - PROGRESS: at 37.02% examples, 495634 words/s, in_qsize 5, out_qsize 0\n",
      "2020-06-23 19:28:48,852 : INFO : EPOCH 5 - PROGRESS: at 73.93% examples, 494695 words/s, in_qsize 5, out_qsize 0\n",
      "2020-06-23 19:28:49,550 : INFO : worker thread finished; awaiting finish of 2 more threads\n",
      "2020-06-23 19:28:49,558 : INFO : worker thread finished; awaiting finish of 1 more threads\n",
      "2020-06-23 19:28:49,571 : INFO : worker thread finished; awaiting finish of 0 more threads\n",
      "2020-06-23 19:28:49,572 : INFO : EPOCH - 5 : training on 1447322 raw words (1342797 effective words) took 2.7s, 492527 effective words/s\n",
      "2020-06-23 19:28:50,610 : INFO : EPOCH 6 - PROGRESS: at 33.61% examples, 435680 words/s, in_qsize 5, out_qsize 0\n",
      "2020-06-23 19:28:51,619 : INFO : EPOCH 6 - PROGRESS: at 64.23% examples, 422917 words/s, in_qsize 5, out_qsize 0\n",
      "2020-06-23 19:28:52,637 : INFO : EPOCH 6 - PROGRESS: at 98.48% examples, 432511 words/s, in_qsize 3, out_qsize 0\n",
      "2020-06-23 19:28:52,642 : INFO : worker thread finished; awaiting finish of 2 more threads\n",
      "2020-06-23 19:28:52,651 : INFO : worker thread finished; awaiting finish of 1 more threads\n",
      "2020-06-23 19:28:52,662 : INFO : worker thread finished; awaiting finish of 0 more threads\n",
      "2020-06-23 19:28:52,665 : INFO : EPOCH - 6 : training on 1447322 raw words (1342989 effective words) took 3.1s, 434769 effective words/s\n",
      "2020-06-23 19:28:53,688 : INFO : EPOCH 7 - PROGRESS: at 32.95% examples, 433593 words/s, in_qsize 5, out_qsize 0\n",
      "2020-06-23 19:28:54,718 : INFO : EPOCH 7 - PROGRESS: at 68.47% examples, 448831 words/s, in_qsize 5, out_qsize 0\n",
      "2020-06-23 19:28:55,645 : INFO : worker thread finished; awaiting finish of 2 more threads\n",
      "2020-06-23 19:28:55,648 : INFO : worker thread finished; awaiting finish of 1 more threads\n",
      "2020-06-23 19:28:55,662 : INFO : worker thread finished; awaiting finish of 0 more threads\n",
      "2020-06-23 19:28:55,663 : INFO : EPOCH - 7 : training on 1447322 raw words (1342641 effective words) took 3.0s, 448598 effective words/s\n",
      "2020-06-23 19:28:56,670 : INFO : EPOCH 8 - PROGRESS: at 35.02% examples, 467359 words/s, in_qsize 5, out_qsize 0\n",
      "2020-06-23 19:28:57,678 : INFO : EPOCH 8 - PROGRESS: at 71.99% examples, 479932 words/s, in_qsize 6, out_qsize 0\n",
      "2020-06-23 19:28:58,357 : INFO : worker thread finished; awaiting finish of 2 more threads\n",
      "2020-06-23 19:28:58,374 : INFO : worker thread finished; awaiting finish of 1 more threads\n",
      "2020-06-23 19:28:58,379 : INFO : worker thread finished; awaiting finish of 0 more threads\n",
      "2020-06-23 19:28:58,379 : INFO : EPOCH - 8 : training on 1447322 raw words (1342898 effective words) took 2.7s, 495018 effective words/s\n",
      "2020-06-23 19:28:59,395 : INFO : EPOCH 9 - PROGRESS: at 39.67% examples, 527377 words/s, in_qsize 5, out_qsize 0\n",
      "2020-06-23 19:29:00,401 : INFO : EPOCH 9 - PROGRESS: at 75.26% examples, 501199 words/s, in_qsize 6, out_qsize 0\n",
      "2020-06-23 19:29:01,083 : INFO : worker thread finished; awaiting finish of 2 more threads\n",
      "2020-06-23 19:29:01,091 : INFO : worker thread finished; awaiting finish of 1 more threads\n",
      "2020-06-23 19:29:01,111 : INFO : worker thread finished; awaiting finish of 0 more threads\n",
      "2020-06-23 19:29:01,112 : INFO : EPOCH - 9 : training on 1447322 raw words (1343012 effective words) took 2.7s, 492159 effective words/s\n",
      "2020-06-23 19:29:02,152 : INFO : EPOCH 10 - PROGRESS: at 35.63% examples, 461854 words/s, in_qsize 5, out_qsize 0\n",
      "2020-06-23 19:29:03,163 : INFO : EPOCH 10 - PROGRESS: at 72.66% examples, 476114 words/s, in_qsize 5, out_qsize 0\n",
      "2020-06-23 19:29:03,834 : INFO : worker thread finished; awaiting finish of 2 more threads\n",
      "2020-06-23 19:29:03,859 : INFO : worker thread finished; awaiting finish of 1 more threads\n",
      "2020-06-23 19:29:03,862 : INFO : worker thread finished; awaiting finish of 0 more threads\n",
      "2020-06-23 19:29:03,863 : INFO : EPOCH - 10 : training on 1447322 raw words (1343024 effective words) took 2.7s, 488985 effective words/s\n",
      "2020-06-23 19:29:04,874 : INFO : EPOCH 11 - PROGRESS: at 37.02% examples, 493794 words/s, in_qsize 6, out_qsize 0\n",
      "2020-06-23 19:29:05,903 : INFO : EPOCH 11 - PROGRESS: at 72.66% examples, 478714 words/s, in_qsize 5, out_qsize 0\n",
      "2020-06-23 19:29:06,752 : INFO : worker thread finished; awaiting finish of 2 more threads\n",
      "2020-06-23 19:29:06,757 : INFO : worker thread finished; awaiting finish of 1 more threads\n",
      "2020-06-23 19:29:06,766 : INFO : worker thread finished; awaiting finish of 0 more threads\n",
      "2020-06-23 19:29:06,767 : INFO : EPOCH - 11 : training on 1447322 raw words (1343033 effective words) took 2.9s, 463214 effective words/s\n"
     ]
    },
    {
     "name": "stderr",
     "output_type": "stream",
     "text": [
      "2020-06-23 19:29:07,772 : INFO : EPOCH 12 - PROGRESS: at 32.21% examples, 431955 words/s, in_qsize 5, out_qsize 0\n",
      "2020-06-23 19:29:08,782 : INFO : EPOCH 12 - PROGRESS: at 63.56% examples, 425388 words/s, in_qsize 5, out_qsize 0\n",
      "2020-06-23 19:29:09,805 : INFO : EPOCH 12 - PROGRESS: at 89.86% examples, 397104 words/s, in_qsize 5, out_qsize 0\n",
      "2020-06-23 19:29:10,046 : INFO : worker thread finished; awaiting finish of 2 more threads\n",
      "2020-06-23 19:29:10,052 : INFO : worker thread finished; awaiting finish of 1 more threads\n",
      "2020-06-23 19:29:10,074 : INFO : worker thread finished; awaiting finish of 0 more threads\n",
      "2020-06-23 19:29:10,075 : INFO : EPOCH - 12 : training on 1447322 raw words (1343173 effective words) took 3.3s, 406616 effective words/s\n",
      "2020-06-23 19:29:11,085 : INFO : EPOCH 13 - PROGRESS: at 28.78% examples, 384388 words/s, in_qsize 5, out_qsize 0\n",
      "2020-06-23 19:29:12,127 : INFO : EPOCH 13 - PROGRESS: at 56.02% examples, 368577 words/s, in_qsize 6, out_qsize 0\n",
      "2020-06-23 19:29:13,128 : INFO : EPOCH 13 - PROGRESS: at 85.66% examples, 377304 words/s, in_qsize 6, out_qsize 0\n",
      "2020-06-23 19:29:13,765 : INFO : worker thread finished; awaiting finish of 2 more threads\n",
      "2020-06-23 19:29:13,795 : INFO : worker thread finished; awaiting finish of 1 more threads\n",
      "2020-06-23 19:29:13,813 : INFO : worker thread finished; awaiting finish of 0 more threads\n",
      "2020-06-23 19:29:13,814 : INFO : EPOCH - 13 : training on 1447322 raw words (1342994 effective words) took 3.7s, 359748 effective words/s\n",
      "2020-06-23 19:29:14,839 : INFO : EPOCH 14 - PROGRESS: at 17.06% examples, 226165 words/s, in_qsize 6, out_qsize 0\n",
      "2020-06-23 19:29:15,918 : INFO : EPOCH 14 - PROGRESS: at 32.21% examples, 206058 words/s, in_qsize 6, out_qsize 0\n",
      "2020-06-23 19:29:16,937 : INFO : EPOCH 14 - PROGRESS: at 47.68% examples, 206390 words/s, in_qsize 6, out_qsize 0\n",
      "2020-06-23 19:29:17,973 : INFO : EPOCH 14 - PROGRESS: at 67.13% examples, 216944 words/s, in_qsize 6, out_qsize 0\n",
      "2020-06-23 19:29:18,975 : INFO : EPOCH 14 - PROGRESS: at 90.50% examples, 235422 words/s, in_qsize 5, out_qsize 0\n",
      "2020-06-23 19:29:19,271 : INFO : worker thread finished; awaiting finish of 2 more threads\n",
      "2020-06-23 19:29:19,284 : INFO : worker thread finished; awaiting finish of 1 more threads\n",
      "2020-06-23 19:29:19,291 : INFO : worker thread finished; awaiting finish of 0 more threads\n",
      "2020-06-23 19:29:19,291 : INFO : EPOCH - 14 : training on 1447322 raw words (1342763 effective words) took 5.5s, 245453 effective words/s\n",
      "2020-06-23 19:29:20,304 : INFO : EPOCH 15 - PROGRESS: at 29.49% examples, 391849 words/s, in_qsize 6, out_qsize 0\n",
      "2020-06-23 19:29:21,335 : INFO : EPOCH 15 - PROGRESS: at 52.68% examples, 347115 words/s, in_qsize 5, out_qsize 0\n",
      "2020-06-23 19:29:22,389 : INFO : EPOCH 15 - PROGRESS: at 75.28% examples, 326874 words/s, in_qsize 5, out_qsize 0\n",
      "2020-06-23 19:29:23,393 : INFO : EPOCH 15 - PROGRESS: at 97.80% examples, 320859 words/s, in_qsize 4, out_qsize 0\n",
      "2020-06-23 19:29:23,439 : INFO : worker thread finished; awaiting finish of 2 more threads\n",
      "2020-06-23 19:29:23,443 : INFO : worker thread finished; awaiting finish of 1 more threads\n",
      "2020-06-23 19:29:23,456 : INFO : worker thread finished; awaiting finish of 0 more threads\n",
      "2020-06-23 19:29:23,457 : INFO : EPOCH - 15 : training on 1447322 raw words (1342824 effective words) took 4.2s, 322652 effective words/s\n",
      "2020-06-23 19:29:24,463 : INFO : EPOCH 16 - PROGRESS: at 31.53% examples, 422851 words/s, in_qsize 5, out_qsize 0\n",
      "2020-06-23 19:29:25,464 : INFO : EPOCH 16 - PROGRESS: at 63.56% examples, 427300 words/s, in_qsize 5, out_qsize 0\n",
      "2020-06-23 19:29:26,444 : INFO : worker thread finished; awaiting finish of 2 more threads\n",
      "2020-06-23 19:29:26,459 : INFO : worker thread finished; awaiting finish of 1 more threads\n",
      "2020-06-23 19:29:26,472 : INFO : EPOCH 16 - PROGRESS: at 100.00% examples, 446381 words/s, in_qsize 0, out_qsize 1\n",
      "2020-06-23 19:29:26,473 : INFO : worker thread finished; awaiting finish of 0 more threads\n",
      "2020-06-23 19:29:26,474 : INFO : EPOCH - 16 : training on 1447322 raw words (1343119 effective words) took 3.0s, 446047 effective words/s\n",
      "2020-06-23 19:29:27,488 : INFO : EPOCH 17 - PROGRESS: at 32.27% examples, 427826 words/s, in_qsize 5, out_qsize 0\n",
      "2020-06-23 19:29:28,505 : INFO : EPOCH 17 - PROGRESS: at 69.16% examples, 458154 words/s, in_qsize 5, out_qsize 0\n",
      "2020-06-23 19:29:29,385 : INFO : worker thread finished; awaiting finish of 2 more threads\n",
      "2020-06-23 19:29:29,406 : INFO : worker thread finished; awaiting finish of 1 more threads\n",
      "2020-06-23 19:29:29,417 : INFO : worker thread finished; awaiting finish of 0 more threads\n",
      "2020-06-23 19:29:29,419 : INFO : EPOCH - 17 : training on 1447322 raw words (1343171 effective words) took 2.9s, 456757 effective words/s\n",
      "2020-06-23 19:29:30,442 : INFO : EPOCH 18 - PROGRESS: at 28.04% examples, 372309 words/s, in_qsize 5, out_qsize 0\n",
      "2020-06-23 19:29:31,483 : INFO : EPOCH 18 - PROGRESS: at 56.02% examples, 367384 words/s, in_qsize 5, out_qsize 0\n",
      "2020-06-23 19:29:32,486 : INFO : EPOCH 18 - PROGRESS: at 80.82% examples, 355137 words/s, in_qsize 5, out_qsize 0\n",
      "2020-06-23 19:29:33,137 : INFO : worker thread finished; awaiting finish of 2 more threads\n",
      "2020-06-23 19:29:33,143 : INFO : worker thread finished; awaiting finish of 1 more threads\n",
      "2020-06-23 19:29:33,151 : INFO : worker thread finished; awaiting finish of 0 more threads\n",
      "2020-06-23 19:29:33,152 : INFO : EPOCH - 18 : training on 1447322 raw words (1342910 effective words) took 3.7s, 360776 effective words/s\n",
      "2020-06-23 19:29:34,174 : INFO : EPOCH 19 - PROGRESS: at 28.78% examples, 379550 words/s, in_qsize 5, out_qsize 0\n",
      "2020-06-23 19:29:35,229 : INFO : EPOCH 19 - PROGRESS: at 48.55% examples, 315002 words/s, in_qsize 5, out_qsize 0\n",
      "2020-06-23 19:29:36,273 : INFO : EPOCH 19 - PROGRESS: at 64.96% examples, 280224 words/s, in_qsize 5, out_qsize 0\n",
      "2020-06-23 19:29:37,383 : INFO : EPOCH 19 - PROGRESS: at 80.82% examples, 256723 words/s, in_qsize 5, out_qsize 0\n",
      "2020-06-23 19:29:38,437 : INFO : EPOCH 19 - PROGRESS: at 96.57% examples, 245530 words/s, in_qsize 6, out_qsize 0\n",
      "2020-06-23 19:29:38,545 : INFO : worker thread finished; awaiting finish of 2 more threads\n",
      "2020-06-23 19:29:38,594 : INFO : worker thread finished; awaiting finish of 1 more threads\n",
      "2020-06-23 19:29:38,600 : INFO : worker thread finished; awaiting finish of 0 more threads\n",
      "2020-06-23 19:29:38,601 : INFO : EPOCH - 19 : training on 1447322 raw words (1342792 effective words) took 5.4s, 246645 effective words/s\n",
      "2020-06-23 19:29:39,617 : INFO : EPOCH 20 - PROGRESS: at 21.20% examples, 283492 words/s, in_qsize 5, out_qsize 0\n",
      "2020-06-23 19:29:40,635 : INFO : EPOCH 20 - PROGRESS: at 37.65% examples, 249921 words/s, in_qsize 5, out_qsize 0\n",
      "2020-06-23 19:29:41,655 : INFO : EPOCH 20 - PROGRESS: at 57.36% examples, 253891 words/s, in_qsize 5, out_qsize 0\n",
      "2020-06-23 19:29:42,759 : INFO : EPOCH 20 - PROGRESS: at 76.02% examples, 246094 words/s, in_qsize 5, out_qsize 0\n",
      "2020-06-23 19:29:43,805 : INFO : EPOCH 20 - PROGRESS: at 85.66% examples, 221316 words/s, in_qsize 5, out_qsize 0\n",
      "2020-06-23 19:29:44,916 : INFO : EPOCH 20 - PROGRESS: at 97.22% examples, 207126 words/s, in_qsize 5, out_qsize 0\n",
      "2020-06-23 19:29:45,023 : INFO : worker thread finished; awaiting finish of 2 more threads\n",
      "2020-06-23 19:29:45,050 : INFO : worker thread finished; awaiting finish of 1 more threads\n",
      "2020-06-23 19:29:45,097 : INFO : worker thread finished; awaiting finish of 0 more threads\n",
      "2020-06-23 19:29:45,098 : INFO : EPOCH - 20 : training on 1447322 raw words (1342851 effective words) took 6.5s, 207027 effective words/s\n",
      "2020-06-23 19:29:45,100 : INFO : training on a 28946440 raw words (26858886 effective words) took 69.7s, 385409 effective words/s\n",
      "2020-06-23 19:29:45,118 : INFO : precomputing L2-norms of doc weight vectors\n"
     ]
    },
    {
     "data": {
      "text/plain": [
       "0.708948971259594"
      ]
     },
     "execution_count": 65,
     "metadata": {},
     "output_type": "execute_result"
    }
   ],
   "source": [
    "processed_model_results(40,2)"
   ]
  },
  {
   "cell_type": "code",
   "execution_count": 66,
   "metadata": {},
   "outputs": [
    {
     "name": "stderr",
     "output_type": "stream",
     "text": [
      "2020-06-23 19:32:21,798 : INFO : collecting all words and their counts\n",
      "2020-06-23 19:32:21,800 : INFO : PROGRESS: at example #0, processed 0 words (0/s), 0 word types, 0 tags\n",
      "2020-06-23 19:32:23,047 : INFO : collected 30512 word types and 10000 unique tags from a corpus of 10000 examples and 3060122 words\n",
      "2020-06-23 19:32:23,048 : INFO : Loading a fresh vocabulary\n",
      "2020-06-23 19:32:23,129 : INFO : effective_min_count=2 retains 19712 unique words (64% of original 30512, drops 10800)\n",
      "2020-06-23 19:32:23,131 : INFO : effective_min_count=2 leaves 3049322 word corpus (99% of original 3060122, drops 10800)\n",
      "2020-06-23 19:32:23,285 : INFO : deleting the raw counts dictionary of 30512 items\n",
      "2020-06-23 19:32:23,287 : INFO : sample=0.001 downsamples 61 most-common words\n",
      "2020-06-23 19:32:23,289 : INFO : downsampling leaves estimated 2253238 word corpus (73.9% of prior 3049322)\n",
      "2020-06-23 19:32:23,390 : INFO : estimated required memory for 19712 words and 40 dimensions: 17763840 bytes\n",
      "2020-06-23 19:32:23,392 : INFO : resetting layer weights\n",
      "2020-06-23 19:32:34,580 : INFO : training model with 3 workers on 19712 vocabulary and 40 features, using sg=0 hs=0 sample=0.001 negative=5 window=5\n",
      "2020-06-23 19:32:35,588 : INFO : EPOCH 1 - PROGRESS: at 12.90% examples, 290048 words/s, in_qsize 5, out_qsize 0\n",
      "2020-06-23 19:32:36,601 : INFO : EPOCH 1 - PROGRESS: at 34.79% examples, 389362 words/s, in_qsize 5, out_qsize 0\n",
      "2020-06-23 19:32:37,611 : INFO : EPOCH 1 - PROGRESS: at 57.53% examples, 431736 words/s, in_qsize 5, out_qsize 0\n",
      "2020-06-23 19:32:38,613 : INFO : EPOCH 1 - PROGRESS: at 79.50% examples, 446598 words/s, in_qsize 5, out_qsize 0\n",
      "2020-06-23 19:32:39,572 : INFO : worker thread finished; awaiting finish of 2 more threads\n",
      "2020-06-23 19:32:39,575 : INFO : worker thread finished; awaiting finish of 1 more threads\n",
      "2020-06-23 19:32:39,584 : INFO : worker thread finished; awaiting finish of 0 more threads\n",
      "2020-06-23 19:32:39,585 : INFO : EPOCH - 1 : training on 3060122 raw words (2263381 effective words) took 5.0s, 452660 effective words/s\n",
      "2020-06-23 19:32:40,590 : INFO : EPOCH 2 - PROGRESS: at 26.61% examples, 601287 words/s, in_qsize 5, out_qsize 0\n",
      "2020-06-23 19:32:41,610 : INFO : EPOCH 2 - PROGRESS: at 55.37% examples, 620884 words/s, in_qsize 6, out_qsize 0\n",
      "2020-06-23 19:32:42,627 : INFO : EPOCH 2 - PROGRESS: at 84.68% examples, 630382 words/s, in_qsize 6, out_qsize 0\n",
      "2020-06-23 19:32:43,202 : INFO : worker thread finished; awaiting finish of 2 more threads\n",
      "2020-06-23 19:32:43,235 : INFO : worker thread finished; awaiting finish of 1 more threads\n",
      "2020-06-23 19:32:43,248 : INFO : worker thread finished; awaiting finish of 0 more threads\n",
      "2020-06-23 19:32:43,249 : INFO : EPOCH - 2 : training on 3060122 raw words (2263985 effective words) took 3.7s, 618383 effective words/s\n",
      "2020-06-23 19:32:44,267 : INFO : EPOCH 3 - PROGRESS: at 21.46% examples, 480284 words/s, in_qsize 5, out_qsize 0\n",
      "2020-06-23 19:32:45,291 : INFO : EPOCH 3 - PROGRESS: at 38.78% examples, 431243 words/s, in_qsize 6, out_qsize 0\n",
      "2020-06-23 19:32:46,388 : INFO : EPOCH 3 - PROGRESS: at 53.47% examples, 386870 words/s, in_qsize 5, out_qsize 0\n",
      "2020-06-23 19:32:47,401 : INFO : EPOCH 3 - PROGRESS: at 72.21% examples, 393699 words/s, in_qsize 6, out_qsize 0\n",
      "2020-06-23 19:32:48,403 : INFO : EPOCH 3 - PROGRESS: at 96.82% examples, 425614 words/s, in_qsize 6, out_qsize 0\n",
      "2020-06-23 19:32:48,503 : INFO : worker thread finished; awaiting finish of 2 more threads\n",
      "2020-06-23 19:32:48,514 : INFO : worker thread finished; awaiting finish of 1 more threads\n",
      "2020-06-23 19:32:48,522 : INFO : worker thread finished; awaiting finish of 0 more threads\n",
      "2020-06-23 19:32:48,523 : INFO : EPOCH - 3 : training on 3060122 raw words (2264400 effective words) took 5.3s, 429605 effective words/s\n",
      "2020-06-23 19:32:49,548 : INFO : EPOCH 4 - PROGRESS: at 27.57% examples, 611889 words/s, in_qsize 5, out_qsize 0\n",
      "2020-06-23 19:32:50,567 : INFO : EPOCH 4 - PROGRESS: at 48.02% examples, 533638 words/s, in_qsize 5, out_qsize 0\n",
      "2020-06-23 19:32:51,574 : INFO : EPOCH 4 - PROGRESS: at 70.94% examples, 526181 words/s, in_qsize 5, out_qsize 0\n",
      "2020-06-23 19:32:52,586 : INFO : EPOCH 4 - PROGRESS: at 91.41% examples, 509163 words/s, in_qsize 5, out_qsize 0\n",
      "2020-06-23 19:32:53,077 : INFO : worker thread finished; awaiting finish of 2 more threads\n",
      "2020-06-23 19:32:53,091 : INFO : worker thread finished; awaiting finish of 1 more threads\n",
      "2020-06-23 19:32:53,099 : INFO : worker thread finished; awaiting finish of 0 more threads\n",
      "2020-06-23 19:32:53,101 : INFO : EPOCH - 4 : training on 3060122 raw words (2262538 effective words) took 4.6s, 494688 effective words/s\n",
      "2020-06-23 19:32:54,139 : INFO : EPOCH 5 - PROGRESS: at 18.85% examples, 415579 words/s, in_qsize 5, out_qsize 0\n",
      "2020-06-23 19:32:55,144 : INFO : EPOCH 5 - PROGRESS: at 43.31% examples, 481376 words/s, in_qsize 6, out_qsize 0\n",
      "2020-06-23 19:32:56,192 : INFO : EPOCH 5 - PROGRESS: at 61.43% examples, 451484 words/s, in_qsize 6, out_qsize 0\n",
      "2020-06-23 19:32:57,221 : INFO : EPOCH 5 - PROGRESS: at 80.78% examples, 444202 words/s, in_qsize 5, out_qsize 0\n",
      "2020-06-23 19:32:58,178 : INFO : worker thread finished; awaiting finish of 2 more threads\n",
      "2020-06-23 19:32:58,188 : INFO : worker thread finished; awaiting finish of 1 more threads\n",
      "2020-06-23 19:32:58,205 : INFO : worker thread finished; awaiting finish of 0 more threads\n",
      "2020-06-23 19:32:58,207 : INFO : EPOCH - 5 : training on 3060122 raw words (2262299 effective words) took 5.1s, 443707 effective words/s\n",
      "2020-06-23 19:32:59,219 : INFO : EPOCH 6 - PROGRESS: at 18.76% examples, 425127 words/s, in_qsize 5, out_qsize 0\n",
      "2020-06-23 19:33:00,236 : INFO : EPOCH 6 - PROGRESS: at 39.79% examples, 444759 words/s, in_qsize 5, out_qsize 0\n",
      "2020-06-23 19:33:01,264 : INFO : EPOCH 6 - PROGRESS: at 59.82% examples, 444541 words/s, in_qsize 5, out_qsize 0\n",
      "2020-06-23 19:33:02,291 : INFO : EPOCH 6 - PROGRESS: at 76.97% examples, 426733 words/s, in_qsize 5, out_qsize 0\n",
      "2020-06-23 19:33:03,312 : INFO : EPOCH 6 - PROGRESS: at 93.71% examples, 415306 words/s, in_qsize 5, out_qsize 0\n",
      "2020-06-23 19:33:03,704 : INFO : worker thread finished; awaiting finish of 2 more threads\n",
      "2020-06-23 19:33:03,735 : INFO : worker thread finished; awaiting finish of 1 more threads\n",
      "2020-06-23 19:33:03,740 : INFO : worker thread finished; awaiting finish of 0 more threads\n",
      "2020-06-23 19:33:03,742 : INFO : EPOCH - 6 : training on 3060122 raw words (2263408 effective words) took 5.5s, 409240 effective words/s\n",
      "2020-06-23 19:33:04,779 : INFO : EPOCH 7 - PROGRESS: at 16.07% examples, 353015 words/s, in_qsize 5, out_qsize 0\n",
      "2020-06-23 19:33:05,810 : INFO : EPOCH 7 - PROGRESS: at 30.57% examples, 335303 words/s, in_qsize 5, out_qsize 0\n",
      "2020-06-23 19:33:06,826 : INFO : EPOCH 7 - PROGRESS: at 42.27% examples, 311712 words/s, in_qsize 5, out_qsize 0\n",
      "2020-06-23 19:33:07,846 : INFO : EPOCH 7 - PROGRESS: at 60.48% examples, 334940 words/s, in_qsize 5, out_qsize 0\n",
      "2020-06-23 19:33:08,868 : INFO : EPOCH 7 - PROGRESS: at 79.83% examples, 353089 words/s, in_qsize 5, out_qsize 0\n",
      "2020-06-23 19:33:09,816 : INFO : worker thread finished; awaiting finish of 2 more threads\n",
      "2020-06-23 19:33:09,819 : INFO : worker thread finished; awaiting finish of 1 more threads\n",
      "2020-06-23 19:33:09,831 : INFO : worker thread finished; awaiting finish of 0 more threads\n",
      "2020-06-23 19:33:09,833 : INFO : EPOCH - 7 : training on 3060122 raw words (2264458 effective words) took 6.1s, 372254 effective words/s\n",
      "2020-06-23 19:33:10,856 : INFO : EPOCH 8 - PROGRESS: at 27.57% examples, 611951 words/s, in_qsize 6, out_qsize 0\n",
      "2020-06-23 19:33:11,867 : INFO : EPOCH 8 - PROGRESS: at 56.26% examples, 628540 words/s, in_qsize 5, out_qsize 0\n",
      "2020-06-23 19:33:12,872 : INFO : EPOCH 8 - PROGRESS: at 85.00% examples, 632948 words/s, in_qsize 5, out_qsize 0\n",
      "2020-06-23 19:33:13,516 : INFO : worker thread finished; awaiting finish of 2 more threads\n",
      "2020-06-23 19:33:13,522 : INFO : worker thread finished; awaiting finish of 1 more threads\n",
      "2020-06-23 19:33:13,540 : INFO : worker thread finished; awaiting finish of 0 more threads\n",
      "2020-06-23 19:33:13,541 : INFO : EPOCH - 8 : training on 3060122 raw words (2262640 effective words) took 3.7s, 610689 effective words/s\n"
     ]
    },
    {
     "name": "stderr",
     "output_type": "stream",
     "text": [
      "2020-06-23 19:33:14,552 : INFO : EPOCH 9 - PROGRESS: at 25.62% examples, 576244 words/s, in_qsize 5, out_qsize 0\n",
      "2020-06-23 19:33:15,553 : INFO : EPOCH 9 - PROGRESS: at 49.29% examples, 556173 words/s, in_qsize 6, out_qsize 0\n",
      "2020-06-23 19:33:16,559 : INFO : EPOCH 9 - PROGRESS: at 74.33% examples, 557977 words/s, in_qsize 5, out_qsize 0\n",
      "2020-06-23 19:33:17,503 : INFO : worker thread finished; awaiting finish of 2 more threads\n",
      "2020-06-23 19:33:17,532 : INFO : worker thread finished; awaiting finish of 1 more threads\n",
      "2020-06-23 19:33:17,549 : INFO : worker thread finished; awaiting finish of 0 more threads\n",
      "2020-06-23 19:33:17,550 : INFO : EPOCH - 9 : training on 3060122 raw words (2262787 effective words) took 4.0s, 564854 effective words/s\n",
      "2020-06-23 19:33:18,564 : INFO : EPOCH 10 - PROGRESS: at 20.84% examples, 467769 words/s, in_qsize 5, out_qsize 0\n",
      "2020-06-23 19:33:19,565 : INFO : EPOCH 10 - PROGRESS: at 39.12% examples, 440269 words/s, in_qsize 5, out_qsize 0\n",
      "2020-06-23 19:33:20,582 : INFO : EPOCH 10 - PROGRESS: at 58.76% examples, 440713 words/s, in_qsize 4, out_qsize 1\n",
      "2020-06-23 19:33:21,586 : INFO : EPOCH 10 - PROGRESS: at 77.57% examples, 435126 words/s, in_qsize 5, out_qsize 0\n",
      "2020-06-23 19:33:22,545 : INFO : worker thread finished; awaiting finish of 2 more threads\n",
      "2020-06-23 19:33:22,555 : INFO : worker thread finished; awaiting finish of 1 more threads\n",
      "2020-06-23 19:33:22,558 : INFO : worker thread finished; awaiting finish of 0 more threads\n",
      "2020-06-23 19:33:22,559 : INFO : EPOCH - 10 : training on 3060122 raw words (2262633 effective words) took 5.0s, 452082 effective words/s\n",
      "2020-06-23 19:33:23,563 : INFO : EPOCH 11 - PROGRESS: at 21.46% examples, 487116 words/s, in_qsize 5, out_qsize 0\n",
      "2020-06-23 19:33:24,578 : INFO : EPOCH 11 - PROGRESS: at 42.61% examples, 479144 words/s, in_qsize 5, out_qsize 0\n",
      "2020-06-23 19:33:25,595 : INFO : EPOCH 11 - PROGRESS: at 70.94% examples, 528869 words/s, in_qsize 5, out_qsize 0\n",
      "2020-06-23 19:33:26,607 : INFO : EPOCH 11 - PROGRESS: at 98.67% examples, 552331 words/s, in_qsize 4, out_qsize 0\n",
      "2020-06-23 19:33:26,620 : INFO : worker thread finished; awaiting finish of 2 more threads\n",
      "2020-06-23 19:33:26,640 : INFO : worker thread finished; awaiting finish of 1 more threads\n",
      "2020-06-23 19:33:26,642 : INFO : worker thread finished; awaiting finish of 0 more threads\n",
      "2020-06-23 19:33:26,643 : INFO : EPOCH - 11 : training on 3060122 raw words (2262275 effective words) took 4.1s, 554522 effective words/s\n",
      "2020-06-23 19:33:27,663 : INFO : EPOCH 12 - PROGRESS: at 26.61% examples, 592916 words/s, in_qsize 5, out_qsize 0\n",
      "2020-06-23 19:33:28,688 : INFO : EPOCH 12 - PROGRESS: at 55.30% examples, 614812 words/s, in_qsize 5, out_qsize 0\n",
      "2020-06-23 19:33:29,694 : INFO : EPOCH 12 - PROGRESS: at 84.01% examples, 623799 words/s, in_qsize 5, out_qsize 0\n",
      "2020-06-23 19:33:30,253 : INFO : worker thread finished; awaiting finish of 2 more threads\n",
      "2020-06-23 19:33:30,254 : INFO : worker thread finished; awaiting finish of 1 more threads\n",
      "2020-06-23 19:33:30,267 : INFO : worker thread finished; awaiting finish of 0 more threads\n",
      "2020-06-23 19:33:30,268 : INFO : EPOCH - 12 : training on 3060122 raw words (2263893 effective words) took 3.6s, 625048 effective words/s\n",
      "2020-06-23 19:33:31,274 : INFO : EPOCH 13 - PROGRESS: at 25.34% examples, 572485 words/s, in_qsize 5, out_qsize 0\n",
      "2020-06-23 19:33:32,289 : INFO : EPOCH 13 - PROGRESS: at 53.80% examples, 604655 words/s, in_qsize 5, out_qsize 0\n",
      "2020-06-23 19:33:33,311 : INFO : EPOCH 13 - PROGRESS: at 81.81% examples, 608706 words/s, in_qsize 6, out_qsize 0\n",
      "2020-06-23 19:33:33,946 : INFO : worker thread finished; awaiting finish of 2 more threads\n",
      "2020-06-23 19:33:33,961 : INFO : worker thread finished; awaiting finish of 1 more threads\n",
      "2020-06-23 19:33:33,975 : INFO : worker thread finished; awaiting finish of 0 more threads\n",
      "2020-06-23 19:33:33,976 : INFO : EPOCH - 13 : training on 3060122 raw words (2262763 effective words) took 3.7s, 610923 effective words/s\n",
      "2020-06-23 19:33:35,007 : INFO : EPOCH 14 - PROGRESS: at 16.67% examples, 368408 words/s, in_qsize 5, out_qsize 0\n",
      "2020-06-23 19:33:36,008 : INFO : EPOCH 14 - PROGRESS: at 35.04% examples, 390706 words/s, in_qsize 5, out_qsize 0\n",
      "2020-06-23 19:33:37,029 : INFO : EPOCH 14 - PROGRESS: at 57.27% examples, 426071 words/s, in_qsize 5, out_qsize 0\n",
      "2020-06-23 19:33:38,037 : INFO : EPOCH 14 - PROGRESS: at 77.57% examples, 432749 words/s, in_qsize 6, out_qsize 0\n",
      "2020-06-23 19:33:39,052 : INFO : EPOCH 14 - PROGRESS: at 98.01% examples, 437801 words/s, in_qsize 5, out_qsize 0\n",
      "2020-06-23 19:33:39,136 : INFO : worker thread finished; awaiting finish of 2 more threads\n",
      "2020-06-23 19:33:39,149 : INFO : worker thread finished; awaiting finish of 1 more threads\n",
      "2020-06-23 19:33:39,176 : INFO : worker thread finished; awaiting finish of 0 more threads\n",
      "2020-06-23 19:33:39,177 : INFO : EPOCH - 14 : training on 3060122 raw words (2263082 effective words) took 5.2s, 435593 effective words/s\n",
      "2020-06-23 19:33:40,203 : INFO : EPOCH 15 - PROGRESS: at 19.84% examples, 442466 words/s, in_qsize 5, out_qsize 0\n",
      "2020-06-23 19:33:41,223 : INFO : EPOCH 15 - PROGRESS: at 31.88% examples, 353182 words/s, in_qsize 5, out_qsize 0\n",
      "2020-06-23 19:33:42,241 : INFO : EPOCH 15 - PROGRESS: at 48.63% examples, 361386 words/s, in_qsize 6, out_qsize 0\n",
      "2020-06-23 19:33:43,244 : INFO : EPOCH 15 - PROGRESS: at 67.73% examples, 377499 words/s, in_qsize 5, out_qsize 0\n",
      "2020-06-23 19:33:44,250 : INFO : EPOCH 15 - PROGRESS: at 86.63% examples, 386961 words/s, in_qsize 5, out_qsize 0\n",
      "2020-06-23 19:33:45,008 : INFO : worker thread finished; awaiting finish of 2 more threads\n",
      "2020-06-23 19:33:45,016 : INFO : worker thread finished; awaiting finish of 1 more threads\n",
      "2020-06-23 19:33:45,032 : INFO : worker thread finished; awaiting finish of 0 more threads\n",
      "2020-06-23 19:33:45,033 : INFO : EPOCH - 15 : training on 3060122 raw words (2264189 effective words) took 5.8s, 387168 effective words/s\n",
      "2020-06-23 19:33:46,045 : INFO : EPOCH 16 - PROGRESS: at 12.62% examples, 281367 words/s, in_qsize 5, out_qsize 0\n",
      "2020-06-23 19:33:47,055 : INFO : EPOCH 16 - PROGRESS: at 26.92% examples, 302308 words/s, in_qsize 5, out_qsize 0\n",
      "2020-06-23 19:33:48,059 : INFO : EPOCH 16 - PROGRESS: at 46.10% examples, 345861 words/s, in_qsize 5, out_qsize 0\n",
      "2020-06-23 19:33:49,064 : INFO : EPOCH 16 - PROGRESS: at 64.02% examples, 360268 words/s, in_qsize 5, out_qsize 0\n",
      "2020-06-23 19:33:50,070 : INFO : EPOCH 16 - PROGRESS: at 84.03% examples, 377564 words/s, in_qsize 5, out_qsize 0\n",
      "2020-06-23 19:33:50,858 : INFO : worker thread finished; awaiting finish of 2 more threads\n",
      "2020-06-23 19:33:50,897 : INFO : worker thread finished; awaiting finish of 1 more threads\n",
      "2020-06-23 19:33:50,907 : INFO : worker thread finished; awaiting finish of 0 more threads\n",
      "2020-06-23 19:33:50,908 : INFO : EPOCH - 16 : training on 3060122 raw words (2262494 effective words) took 5.9s, 385500 effective words/s\n",
      "2020-06-23 19:33:51,912 : INFO : EPOCH 17 - PROGRESS: at 16.07% examples, 363291 words/s, in_qsize 5, out_qsize 0\n",
      "2020-06-23 19:33:52,929 : INFO : EPOCH 17 - PROGRESS: at 35.11% examples, 392496 words/s, in_qsize 5, out_qsize 0\n",
      "2020-06-23 19:33:53,937 : INFO : EPOCH 17 - PROGRESS: at 58.16% examples, 436163 words/s, in_qsize 5, out_qsize 0\n",
      "2020-06-23 19:33:54,960 : INFO : EPOCH 17 - PROGRESS: at 80.45% examples, 449642 words/s, in_qsize 5, out_qsize 0\n",
      "2020-06-23 19:33:56,005 : INFO : EPOCH 17 - PROGRESS: at 94.36% examples, 418707 words/s, in_qsize 5, out_qsize 0\n",
      "2020-06-23 19:33:56,333 : INFO : worker thread finished; awaiting finish of 2 more threads\n",
      "2020-06-23 19:33:56,348 : INFO : worker thread finished; awaiting finish of 1 more threads\n",
      "2020-06-23 19:33:56,366 : INFO : worker thread finished; awaiting finish of 0 more threads\n",
      "2020-06-23 19:33:56,367 : INFO : EPOCH - 17 : training on 3060122 raw words (2263074 effective words) took 5.5s, 414836 effective words/s\n",
      "2020-06-23 19:33:57,376 : INFO : EPOCH 18 - PROGRESS: at 17.59% examples, 398188 words/s, in_qsize 5, out_qsize 0\n",
      "2020-06-23 19:33:58,387 : INFO : EPOCH 18 - PROGRESS: at 33.46% examples, 374958 words/s, in_qsize 5, out_qsize 0\n",
      "2020-06-23 19:33:59,420 : INFO : EPOCH 18 - PROGRESS: at 53.16% examples, 395662 words/s, in_qsize 5, out_qsize 0\n"
     ]
    },
    {
     "name": "stderr",
     "output_type": "stream",
     "text": [
      "2020-06-23 19:34:00,434 : INFO : EPOCH 18 - PROGRESS: at 74.33% examples, 414312 words/s, in_qsize 5, out_qsize 0\n",
      "2020-06-23 19:34:01,441 : INFO : EPOCH 18 - PROGRESS: at 94.40% examples, 420820 words/s, in_qsize 5, out_qsize 0\n",
      "2020-06-23 19:34:01,775 : INFO : worker thread finished; awaiting finish of 2 more threads\n",
      "2020-06-23 19:34:01,780 : INFO : worker thread finished; awaiting finish of 1 more threads\n",
      "2020-06-23 19:34:01,782 : INFO : worker thread finished; awaiting finish of 0 more threads\n",
      "2020-06-23 19:34:01,783 : INFO : EPOCH - 18 : training on 3060122 raw words (2263025 effective words) took 5.4s, 418254 effective words/s\n",
      "2020-06-23 19:34:02,798 : INFO : EPOCH 19 - PROGRESS: at 16.38% examples, 369943 words/s, in_qsize 5, out_qsize 0\n",
      "2020-06-23 19:34:03,805 : INFO : EPOCH 19 - PROGRESS: at 32.50% examples, 365561 words/s, in_qsize 5, out_qsize 0\n",
      "2020-06-23 19:34:04,860 : INFO : EPOCH 19 - PROGRESS: at 44.51% examples, 329776 words/s, in_qsize 5, out_qsize 0\n",
      "2020-06-23 19:34:05,875 : INFO : EPOCH 19 - PROGRESS: at 56.33% examples, 313295 words/s, in_qsize 5, out_qsize 0\n",
      "2020-06-23 19:34:06,923 : INFO : EPOCH 19 - PROGRESS: at 68.98% examples, 304442 words/s, in_qsize 5, out_qsize 0\n",
      "2020-06-23 19:34:07,988 : INFO : EPOCH 19 - PROGRESS: at 81.51% examples, 297663 words/s, in_qsize 5, out_qsize 0\n",
      "2020-06-23 19:34:09,003 : INFO : EPOCH 19 - PROGRESS: at 97.67% examples, 307079 words/s, in_qsize 5, out_qsize 0\n",
      "2020-06-23 19:34:09,104 : INFO : worker thread finished; awaiting finish of 2 more threads\n",
      "2020-06-23 19:34:09,106 : INFO : worker thread finished; awaiting finish of 1 more threads\n",
      "2020-06-23 19:34:09,111 : INFO : worker thread finished; awaiting finish of 0 more threads\n",
      "2020-06-23 19:34:09,112 : INFO : EPOCH - 19 : training on 3060122 raw words (2263351 effective words) took 7.3s, 309398 effective words/s\n",
      "2020-06-23 19:34:10,140 : INFO : EPOCH 20 - PROGRESS: at 18.83% examples, 418996 words/s, in_qsize 5, out_qsize 0\n",
      "2020-06-23 19:34:11,142 : INFO : EPOCH 20 - PROGRESS: at 37.88% examples, 423255 words/s, in_qsize 5, out_qsize 0\n",
      "2020-06-23 19:34:12,157 : INFO : EPOCH 20 - PROGRESS: at 54.37% examples, 405976 words/s, in_qsize 5, out_qsize 0\n",
      "2020-06-23 19:34:13,174 : INFO : EPOCH 20 - PROGRESS: at 72.54% examples, 404065 words/s, in_qsize 5, out_qsize 0\n",
      "2020-06-23 19:34:14,181 : INFO : EPOCH 20 - PROGRESS: at 89.64% examples, 399704 words/s, in_qsize 5, out_qsize 0\n",
      "2020-06-23 19:34:14,685 : INFO : worker thread finished; awaiting finish of 2 more threads\n",
      "2020-06-23 19:34:14,698 : INFO : worker thread finished; awaiting finish of 1 more threads\n",
      "2020-06-23 19:34:14,700 : INFO : worker thread finished; awaiting finish of 0 more threads\n",
      "2020-06-23 19:34:14,701 : INFO : EPOCH - 20 : training on 3060122 raw words (2263621 effective words) took 5.6s, 405363 effective words/s\n",
      "2020-06-23 19:34:14,703 : INFO : training on a 61202440 raw words (45264296 effective words) took 100.1s, 452103 effective words/s\n",
      "2020-06-23 19:34:14,722 : INFO : precomputing L2-norms of doc weight vectors\n"
     ]
    },
    {
     "data": {
      "text/plain": [
       "0.7248891772031784"
      ]
     },
     "execution_count": 66,
     "metadata": {},
     "output_type": "execute_result"
    }
   ],
   "source": [
    "model_results(40,2)"
   ]
  },
  {
   "cell_type": "code",
   "execution_count": 67,
   "metadata": {},
   "outputs": [
    {
     "name": "stderr",
     "output_type": "stream",
     "text": [
      "2020-06-23 19:37:55,863 : INFO : collecting all words and their counts\n",
      "2020-06-23 19:37:55,864 : INFO : PROGRESS: at example #0, processed 0 words (0/s), 0 word types, 0 tags\n",
      "2020-06-23 19:37:56,601 : INFO : collected 30512 word types and 10000 unique tags from a corpus of 10000 examples and 3060122 words\n",
      "2020-06-23 19:37:56,602 : INFO : Loading a fresh vocabulary\n",
      "2020-06-23 19:37:56,664 : INFO : effective_min_count=5 retains 12104 unique words (39% of original 30512, drops 18408)\n",
      "2020-06-23 19:37:56,665 : INFO : effective_min_count=5 leaves 3028748 word corpus (98% of original 3060122, drops 31374)\n",
      "2020-06-23 19:37:56,753 : INFO : deleting the raw counts dictionary of 30512 items\n",
      "2020-06-23 19:37:56,755 : INFO : sample=0.001 downsamples 62 most-common words\n",
      "2020-06-23 19:37:56,761 : INFO : downsampling leaves estimated 2229760 word corpus (73.6% of prior 3028748)\n",
      "2020-06-23 19:37:56,828 : INFO : estimated required memory for 12104 words and 40 dimensions: 11525280 bytes\n",
      "2020-06-23 19:37:56,829 : INFO : resetting layer weights\n",
      "2020-06-23 19:38:03,849 : INFO : training model with 3 workers on 12104 vocabulary and 40 features, using sg=0 hs=0 sample=0.001 negative=5 window=5\n",
      "2020-06-23 19:38:04,854 : INFO : EPOCH 1 - PROGRESS: at 25.62% examples, 573901 words/s, in_qsize 6, out_qsize 0\n",
      "2020-06-23 19:38:05,860 : INFO : EPOCH 1 - PROGRESS: at 49.91% examples, 558222 words/s, in_qsize 5, out_qsize 0\n",
      "2020-06-23 19:38:06,878 : INFO : EPOCH 1 - PROGRESS: at 76.27% examples, 564694 words/s, in_qsize 5, out_qsize 0\n",
      "2020-06-23 19:38:07,705 : INFO : worker thread finished; awaiting finish of 2 more threads\n",
      "2020-06-23 19:38:07,718 : INFO : worker thread finished; awaiting finish of 1 more threads\n",
      "2020-06-23 19:38:07,726 : INFO : worker thread finished; awaiting finish of 0 more threads\n",
      "2020-06-23 19:38:07,728 : INFO : EPOCH - 1 : training on 3060122 raw words (2239915 effective words) took 3.9s, 578026 effective words/s\n",
      "2020-06-23 19:38:08,734 : INFO : EPOCH 2 - PROGRESS: at 27.57% examples, 617212 words/s, in_qsize 5, out_qsize 0\n",
      "2020-06-23 19:38:09,758 : INFO : EPOCH 2 - PROGRESS: at 47.71% examples, 528436 words/s, in_qsize 5, out_qsize 0\n",
      "2020-06-23 19:38:10,758 : INFO : EPOCH 2 - PROGRESS: at 73.12% examples, 541058 words/s, in_qsize 5, out_qsize 0\n",
      "2020-06-23 19:38:11,668 : INFO : worker thread finished; awaiting finish of 2 more threads\n",
      "2020-06-23 19:38:11,674 : INFO : worker thread finished; awaiting finish of 1 more threads\n",
      "2020-06-23 19:38:11,683 : INFO : worker thread finished; awaiting finish of 0 more threads\n",
      "2020-06-23 19:38:11,684 : INFO : EPOCH - 2 : training on 3060122 raw words (2239673 effective words) took 4.0s, 566815 effective words/s\n",
      "2020-06-23 19:38:12,713 : INFO : EPOCH 3 - PROGRESS: at 28.57% examples, 623987 words/s, in_qsize 6, out_qsize 0\n",
      "2020-06-23 19:38:13,720 : INFO : EPOCH 3 - PROGRESS: at 57.84% examples, 639673 words/s, in_qsize 6, out_qsize 0\n",
      "2020-06-23 19:38:14,724 : INFO : EPOCH 3 - PROGRESS: at 83.70% examples, 617143 words/s, in_qsize 6, out_qsize 0\n",
      "2020-06-23 19:38:15,365 : INFO : worker thread finished; awaiting finish of 2 more threads\n",
      "2020-06-23 19:38:15,388 : INFO : worker thread finished; awaiting finish of 1 more threads\n",
      "2020-06-23 19:38:15,392 : INFO : worker thread finished; awaiting finish of 0 more threads\n",
      "2020-06-23 19:38:15,394 : INFO : EPOCH - 3 : training on 3060122 raw words (2240131 effective words) took 3.7s, 604414 effective words/s\n",
      "2020-06-23 19:38:16,415 : INFO : EPOCH 4 - PROGRESS: at 23.82% examples, 523657 words/s, in_qsize 5, out_qsize 0\n",
      "2020-06-23 19:38:17,432 : INFO : EPOCH 4 - PROGRESS: at 51.94% examples, 572392 words/s, in_qsize 5, out_qsize 0\n",
      "2020-06-23 19:38:18,438 : INFO : EPOCH 4 - PROGRESS: at 77.87% examples, 573712 words/s, in_qsize 5, out_qsize 0\n",
      "2020-06-23 19:38:19,273 : INFO : worker thread finished; awaiting finish of 2 more threads\n",
      "2020-06-23 19:38:19,280 : INFO : worker thread finished; awaiting finish of 1 more threads\n",
      "2020-06-23 19:38:19,298 : INFO : worker thread finished; awaiting finish of 0 more threads\n",
      "2020-06-23 19:38:19,299 : INFO : EPOCH - 4 : training on 3060122 raw words (2239423 effective words) took 3.9s, 574114 effective words/s\n",
      "2020-06-23 19:38:20,304 : INFO : EPOCH 5 - PROGRESS: at 26.92% examples, 603218 words/s, in_qsize 6, out_qsize 0\n",
      "2020-06-23 19:38:21,310 : INFO : EPOCH 5 - PROGRESS: at 51.61% examples, 576573 words/s, in_qsize 5, out_qsize 0\n",
      "2020-06-23 19:38:22,321 : INFO : EPOCH 5 - PROGRESS: at 74.63% examples, 554293 words/s, in_qsize 5, out_qsize 0\n",
      "2020-06-23 19:38:23,224 : INFO : worker thread finished; awaiting finish of 2 more threads\n",
      "2020-06-23 19:38:23,230 : INFO : worker thread finished; awaiting finish of 1 more threads\n",
      "2020-06-23 19:38:23,238 : INFO : worker thread finished; awaiting finish of 0 more threads\n",
      "2020-06-23 19:38:23,239 : INFO : EPOCH - 5 : training on 3060122 raw words (2241029 effective words) took 3.9s, 569345 effective words/s\n",
      "2020-06-23 19:38:24,251 : INFO : EPOCH 6 - PROGRESS: at 26.29% examples, 583751 words/s, in_qsize 6, out_qsize 0\n",
      "2020-06-23 19:38:25,252 : INFO : EPOCH 6 - PROGRESS: at 50.92% examples, 568156 words/s, in_qsize 5, out_qsize 0\n",
      "2020-06-23 19:38:26,259 : INFO : EPOCH 6 - PROGRESS: at 78.84% examples, 585047 words/s, in_qsize 5, out_qsize 0\n",
      "2020-06-23 19:38:26,959 : INFO : worker thread finished; awaiting finish of 2 more threads\n",
      "2020-06-23 19:38:26,972 : INFO : worker thread finished; awaiting finish of 1 more threads\n",
      "2020-06-23 19:38:26,980 : INFO : worker thread finished; awaiting finish of 0 more threads\n",
      "2020-06-23 19:38:26,981 : INFO : EPOCH - 6 : training on 3060122 raw words (2239284 effective words) took 3.7s, 598983 effective words/s\n",
      "2020-06-23 19:38:27,996 : INFO : EPOCH 7 - PROGRESS: at 29.25% examples, 646209 words/s, in_qsize 5, out_qsize 0\n",
      "2020-06-23 19:38:29,013 : INFO : EPOCH 7 - PROGRESS: at 54.14% examples, 598327 words/s, in_qsize 4, out_qsize 1\n",
      "2020-06-23 19:38:30,016 : INFO : EPOCH 7 - PROGRESS: at 81.13% examples, 598833 words/s, in_qsize 5, out_qsize 0\n",
      "2020-06-23 19:38:30,666 : INFO : worker thread finished; awaiting finish of 2 more threads\n",
      "2020-06-23 19:38:30,673 : INFO : worker thread finished; awaiting finish of 1 more threads\n",
      "2020-06-23 19:38:30,679 : INFO : worker thread finished; awaiting finish of 0 more threads\n",
      "2020-06-23 19:38:30,680 : INFO : EPOCH - 7 : training on 3060122 raw words (2239271 effective words) took 3.7s, 605839 effective words/s\n",
      "2020-06-23 19:38:31,683 : INFO : EPOCH 8 - PROGRESS: at 25.34% examples, 567768 words/s, in_qsize 5, out_qsize 0\n",
      "2020-06-23 19:38:32,706 : INFO : EPOCH 8 - PROGRESS: at 48.30% examples, 536199 words/s, in_qsize 5, out_qsize 0\n",
      "2020-06-23 19:38:33,720 : INFO : EPOCH 8 - PROGRESS: at 74.97% examples, 552917 words/s, in_qsize 5, out_qsize 0\n",
      "2020-06-23 19:38:34,604 : INFO : worker thread finished; awaiting finish of 2 more threads\n",
      "2020-06-23 19:38:34,614 : INFO : worker thread finished; awaiting finish of 1 more threads\n",
      "2020-06-23 19:38:34,616 : INFO : worker thread finished; awaiting finish of 0 more threads\n",
      "2020-06-23 19:38:34,617 : INFO : EPOCH - 8 : training on 3060122 raw words (2239394 effective words) took 3.9s, 569180 effective words/s\n",
      "2020-06-23 19:38:35,621 : INFO : EPOCH 9 - PROGRESS: at 28.26% examples, 632135 words/s, in_qsize 5, out_qsize 0\n",
      "2020-06-23 19:38:36,628 : INFO : EPOCH 9 - PROGRESS: at 55.37% examples, 619031 words/s, in_qsize 5, out_qsize 0\n",
      "2020-06-23 19:38:37,642 : INFO : EPOCH 9 - PROGRESS: at 83.70% examples, 620079 words/s, in_qsize 5, out_qsize 0\n",
      "2020-06-23 19:38:38,274 : INFO : worker thread finished; awaiting finish of 2 more threads\n",
      "2020-06-23 19:38:38,286 : INFO : worker thread finished; awaiting finish of 1 more threads\n",
      "2020-06-23 19:38:38,298 : INFO : worker thread finished; awaiting finish of 0 more threads\n",
      "2020-06-23 19:38:38,299 : INFO : EPOCH - 9 : training on 3060122 raw words (2239124 effective words) took 3.7s, 608842 effective words/s\n",
      "2020-06-23 19:38:39,306 : INFO : EPOCH 10 - PROGRESS: at 26.60% examples, 594631 words/s, in_qsize 5, out_qsize 0\n",
      "2020-06-23 19:38:40,310 : INFO : EPOCH 10 - PROGRESS: at 53.80% examples, 601124 words/s, in_qsize 5, out_qsize 0\n",
      "2020-06-23 19:38:41,311 : INFO : EPOCH 10 - PROGRESS: at 81.13% examples, 603653 words/s, in_qsize 5, out_qsize 0\n"
     ]
    },
    {
     "name": "stderr",
     "output_type": "stream",
     "text": [
      "2020-06-23 19:38:42,119 : INFO : worker thread finished; awaiting finish of 2 more threads\n",
      "2020-06-23 19:38:42,132 : INFO : worker thread finished; awaiting finish of 1 more threads\n",
      "2020-06-23 19:38:42,142 : INFO : worker thread finished; awaiting finish of 0 more threads\n",
      "2020-06-23 19:38:42,143 : INFO : EPOCH - 10 : training on 3060122 raw words (2239936 effective words) took 3.8s, 583085 effective words/s\n",
      "2020-06-23 19:38:43,149 : INFO : EPOCH 11 - PROGRESS: at 25.07% examples, 559771 words/s, in_qsize 5, out_qsize 0\n",
      "2020-06-23 19:38:44,154 : INFO : EPOCH 11 - PROGRESS: at 51.94% examples, 579869 words/s, in_qsize 5, out_qsize 0\n",
      "2020-06-23 19:38:45,174 : INFO : EPOCH 11 - PROGRESS: at 79.16% examples, 585527 words/s, in_qsize 6, out_qsize 0\n",
      "2020-06-23 19:38:45,954 : INFO : worker thread finished; awaiting finish of 2 more threads\n",
      "2020-06-23 19:38:45,966 : INFO : worker thread finished; awaiting finish of 1 more threads\n",
      "2020-06-23 19:38:45,975 : INFO : worker thread finished; awaiting finish of 0 more threads\n",
      "2020-06-23 19:38:45,976 : INFO : EPOCH - 11 : training on 3060122 raw words (2238813 effective words) took 3.8s, 584847 effective words/s\n",
      "2020-06-23 19:38:46,981 : INFO : EPOCH 12 - PROGRESS: at 26.29% examples, 589179 words/s, in_qsize 5, out_qsize 0\n",
      "2020-06-23 19:38:47,981 : INFO : EPOCH 12 - PROGRESS: at 50.58% examples, 567121 words/s, in_qsize 5, out_qsize 0\n",
      "2020-06-23 19:38:48,988 : INFO : EPOCH 12 - PROGRESS: at 75.92% examples, 565723 words/s, in_qsize 5, out_qsize 0\n",
      "2020-06-23 19:38:49,990 : INFO : EPOCH 12 - PROGRESS: at 97.40% examples, 544382 words/s, in_qsize 5, out_qsize 0\n",
      "2020-06-23 19:38:50,082 : INFO : worker thread finished; awaiting finish of 2 more threads\n",
      "2020-06-23 19:38:50,092 : INFO : worker thread finished; awaiting finish of 1 more threads\n",
      "2020-06-23 19:38:50,104 : INFO : worker thread finished; awaiting finish of 0 more threads\n",
      "2020-06-23 19:38:50,105 : INFO : EPOCH - 12 : training on 3060122 raw words (2240672 effective words) took 4.1s, 543133 effective words/s\n",
      "2020-06-23 19:38:51,138 : INFO : EPOCH 13 - PROGRESS: at 27.57% examples, 600523 words/s, in_qsize 5, out_qsize 0\n",
      "2020-06-23 19:38:52,145 : INFO : EPOCH 13 - PROGRESS: at 51.94% examples, 571379 words/s, in_qsize 6, out_qsize 0\n",
      "2020-06-23 19:38:53,159 : INFO : EPOCH 13 - PROGRESS: at 77.27% examples, 566798 words/s, in_qsize 5, out_qsize 0\n",
      "2020-06-23 19:38:54,051 : INFO : worker thread finished; awaiting finish of 2 more threads\n",
      "2020-06-23 19:38:54,059 : INFO : worker thread finished; awaiting finish of 1 more threads\n",
      "2020-06-23 19:38:54,073 : INFO : worker thread finished; awaiting finish of 0 more threads\n",
      "2020-06-23 19:38:54,074 : INFO : EPOCH - 13 : training on 3060122 raw words (2239332 effective words) took 4.0s, 564785 effective words/s\n",
      "2020-06-23 19:38:55,080 : INFO : EPOCH 14 - PROGRESS: at 27.57% examples, 616758 words/s, in_qsize 5, out_qsize 0\n",
      "2020-06-23 19:38:56,095 : INFO : EPOCH 14 - PROGRESS: at 52.87% examples, 587463 words/s, in_qsize 5, out_qsize 0\n",
      "2020-06-23 19:38:57,100 : INFO : EPOCH 14 - PROGRESS: at 78.20% examples, 579122 words/s, in_qsize 6, out_qsize 0\n",
      "2020-06-23 19:38:57,968 : INFO : worker thread finished; awaiting finish of 2 more threads\n",
      "2020-06-23 19:38:57,981 : INFO : worker thread finished; awaiting finish of 1 more threads\n",
      "2020-06-23 19:38:57,982 : INFO : worker thread finished; awaiting finish of 0 more threads\n",
      "2020-06-23 19:38:57,984 : INFO : EPOCH - 14 : training on 3060122 raw words (2238939 effective words) took 3.9s, 573231 effective words/s\n",
      "2020-06-23 19:38:59,000 : INFO : EPOCH 15 - PROGRESS: at 25.34% examples, 560851 words/s, in_qsize 5, out_qsize 0\n",
      "2020-06-23 19:39:00,011 : INFO : EPOCH 15 - PROGRESS: at 49.96% examples, 553960 words/s, in_qsize 5, out_qsize 0\n",
      "2020-06-23 19:39:01,032 : INFO : EPOCH 15 - PROGRESS: at 72.86% examples, 535337 words/s, in_qsize 5, out_qsize 0\n",
      "2020-06-23 19:39:02,039 : INFO : EPOCH 15 - PROGRESS: at 98.01% examples, 542468 words/s, in_qsize 5, out_qsize 0\n",
      "2020-06-23 19:39:02,115 : INFO : worker thread finished; awaiting finish of 2 more threads\n",
      "2020-06-23 19:39:02,141 : INFO : worker thread finished; awaiting finish of 1 more threads\n",
      "2020-06-23 19:39:02,142 : INFO : worker thread finished; awaiting finish of 0 more threads\n",
      "2020-06-23 19:39:02,144 : INFO : EPOCH - 15 : training on 3060122 raw words (2240382 effective words) took 4.2s, 539061 effective words/s\n",
      "2020-06-23 19:39:03,152 : INFO : EPOCH 16 - PROGRESS: at 22.43% examples, 502478 words/s, in_qsize 5, out_qsize 0\n",
      "2020-06-23 19:39:04,187 : INFO : EPOCH 16 - PROGRESS: at 38.18% examples, 419466 words/s, in_qsize 6, out_qsize 0\n",
      "2020-06-23 19:39:05,188 : INFO : EPOCH 16 - PROGRESS: at 55.30% examples, 408802 words/s, in_qsize 6, out_qsize 0\n",
      "2020-06-23 19:39:06,232 : INFO : EPOCH 16 - PROGRESS: at 66.37% examples, 364106 words/s, in_qsize 5, out_qsize 0\n",
      "2020-06-23 19:39:07,236 : INFO : EPOCH 16 - PROGRESS: at 77.90% examples, 342898 words/s, in_qsize 5, out_qsize 0\n",
      "2020-06-23 19:39:08,252 : INFO : EPOCH 16 - PROGRESS: at 91.76% examples, 336426 words/s, in_qsize 5, out_qsize 0\n",
      "2020-06-23 19:39:08,815 : INFO : worker thread finished; awaiting finish of 2 more threads\n",
      "2020-06-23 19:39:08,832 : INFO : worker thread finished; awaiting finish of 1 more threads\n",
      "2020-06-23 19:39:08,833 : INFO : worker thread finished; awaiting finish of 0 more threads\n",
      "2020-06-23 19:39:08,834 : INFO : EPOCH - 16 : training on 3060122 raw words (2240119 effective words) took 6.7s, 335089 effective words/s\n",
      "2020-06-23 19:39:09,843 : INFO : EPOCH 17 - PROGRESS: at 17.90% examples, 402285 words/s, in_qsize 5, out_qsize 0\n",
      "2020-06-23 19:39:10,848 : INFO : EPOCH 17 - PROGRESS: at 34.14% examples, 379757 words/s, in_qsize 5, out_qsize 0\n",
      "2020-06-23 19:39:11,853 : INFO : EPOCH 17 - PROGRESS: at 50.25% examples, 374523 words/s, in_qsize 6, out_qsize 0\n",
      "2020-06-23 19:39:12,880 : INFO : EPOCH 17 - PROGRESS: at 67.04% examples, 371788 words/s, in_qsize 5, out_qsize 0\n",
      "2020-06-23 19:39:13,912 : INFO : EPOCH 17 - PROGRESS: at 82.13% examples, 362579 words/s, in_qsize 6, out_qsize 0\n",
      "2020-06-23 19:39:14,663 : INFO : worker thread finished; awaiting finish of 2 more threads\n",
      "2020-06-23 19:39:14,665 : INFO : worker thread finished; awaiting finish of 1 more threads\n",
      "2020-06-23 19:39:14,673 : INFO : worker thread finished; awaiting finish of 0 more threads\n",
      "2020-06-23 19:39:14,674 : INFO : EPOCH - 17 : training on 3060122 raw words (2240022 effective words) took 5.8s, 384144 effective words/s\n",
      "2020-06-23 19:39:15,682 : INFO : EPOCH 18 - PROGRESS: at 24.74% examples, 550552 words/s, in_qsize 5, out_qsize 0\n",
      "2020-06-23 19:39:16,703 : INFO : EPOCH 18 - PROGRESS: at 48.02% examples, 531770 words/s, in_qsize 5, out_qsize 0\n",
      "2020-06-23 19:39:17,732 : INFO : EPOCH 18 - PROGRESS: at 73.15% examples, 535503 words/s, in_qsize 5, out_qsize 0\n",
      "2020-06-23 19:39:18,733 : INFO : EPOCH 18 - PROGRESS: at 96.23% examples, 530903 words/s, in_qsize 5, out_qsize 0\n",
      "2020-06-23 19:39:18,843 : INFO : worker thread finished; awaiting finish of 2 more threads\n",
      "2020-06-23 19:39:18,860 : INFO : worker thread finished; awaiting finish of 1 more threads\n",
      "2020-06-23 19:39:18,867 : INFO : worker thread finished; awaiting finish of 0 more threads\n",
      "2020-06-23 19:39:18,868 : INFO : EPOCH - 18 : training on 3060122 raw words (2239574 effective words) took 4.2s, 534307 effective words/s\n",
      "2020-06-23 19:39:19,872 : INFO : EPOCH 19 - PROGRESS: at 28.26% examples, 631809 words/s, in_qsize 5, out_qsize 0\n",
      "2020-06-23 19:39:20,876 : INFO : EPOCH 19 - PROGRESS: at 57.27% examples, 641183 words/s, in_qsize 6, out_qsize 0\n",
      "2020-06-23 19:39:21,893 : INFO : EPOCH 19 - PROGRESS: at 86.63% examples, 641340 words/s, in_qsize 6, out_qsize 0\n",
      "2020-06-23 19:39:22,399 : INFO : worker thread finished; awaiting finish of 2 more threads\n",
      "2020-06-23 19:39:22,412 : INFO : worker thread finished; awaiting finish of 1 more threads\n",
      "2020-06-23 19:39:22,419 : INFO : worker thread finished; awaiting finish of 0 more threads\n",
      "2020-06-23 19:39:22,420 : INFO : EPOCH - 19 : training on 3060122 raw words (2239315 effective words) took 3.5s, 630981 effective words/s\n",
      "2020-06-23 19:39:23,448 : INFO : EPOCH 20 - PROGRESS: at 24.45% examples, 533191 words/s, in_qsize 5, out_qsize 0\n"
     ]
    },
    {
     "name": "stderr",
     "output_type": "stream",
     "text": [
      "2020-06-23 19:39:24,461 : INFO : EPOCH 20 - PROGRESS: at 46.73% examples, 514468 words/s, in_qsize 4, out_qsize 1\n",
      "2020-06-23 19:39:25,469 : INFO : EPOCH 20 - PROGRESS: at 75.28% examples, 553560 words/s, in_qsize 5, out_qsize 0\n",
      "2020-06-23 19:39:26,292 : INFO : worker thread finished; awaiting finish of 2 more threads\n",
      "2020-06-23 19:39:26,300 : INFO : worker thread finished; awaiting finish of 1 more threads\n",
      "2020-06-23 19:39:26,308 : INFO : worker thread finished; awaiting finish of 0 more threads\n",
      "2020-06-23 19:39:26,309 : INFO : EPOCH - 20 : training on 3060122 raw words (2239443 effective words) took 3.9s, 576291 effective words/s\n",
      "2020-06-23 19:39:26,310 : INFO : training on a 61202440 raw words (44793791 effective words) took 82.5s, 543227 effective words/s\n",
      "2020-06-23 19:39:26,324 : INFO : precomputing L2-norms of doc weight vectors\n"
     ]
    },
    {
     "data": {
      "text/plain": [
       "0.7165717312395573"
      ]
     },
     "execution_count": 67,
     "metadata": {},
     "output_type": "execute_result"
    }
   ],
   "source": [
    "model_results(40,5)"
   ]
  },
  {
   "cell_type": "code",
   "execution_count": 68,
   "metadata": {},
   "outputs": [
    {
     "name": "stderr",
     "output_type": "stream",
     "text": [
      "2020-06-23 19:48:54,085 : WARNING : consider setting layer size to a multiple of 4 for greater performance\n",
      "2020-06-23 19:48:54,090 : INFO : collecting all words and their counts\n",
      "2020-06-23 19:48:54,092 : INFO : PROGRESS: at example #0, processed 0 words (0/s), 0 word types, 0 tags\n",
      "2020-06-23 19:48:55,393 : INFO : collected 30512 word types and 10000 unique tags from a corpus of 10000 examples and 3060122 words\n",
      "2020-06-23 19:48:55,394 : INFO : Loading a fresh vocabulary\n",
      "2020-06-23 19:48:55,484 : INFO : effective_min_count=2 retains 19712 unique words (64% of original 30512, drops 10800)\n",
      "2020-06-23 19:48:55,486 : INFO : effective_min_count=2 leaves 3049322 word corpus (99% of original 3060122, drops 10800)\n",
      "2020-06-23 19:48:55,613 : INFO : deleting the raw counts dictionary of 30512 items\n",
      "2020-06-23 19:48:55,615 : INFO : sample=0.001 downsamples 61 most-common words\n",
      "2020-06-23 19:48:55,616 : INFO : downsampling leaves estimated 2253238 word corpus (73.9% of prior 3049322)\n",
      "2020-06-23 19:48:55,755 : INFO : estimated required memory for 19712 words and 50 dimensions: 19740800 bytes\n",
      "2020-06-23 19:48:55,756 : INFO : resetting layer weights\n",
      "2020-06-23 19:49:05,958 : INFO : training model with 3 workers on 19712 vocabulary and 50 features, using sg=0 hs=0 sample=0.001 negative=5 window=5\n",
      "2020-06-23 19:49:06,964 : INFO : EPOCH 1 - PROGRESS: at 24.78% examples, 558461 words/s, in_qsize 5, out_qsize 0\n",
      "2020-06-23 19:49:07,968 : INFO : EPOCH 1 - PROGRESS: at 50.25% examples, 568119 words/s, in_qsize 6, out_qsize 0\n",
      "2020-06-23 19:49:08,974 : INFO : EPOCH 1 - PROGRESS: at 74.97% examples, 563472 words/s, in_qsize 5, out_qsize 0\n",
      "2020-06-23 19:49:09,943 : INFO : worker thread finished; awaiting finish of 2 more threads\n",
      "2020-06-23 19:49:09,955 : INFO : worker thread finished; awaiting finish of 1 more threads\n",
      "2020-06-23 19:49:09,964 : INFO : worker thread finished; awaiting finish of 0 more threads\n",
      "2020-06-23 19:49:09,965 : INFO : EPOCH - 1 : training on 3060122 raw words (2263247 effective words) took 4.0s, 565394 effective words/s\n",
      "2020-06-23 19:49:10,973 : INFO : EPOCH 2 - PROGRESS: at 25.34% examples, 570619 words/s, in_qsize 5, out_qsize 0\n",
      "2020-06-23 19:49:11,985 : INFO : EPOCH 2 - PROGRESS: at 50.58% examples, 568628 words/s, in_qsize 5, out_qsize 0\n",
      "2020-06-23 19:49:12,988 : INFO : EPOCH 2 - PROGRESS: at 76.27% examples, 571669 words/s, in_qsize 5, out_qsize 0\n",
      "2020-06-23 19:49:14,003 : INFO : EPOCH 2 - PROGRESS: at 98.67% examples, 553725 words/s, in_qsize 4, out_qsize 0\n",
      "2020-06-23 19:49:14,026 : INFO : worker thread finished; awaiting finish of 2 more threads\n",
      "2020-06-23 19:49:14,043 : INFO : worker thread finished; awaiting finish of 1 more threads\n",
      "2020-06-23 19:49:14,053 : INFO : worker thread finished; awaiting finish of 0 more threads\n",
      "2020-06-23 19:49:14,054 : INFO : EPOCH - 2 : training on 3060122 raw words (2263277 effective words) took 4.1s, 553881 effective words/s\n",
      "2020-06-23 19:49:15,058 : INFO : EPOCH 3 - PROGRESS: at 15.06% examples, 341432 words/s, in_qsize 5, out_qsize 0\n",
      "2020-06-23 19:49:16,066 : INFO : EPOCH 3 - PROGRESS: at 36.02% examples, 405225 words/s, in_qsize 5, out_qsize 0\n",
      "2020-06-23 19:49:17,077 : INFO : EPOCH 3 - PROGRESS: at 59.09% examples, 444724 words/s, in_qsize 5, out_qsize 0\n",
      "2020-06-23 19:49:18,082 : INFO : EPOCH 3 - PROGRESS: at 84.68% examples, 475968 words/s, in_qsize 6, out_qsize 0\n",
      "2020-06-23 19:49:18,836 : INFO : worker thread finished; awaiting finish of 2 more threads\n",
      "2020-06-23 19:49:18,848 : INFO : worker thread finished; awaiting finish of 1 more threads\n",
      "2020-06-23 19:49:18,851 : INFO : worker thread finished; awaiting finish of 0 more threads\n",
      "2020-06-23 19:49:18,852 : INFO : EPOCH - 3 : training on 3060122 raw words (2263261 effective words) took 4.8s, 472099 effective words/s\n",
      "2020-06-23 19:49:19,855 : INFO : EPOCH 4 - PROGRESS: at 18.83% examples, 428730 words/s, in_qsize 5, out_qsize 0\n",
      "2020-06-23 19:49:20,863 : INFO : EPOCH 4 - PROGRESS: at 39.45% examples, 445012 words/s, in_qsize 5, out_qsize 0\n",
      "2020-06-23 19:49:21,863 : INFO : EPOCH 4 - PROGRESS: at 58.76% examples, 443854 words/s, in_qsize 5, out_qsize 0\n",
      "2020-06-23 19:49:22,890 : INFO : EPOCH 4 - PROGRESS: at 80.15% examples, 449489 words/s, in_qsize 5, out_qsize 0\n",
      "2020-06-23 19:49:23,908 : INFO : EPOCH 4 - PROGRESS: at 97.67% examples, 437912 words/s, in_qsize 5, out_qsize 0\n",
      "2020-06-23 19:49:24,034 : INFO : worker thread finished; awaiting finish of 2 more threads\n",
      "2020-06-23 19:49:24,071 : INFO : worker thread finished; awaiting finish of 1 more threads\n",
      "2020-06-23 19:49:24,081 : INFO : worker thread finished; awaiting finish of 0 more threads\n",
      "2020-06-23 19:49:24,083 : INFO : EPOCH - 4 : training on 3060122 raw words (2263255 effective words) took 5.2s, 432959 effective words/s\n",
      "2020-06-23 19:49:25,094 : INFO : EPOCH 5 - PROGRESS: at 15.74% examples, 354154 words/s, in_qsize 5, out_qsize 0\n",
      "2020-06-23 19:49:26,119 : INFO : EPOCH 5 - PROGRESS: at 36.32% examples, 404168 words/s, in_qsize 5, out_qsize 0\n",
      "2020-06-23 19:49:27,143 : INFO : EPOCH 5 - PROGRESS: at 56.26% examples, 417995 words/s, in_qsize 5, out_qsize 0\n",
      "2020-06-23 19:49:28,144 : INFO : EPOCH 5 - PROGRESS: at 79.50% examples, 443399 words/s, in_qsize 5, out_qsize 0\n",
      "2020-06-23 19:49:28,938 : INFO : worker thread finished; awaiting finish of 2 more threads\n",
      "2020-06-23 19:49:28,964 : INFO : worker thread finished; awaiting finish of 1 more threads\n",
      "2020-06-23 19:49:28,970 : INFO : worker thread finished; awaiting finish of 0 more threads\n",
      "2020-06-23 19:49:28,971 : INFO : EPOCH - 5 : training on 3060122 raw words (2262026 effective words) took 4.9s, 463379 effective words/s\n",
      "2020-06-23 19:49:29,977 : INFO : EPOCH 6 - PROGRESS: at 24.45% examples, 550831 words/s, in_qsize 6, out_qsize 0\n",
      "2020-06-23 19:49:30,989 : INFO : EPOCH 6 - PROGRESS: at 39.12% examples, 439456 words/s, in_qsize 5, out_qsize 0\n",
      "2020-06-23 19:49:32,013 : INFO : EPOCH 6 - PROGRESS: at 50.93% examples, 379785 words/s, in_qsize 5, out_qsize 0\n",
      "2020-06-23 19:49:33,037 : INFO : EPOCH 6 - PROGRESS: at 64.36% examples, 359017 words/s, in_qsize 5, out_qsize 0\n",
      "2020-06-23 19:49:34,069 : INFO : EPOCH 6 - PROGRESS: at 85.33% examples, 378826 words/s, in_qsize 5, out_qsize 0\n",
      "2020-06-23 19:49:34,721 : INFO : worker thread finished; awaiting finish of 2 more threads\n",
      "2020-06-23 19:49:34,739 : INFO : worker thread finished; awaiting finish of 1 more threads\n",
      "2020-06-23 19:49:34,748 : INFO : worker thread finished; awaiting finish of 0 more threads\n",
      "2020-06-23 19:49:34,749 : INFO : EPOCH - 6 : training on 3060122 raw words (2263770 effective words) took 5.8s, 392004 effective words/s\n",
      "2020-06-23 19:49:35,765 : INFO : EPOCH 7 - PROGRESS: at 18.85% examples, 423299 words/s, in_qsize 5, out_qsize 0\n",
      "2020-06-23 19:49:36,775 : INFO : EPOCH 7 - PROGRESS: at 38.82% examples, 434323 words/s, in_qsize 5, out_qsize 0\n",
      "2020-06-23 19:49:37,790 : INFO : EPOCH 7 - PROGRESS: at 57.20% examples, 427773 words/s, in_qsize 5, out_qsize 0\n",
      "2020-06-23 19:49:38,805 : INFO : EPOCH 7 - PROGRESS: at 73.16% examples, 408064 words/s, in_qsize 5, out_qsize 0\n",
      "2020-06-23 19:49:39,812 : INFO : EPOCH 7 - PROGRESS: at 89.90% examples, 401450 words/s, in_qsize 6, out_qsize 0\n",
      "2020-06-23 19:49:40,404 : INFO : worker thread finished; awaiting finish of 2 more threads\n",
      "2020-06-23 19:49:40,421 : INFO : worker thread finished; awaiting finish of 1 more threads\n",
      "2020-06-23 19:49:40,431 : INFO : worker thread finished; awaiting finish of 0 more threads\n",
      "2020-06-23 19:49:40,432 : INFO : EPOCH - 7 : training on 3060122 raw words (2262767 effective words) took 5.7s, 398362 effective words/s\n",
      "2020-06-23 19:49:41,451 : INFO : EPOCH 8 - PROGRESS: at 16.07% examples, 358431 words/s, in_qsize 5, out_qsize 0\n",
      "2020-06-23 19:49:42,459 : INFO : EPOCH 8 - PROGRESS: at 32.19% examples, 359126 words/s, in_qsize 5, out_qsize 0\n",
      "2020-06-23 19:49:43,474 : INFO : EPOCH 8 - PROGRESS: at 48.02% examples, 358453 words/s, in_qsize 5, out_qsize 0\n",
      "2020-06-23 19:49:44,521 : INFO : EPOCH 8 - PROGRESS: at 61.43% examples, 341087 words/s, in_qsize 5, out_qsize 0\n",
      "2020-06-23 19:49:45,541 : INFO : EPOCH 8 - PROGRESS: at 81.75% examples, 362502 words/s, in_qsize 5, out_qsize 0\n",
      "2020-06-23 19:49:46,421 : INFO : worker thread finished; awaiting finish of 2 more threads\n"
     ]
    },
    {
     "name": "stderr",
     "output_type": "stream",
     "text": [
      "2020-06-23 19:49:46,424 : INFO : worker thread finished; awaiting finish of 1 more threads\n",
      "2020-06-23 19:49:46,448 : INFO : worker thread finished; awaiting finish of 0 more threads\n",
      "2020-06-23 19:49:46,449 : INFO : EPOCH - 8 : training on 3060122 raw words (2263546 effective words) took 6.0s, 376491 effective words/s\n",
      "2020-06-23 19:49:47,578 : INFO : EPOCH 9 - PROGRESS: at 22.49% examples, 452291 words/s, in_qsize 5, out_qsize 0\n",
      "2020-06-23 19:49:48,600 : INFO : EPOCH 9 - PROGRESS: at 40.67% examples, 429254 words/s, in_qsize 5, out_qsize 0\n",
      "2020-06-23 19:49:49,606 : INFO : EPOCH 9 - PROGRESS: at 62.79% examples, 451044 words/s, in_qsize 6, out_qsize 0\n",
      "2020-06-23 19:49:50,606 : INFO : EPOCH 9 - PROGRESS: at 84.34% examples, 459435 words/s, in_qsize 5, out_qsize 0\n",
      "2020-06-23 19:49:51,378 : INFO : worker thread finished; awaiting finish of 2 more threads\n",
      "2020-06-23 19:49:51,384 : INFO : worker thread finished; awaiting finish of 1 more threads\n",
      "2020-06-23 19:49:51,406 : INFO : worker thread finished; awaiting finish of 0 more threads\n",
      "2020-06-23 19:49:51,407 : INFO : EPOCH - 9 : training on 3060122 raw words (2263743 effective words) took 5.0s, 456893 effective words/s\n",
      "2020-06-23 19:49:52,426 : INFO : EPOCH 10 - PROGRESS: at 23.14% examples, 515846 words/s, in_qsize 5, out_qsize 0\n",
      "2020-06-23 19:49:53,429 : INFO : EPOCH 10 - PROGRESS: at 49.02% examples, 550456 words/s, in_qsize 5, out_qsize 0\n",
      "2020-06-23 19:49:54,438 : INFO : EPOCH 10 - PROGRESS: at 68.33% examples, 510630 words/s, in_qsize 6, out_qsize 0\n",
      "2020-06-23 19:49:55,466 : INFO : EPOCH 10 - PROGRESS: at 78.84% examples, 440132 words/s, in_qsize 5, out_qsize 0\n",
      "2020-06-23 19:49:56,473 : INFO : EPOCH 10 - PROGRESS: at 89.03% examples, 397078 words/s, in_qsize 5, out_qsize 0\n",
      "2020-06-23 19:49:57,112 : INFO : worker thread finished; awaiting finish of 2 more threads\n",
      "2020-06-23 19:49:57,118 : INFO : worker thread finished; awaiting finish of 1 more threads\n",
      "2020-06-23 19:49:57,119 : INFO : worker thread finished; awaiting finish of 0 more threads\n",
      "2020-06-23 19:49:57,122 : INFO : EPOCH - 10 : training on 3060122 raw words (2263854 effective words) took 5.7s, 396373 effective words/s\n",
      "2020-06-23 19:49:58,137 : INFO : EPOCH 11 - PROGRESS: at 18.83% examples, 424210 words/s, in_qsize 5, out_qsize 0\n",
      "2020-06-23 19:49:59,149 : INFO : EPOCH 11 - PROGRESS: at 34.78% examples, 387790 words/s, in_qsize 5, out_qsize 0\n",
      "2020-06-23 19:50:00,166 : INFO : EPOCH 11 - PROGRESS: at 47.71% examples, 355883 words/s, in_qsize 5, out_qsize 0\n",
      "2020-06-23 19:50:01,174 : INFO : EPOCH 11 - PROGRESS: at 58.76% examples, 329825 words/s, in_qsize 6, out_qsize 0\n",
      "2020-06-23 19:50:02,188 : INFO : EPOCH 11 - PROGRESS: at 72.53% examples, 323847 words/s, in_qsize 6, out_qsize 0\n",
      "2020-06-23 19:50:03,204 : INFO : EPOCH 11 - PROGRESS: at 83.70% examples, 311482 words/s, in_qsize 5, out_qsize 0\n",
      "2020-06-23 19:50:04,239 : INFO : EPOCH 11 - PROGRESS: at 94.70% examples, 300842 words/s, in_qsize 5, out_qsize 0\n",
      "2020-06-23 19:50:04,659 : INFO : worker thread finished; awaiting finish of 2 more threads\n",
      "2020-06-23 19:50:04,678 : INFO : worker thread finished; awaiting finish of 1 more threads\n",
      "2020-06-23 19:50:04,709 : INFO : worker thread finished; awaiting finish of 0 more threads\n",
      "2020-06-23 19:50:04,710 : INFO : EPOCH - 11 : training on 3060122 raw words (2262810 effective words) took 7.6s, 298400 effective words/s\n",
      "2020-06-23 19:50:05,734 : INFO : EPOCH 12 - PROGRESS: at 12.90% examples, 285225 words/s, in_qsize 5, out_qsize 0\n",
      "2020-06-23 19:50:06,773 : INFO : EPOCH 12 - PROGRESS: at 25.34% examples, 278873 words/s, in_qsize 5, out_qsize 0\n",
      "2020-06-23 19:50:07,830 : INFO : EPOCH 12 - PROGRESS: at 32.19% examples, 233242 words/s, in_qsize 5, out_qsize 0\n",
      "2020-06-23 19:50:08,837 : INFO : EPOCH 12 - PROGRESS: at 41.62% examples, 228948 words/s, in_qsize 5, out_qsize 0\n",
      "2020-06-23 19:50:09,878 : INFO : EPOCH 12 - PROGRESS: at 53.80% examples, 236310 words/s, in_qsize 5, out_qsize 0\n",
      "2020-06-23 19:50:10,889 : INFO : EPOCH 12 - PROGRESS: at 64.02% examples, 235139 words/s, in_qsize 5, out_qsize 0\n",
      "2020-06-23 19:50:11,889 : INFO : EPOCH 12 - PROGRESS: at 74.63% examples, 235532 words/s, in_qsize 5, out_qsize 0\n",
      "2020-06-23 19:50:12,905 : INFO : EPOCH 12 - PROGRESS: at 83.09% examples, 229419 words/s, in_qsize 5, out_qsize 0\n",
      "2020-06-23 19:50:13,919 : INFO : EPOCH 12 - PROGRESS: at 95.28% examples, 234067 words/s, in_qsize 5, out_qsize 0\n",
      "2020-06-23 19:50:14,235 : INFO : worker thread finished; awaiting finish of 2 more threads\n",
      "2020-06-23 19:50:14,265 : INFO : worker thread finished; awaiting finish of 1 more threads\n",
      "2020-06-23 19:50:14,278 : INFO : worker thread finished; awaiting finish of 0 more threads\n",
      "2020-06-23 19:50:14,279 : INFO : EPOCH - 12 : training on 3060122 raw words (2263174 effective words) took 9.6s, 236631 effective words/s\n",
      "2020-06-23 19:50:15,300 : INFO : EPOCH 13 - PROGRESS: at 15.74% examples, 353058 words/s, in_qsize 5, out_qsize 0\n",
      "2020-06-23 19:50:16,308 : INFO : EPOCH 13 - PROGRESS: at 32.83% examples, 367565 words/s, in_qsize 6, out_qsize 0\n",
      "2020-06-23 19:50:17,315 : INFO : EPOCH 13 - PROGRESS: at 48.90% examples, 367320 words/s, in_qsize 5, out_qsize 0\n",
      "2020-06-23 19:50:18,340 : INFO : EPOCH 13 - PROGRESS: at 61.43% examples, 344225 words/s, in_qsize 6, out_qsize 0\n",
      "2020-06-23 19:50:19,352 : INFO : EPOCH 13 - PROGRESS: at 73.16% examples, 326768 words/s, in_qsize 5, out_qsize 0\n",
      "2020-06-23 19:50:20,456 : INFO : EPOCH 13 - PROGRESS: at 85.65% examples, 314245 words/s, in_qsize 5, out_qsize 0\n",
      "2020-06-23 19:50:21,483 : INFO : EPOCH 13 - PROGRESS: at 94.06% examples, 295537 words/s, in_qsize 5, out_qsize 0\n",
      "2020-06-23 19:50:22,092 : INFO : worker thread finished; awaiting finish of 2 more threads\n",
      "2020-06-23 19:50:22,116 : INFO : worker thread finished; awaiting finish of 1 more threads\n",
      "2020-06-23 19:50:22,134 : INFO : worker thread finished; awaiting finish of 0 more threads\n",
      "2020-06-23 19:50:22,134 : INFO : EPOCH - 13 : training on 3060122 raw words (2263180 effective words) took 7.8s, 288559 effective words/s\n",
      "2020-06-23 19:50:23,147 : INFO : EPOCH 14 - PROGRESS: at 12.34% examples, 273556 words/s, in_qsize 6, out_qsize 0\n",
      "2020-06-23 19:50:24,193 : INFO : EPOCH 14 - PROGRESS: at 32.19% examples, 353621 words/s, in_qsize 5, out_qsize 0\n",
      "2020-06-23 19:50:25,198 : INFO : EPOCH 14 - PROGRESS: at 47.02% examples, 348703 words/s, in_qsize 5, out_qsize 0\n",
      "2020-06-23 19:50:26,233 : INFO : EPOCH 14 - PROGRESS: at 64.35% examples, 355984 words/s, in_qsize 5, out_qsize 0\n",
      "2020-06-23 19:50:27,262 : INFO : EPOCH 14 - PROGRESS: at 73.16% examples, 322601 words/s, in_qsize 5, out_qsize 0\n",
      "2020-06-23 19:50:28,304 : INFO : EPOCH 14 - PROGRESS: at 82.75% examples, 303413 words/s, in_qsize 6, out_qsize 0\n",
      "2020-06-23 19:50:29,320 : INFO : EPOCH 14 - PROGRESS: at 88.35% examples, 277657 words/s, in_qsize 5, out_qsize 0\n",
      "2020-06-23 19:50:30,357 : INFO : EPOCH 14 - PROGRESS: at 95.03% examples, 261172 words/s, in_qsize 4, out_qsize 1\n",
      "2020-06-23 19:50:30,785 : INFO : worker thread finished; awaiting finish of 2 more threads\n",
      "2020-06-23 19:50:30,841 : INFO : worker thread finished; awaiting finish of 1 more threads\n",
      "2020-06-23 19:50:30,851 : INFO : worker thread finished; awaiting finish of 0 more threads\n",
      "2020-06-23 19:50:30,852 : INFO : EPOCH - 14 : training on 3060122 raw words (2262302 effective words) took 8.7s, 259611 effective words/s\n",
      "2020-06-23 19:50:31,946 : INFO : EPOCH 15 - PROGRESS: at 9.47% examples, 195595 words/s, in_qsize 6, out_qsize 0\n",
      "2020-06-23 19:50:32,968 : INFO : EPOCH 15 - PROGRESS: at 17.89% examples, 193525 words/s, in_qsize 5, out_qsize 0\n",
      "2020-06-23 19:50:34,004 : INFO : EPOCH 15 - PROGRESS: at 27.25% examples, 196799 words/s, in_qsize 5, out_qsize 0\n",
      "2020-06-23 19:50:35,044 : INFO : EPOCH 15 - PROGRESS: at 36.02% examples, 194687 words/s, in_qsize 5, out_qsize 0\n",
      "2020-06-23 19:50:36,092 : INFO : EPOCH 15 - PROGRESS: at 51.27% examples, 222229 words/s, in_qsize 5, out_qsize 0\n",
      "2020-06-23 19:50:37,101 : INFO : EPOCH 15 - PROGRESS: at 61.76% examples, 224585 words/s, in_qsize 5, out_qsize 0\n",
      "2020-06-23 19:50:38,102 : INFO : EPOCH 15 - PROGRESS: at 71.59% examples, 223538 words/s, in_qsize 5, out_qsize 0\n",
      "2020-06-23 19:50:39,127 : INFO : EPOCH 15 - PROGRESS: at 81.46% examples, 222988 words/s, in_qsize 6, out_qsize 0\n"
     ]
    },
    {
     "name": "stderr",
     "output_type": "stream",
     "text": [
      "2020-06-23 19:50:40,154 : INFO : EPOCH 15 - PROGRESS: at 94.95% examples, 231115 words/s, in_qsize 5, out_qsize 0\n",
      "2020-06-23 19:50:40,492 : INFO : worker thread finished; awaiting finish of 2 more threads\n",
      "2020-06-23 19:50:40,514 : INFO : worker thread finished; awaiting finish of 1 more threads\n",
      "2020-06-23 19:50:40,522 : INFO : worker thread finished; awaiting finish of 0 more threads\n",
      "2020-06-23 19:50:40,523 : INFO : EPOCH - 15 : training on 3060122 raw words (2262892 effective words) took 9.7s, 234312 effective words/s\n",
      "2020-06-23 19:50:41,550 : INFO : EPOCH 16 - PROGRESS: at 16.38% examples, 361975 words/s, in_qsize 5, out_qsize 0\n",
      "2020-06-23 19:50:42,650 : INFO : EPOCH 16 - PROGRESS: at 28.93% examples, 308059 words/s, in_qsize 5, out_qsize 0\n",
      "2020-06-23 19:50:43,712 : INFO : EPOCH 16 - PROGRESS: at 38.48% examples, 273551 words/s, in_qsize 5, out_qsize 0\n",
      "2020-06-23 19:50:44,790 : INFO : EPOCH 16 - PROGRESS: at 46.44% examples, 246862 words/s, in_qsize 5, out_qsize 0\n",
      "2020-06-23 19:50:45,877 : INFO : EPOCH 16 - PROGRESS: at 55.99% examples, 237353 words/s, in_qsize 5, out_qsize 0\n",
      "2020-06-23 19:50:46,910 : INFO : EPOCH 16 - PROGRESS: at 63.43% examples, 225117 words/s, in_qsize 5, out_qsize 0\n",
      "2020-06-23 19:50:47,929 : INFO : EPOCH 16 - PROGRESS: at 78.52% examples, 240054 words/s, in_qsize 5, out_qsize 0\n",
      "2020-06-23 19:50:48,959 : INFO : EPOCH 16 - PROGRESS: at 94.36% examples, 252936 words/s, in_qsize 6, out_qsize 0\n",
      "2020-06-23 19:50:49,484 : INFO : worker thread finished; awaiting finish of 2 more threads\n",
      "2020-06-23 19:50:49,492 : INFO : worker thread finished; awaiting finish of 1 more threads\n",
      "2020-06-23 19:50:49,503 : INFO : worker thread finished; awaiting finish of 0 more threads\n",
      "2020-06-23 19:50:49,504 : INFO : EPOCH - 16 : training on 3060122 raw words (2263148 effective words) took 9.0s, 252092 effective words/s\n",
      "2020-06-23 19:50:50,676 : INFO : EPOCH 17 - PROGRESS: at 9.16% examples, 174678 words/s, in_qsize 5, out_qsize 0\n",
      "2020-06-23 19:50:51,738 : INFO : EPOCH 17 - PROGRESS: at 17.90% examples, 182430 words/s, in_qsize 6, out_qsize 0\n",
      "2020-06-23 19:50:52,748 : INFO : EPOCH 17 - PROGRESS: at 28.57% examples, 199545 words/s, in_qsize 5, out_qsize 0\n",
      "2020-06-23 19:50:53,793 : INFO : EPOCH 17 - PROGRESS: at 42.62% examples, 225311 words/s, in_qsize 5, out_qsize 0\n",
      "2020-06-23 19:50:54,796 : INFO : EPOCH 17 - PROGRESS: at 56.26% examples, 241476 words/s, in_qsize 5, out_qsize 0\n",
      "2020-06-23 19:50:56,015 : INFO : EPOCH 17 - PROGRESS: at 68.33% examples, 237457 words/s, in_qsize 6, out_qsize 0\n",
      "2020-06-23 19:50:57,046 : INFO : EPOCH 17 - PROGRESS: at 78.84% examples, 236645 words/s, in_qsize 5, out_qsize 0\n",
      "2020-06-23 19:50:58,047 : INFO : EPOCH 17 - PROGRESS: at 92.05% examples, 243758 words/s, in_qsize 5, out_qsize 0\n",
      "2020-06-23 19:50:58,508 : INFO : worker thread finished; awaiting finish of 2 more threads\n",
      "2020-06-23 19:50:58,520 : INFO : worker thread finished; awaiting finish of 1 more threads\n",
      "2020-06-23 19:50:58,535 : INFO : worker thread finished; awaiting finish of 0 more threads\n",
      "2020-06-23 19:50:58,536 : INFO : EPOCH - 17 : training on 3060122 raw words (2262426 effective words) took 9.0s, 250663 effective words/s\n",
      "2020-06-23 19:50:59,582 : INFO : EPOCH 18 - PROGRESS: at 17.59% examples, 391886 words/s, in_qsize 6, out_qsize 0\n",
      "2020-06-23 19:51:00,584 : INFO : EPOCH 18 - PROGRESS: at 34.14% examples, 380917 words/s, in_qsize 5, out_qsize 0\n",
      "2020-06-23 19:51:01,604 : INFO : EPOCH 18 - PROGRESS: at 52.56% examples, 391682 words/s, in_qsize 5, out_qsize 0\n",
      "2020-06-23 19:51:02,606 : INFO : EPOCH 18 - PROGRESS: at 64.36% examples, 360939 words/s, in_qsize 5, out_qsize 0\n",
      "2020-06-23 19:51:03,664 : INFO : EPOCH 18 - PROGRESS: at 75.92% examples, 337086 words/s, in_qsize 5, out_qsize 0\n",
      "2020-06-23 19:51:04,696 : INFO : EPOCH 18 - PROGRESS: at 85.97% examples, 317091 words/s, in_qsize 6, out_qsize 0\n",
      "2020-06-23 19:51:05,753 : INFO : EPOCH 18 - PROGRESS: at 98.01% examples, 308863 words/s, in_qsize 5, out_qsize 0\n",
      "2020-06-23 19:51:05,837 : INFO : worker thread finished; awaiting finish of 2 more threads\n",
      "2020-06-23 19:51:05,857 : INFO : worker thread finished; awaiting finish of 1 more threads\n",
      "2020-06-23 19:51:05,888 : INFO : worker thread finished; awaiting finish of 0 more threads\n",
      "2020-06-23 19:51:05,889 : INFO : EPOCH - 18 : training on 3060122 raw words (2263853 effective words) took 7.3s, 309001 effective words/s\n",
      "2020-06-23 19:51:06,934 : INFO : EPOCH 19 - PROGRESS: at 10.10% examples, 217633 words/s, in_qsize 5, out_qsize 0\n",
      "2020-06-23 19:51:07,938 : INFO : EPOCH 19 - PROGRESS: at 20.84% examples, 231496 words/s, in_qsize 5, out_qsize 0\n",
      "2020-06-23 19:51:08,961 : INFO : EPOCH 19 - PROGRESS: at 29.57% examples, 218287 words/s, in_qsize 6, out_qsize 0\n",
      "2020-06-23 19:51:09,980 : INFO : EPOCH 19 - PROGRESS: at 43.59% examples, 241911 words/s, in_qsize 6, out_qsize 0\n",
      "2020-06-23 19:51:10,982 : INFO : EPOCH 19 - PROGRESS: at 51.27% examples, 228418 words/s, in_qsize 5, out_qsize 0\n",
      "2020-06-23 19:51:11,984 : INFO : EPOCH 19 - PROGRESS: at 61.10% examples, 227698 words/s, in_qsize 5, out_qsize 0\n",
      "2020-06-23 19:51:12,990 : INFO : EPOCH 19 - PROGRESS: at 69.66% examples, 222022 words/s, in_qsize 5, out_qsize 0\n",
      "2020-06-23 19:51:14,026 : INFO : EPOCH 19 - PROGRESS: at 83.70% examples, 232965 words/s, in_qsize 5, out_qsize 0\n",
      "2020-06-23 19:51:15,035 : INFO : EPOCH 19 - PROGRESS: at 97.40% examples, 241343 words/s, in_qsize 5, out_qsize 0\n",
      "2020-06-23 19:51:15,171 : INFO : worker thread finished; awaiting finish of 2 more threads\n",
      "2020-06-23 19:51:15,181 : INFO : worker thread finished; awaiting finish of 1 more threads\n",
      "2020-06-23 19:51:15,198 : INFO : worker thread finished; awaiting finish of 0 more threads\n",
      "2020-06-23 19:51:15,199 : INFO : EPOCH - 19 : training on 3060122 raw words (2263657 effective words) took 9.3s, 243324 effective words/s\n",
      "2020-06-23 19:51:16,242 : INFO : EPOCH 20 - PROGRESS: at 11.67% examples, 252411 words/s, in_qsize 5, out_qsize 0\n",
      "2020-06-23 19:51:17,274 : INFO : EPOCH 20 - PROGRESS: at 20.16% examples, 221223 words/s, in_qsize 5, out_qsize 0\n",
      "2020-06-23 19:51:18,280 : INFO : EPOCH 20 - PROGRESS: at 34.14% examples, 250350 words/s, in_qsize 5, out_qsize 0\n",
      "2020-06-23 19:51:19,282 : INFO : EPOCH 20 - PROGRESS: at 46.44% examples, 258011 words/s, in_qsize 5, out_qsize 0\n",
      "2020-06-23 19:51:20,313 : INFO : EPOCH 20 - PROGRESS: at 61.76% examples, 274022 words/s, in_qsize 5, out_qsize 0\n",
      "2020-06-23 19:51:21,316 : INFO : EPOCH 20 - PROGRESS: at 81.43% examples, 301480 words/s, in_qsize 5, out_qsize 0\n",
      "2020-06-23 19:51:22,107 : INFO : worker thread finished; awaiting finish of 2 more threads\n",
      "2020-06-23 19:51:22,122 : INFO : worker thread finished; awaiting finish of 1 more threads\n",
      "2020-06-23 19:51:22,126 : INFO : worker thread finished; awaiting finish of 0 more threads\n",
      "2020-06-23 19:51:22,127 : INFO : EPOCH - 20 : training on 3060122 raw words (2262908 effective words) took 6.9s, 326935 effective words/s\n",
      "2020-06-23 19:51:22,129 : INFO : training on a 61202440 raw words (45263096 effective words) took 136.2s, 332407 effective words/s\n",
      "2020-06-23 19:51:22,145 : INFO : precomputing L2-norms of doc weight vectors\n"
     ]
    },
    {
     "data": {
      "text/plain": [
       "0.685366057395935"
      ]
     },
     "execution_count": 68,
     "metadata": {},
     "output_type": "execute_result"
    }
   ],
   "source": [
    "model_results(50,2)"
   ]
  },
  {
   "cell_type": "code",
   "execution_count": 69,
   "metadata": {},
   "outputs": [
    {
     "name": "stderr",
     "output_type": "stream",
     "text": [
      "2020-06-23 19:57:16,633 : WARNING : consider setting layer size to a multiple of 4 for greater performance\n",
      "2020-06-23 19:57:16,637 : INFO : collecting all words and their counts\n",
      "2020-06-23 19:57:16,639 : INFO : PROGRESS: at example #0, processed 0 words (0/s), 0 word types, 0 tags\n",
      "2020-06-23 19:57:17,243 : INFO : collected 27287 word types and 10000 unique tags from a corpus of 10000 examples and 1447322 words\n",
      "2020-06-23 19:57:17,244 : INFO : Loading a fresh vocabulary\n",
      "2020-06-23 19:57:17,311 : INFO : effective_min_count=2 retains 17371 unique words (63% of original 27287, drops 9916)\n",
      "2020-06-23 19:57:17,311 : INFO : effective_min_count=2 leaves 1437406 word corpus (99% of original 1447322, drops 9916)\n",
      "2020-06-23 19:57:17,432 : INFO : deleting the raw counts dictionary of 27287 items\n",
      "2020-06-23 19:57:17,434 : INFO : sample=0.001 downsamples 49 most-common words\n",
      "2020-06-23 19:57:17,435 : INFO : downsampling leaves estimated 1332987 word corpus (92.7% of prior 1437406)\n",
      "2020-06-23 19:57:17,518 : INFO : estimated required memory for 17371 words and 50 dimensions: 17633900 bytes\n",
      "2020-06-23 19:57:17,520 : INFO : resetting layer weights\n",
      "2020-06-23 19:57:27,318 : INFO : training model with 3 workers on 17371 vocabulary and 50 features, using sg=0 hs=0 sample=0.001 negative=5 window=5\n",
      "2020-06-23 19:57:28,347 : INFO : EPOCH 1 - PROGRESS: at 30.85% examples, 403633 words/s, in_qsize 5, out_qsize 0\n",
      "2020-06-23 19:57:29,350 : INFO : EPOCH 1 - PROGRESS: at 57.36% examples, 380854 words/s, in_qsize 5, out_qsize 0\n",
      "2020-06-23 19:57:30,352 : INFO : EPOCH 1 - PROGRESS: at 86.38% examples, 382445 words/s, in_qsize 5, out_qsize 0\n",
      "2020-06-23 19:57:30,855 : INFO : worker thread finished; awaiting finish of 2 more threads\n",
      "2020-06-23 19:57:30,858 : INFO : worker thread finished; awaiting finish of 1 more threads\n",
      "2020-06-23 19:57:30,865 : INFO : worker thread finished; awaiting finish of 0 more threads\n",
      "2020-06-23 19:57:30,865 : INFO : EPOCH - 1 : training on 1447322 raw words (1342954 effective words) took 3.5s, 378989 effective words/s\n",
      "2020-06-23 19:57:31,894 : INFO : EPOCH 2 - PROGRESS: at 31.53% examples, 412953 words/s, in_qsize 6, out_qsize 0\n",
      "2020-06-23 19:57:32,900 : INFO : EPOCH 2 - PROGRESS: at 67.13% examples, 443889 words/s, in_qsize 5, out_qsize 0\n",
      "2020-06-23 19:57:33,922 : INFO : EPOCH 2 - PROGRESS: at 85.00% examples, 373706 words/s, in_qsize 5, out_qsize 0\n",
      "2020-06-23 19:57:34,678 : INFO : worker thread finished; awaiting finish of 2 more threads\n",
      "2020-06-23 19:57:34,686 : INFO : worker thread finished; awaiting finish of 1 more threads\n",
      "2020-06-23 19:57:34,708 : INFO : worker thread finished; awaiting finish of 0 more threads\n",
      "2020-06-23 19:57:34,709 : INFO : EPOCH - 2 : training on 1447322 raw words (1343503 effective words) took 3.8s, 349936 effective words/s\n",
      "2020-06-23 19:57:35,734 : INFO : EPOCH 3 - PROGRESS: at 31.53% examples, 414458 words/s, in_qsize 5, out_qsize 0\n",
      "2020-06-23 19:57:36,765 : INFO : EPOCH 3 - PROGRESS: at 64.23% examples, 421215 words/s, in_qsize 5, out_qsize 0\n",
      "2020-06-23 19:57:37,780 : INFO : EPOCH 3 - PROGRESS: at 91.81% examples, 401682 words/s, in_qsize 5, out_qsize 0\n",
      "2020-06-23 19:57:37,969 : INFO : worker thread finished; awaiting finish of 2 more threads\n",
      "2020-06-23 19:57:37,980 : INFO : worker thread finished; awaiting finish of 1 more threads\n",
      "2020-06-23 19:57:37,998 : INFO : worker thread finished; awaiting finish of 0 more threads\n",
      "2020-06-23 19:57:37,998 : INFO : EPOCH - 3 : training on 1447322 raw words (1342873 effective words) took 3.3s, 408746 effective words/s\n",
      "2020-06-23 19:57:39,018 : INFO : EPOCH 4 - PROGRESS: at 28.04% examples, 371247 words/s, in_qsize 5, out_qsize 0\n",
      "2020-06-23 19:57:40,050 : INFO : EPOCH 4 - PROGRESS: at 60.10% examples, 395182 words/s, in_qsize 5, out_qsize 1\n",
      "2020-06-23 19:57:41,051 : INFO : EPOCH 4 - PROGRESS: at 93.93% examples, 413332 words/s, in_qsize 5, out_qsize 0\n",
      "2020-06-23 19:57:41,173 : INFO : worker thread finished; awaiting finish of 2 more threads\n",
      "2020-06-23 19:57:41,200 : INFO : worker thread finished; awaiting finish of 1 more threads\n",
      "2020-06-23 19:57:41,209 : INFO : worker thread finished; awaiting finish of 0 more threads\n",
      "2020-06-23 19:57:41,209 : INFO : EPOCH - 4 : training on 1447322 raw words (1343399 effective words) took 3.2s, 418838 effective words/s\n",
      "2020-06-23 19:57:42,248 : INFO : EPOCH 5 - PROGRESS: at 32.95% examples, 426709 words/s, in_qsize 5, out_qsize 0\n",
      "2020-06-23 19:57:43,251 : INFO : EPOCH 5 - PROGRESS: at 64.96% examples, 428440 words/s, in_qsize 5, out_qsize 0\n",
      "2020-06-23 19:57:44,262 : INFO : EPOCH 5 - PROGRESS: at 95.96% examples, 422113 words/s, in_qsize 5, out_qsize 0\n",
      "2020-06-23 19:57:44,347 : INFO : worker thread finished; awaiting finish of 2 more threads\n",
      "2020-06-23 19:57:44,354 : INFO : worker thread finished; awaiting finish of 1 more threads\n",
      "2020-06-23 19:57:44,365 : INFO : worker thread finished; awaiting finish of 0 more threads\n",
      "2020-06-23 19:57:44,366 : INFO : EPOCH - 5 : training on 1447322 raw words (1342864 effective words) took 3.2s, 425927 effective words/s\n",
      "2020-06-23 19:57:45,397 : INFO : EPOCH 6 - PROGRESS: at 37.65% examples, 492774 words/s, in_qsize 5, out_qsize 0\n",
      "2020-06-23 19:57:46,433 : INFO : EPOCH 6 - PROGRESS: at 76.71% examples, 499320 words/s, in_qsize 6, out_qsize 0\n",
      "2020-06-23 19:57:47,012 : INFO : worker thread finished; awaiting finish of 2 more threads\n",
      "2020-06-23 19:57:47,057 : INFO : worker thread finished; awaiting finish of 1 more threads\n",
      "2020-06-23 19:57:47,077 : INFO : worker thread finished; awaiting finish of 0 more threads\n",
      "2020-06-23 19:57:47,078 : INFO : EPOCH - 6 : training on 1447322 raw words (1342898 effective words) took 2.7s, 495924 effective words/s\n",
      "2020-06-23 19:57:48,097 : INFO : EPOCH 7 - PROGRESS: at 23.29% examples, 309034 words/s, in_qsize 5, out_qsize 0\n",
      "2020-06-23 19:57:49,124 : INFO : EPOCH 7 - PROGRESS: at 38.95% examples, 257151 words/s, in_qsize 5, out_qsize 0\n",
      "2020-06-23 19:57:50,151 : INFO : EPOCH 7 - PROGRESS: at 62.22% examples, 272876 words/s, in_qsize 6, out_qsize 0\n",
      "2020-06-23 19:57:51,164 : INFO : EPOCH 7 - PROGRESS: at 87.04% examples, 286394 words/s, in_qsize 5, out_qsize 0\n",
      "2020-06-23 19:57:51,595 : INFO : worker thread finished; awaiting finish of 2 more threads\n",
      "2020-06-23 19:57:51,609 : INFO : worker thread finished; awaiting finish of 1 more threads\n",
      "2020-06-23 19:57:51,624 : INFO : worker thread finished; awaiting finish of 0 more threads\n",
      "2020-06-23 19:57:51,625 : INFO : EPOCH - 7 : training on 1447322 raw words (1343107 effective words) took 4.5s, 295851 effective words/s\n",
      "2020-06-23 19:57:52,655 : INFO : EPOCH 8 - PROGRESS: at 25.32% examples, 332019 words/s, in_qsize 5, out_qsize 0\n",
      "2020-06-23 19:57:53,660 : INFO : EPOCH 8 - PROGRESS: at 43.05% examples, 285346 words/s, in_qsize 5, out_qsize 0\n",
      "2020-06-23 19:57:54,707 : INFO : EPOCH 8 - PROGRESS: at 69.18% examples, 301722 words/s, in_qsize 6, out_qsize 0\n",
      "2020-06-23 19:57:55,723 : INFO : EPOCH 8 - PROGRESS: at 93.19% examples, 305548 words/s, in_qsize 5, out_qsize 0\n",
      "2020-06-23 19:57:55,898 : INFO : worker thread finished; awaiting finish of 2 more threads\n",
      "2020-06-23 19:57:55,939 : INFO : worker thread finished; awaiting finish of 1 more threads\n",
      "2020-06-23 19:57:55,954 : INFO : worker thread finished; awaiting finish of 0 more threads\n",
      "2020-06-23 19:57:55,955 : INFO : EPOCH - 8 : training on 1447322 raw words (1342868 effective words) took 4.3s, 310535 effective words/s\n",
      "2020-06-23 19:57:57,002 : INFO : EPOCH 9 - PROGRESS: at 20.50% examples, 264388 words/s, in_qsize 6, out_qsize 0\n",
      "2020-06-23 19:57:58,057 : INFO : EPOCH 9 - PROGRESS: at 45.07% examples, 289252 words/s, in_qsize 6, out_qsize 0\n",
      "2020-06-23 19:57:59,065 : INFO : EPOCH 9 - PROGRESS: at 67.13% examples, 290127 words/s, in_qsize 5, out_qsize 0\n",
      "2020-06-23 19:58:00,100 : INFO : EPOCH 9 - PROGRESS: at 92.46% examples, 299797 words/s, in_qsize 5, out_qsize 0\n",
      "2020-06-23 19:58:00,311 : INFO : worker thread finished; awaiting finish of 2 more threads\n",
      "2020-06-23 19:58:00,318 : INFO : worker thread finished; awaiting finish of 1 more threads\n",
      "2020-06-23 19:58:00,327 : INFO : worker thread finished; awaiting finish of 0 more threads\n",
      "2020-06-23 19:58:00,328 : INFO : EPOCH - 9 : training on 1447322 raw words (1342895 effective words) took 4.4s, 307447 effective words/s\n"
     ]
    },
    {
     "name": "stderr",
     "output_type": "stream",
     "text": [
      "2020-06-23 19:58:01,376 : INFO : EPOCH 10 - PROGRESS: at 29.49% examples, 378769 words/s, in_qsize 6, out_qsize 0\n",
      "2020-06-23 19:58:02,391 : INFO : EPOCH 10 - PROGRESS: at 58.01% examples, 379669 words/s, in_qsize 6, out_qsize 0\n",
      "2020-06-23 19:58:03,405 : INFO : EPOCH 10 - PROGRESS: at 89.27% examples, 389119 words/s, in_qsize 6, out_qsize 0\n",
      "2020-06-23 19:58:03,715 : INFO : worker thread finished; awaiting finish of 2 more threads\n",
      "2020-06-23 19:58:03,717 : INFO : worker thread finished; awaiting finish of 1 more threads\n",
      "2020-06-23 19:58:03,731 : INFO : worker thread finished; awaiting finish of 0 more threads\n",
      "2020-06-23 19:58:03,732 : INFO : EPOCH - 10 : training on 1447322 raw words (1342836 effective words) took 3.4s, 395004 effective words/s\n",
      "2020-06-23 19:58:04,738 : INFO : EPOCH 11 - PROGRESS: at 32.95% examples, 440357 words/s, in_qsize 5, out_qsize 0\n",
      "2020-06-23 19:58:05,775 : INFO : EPOCH 11 - PROGRESS: at 66.39% examples, 437379 words/s, in_qsize 5, out_qsize 0\n",
      "2020-06-23 19:58:06,720 : INFO : worker thread finished; awaiting finish of 2 more threads\n",
      "2020-06-23 19:58:06,752 : INFO : worker thread finished; awaiting finish of 1 more threads\n",
      "2020-06-23 19:58:06,761 : INFO : worker thread finished; awaiting finish of 0 more threads\n",
      "2020-06-23 19:58:06,762 : INFO : EPOCH - 11 : training on 1447322 raw words (1342707 effective words) took 3.0s, 443782 effective words/s\n",
      "2020-06-23 19:58:07,805 : INFO : EPOCH 12 - PROGRESS: at 33.61% examples, 433801 words/s, in_qsize 5, out_qsize 0\n",
      "2020-06-23 19:58:08,849 : INFO : EPOCH 12 - PROGRESS: at 67.02% examples, 432506 words/s, in_qsize 5, out_qsize 0\n",
      "2020-06-23 19:58:09,809 : INFO : worker thread finished; awaiting finish of 2 more threads\n",
      "2020-06-23 19:58:09,811 : INFO : worker thread finished; awaiting finish of 1 more threads\n",
      "2020-06-23 19:58:09,835 : INFO : worker thread finished; awaiting finish of 0 more threads\n",
      "2020-06-23 19:58:09,836 : INFO : EPOCH - 12 : training on 1447322 raw words (1343063 effective words) took 3.1s, 437492 effective words/s\n",
      "2020-06-23 19:58:10,869 : INFO : EPOCH 13 - PROGRESS: at 33.61% examples, 437356 words/s, in_qsize 6, out_qsize 0\n",
      "2020-06-23 19:58:11,903 : INFO : EPOCH 13 - PROGRESS: at 66.39% examples, 432063 words/s, in_qsize 5, out_qsize 0\n",
      "2020-06-23 19:58:12,875 : INFO : worker thread finished; awaiting finish of 2 more threads\n",
      "2020-06-23 19:58:12,903 : INFO : worker thread finished; awaiting finish of 1 more threads\n",
      "2020-06-23 19:58:12,908 : INFO : EPOCH 13 - PROGRESS: at 100.00% examples, 437613 words/s, in_qsize 0, out_qsize 1\n",
      "2020-06-23 19:58:12,909 : INFO : worker thread finished; awaiting finish of 0 more threads\n",
      "2020-06-23 19:58:12,910 : INFO : EPOCH - 13 : training on 1447322 raw words (1342846 effective words) took 3.1s, 437302 effective words/s\n",
      "2020-06-23 19:58:13,917 : INFO : EPOCH 14 - PROGRESS: at 32.95% examples, 440193 words/s, in_qsize 5, out_qsize 0\n",
      "2020-06-23 19:58:14,922 : INFO : EPOCH 14 - PROGRESS: at 64.23% examples, 430516 words/s, in_qsize 5, out_qsize 0\n",
      "2020-06-23 19:58:15,947 : INFO : EPOCH 14 - PROGRESS: at 97.22% examples, 430575 words/s, in_qsize 5, out_qsize 0\n",
      "2020-06-23 19:58:15,991 : INFO : worker thread finished; awaiting finish of 2 more threads\n",
      "2020-06-23 19:58:16,015 : INFO : worker thread finished; awaiting finish of 1 more threads\n",
      "2020-06-23 19:58:16,029 : INFO : worker thread finished; awaiting finish of 0 more threads\n",
      "2020-06-23 19:58:16,030 : INFO : EPOCH - 14 : training on 1447322 raw words (1342725 effective words) took 3.1s, 430940 effective words/s\n",
      "2020-06-23 19:58:17,089 : INFO : EPOCH 15 - PROGRESS: at 33.61% examples, 428326 words/s, in_qsize 5, out_qsize 0\n",
      "2020-06-23 19:58:18,125 : INFO : EPOCH 15 - PROGRESS: at 66.39% examples, 426985 words/s, in_qsize 5, out_qsize 0\n",
      "2020-06-23 19:58:19,134 : INFO : EPOCH 15 - PROGRESS: at 98.48% examples, 427453 words/s, in_qsize 3, out_qsize 0\n",
      "2020-06-23 19:58:19,140 : INFO : worker thread finished; awaiting finish of 2 more threads\n",
      "2020-06-23 19:58:19,143 : INFO : worker thread finished; awaiting finish of 1 more threads\n",
      "2020-06-23 19:58:19,147 : INFO : worker thread finished; awaiting finish of 0 more threads\n",
      "2020-06-23 19:58:19,148 : INFO : EPOCH - 15 : training on 1447322 raw words (1342798 effective words) took 3.1s, 431625 effective words/s\n",
      "2020-06-23 19:58:20,174 : INFO : EPOCH 16 - PROGRESS: at 32.27% examples, 422822 words/s, in_qsize 5, out_qsize 0\n",
      "2020-06-23 19:58:21,213 : INFO : EPOCH 16 - PROGRESS: at 64.23% examples, 419295 words/s, in_qsize 5, out_qsize 0\n",
      "2020-06-23 19:58:22,240 : INFO : EPOCH 16 - PROGRESS: at 97.80% examples, 425803 words/s, in_qsize 4, out_qsize 0\n",
      "2020-06-23 19:58:22,264 : INFO : worker thread finished; awaiting finish of 2 more threads\n",
      "2020-06-23 19:58:22,266 : INFO : worker thread finished; awaiting finish of 1 more threads\n",
      "2020-06-23 19:58:22,290 : INFO : worker thread finished; awaiting finish of 0 more threads\n",
      "2020-06-23 19:58:22,291 : INFO : EPOCH - 16 : training on 1447322 raw words (1343020 effective words) took 3.1s, 427854 effective words/s\n",
      "2020-06-23 19:58:23,300 : INFO : EPOCH 17 - PROGRESS: at 32.27% examples, 429692 words/s, in_qsize 6, out_qsize 0\n",
      "2020-06-23 19:58:24,312 : INFO : EPOCH 17 - PROGRESS: at 64.23% examples, 428485 words/s, in_qsize 6, out_qsize 0\n",
      "2020-06-23 19:58:25,324 : INFO : EPOCH 17 - PROGRESS: at 97.80% examples, 434006 words/s, in_qsize 4, out_qsize 0\n",
      "2020-06-23 19:58:25,333 : INFO : worker thread finished; awaiting finish of 2 more threads\n",
      "2020-06-23 19:58:25,362 : INFO : worker thread finished; awaiting finish of 1 more threads\n",
      "2020-06-23 19:58:25,373 : INFO : worker thread finished; awaiting finish of 0 more threads\n",
      "2020-06-23 19:58:25,374 : INFO : EPOCH - 17 : training on 1447322 raw words (1342912 effective words) took 3.1s, 436075 effective words/s\n",
      "2020-06-23 19:58:26,383 : INFO : EPOCH 18 - PROGRESS: at 31.53% examples, 420835 words/s, in_qsize 5, out_qsize 0\n",
      "2020-06-23 19:58:27,383 : INFO : EPOCH 18 - PROGRESS: at 62.17% examples, 417257 words/s, in_qsize 6, out_qsize 0\n",
      "2020-06-23 19:58:28,388 : INFO : EPOCH 18 - PROGRESS: at 95.26% examples, 424644 words/s, in_qsize 5, out_qsize 0\n",
      "2020-06-23 19:58:28,498 : INFO : worker thread finished; awaiting finish of 2 more threads\n",
      "2020-06-23 19:58:28,513 : INFO : worker thread finished; awaiting finish of 1 more threads\n",
      "2020-06-23 19:58:28,521 : INFO : worker thread finished; awaiting finish of 0 more threads\n",
      "2020-06-23 19:58:28,522 : INFO : EPOCH - 18 : training on 1447322 raw words (1343186 effective words) took 3.1s, 427213 effective words/s\n",
      "2020-06-23 19:58:29,556 : INFO : EPOCH 19 - PROGRESS: at 31.53% examples, 410991 words/s, in_qsize 5, out_qsize 0\n",
      "2020-06-23 19:58:30,562 : INFO : EPOCH 19 - PROGRESS: at 64.96% examples, 429251 words/s, in_qsize 5, out_qsize 0\n",
      "2020-06-23 19:58:31,576 : INFO : EPOCH 19 - PROGRESS: at 95.96% examples, 422208 words/s, in_qsize 5, out_qsize 0\n",
      "2020-06-23 19:58:31,653 : INFO : worker thread finished; awaiting finish of 2 more threads\n",
      "2020-06-23 19:58:31,655 : INFO : worker thread finished; awaiting finish of 1 more threads\n",
      "2020-06-23 19:58:31,689 : INFO : worker thread finished; awaiting finish of 0 more threads\n",
      "2020-06-23 19:58:31,690 : INFO : EPOCH - 19 : training on 1447322 raw words (1342909 effective words) took 3.2s, 424630 effective words/s\n",
      "2020-06-23 19:58:32,723 : INFO : EPOCH 20 - PROGRESS: at 31.53% examples, 410470 words/s, in_qsize 5, out_qsize 0\n",
      "2020-06-23 19:58:33,750 : INFO : EPOCH 20 - PROGRESS: at 64.23% examples, 420081 words/s, in_qsize 6, out_qsize 0\n",
      "2020-06-23 19:58:34,781 : INFO : EPOCH 20 - PROGRESS: at 97.90% examples, 425814 words/s, in_qsize 4, out_qsize 0\n",
      "2020-06-23 19:58:34,800 : INFO : worker thread finished; awaiting finish of 2 more threads\n",
      "2020-06-23 19:58:34,811 : INFO : worker thread finished; awaiting finish of 1 more threads\n",
      "2020-06-23 19:58:34,831 : INFO : worker thread finished; awaiting finish of 0 more threads\n",
      "2020-06-23 19:58:34,832 : INFO : EPOCH - 20 : training on 1447322 raw words (1342690 effective words) took 3.1s, 427698 effective words/s\n",
      "2020-06-23 19:58:34,833 : INFO : training on a 28946440 raw words (26859053 effective words) took 67.5s, 397832 effective words/s\n",
      "2020-06-23 19:58:34,845 : INFO : precomputing L2-norms of doc weight vectors\n"
     ]
    },
    {
     "data": {
      "text/plain": [
       "0.6679240431755781"
      ]
     },
     "execution_count": 69,
     "metadata": {},
     "output_type": "execute_result"
    }
   ],
   "source": [
    "processed_model_results(50,2)"
   ]
  },
  {
   "cell_type": "code",
   "execution_count": 70,
   "metadata": {},
   "outputs": [
    {
     "name": "stderr",
     "output_type": "stream",
     "text": [
      "2020-06-23 20:02:09,675 : WARNING : consider setting layer size to a multiple of 4 for greater performance\n",
      "2020-06-23 20:02:09,686 : INFO : collecting all words and their counts\n",
      "2020-06-23 20:02:09,687 : INFO : PROGRESS: at example #0, processed 0 words (0/s), 0 word types, 0 tags\n",
      "2020-06-23 20:02:10,459 : INFO : collected 30512 word types and 10000 unique tags from a corpus of 10000 examples and 3060122 words\n",
      "2020-06-23 20:02:10,460 : INFO : Loading a fresh vocabulary\n",
      "2020-06-23 20:02:11,150 : INFO : effective_min_count=2 retains 19712 unique words (64% of original 30512, drops 10800)\n",
      "2020-06-23 20:02:11,153 : INFO : effective_min_count=2 leaves 3049322 word corpus (99% of original 3060122, drops 10800)\n",
      "2020-06-23 20:02:11,292 : INFO : deleting the raw counts dictionary of 30512 items\n",
      "2020-06-23 20:02:11,293 : INFO : sample=0.001 downsamples 61 most-common words\n",
      "2020-06-23 20:02:11,294 : INFO : downsampling leaves estimated 2253238 word corpus (73.9% of prior 3049322)\n",
      "2020-06-23 20:02:11,378 : INFO : estimated required memory for 19712 words and 50 dimensions: 19740800 bytes\n",
      "2020-06-23 20:02:11,379 : INFO : resetting layer weights\n",
      "2020-06-23 20:02:23,295 : INFO : training model with 3 workers on 19712 vocabulary and 50 features, using sg=0 hs=0 sample=0.001 negative=5 window=5\n",
      "2020-06-23 20:02:24,309 : INFO : EPOCH 1 - PROGRESS: at 20.84% examples, 467904 words/s, in_qsize 5, out_qsize 0\n",
      "2020-06-23 20:02:25,312 : INFO : EPOCH 1 - PROGRESS: at 42.62% examples, 479692 words/s, in_qsize 5, out_qsize 0\n",
      "2020-06-23 20:02:26,318 : INFO : EPOCH 1 - PROGRESS: at 66.05% examples, 495285 words/s, in_qsize 5, out_qsize 0\n",
      "2020-06-23 20:02:27,330 : INFO : EPOCH 1 - PROGRESS: at 89.59% examples, 502211 words/s, in_qsize 5, out_qsize 0\n",
      "2020-06-23 20:02:27,740 : INFO : worker thread finished; awaiting finish of 2 more threads\n",
      "2020-06-23 20:02:27,745 : INFO : worker thread finished; awaiting finish of 1 more threads\n",
      "2020-06-23 20:02:27,769 : INFO : worker thread finished; awaiting finish of 0 more threads\n",
      "2020-06-23 20:02:27,770 : INFO : EPOCH - 1 : training on 3060122 raw words (2264234 effective words) took 4.5s, 506329 effective words/s\n",
      "2020-06-23 20:02:28,786 : INFO : EPOCH 2 - PROGRESS: at 23.14% examples, 517127 words/s, in_qsize 5, out_qsize 0\n",
      "2020-06-23 20:02:29,800 : INFO : EPOCH 2 - PROGRESS: at 46.39% examples, 519351 words/s, in_qsize 5, out_qsize 0\n",
      "2020-06-23 20:02:30,813 : INFO : EPOCH 2 - PROGRESS: at 70.33% examples, 522848 words/s, in_qsize 5, out_qsize 0\n",
      "2020-06-23 20:02:31,818 : INFO : EPOCH 2 - PROGRESS: at 93.33% examples, 521821 words/s, in_qsize 5, out_qsize 0\n",
      "2020-06-23 20:02:32,077 : INFO : worker thread finished; awaiting finish of 2 more threads\n",
      "2020-06-23 20:02:32,090 : INFO : worker thread finished; awaiting finish of 1 more threads\n",
      "2020-06-23 20:02:32,099 : INFO : worker thread finished; awaiting finish of 0 more threads\n",
      "2020-06-23 20:02:32,100 : INFO : EPOCH - 2 : training on 3060122 raw words (2263170 effective words) took 4.3s, 522973 effective words/s\n",
      "2020-06-23 20:02:33,106 : INFO : EPOCH 3 - PROGRESS: at 22.49% examples, 508048 words/s, in_qsize 5, out_qsize 0\n",
      "2020-06-23 20:02:34,114 : INFO : EPOCH 3 - PROGRESS: at 45.50% examples, 512767 words/s, in_qsize 5, out_qsize 0\n",
      "2020-06-23 20:02:35,118 : INFO : EPOCH 3 - PROGRESS: at 68.33% examples, 512600 words/s, in_qsize 5, out_qsize 0\n",
      "2020-06-23 20:02:36,132 : INFO : EPOCH 3 - PROGRESS: at 91.76% examples, 514965 words/s, in_qsize 5, out_qsize 0\n",
      "2020-06-23 20:02:36,464 : INFO : worker thread finished; awaiting finish of 2 more threads\n",
      "2020-06-23 20:02:36,466 : INFO : worker thread finished; awaiting finish of 1 more threads\n",
      "2020-06-23 20:02:36,484 : INFO : worker thread finished; awaiting finish of 0 more threads\n",
      "2020-06-23 20:02:36,485 : INFO : EPOCH - 3 : training on 3060122 raw words (2262688 effective words) took 4.4s, 516541 effective words/s\n",
      "2020-06-23 20:02:37,501 : INFO : EPOCH 4 - PROGRESS: at 23.48% examples, 524524 words/s, in_qsize 5, out_qsize 0\n",
      "2020-06-23 20:02:38,520 : INFO : EPOCH 4 - PROGRESS: at 47.06% examples, 525093 words/s, in_qsize 5, out_qsize 0\n",
      "2020-06-23 20:02:39,543 : INFO : EPOCH 4 - PROGRESS: at 71.26% examples, 527457 words/s, in_qsize 5, out_qsize 0\n",
      "2020-06-23 20:02:40,558 : INFO : EPOCH 4 - PROGRESS: at 94.65% examples, 525803 words/s, in_qsize 5, out_qsize 0\n",
      "2020-06-23 20:02:40,771 : INFO : worker thread finished; awaiting finish of 2 more threads\n",
      "2020-06-23 20:02:40,787 : INFO : worker thread finished; awaiting finish of 1 more threads\n",
      "2020-06-23 20:02:40,791 : INFO : worker thread finished; awaiting finish of 0 more threads\n",
      "2020-06-23 20:02:40,791 : INFO : EPOCH - 4 : training on 3060122 raw words (2263146 effective words) took 4.3s, 525872 effective words/s\n",
      "2020-06-23 20:02:41,811 : INFO : EPOCH 5 - PROGRESS: at 23.48% examples, 522683 words/s, in_qsize 5, out_qsize 0\n",
      "2020-06-23 20:02:42,822 : INFO : EPOCH 5 - PROGRESS: at 47.35% examples, 529929 words/s, in_qsize 5, out_qsize 0\n",
      "2020-06-23 20:02:43,849 : INFO : EPOCH 5 - PROGRESS: at 71.27% examples, 527521 words/s, in_qsize 5, out_qsize 0\n",
      "2020-06-23 20:02:44,859 : INFO : EPOCH 5 - PROGRESS: at 95.28% examples, 530247 words/s, in_qsize 5, out_qsize 0\n",
      "2020-06-23 20:02:45,034 : INFO : worker thread finished; awaiting finish of 2 more threads\n",
      "2020-06-23 20:02:45,041 : INFO : worker thread finished; awaiting finish of 1 more threads\n",
      "2020-06-23 20:02:45,056 : INFO : worker thread finished; awaiting finish of 0 more threads\n",
      "2020-06-23 20:02:45,057 : INFO : EPOCH - 5 : training on 3060122 raw words (2263937 effective words) took 4.3s, 531173 effective words/s\n",
      "2020-06-23 20:02:46,064 : INFO : EPOCH 6 - PROGRESS: at 23.14% examples, 521981 words/s, in_qsize 5, out_qsize 0\n",
      "2020-06-23 20:02:47,071 : INFO : EPOCH 6 - PROGRESS: at 46.73% examples, 527039 words/s, in_qsize 5, out_qsize 0\n",
      "2020-06-23 20:02:48,077 : INFO : EPOCH 6 - PROGRESS: at 68.98% examples, 517180 words/s, in_qsize 5, out_qsize 0\n",
      "2020-06-23 20:02:49,087 : INFO : EPOCH 6 - PROGRESS: at 87.96% examples, 493607 words/s, in_qsize 5, out_qsize 0\n",
      "2020-06-23 20:02:49,820 : INFO : worker thread finished; awaiting finish of 2 more threads\n",
      "2020-06-23 20:02:49,858 : INFO : worker thread finished; awaiting finish of 1 more threads\n",
      "2020-06-23 20:02:49,868 : INFO : worker thread finished; awaiting finish of 0 more threads\n",
      "2020-06-23 20:02:49,869 : INFO : EPOCH - 6 : training on 3060122 raw words (2263660 effective words) took 4.8s, 470718 effective words/s\n",
      "2020-06-23 20:02:50,883 : INFO : EPOCH 7 - PROGRESS: at 19.84% examples, 445731 words/s, in_qsize 6, out_qsize 0\n",
      "2020-06-23 20:02:51,889 : INFO : EPOCH 7 - PROGRESS: at 38.82% examples, 435467 words/s, in_qsize 6, out_qsize 0\n",
      "2020-06-23 20:02:52,896 : INFO : EPOCH 7 - PROGRESS: at 61.13% examples, 458139 words/s, in_qsize 5, out_qsize 0\n",
      "2020-06-23 20:02:53,928 : INFO : EPOCH 7 - PROGRESS: at 84.03% examples, 468581 words/s, in_qsize 5, out_qsize 0\n",
      "2020-06-23 20:02:54,928 : INFO : EPOCH 7 - PROGRESS: at 98.36% examples, 440326 words/s, in_qsize 5, out_qsize 0\n",
      "2020-06-23 20:02:54,994 : INFO : worker thread finished; awaiting finish of 2 more threads\n",
      "2020-06-23 20:02:55,009 : INFO : worker thread finished; awaiting finish of 1 more threads\n",
      "2020-06-23 20:02:55,022 : INFO : worker thread finished; awaiting finish of 0 more threads\n",
      "2020-06-23 20:02:55,023 : INFO : EPOCH - 7 : training on 3060122 raw words (2261956 effective words) took 5.1s, 439245 effective words/s\n",
      "2020-06-23 20:02:56,056 : INFO : EPOCH 8 - PROGRESS: at 16.94% examples, 373754 words/s, in_qsize 5, out_qsize 0\n",
      "2020-06-23 20:02:57,063 : INFO : EPOCH 8 - PROGRESS: at 36.02% examples, 399278 words/s, in_qsize 5, out_qsize 0\n",
      "2020-06-23 20:02:58,112 : INFO : EPOCH 8 - PROGRESS: at 56.60% examples, 416026 words/s, in_qsize 5, out_qsize 0\n",
      "2020-06-23 20:02:59,119 : INFO : EPOCH 8 - PROGRESS: at 69.95% examples, 386383 words/s, in_qsize 5, out_qsize 0\n",
      "2020-06-23 20:03:00,127 : INFO : EPOCH 8 - PROGRESS: at 88.67% examples, 392454 words/s, in_qsize 5, out_qsize 0\n",
      "2020-06-23 20:03:00,591 : INFO : worker thread finished; awaiting finish of 2 more threads\n",
      "2020-06-23 20:03:00,618 : INFO : worker thread finished; awaiting finish of 1 more threads\n"
     ]
    },
    {
     "name": "stderr",
     "output_type": "stream",
     "text": [
      "2020-06-23 20:03:00,627 : INFO : worker thread finished; awaiting finish of 0 more threads\n",
      "2020-06-23 20:03:00,628 : INFO : EPOCH - 8 : training on 3060122 raw words (2262401 effective words) took 5.6s, 403883 effective words/s\n",
      "2020-06-23 20:03:01,643 : INFO : EPOCH 9 - PROGRESS: at 17.90% examples, 403134 words/s, in_qsize 5, out_qsize 0\n",
      "2020-06-23 20:03:02,684 : INFO : EPOCH 9 - PROGRESS: at 37.57% examples, 414298 words/s, in_qsize 5, out_qsize 0\n",
      "2020-06-23 20:03:03,702 : INFO : EPOCH 9 - PROGRESS: at 58.16% examples, 430296 words/s, in_qsize 5, out_qsize 0\n",
      "2020-06-23 20:03:04,732 : INFO : EPOCH 9 - PROGRESS: at 74.97% examples, 414236 words/s, in_qsize 5, out_qsize 0\n",
      "2020-06-23 20:03:05,764 : INFO : EPOCH 9 - PROGRESS: at 93.02% examples, 410171 words/s, in_qsize 5, out_qsize 0\n",
      "2020-06-23 20:03:06,157 : INFO : worker thread finished; awaiting finish of 2 more threads\n",
      "2020-06-23 20:03:06,172 : INFO : worker thread finished; awaiting finish of 1 more threads\n",
      "2020-06-23 20:03:06,190 : INFO : worker thread finished; awaiting finish of 0 more threads\n",
      "2020-06-23 20:03:06,191 : INFO : EPOCH - 9 : training on 3060122 raw words (2263189 effective words) took 5.6s, 407293 effective words/s\n",
      "2020-06-23 20:03:07,199 : INFO : EPOCH 10 - PROGRESS: at 17.01% examples, 383807 words/s, in_qsize 5, out_qsize 0\n",
      "2020-06-23 20:03:08,210 : INFO : EPOCH 10 - PROGRESS: at 35.04% examples, 392953 words/s, in_qsize 5, out_qsize 0\n",
      "2020-06-23 20:03:09,227 : INFO : EPOCH 10 - PROGRESS: at 56.26% examples, 421249 words/s, in_qsize 5, out_qsize 0\n",
      "2020-06-23 20:03:10,247 : INFO : EPOCH 10 - PROGRESS: at 77.57% examples, 433139 words/s, in_qsize 5, out_qsize 0\n",
      "2020-06-23 20:03:11,263 : INFO : EPOCH 10 - PROGRESS: at 98.67% examples, 440855 words/s, in_qsize 4, out_qsize 0\n",
      "2020-06-23 20:03:11,285 : INFO : worker thread finished; awaiting finish of 2 more threads\n",
      "2020-06-23 20:03:11,303 : INFO : worker thread finished; awaiting finish of 1 more threads\n",
      "2020-06-23 20:03:11,313 : INFO : worker thread finished; awaiting finish of 0 more threads\n",
      "2020-06-23 20:03:11,314 : INFO : EPOCH - 10 : training on 3060122 raw words (2262958 effective words) took 5.1s, 442059 effective words/s\n",
      "2020-06-23 20:03:12,326 : INFO : EPOCH 11 - PROGRESS: at 20.84% examples, 467995 words/s, in_qsize 5, out_qsize 0\n",
      "2020-06-23 20:03:13,329 : INFO : EPOCH 11 - PROGRESS: at 37.27% examples, 418538 words/s, in_qsize 5, out_qsize 0\n",
      "2020-06-23 20:03:14,347 : INFO : EPOCH 11 - PROGRESS: at 48.74% examples, 364107 words/s, in_qsize 5, out_qsize 0\n",
      "2020-06-23 20:03:15,412 : INFO : EPOCH 11 - PROGRESS: at 56.33% examples, 311828 words/s, in_qsize 5, out_qsize 0\n",
      "2020-06-23 20:03:16,438 : INFO : EPOCH 11 - PROGRESS: at 68.33% examples, 301704 words/s, in_qsize 5, out_qsize 0\n",
      "2020-06-23 20:03:17,452 : INFO : EPOCH 11 - PROGRESS: at 84.01% examples, 309710 words/s, in_qsize 5, out_qsize 0\n",
      "2020-06-23 20:03:18,212 : INFO : worker thread finished; awaiting finish of 2 more threads\n",
      "2020-06-23 20:03:18,221 : INFO : worker thread finished; awaiting finish of 1 more threads\n",
      "2020-06-23 20:03:18,239 : INFO : worker thread finished; awaiting finish of 0 more threads\n",
      "2020-06-23 20:03:18,241 : INFO : EPOCH - 11 : training on 3060122 raw words (2262808 effective words) took 6.9s, 326820 effective words/s\n",
      "2020-06-23 20:03:19,256 : INFO : EPOCH 12 - PROGRESS: at 16.38% examples, 368127 words/s, in_qsize 6, out_qsize 0\n",
      "2020-06-23 20:03:20,260 : INFO : EPOCH 12 - PROGRESS: at 34.46% examples, 386878 words/s, in_qsize 6, out_qsize 0\n",
      "2020-06-23 20:03:21,282 : INFO : EPOCH 12 - PROGRESS: at 54.14% examples, 404672 words/s, in_qsize 5, out_qsize 0\n",
      "2020-06-23 20:03:22,288 : INFO : EPOCH 12 - PROGRESS: at 71.93% examples, 402565 words/s, in_qsize 5, out_qsize 0\n",
      "2020-06-23 20:03:23,296 : INFO : EPOCH 12 - PROGRESS: at 92.67% examples, 415635 words/s, in_qsize 5, out_qsize 0\n",
      "2020-06-23 20:03:23,759 : INFO : worker thread finished; awaiting finish of 2 more threads\n",
      "2020-06-23 20:03:23,767 : INFO : worker thread finished; awaiting finish of 1 more threads\n",
      "2020-06-23 20:03:23,787 : INFO : worker thread finished; awaiting finish of 0 more threads\n",
      "2020-06-23 20:03:23,788 : INFO : EPOCH - 12 : training on 3060122 raw words (2263871 effective words) took 5.5s, 408817 effective words/s\n",
      "2020-06-23 20:03:24,808 : INFO : EPOCH 13 - PROGRESS: at 19.21% examples, 428875 words/s, in_qsize 6, out_qsize 0\n",
      "2020-06-23 20:03:25,818 : INFO : EPOCH 13 - PROGRESS: at 31.83% examples, 355047 words/s, in_qsize 5, out_qsize 0\n",
      "2020-06-23 20:03:26,855 : INFO : EPOCH 13 - PROGRESS: at 47.35% examples, 350811 words/s, in_qsize 5, out_qsize 0\n",
      "2020-06-23 20:03:27,867 : INFO : EPOCH 13 - PROGRESS: at 57.58% examples, 320601 words/s, in_qsize 5, out_qsize 0\n",
      "2020-06-23 20:03:28,886 : INFO : EPOCH 13 - PROGRESS: at 70.62% examples, 313428 words/s, in_qsize 5, out_qsize 0\n",
      "2020-06-23 20:03:29,910 : INFO : EPOCH 13 - PROGRESS: at 85.01% examples, 314177 words/s, in_qsize 5, out_qsize 0\n",
      "2020-06-23 20:03:30,928 : INFO : EPOCH 13 - PROGRESS: at 96.52% examples, 305948 words/s, in_qsize 5, out_qsize 0\n",
      "2020-06-23 20:03:31,086 : INFO : worker thread finished; awaiting finish of 2 more threads\n",
      "2020-06-23 20:03:31,115 : INFO : worker thread finished; awaiting finish of 1 more threads\n",
      "2020-06-23 20:03:31,124 : INFO : worker thread finished; awaiting finish of 0 more threads\n",
      "2020-06-23 20:03:31,125 : INFO : EPOCH - 13 : training on 3060122 raw words (2263242 effective words) took 7.3s, 308607 effective words/s\n",
      "2020-06-23 20:03:32,140 : INFO : EPOCH 14 - PROGRESS: at 16.07% examples, 363110 words/s, in_qsize 6, out_qsize 0\n",
      "2020-06-23 20:03:33,143 : INFO : EPOCH 14 - PROGRESS: at 36.65% examples, 413093 words/s, in_qsize 5, out_qsize 0\n",
      "2020-06-23 20:03:34,164 : INFO : EPOCH 14 - PROGRESS: at 53.47% examples, 400657 words/s, in_qsize 5, out_qsize 0\n",
      "2020-06-23 20:03:35,166 : INFO : EPOCH 14 - PROGRESS: at 73.73% examples, 414134 words/s, in_qsize 5, out_qsize 0\n",
      "2020-06-23 20:03:36,170 : INFO : EPOCH 14 - PROGRESS: at 92.05% examples, 413863 words/s, in_qsize 5, out_qsize 0\n",
      "2020-06-23 20:03:36,515 : INFO : worker thread finished; awaiting finish of 2 more threads\n",
      "2020-06-23 20:03:36,530 : INFO : worker thread finished; awaiting finish of 1 more threads\n",
      "2020-06-23 20:03:36,543 : INFO : worker thread finished; awaiting finish of 0 more threads\n",
      "2020-06-23 20:03:36,543 : INFO : EPOCH - 14 : training on 3060122 raw words (2263994 effective words) took 5.4s, 418819 effective words/s\n",
      "2020-06-23 20:03:37,547 : INFO : EPOCH 15 - PROGRESS: at 21.46% examples, 487008 words/s, in_qsize 5, out_qsize 0\n",
      "2020-06-23 20:03:38,568 : INFO : EPOCH 15 - PROGRESS: at 42.29% examples, 473927 words/s, in_qsize 5, out_qsize 0\n",
      "2020-06-23 20:03:39,582 : INFO : EPOCH 15 - PROGRESS: at 64.35% examples, 480683 words/s, in_qsize 5, out_qsize 0\n",
      "2020-06-23 20:03:40,638 : INFO : EPOCH 15 - PROGRESS: at 84.68% examples, 468175 words/s, in_qsize 6, out_qsize 0\n",
      "2020-06-23 20:03:41,641 : INFO : EPOCH 15 - PROGRESS: at 98.96% examples, 440094 words/s, in_qsize 3, out_qsize 0\n",
      "2020-06-23 20:03:41,660 : INFO : worker thread finished; awaiting finish of 2 more threads\n",
      "2020-06-23 20:03:41,671 : INFO : worker thread finished; awaiting finish of 1 more threads\n",
      "2020-06-23 20:03:41,682 : INFO : worker thread finished; awaiting finish of 0 more threads\n",
      "2020-06-23 20:03:41,683 : INFO : EPOCH - 15 : training on 3060122 raw words (2263380 effective words) took 5.1s, 440649 effective words/s\n",
      "2020-06-23 20:03:42,686 : INFO : EPOCH 16 - PROGRESS: at 19.21% examples, 436141 words/s, in_qsize 5, out_qsize 0\n",
      "2020-06-23 20:03:43,697 : INFO : EPOCH 16 - PROGRESS: at 33.14% examples, 372054 words/s, in_qsize 5, out_qsize 0\n",
      "2020-06-23 20:03:44,713 : INFO : EPOCH 16 - PROGRESS: at 48.35% examples, 362389 words/s, in_qsize 5, out_qsize 0\n",
      "2020-06-23 20:03:45,723 : INFO : EPOCH 16 - PROGRESS: at 66.05% examples, 370411 words/s, in_qsize 5, out_qsize 0\n",
      "2020-06-23 20:03:46,751 : INFO : EPOCH 16 - PROGRESS: at 83.70% examples, 373981 words/s, in_qsize 5, out_qsize 0\n",
      "2020-06-23 20:03:47,768 : INFO : EPOCH 16 - PROGRESS: at 97.67% examples, 363918 words/s, in_qsize 5, out_qsize 0\n",
      "2020-06-23 20:03:47,853 : INFO : worker thread finished; awaiting finish of 2 more threads\n"
     ]
    },
    {
     "name": "stderr",
     "output_type": "stream",
     "text": [
      "2020-06-23 20:03:47,884 : INFO : worker thread finished; awaiting finish of 1 more threads\n",
      "2020-06-23 20:03:47,894 : INFO : worker thread finished; awaiting finish of 0 more threads\n",
      "2020-06-23 20:03:47,895 : INFO : EPOCH - 16 : training on 3060122 raw words (2263743 effective words) took 6.2s, 364581 effective words/s\n",
      "2020-06-23 20:03:48,922 : INFO : EPOCH 17 - PROGRESS: at 20.84% examples, 463158 words/s, in_qsize 5, out_qsize 0\n",
      "2020-06-23 20:03:49,931 : INFO : EPOCH 17 - PROGRESS: at 45.14% examples, 504337 words/s, in_qsize 6, out_qsize 0\n",
      "2020-06-23 20:03:50,941 : INFO : EPOCH 17 - PROGRESS: at 60.48% examples, 451136 words/s, in_qsize 6, out_qsize 0\n",
      "2020-06-23 20:03:51,954 : INFO : EPOCH 17 - PROGRESS: at 73.16% examples, 407968 words/s, in_qsize 6, out_qsize 0\n",
      "2020-06-23 20:03:52,956 : INFO : EPOCH 17 - PROGRESS: at 87.63% examples, 391619 words/s, in_qsize 5, out_qsize 0\n",
      "2020-06-23 20:03:53,615 : INFO : worker thread finished; awaiting finish of 2 more threads\n",
      "2020-06-23 20:03:53,625 : INFO : worker thread finished; awaiting finish of 1 more threads\n",
      "2020-06-23 20:03:53,632 : INFO : worker thread finished; awaiting finish of 0 more threads\n",
      "2020-06-23 20:03:53,633 : INFO : EPOCH - 17 : training on 3060122 raw words (2262068 effective words) took 5.7s, 394704 effective words/s\n",
      "2020-06-23 20:03:54,643 : INFO : EPOCH 18 - PROGRESS: at 15.40% examples, 347090 words/s, in_qsize 4, out_qsize 1\n",
      "2020-06-23 20:03:55,670 : INFO : EPOCH 18 - PROGRESS: at 34.78% examples, 386257 words/s, in_qsize 5, out_qsize 0\n",
      "2020-06-23 20:03:56,705 : INFO : EPOCH 18 - PROGRESS: at 56.26% examples, 416538 words/s, in_qsize 5, out_qsize 0\n",
      "2020-06-23 20:03:57,725 : INFO : EPOCH 18 - PROGRESS: at 77.27% examples, 427718 words/s, in_qsize 6, out_qsize 0\n",
      "2020-06-23 20:03:58,754 : INFO : EPOCH 18 - PROGRESS: at 96.23% examples, 425380 words/s, in_qsize 5, out_qsize 0\n",
      "2020-06-23 20:03:58,926 : INFO : worker thread finished; awaiting finish of 2 more threads\n",
      "2020-06-23 20:03:58,929 : INFO : worker thread finished; awaiting finish of 1 more threads\n",
      "2020-06-23 20:03:58,931 : INFO : worker thread finished; awaiting finish of 0 more threads\n",
      "2020-06-23 20:03:58,933 : INFO : EPOCH - 18 : training on 3060122 raw words (2263542 effective words) took 5.3s, 427503 effective words/s\n",
      "2020-06-23 20:03:59,942 : INFO : EPOCH 19 - PROGRESS: at 16.04% examples, 361390 words/s, in_qsize 5, out_qsize 0\n",
      "2020-06-23 20:04:00,960 : INFO : EPOCH 19 - PROGRESS: at 36.65% examples, 409397 words/s, in_qsize 5, out_qsize 0\n",
      "2020-06-23 20:04:01,961 : INFO : EPOCH 19 - PROGRESS: at 59.09% examples, 443830 words/s, in_qsize 5, out_qsize 0\n",
      "2020-06-23 20:04:02,968 : INFO : EPOCH 19 - PROGRESS: at 81.81% examples, 458924 words/s, in_qsize 5, out_qsize 0\n",
      "2020-06-23 20:04:04,029 : INFO : EPOCH 19 - PROGRESS: at 97.40% examples, 433195 words/s, in_qsize 5, out_qsize 0\n",
      "2020-06-23 20:04:04,181 : INFO : worker thread finished; awaiting finish of 2 more threads\n",
      "2020-06-23 20:04:04,211 : INFO : worker thread finished; awaiting finish of 1 more threads\n",
      "2020-06-23 20:04:04,222 : INFO : worker thread finished; awaiting finish of 0 more threads\n",
      "2020-06-23 20:04:04,224 : INFO : EPOCH - 19 : training on 3060122 raw words (2263954 effective words) took 5.3s, 428170 effective words/s\n",
      "2020-06-23 20:04:05,242 : INFO : EPOCH 20 - PROGRESS: at 12.90% examples, 286812 words/s, in_qsize 5, out_qsize 0\n",
      "2020-06-23 20:04:06,250 : INFO : EPOCH 20 - PROGRESS: at 27.58% examples, 309029 words/s, in_qsize 6, out_qsize 0\n",
      "2020-06-23 20:04:07,266 : INFO : EPOCH 20 - PROGRESS: at 38.17% examples, 284429 words/s, in_qsize 5, out_qsize 0\n",
      "2020-06-23 20:04:08,268 : INFO : EPOCH 20 - PROGRESS: at 55.37% examples, 310736 words/s, in_qsize 5, out_qsize 0\n",
      "2020-06-23 20:04:09,278 : INFO : EPOCH 20 - PROGRESS: at 71.59% examples, 320400 words/s, in_qsize 6, out_qsize 0\n",
      "2020-06-23 20:04:10,278 : INFO : EPOCH 20 - PROGRESS: at 87.63% examples, 327338 words/s, in_qsize 6, out_qsize 0\n",
      "2020-06-23 20:04:10,861 : INFO : worker thread finished; awaiting finish of 2 more threads\n",
      "2020-06-23 20:04:10,868 : INFO : worker thread finished; awaiting finish of 1 more threads\n",
      "2020-06-23 20:04:10,877 : INFO : worker thread finished; awaiting finish of 0 more threads\n",
      "2020-06-23 20:04:10,878 : INFO : EPOCH - 20 : training on 3060122 raw words (2263419 effective words) took 6.7s, 340350 effective words/s\n",
      "2020-06-23 20:04:10,879 : INFO : training on a 61202440 raw words (45265360 effective words) took 107.6s, 420754 effective words/s\n",
      "2020-06-23 20:04:10,905 : INFO : precomputing L2-norms of doc weight vectors\n"
     ]
    }
   ],
   "source": [
    "model = gensim.models.doc2vec.Doc2Vec(vector_size=50, min_count=2, epochs=20)\n",
    "model.build_vocab(tagged_body_corpus)\n",
    "model.train(tagged_body_corpus, total_examples=model.corpus_count, epochs=model.epochs)\n",
    "    \n",
    "    #ranks = []\n",
    "second_ranks = []\n",
    "for doc_id in range(len(tagged_body_corpus)):\n",
    "    inferred_vector = model.infer_vector(tagged_body_corpus[doc_id].words)\n",
    "    sims = model.docvecs.most_similar([inferred_vector], topn=2)\n",
    "        \n",
    "    second_ranks.append(sims[1])"
   ]
  },
  {
   "cell_type": "code",
   "execution_count": 71,
   "metadata": {},
   "outputs": [
    {
     "data": {
      "text/plain": [
       "10000"
      ]
     },
     "execution_count": 71,
     "metadata": {},
     "output_type": "execute_result"
    }
   ],
   "source": [
    "len(second_ranks)"
   ]
  },
  {
   "cell_type": "code",
   "execution_count": 73,
   "metadata": {},
   "outputs": [],
   "source": [
    "df['closest']=second_ranks"
   ]
  },
  {
   "cell_type": "code",
   "execution_count": 74,
   "metadata": {},
   "outputs": [
    {
     "data": {
      "text/html": [
       "<div>\n",
       "<style scoped>\n",
       "    .dataframe tbody tr th:only-of-type {\n",
       "        vertical-align: middle;\n",
       "    }\n",
       "\n",
       "    .dataframe tbody tr th {\n",
       "        vertical-align: top;\n",
       "    }\n",
       "\n",
       "    .dataframe thead th {\n",
       "        text-align: right;\n",
       "    }\n",
       "</style>\n",
       "<table border=\"1\" class=\"dataframe\">\n",
       "  <thead>\n",
       "    <tr style=\"text-align: right;\">\n",
       "      <th></th>\n",
       "      <th>id</th>\n",
       "      <th>timestamp</th>\n",
       "      <th>title</th>\n",
       "      <th>body</th>\n",
       "      <th>edited</th>\n",
       "      <th>verdict</th>\n",
       "      <th>score</th>\n",
       "      <th>num_comments</th>\n",
       "      <th>is_asshole</th>\n",
       "      <th>closest</th>\n",
       "    </tr>\n",
       "  </thead>\n",
       "  <tbody>\n",
       "    <tr>\n",
       "      <th>0</th>\n",
       "      <td>arfcfl</td>\n",
       "      <td>1550365421</td>\n",
       "      <td>AITA - Getting Hugged At The Bar</td>\n",
       "      <td>\\n\\nThis all happened less than an hour ago.\\...</td>\n",
       "      <td>False</td>\n",
       "      <td>not the asshole</td>\n",
       "      <td>3</td>\n",
       "      <td>14</td>\n",
       "      <td>0</td>\n",
       "      <td>(3684, 0.6330628395080566)</td>\n",
       "    </tr>\n",
       "    <tr>\n",
       "      <th>1</th>\n",
       "      <td>cg8mxn</td>\n",
       "      <td>1563769917</td>\n",
       "      <td>AITA if i don't want to pay my friend 5 dollar...</td>\n",
       "      <td>So, my friend bought herself, our other friend...</td>\n",
       "      <td>False</td>\n",
       "      <td>asshole</td>\n",
       "      <td>11</td>\n",
       "      <td>42</td>\n",
       "      <td>1</td>\n",
       "      <td>(4874, 0.681045413017273)</td>\n",
       "    </tr>\n",
       "    <tr>\n",
       "      <th>2</th>\n",
       "      <td>bajsje</td>\n",
       "      <td>1554663842</td>\n",
       "      <td>AITA For going to 'expensive' restaurants in s...</td>\n",
       "      <td>It's in Seattle if that matters. It seems peop...</td>\n",
       "      <td>1554686830.0</td>\n",
       "      <td>asshole</td>\n",
       "      <td>657</td>\n",
       "      <td>397</td>\n",
       "      <td>1</td>\n",
       "      <td>(1787, 0.6803869009017944)</td>\n",
       "    </tr>\n",
       "    <tr>\n",
       "      <th>3</th>\n",
       "      <td>cq6voc</td>\n",
       "      <td>1565771883</td>\n",
       "      <td>AITA for wanting \"free gas\", due to an attenda...</td>\n",
       "      <td>I was with my dad and driving the family car w...</td>\n",
       "      <td>1565773989.0</td>\n",
       "      <td>not the asshole</td>\n",
       "      <td>49</td>\n",
       "      <td>40</td>\n",
       "      <td>0</td>\n",
       "      <td>(2784, 0.6915128231048584)</td>\n",
       "    </tr>\n",
       "    <tr>\n",
       "      <th>4</th>\n",
       "      <td>bz4m2k</td>\n",
       "      <td>1560207411</td>\n",
       "      <td>AITA I asked my dad to replace the fuel that h...</td>\n",
       "      <td>Am I the asshole for asking my dad to replace ...</td>\n",
       "      <td>False</td>\n",
       "      <td>not the asshole</td>\n",
       "      <td>4</td>\n",
       "      <td>10</td>\n",
       "      <td>0</td>\n",
       "      <td>(531, 0.7159699201583862)</td>\n",
       "    </tr>\n",
       "  </tbody>\n",
       "</table>\n",
       "</div>"
      ],
      "text/plain": [
       "       id   timestamp                                              title  \\\n",
       "0  arfcfl  1550365421                   AITA - Getting Hugged At The Bar   \n",
       "1  cg8mxn  1563769917  AITA if i don't want to pay my friend 5 dollar...   \n",
       "2  bajsje  1554663842  AITA For going to 'expensive' restaurants in s...   \n",
       "3  cq6voc  1565771883  AITA for wanting \"free gas\", due to an attenda...   \n",
       "4  bz4m2k  1560207411  AITA I asked my dad to replace the fuel that h...   \n",
       "\n",
       "                                                body        edited  \\\n",
       "0   \\n\\nThis all happened less than an hour ago.\\...         False   \n",
       "1  So, my friend bought herself, our other friend...         False   \n",
       "2  It's in Seattle if that matters. It seems peop...  1554686830.0   \n",
       "3  I was with my dad and driving the family car w...  1565773989.0   \n",
       "4  Am I the asshole for asking my dad to replace ...         False   \n",
       "\n",
       "           verdict  score  num_comments  is_asshole  \\\n",
       "0  not the asshole      3            14           0   \n",
       "1          asshole     11            42           1   \n",
       "2          asshole    657           397           1   \n",
       "3  not the asshole     49            40           0   \n",
       "4  not the asshole      4            10           0   \n",
       "\n",
       "                      closest  \n",
       "0  (3684, 0.6330628395080566)  \n",
       "1   (4874, 0.681045413017273)  \n",
       "2  (1787, 0.6803869009017944)  \n",
       "3  (2784, 0.6915128231048584)  \n",
       "4   (531, 0.7159699201583862)  "
      ]
     },
     "execution_count": 74,
     "metadata": {},
     "output_type": "execute_result"
    }
   ],
   "source": [
    "df.head()"
   ]
  },
  {
   "cell_type": "code",
   "execution_count": 76,
   "metadata": {},
   "outputs": [],
   "source": [
    "def closest_asshole(row):\n",
    "    \n",
    "    closest=row.closest[0]\n",
    "    closest_is_asshole=df.iloc[closest]['is_asshole']\n",
    "    row['closest_is_asshole'] = closest_is_asshole\n",
    "    \n",
    "    return row"
   ]
  },
  {
   "cell_type": "code",
   "execution_count": 78,
   "metadata": {},
   "outputs": [],
   "source": [
    "df_with_closest = df.apply(closest_asshole, axis =1)"
   ]
  },
  {
   "cell_type": "code",
   "execution_count": 80,
   "metadata": {},
   "outputs": [
    {
     "name": "stderr",
     "output_type": "stream",
     "text": [
      "2020-06-23 20:14:16,075 : INFO : NumExpr defaulting to 4 threads.\n"
     ]
    }
   ],
   "source": [
    "df_with_closest['difference'] = abs(df_with_closest.is_asshole - df_with_closest.closest_is_asshole)"
   ]
  },
  {
   "cell_type": "code",
   "execution_count": 82,
   "metadata": {},
   "outputs": [
    {
     "data": {
      "text/plain": [
       "3656"
      ]
     },
     "execution_count": 82,
     "metadata": {},
     "output_type": "execute_result"
    }
   ],
   "source": [
    "df_with_closest.difference.sum()"
   ]
  },
  {
   "cell_type": "code",
   "execution_count": 83,
   "metadata": {},
   "outputs": [
    {
     "data": {
      "text/plain": [
       "2593"
      ]
     },
     "execution_count": 83,
     "metadata": {},
     "output_type": "execute_result"
    }
   ],
   "source": [
    "df_with_closest.is_asshole.sum()"
   ]
  },
  {
   "cell_type": "code",
   "execution_count": 84,
   "metadata": {},
   "outputs": [],
   "source": [
    "assholes = df_with_closest.is_asshole.sum()\n",
    "not_assholes = 10000 - assholes"
   ]
  },
  {
   "cell_type": "code",
   "execution_count": 86,
   "metadata": {},
   "outputs": [
    {
     "data": {
      "text/plain": [
       "3841.2702"
      ]
     },
     "execution_count": 86,
     "metadata": {},
     "output_type": "execute_result"
    }
   ],
   "source": [
    "2 * assholes * not_assholes / 10000"
   ]
  },
  {
   "cell_type": "markdown",
   "metadata": {},
   "source": [
    "The last number is the expectation of the difference sum, if every post were randomly paired with another one"
   ]
  },
  {
   "cell_type": "code",
   "execution_count": 1,
   "metadata": {},
   "outputs": [
    {
     "ename": "ImportError",
     "evalue": "dlopen(/anaconda3/lib/python3.6/site-packages/tokenizers/tokenizers.cpython-36m-darwin.so, 2): Symbol not found: ____chkstk_darwin\n  Referenced from: /anaconda3/lib/python3.6/site-packages/tokenizers/tokenizers.cpython-36m-darwin.so\n  Expected in: /usr/lib/libSystem.B.dylib\n in /anaconda3/lib/python3.6/site-packages/tokenizers/tokenizers.cpython-36m-darwin.so",
     "output_type": "error",
     "traceback": [
      "\u001b[0;31m---------------------------------------------------------------------------\u001b[0m",
      "\u001b[0;31mImportError\u001b[0m                               Traceback (most recent call last)",
      "\u001b[0;32m<ipython-input-1-279c49635b32>\u001b[0m in \u001b[0;36m<module>\u001b[0;34m\u001b[0m\n\u001b[0;32m----> 1\u001b[0;31m \u001b[0;32mimport\u001b[0m \u001b[0mtransformers\u001b[0m\u001b[0;34m\u001b[0m\u001b[0;34m\u001b[0m\u001b[0m\n\u001b[0m",
      "\u001b[0;32m/anaconda3/lib/python3.6/site-packages/transformers/__init__.py\u001b[0m in \u001b[0;36m<module>\u001b[0;34m\u001b[0m\n\u001b[1;32m     46\u001b[0m \u001b[0;32mfrom\u001b[0m \u001b[0;34m.\u001b[0m\u001b[0mconfiguration_xlm_roberta\u001b[0m \u001b[0;32mimport\u001b[0m \u001b[0mXLM_ROBERTA_PRETRAINED_CONFIG_ARCHIVE_MAP\u001b[0m\u001b[0;34m,\u001b[0m \u001b[0mXLMRobertaConfig\u001b[0m\u001b[0;34m\u001b[0m\u001b[0;34m\u001b[0m\u001b[0m\n\u001b[1;32m     47\u001b[0m \u001b[0;32mfrom\u001b[0m \u001b[0;34m.\u001b[0m\u001b[0mconfiguration_xlnet\u001b[0m \u001b[0;32mimport\u001b[0m \u001b[0mXLNET_PRETRAINED_CONFIG_ARCHIVE_MAP\u001b[0m\u001b[0;34m,\u001b[0m \u001b[0mXLNetConfig\u001b[0m\u001b[0;34m\u001b[0m\u001b[0;34m\u001b[0m\u001b[0m\n\u001b[0;32m---> 48\u001b[0;31m from .data import (\n\u001b[0m\u001b[1;32m     49\u001b[0m     \u001b[0mDataProcessor\u001b[0m\u001b[0;34m,\u001b[0m\u001b[0;34m\u001b[0m\u001b[0;34m\u001b[0m\u001b[0m\n\u001b[1;32m     50\u001b[0m     \u001b[0mInputExample\u001b[0m\u001b[0;34m,\u001b[0m\u001b[0;34m\u001b[0m\u001b[0;34m\u001b[0m\u001b[0m\n",
      "\u001b[0;32m/anaconda3/lib/python3.6/site-packages/transformers/data/__init__.py\u001b[0m in \u001b[0;36m<module>\u001b[0;34m\u001b[0m\n\u001b[1;32m      4\u001b[0m \u001b[0;34m\u001b[0m\u001b[0m\n\u001b[1;32m      5\u001b[0m \u001b[0;32mfrom\u001b[0m \u001b[0;34m.\u001b[0m\u001b[0mmetrics\u001b[0m \u001b[0;32mimport\u001b[0m \u001b[0mis_sklearn_available\u001b[0m\u001b[0;34m\u001b[0m\u001b[0;34m\u001b[0m\u001b[0m\n\u001b[0;32m----> 6\u001b[0;31m from .processors import (\n\u001b[0m\u001b[1;32m      7\u001b[0m     \u001b[0mDataProcessor\u001b[0m\u001b[0;34m,\u001b[0m\u001b[0;34m\u001b[0m\u001b[0;34m\u001b[0m\u001b[0m\n\u001b[1;32m      8\u001b[0m     \u001b[0mInputExample\u001b[0m\u001b[0;34m,\u001b[0m\u001b[0;34m\u001b[0m\u001b[0;34m\u001b[0m\u001b[0m\n",
      "\u001b[0;32m/anaconda3/lib/python3.6/site-packages/transformers/data/processors/__init__.py\u001b[0m in \u001b[0;36m<module>\u001b[0;34m\u001b[0m\n\u001b[1;32m      3\u001b[0m \u001b[0;31m# module, but to preserve other warnings. So, don't check this module at all.\u001b[0m\u001b[0;34m\u001b[0m\u001b[0;34m\u001b[0m\u001b[0;34m\u001b[0m\u001b[0m\n\u001b[1;32m      4\u001b[0m \u001b[0;34m\u001b[0m\u001b[0m\n\u001b[0;32m----> 5\u001b[0;31m \u001b[0;32mfrom\u001b[0m \u001b[0;34m.\u001b[0m\u001b[0mglue\u001b[0m \u001b[0;32mimport\u001b[0m \u001b[0mglue_convert_examples_to_features\u001b[0m\u001b[0;34m,\u001b[0m \u001b[0mglue_output_modes\u001b[0m\u001b[0;34m,\u001b[0m \u001b[0mglue_processors\u001b[0m\u001b[0;34m,\u001b[0m \u001b[0mglue_tasks_num_labels\u001b[0m\u001b[0;34m\u001b[0m\u001b[0;34m\u001b[0m\u001b[0m\n\u001b[0m\u001b[1;32m      6\u001b[0m \u001b[0;32mfrom\u001b[0m \u001b[0;34m.\u001b[0m\u001b[0msquad\u001b[0m \u001b[0;32mimport\u001b[0m \u001b[0mSquadExample\u001b[0m\u001b[0;34m,\u001b[0m \u001b[0mSquadFeatures\u001b[0m\u001b[0;34m,\u001b[0m \u001b[0mSquadV1Processor\u001b[0m\u001b[0;34m,\u001b[0m \u001b[0mSquadV2Processor\u001b[0m\u001b[0;34m,\u001b[0m \u001b[0msquad_convert_examples_to_features\u001b[0m\u001b[0;34m\u001b[0m\u001b[0;34m\u001b[0m\u001b[0m\n\u001b[1;32m      7\u001b[0m \u001b[0;32mfrom\u001b[0m \u001b[0;34m.\u001b[0m\u001b[0mutils\u001b[0m \u001b[0;32mimport\u001b[0m \u001b[0mDataProcessor\u001b[0m\u001b[0;34m,\u001b[0m \u001b[0mInputExample\u001b[0m\u001b[0;34m,\u001b[0m \u001b[0mInputFeatures\u001b[0m\u001b[0;34m,\u001b[0m \u001b[0mSingleSentenceClassificationProcessor\u001b[0m\u001b[0;34m\u001b[0m\u001b[0;34m\u001b[0m\u001b[0m\n",
      "\u001b[0;32m/anaconda3/lib/python3.6/site-packages/transformers/data/processors/glue.py\u001b[0m in \u001b[0;36m<module>\u001b[0;34m\u001b[0m\n\u001b[1;32m     22\u001b[0m \u001b[0;34m\u001b[0m\u001b[0m\n\u001b[1;32m     23\u001b[0m \u001b[0;32mfrom\u001b[0m \u001b[0;34m...\u001b[0m\u001b[0mfile_utils\u001b[0m \u001b[0;32mimport\u001b[0m \u001b[0mis_tf_available\u001b[0m\u001b[0;34m\u001b[0m\u001b[0;34m\u001b[0m\u001b[0m\n\u001b[0;32m---> 24\u001b[0;31m \u001b[0;32mfrom\u001b[0m \u001b[0;34m...\u001b[0m\u001b[0mtokenization_utils\u001b[0m \u001b[0;32mimport\u001b[0m \u001b[0mPreTrainedTokenizer\u001b[0m\u001b[0;34m\u001b[0m\u001b[0;34m\u001b[0m\u001b[0m\n\u001b[0m\u001b[1;32m     25\u001b[0m \u001b[0;32mfrom\u001b[0m \u001b[0;34m.\u001b[0m\u001b[0mutils\u001b[0m \u001b[0;32mimport\u001b[0m \u001b[0mDataProcessor\u001b[0m\u001b[0;34m,\u001b[0m \u001b[0mInputExample\u001b[0m\u001b[0;34m,\u001b[0m \u001b[0mInputFeatures\u001b[0m\u001b[0;34m\u001b[0m\u001b[0;34m\u001b[0m\u001b[0m\n\u001b[1;32m     26\u001b[0m \u001b[0;34m\u001b[0m\u001b[0m\n",
      "\u001b[0;32m/anaconda3/lib/python3.6/site-packages/transformers/tokenization_utils.py\u001b[0m in \u001b[0;36m<module>\u001b[0;34m\u001b[0m\n\u001b[1;32m     24\u001b[0m \u001b[0;34m\u001b[0m\u001b[0m\n\u001b[1;32m     25\u001b[0m \u001b[0;32mfrom\u001b[0m \u001b[0;34m.\u001b[0m\u001b[0mfile_utils\u001b[0m \u001b[0;32mimport\u001b[0m \u001b[0madd_end_docstrings\u001b[0m\u001b[0;34m\u001b[0m\u001b[0;34m\u001b[0m\u001b[0m\n\u001b[0;32m---> 26\u001b[0;31m from .tokenization_utils_base import (\n\u001b[0m\u001b[1;32m     27\u001b[0m     \u001b[0mENCODE_KWARGS_DOCSTRING\u001b[0m\u001b[0;34m,\u001b[0m\u001b[0;34m\u001b[0m\u001b[0;34m\u001b[0m\u001b[0m\n\u001b[1;32m     28\u001b[0m     \u001b[0mENCODE_PLUS_ADDITIONAL_KWARGS_DOCSTRING\u001b[0m\u001b[0;34m,\u001b[0m\u001b[0;34m\u001b[0m\u001b[0;34m\u001b[0m\u001b[0m\n",
      "\u001b[0;32m/anaconda3/lib/python3.6/site-packages/transformers/tokenization_utils_base.py\u001b[0m in \u001b[0;36m<module>\u001b[0;34m\u001b[0m\n\u001b[1;32m     29\u001b[0m \u001b[0;34m\u001b[0m\u001b[0m\n\u001b[1;32m     30\u001b[0m \u001b[0;32mimport\u001b[0m \u001b[0mnumpy\u001b[0m \u001b[0;32mas\u001b[0m \u001b[0mnp\u001b[0m\u001b[0;34m\u001b[0m\u001b[0;34m\u001b[0m\u001b[0m\n\u001b[0;32m---> 31\u001b[0;31m \u001b[0;32mfrom\u001b[0m \u001b[0mtokenizers\u001b[0m \u001b[0;32mimport\u001b[0m \u001b[0mAddedToken\u001b[0m\u001b[0;34m\u001b[0m\u001b[0;34m\u001b[0m\u001b[0m\n\u001b[0m\u001b[1;32m     32\u001b[0m \u001b[0;32mfrom\u001b[0m \u001b[0mtokenizers\u001b[0m \u001b[0;32mimport\u001b[0m \u001b[0mEncoding\u001b[0m \u001b[0;32mas\u001b[0m \u001b[0mEncodingFast\u001b[0m\u001b[0;34m\u001b[0m\u001b[0;34m\u001b[0m\u001b[0m\n\u001b[1;32m     33\u001b[0m \u001b[0;34m\u001b[0m\u001b[0m\n",
      "\u001b[0;32m/anaconda3/lib/python3.6/site-packages/tokenizers/__init__.py\u001b[0m in \u001b[0;36m<module>\u001b[0;34m\u001b[0m\n\u001b[1;32m     15\u001b[0m \u001b[0mEncodeInput\u001b[0m \u001b[0;34m=\u001b[0m \u001b[0mUnion\u001b[0m\u001b[0;34m[\u001b[0m\u001b[0mTextEncodeInput\u001b[0m\u001b[0;34m,\u001b[0m \u001b[0mPreTokenizedEncodeInput\u001b[0m\u001b[0;34m]\u001b[0m\u001b[0;34m\u001b[0m\u001b[0;34m\u001b[0m\u001b[0m\n\u001b[1;32m     16\u001b[0m \u001b[0;34m\u001b[0m\u001b[0m\n\u001b[0;32m---> 17\u001b[0;31m \u001b[0;32mfrom\u001b[0m \u001b[0;34m.\u001b[0m\u001b[0mtokenizers\u001b[0m \u001b[0;32mimport\u001b[0m \u001b[0mTokenizer\u001b[0m\u001b[0;34m,\u001b[0m \u001b[0mEncoding\u001b[0m\u001b[0;34m,\u001b[0m \u001b[0mAddedToken\u001b[0m\u001b[0;34m\u001b[0m\u001b[0;34m\u001b[0m\u001b[0m\n\u001b[0m\u001b[1;32m     18\u001b[0m \u001b[0;32mfrom\u001b[0m \u001b[0;34m.\u001b[0m\u001b[0mtokenizers\u001b[0m \u001b[0;32mimport\u001b[0m \u001b[0mdecoders\u001b[0m\u001b[0;34m\u001b[0m\u001b[0;34m\u001b[0m\u001b[0m\n\u001b[1;32m     19\u001b[0m \u001b[0;32mfrom\u001b[0m \u001b[0;34m.\u001b[0m\u001b[0mtokenizers\u001b[0m \u001b[0;32mimport\u001b[0m \u001b[0mmodels\u001b[0m\u001b[0;34m\u001b[0m\u001b[0;34m\u001b[0m\u001b[0m\n",
      "\u001b[0;31mImportError\u001b[0m: dlopen(/anaconda3/lib/python3.6/site-packages/tokenizers/tokenizers.cpython-36m-darwin.so, 2): Symbol not found: ____chkstk_darwin\n  Referenced from: /anaconda3/lib/python3.6/site-packages/tokenizers/tokenizers.cpython-36m-darwin.so\n  Expected in: /usr/lib/libSystem.B.dylib\n in /anaconda3/lib/python3.6/site-packages/tokenizers/tokenizers.cpython-36m-darwin.so"
     ]
    }
   ],
   "source": [
    "import transformers"
   ]
  },
  {
   "cell_type": "code",
   "execution_count": null,
   "metadata": {},
   "outputs": [],
   "source": []
  }
 ],
 "metadata": {
  "kernelspec": {
   "display_name": "Python 3",
   "language": "python",
   "name": "python3"
  },
  "language_info": {
   "codemirror_mode": {
    "name": "ipython",
    "version": 3
   },
   "file_extension": ".py",
   "mimetype": "text/x-python",
   "name": "python",
   "nbconvert_exporter": "python",
   "pygments_lexer": "ipython3",
   "version": "3.6.10"
  }
 },
 "nbformat": 4,
 "nbformat_minor": 4
}
